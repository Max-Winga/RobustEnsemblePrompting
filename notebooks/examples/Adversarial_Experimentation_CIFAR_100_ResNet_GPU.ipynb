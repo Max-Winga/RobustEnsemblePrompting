{
 "cells": [
  {
   "cell_type": "code",
   "execution_count": 2,
   "metadata": {},
   "outputs": [],
   "source": [
    "import numpy as np\n",
    "import matplotlib.pyplot as plt\n",
    "import torch\n",
    "import torch.nn as nn\n",
    "import torch.optim as optim\n",
    "import time\n",
    "\n",
    "import sys\n",
    "ROOT = \"../../\"\n",
    "sys.path.append(ROOT) # Add root directory to path\n",
    "\n",
    "from src.utils.perturbations import *\n",
    "from src.utils.REPResNet import Bottleneck, REPResNet\n",
    "from src.utils.REPDataset import REPDataset\n",
    "\n",
    "from art.attacks.evasion import FastGradientMethod\n",
    "from art.estimators.classification import PyTorchClassifier\n",
    "from art.defences.preprocessor.preprocessor import PreprocessorPyTorch\n",
    "from art.data_generators import PyTorchDataGenerator\n",
    "from torchvision import datasets, transforms\n",
    "from torch.utils.data import DataLoader, TensorDataset, Dataset"
   ]
  },
  {
   "cell_type": "code",
   "execution_count": 3,
   "metadata": {},
   "outputs": [
    {
     "name": "stdout",
     "output_type": "stream",
     "text": [
      "Files already downloaded and verified\n",
      "Files already downloaded and verified\n"
     ]
    }
   ],
   "source": [
    "# Step 1: Load the CIFAR-100 dataset\n",
    "transform = transforms.Compose([\n",
    "    transforms.ToTensor(),\n",
    "    transforms.Normalize(mean=[0.485, 0.456, 0.406], std=[0.229, 0.224, 0.225]),\n",
    "])\n",
    "trainset = datasets.CIFAR10(root='./data', train=True, download=True, transform=transform)\n",
    "testset = datasets.CIFAR100(root='./data', train=False, download=True, transform=transform)\n",
    "num_classes = 100\n",
    "\n",
    "x_train = trainset.data / 255.0  # Scale pixel values to [0, 1]\n",
    "y_train = np.array(trainset.targets)\n",
    "\n",
    "x_test = testset.data / 255.0  # Scale pixel values to [0, 1]\n",
    "y_test = np.array(testset.targets)\n",
    "\n",
    "x_train = np.transpose(x_train, (0, 3, 1, 2)).astype(np.float32)\n",
    "x_test = np.transpose(x_test, (0, 3, 1, 2)).astype(np.float32)\n",
    "\n",
    "y_train = np.eye(num_classes)[y_train].astype(np.float32)\n",
    "y_test = np.eye(num_classes)[y_test].astype(np.float32)\n",
    "\n",
    "min_pixel_value = 0.0\n",
    "max_pixel_value = 1.0"
   ]
  },
  {
   "cell_type": "code",
   "execution_count": 4,
   "metadata": {},
   "outputs": [],
   "source": [
    "device = torch.device(\"cuda\" if torch.cuda.is_available() else \"cpu\")\n",
    "\n",
    "x_train = torch.from_numpy(x_train).to(device)\n",
    "y_train = torch.from_numpy(y_train).to(device)\n",
    "\n",
    "x_test = torch.from_numpy(x_test).to(device)\n",
    "y_test = torch.from_numpy(y_test).to(device)"
   ]
  },
  {
   "cell_type": "code",
   "execution_count": 5,
   "metadata": {},
   "outputs": [],
   "source": [
    "class SimpleDataset(Dataset):\n",
    "    def __init__(self, x, y):\n",
    "        self.x = x\n",
    "        self.y = y\n",
    "\n",
    "    def __len__(self):\n",
    "        return len(self.x)\n",
    "\n",
    "    def __getitem__(self, idx):\n",
    "        return self.x[idx], self.y[idx]"
   ]
  },
  {
   "cell_type": "code",
   "execution_count": 6,
   "metadata": {},
   "outputs": [],
   "source": [
    "train_dataset = SimpleDataset(x_train, y_train)\n",
    "test_dataset = SimpleDataset(x_test, y_test)"
   ]
  },
  {
   "cell_type": "markdown",
   "metadata": {},
   "source": [
    "# Testing Round 1"
   ]
  },
  {
   "cell_type": "code",
   "execution_count": 7,
   "metadata": {},
   "outputs": [],
   "source": [
    "perturbation_tests = [\n",
    "    [],\n",
    "    [[\"Gaussian\", 0.025]],\n",
    "    [[\"Gaussian\", 0.05]],\n",
    "    [[[\"Gaussian\", 0.05], [\"ContrastBrightness\", 0.9, 0.9]]],\n",
    "    [[[\"Gaussian\", 0.05], [\"RotationFlip\", 0.3]]],\n",
    "    [[[\"Gaussian\", 0.05], [\"SaltPepper\", 0.05]]],\n",
    "    [[\"Laplacian\", 0.025]],\n",
    "    [[\"Laplacian\", 0.05]],\n",
    "    [[[\"Laplacian\", 0.05], [\"ContrastBrightness\", 0.9, 0.9]]],\n",
    "    [[[\"Laplacian\", 0.05], [\"RotationFlip\", 0.3]]],\n",
    "    [[[\"Laplacian\", 0.05], [\"SaltPepper\", 0.05]]],\n",
    "    [[\"Lp-norm\", 0.5, 1]],\n",
    "    [[[\"Lp-norm\", 0.5, 1], [\"ContrastBrightness\", 0.9, 0.9]]],\n",
    "    [[[\"Lp-norm\", 0.5, 1], [\"RotationFlip\", 0.3]]],\n",
    "    [[[\"Lp-norm\", 0.5, 1], [\"SaltPepper\", 0.05]]],\n",
    "    [[\"Lp-norm\", 0.5, 2]],\n",
    "    [[\"Lp-norm\", 0.5, 3]],\n",
    "    [[\"Lp-norm\", 0.5, 4]],\n",
    "    [[\"Lp-norm\", 0.5, float('inf')]],\n",
    "    [[\"ContrastBrightness\", 0.9, 0.9]],\n",
    "    [[\"RotationFlip\", 0.3]],\n",
    "    [[\"SaltPepper\", 0.05]],\n",
    "    [[\"Gaussian\", 0.05], [\"Laplacian\", 0.05]],\n",
    "    [[[\"Gaussian\", 0.05], [\"Laplacian\", 0.05]]],\n",
    "    [[\"Gaussian\", 0.05], [\"Lp-norm\", 0.5, 1]],\n",
    "    [[\"Laplacian\", 0.05], [\"Lp-norm\", 0.5, 1]],\n",
    "    [[\"Lp-norm\", 0.5, 1], [\"Lp-norm\", 0.5, 2]],\n",
    "    [[\"Gaussian\", 0.05], [\"Laplacian\", 0.05], [\"Lp-norm\", 0.5, 1]],\n",
    "    [[\"Gaussian\", 0.05], [[\"Laplacian\", 0.05], [\"SaltPepper\", 0.05]]],\n",
    "    [[\"Gaussian\", 0.05], [[\"Lp-norm\", 0.5, 1], [\"ContrastBrightness\", 0.9, 0.9]]],\n",
    "    [[\"Laplacian\", 0.05], [[\"Lp-norm\", 0.5, 1], [\"RotationFlip\", 0.3]]],\n",
    "    [[[\"Gaussian\", 0.05], [\"SaltPepper\", 0.05]], [[\"Gaussian\", 0.05], [\"RotationFlip\", 0.3]]],\n",
    "    [[[\"Laplacian\", 0.05], [\"SaltPepper\", 0.05]], [[\"Laplacian\", 0.05], [\"RotationFlip\", 0.3]]],\n",
    "    [[[\"Lp-norm\", 0.5, 1], [\"SaltPepper\", 0.05]], [[\"Lp-norm\", 0.5, 1], [\"RotationFlip\", 0.3]]],\n",
    "    [[[\"Gaussian\", 0.05], [\"SaltPepper\", 0.05]], [[\"Gaussian\", 0.05], [\"RotationFlip\", 0.3]], [[\"Lp-norm\", 0.5, 1], [\"SaltPepper\", 0.05]], [[\"Lp-norm\", 0.5, 1], [\"RotationFlip\", 0.3]]],\n",
    "    [[[\"Gaussian\", 0.05], [\"SaltPepper\", 0.05]], [[\"Gaussian\", 0.05], [\"RotationFlip\", 0.3]], [[\"Lp-norm\", 0.5, 1], [\"SaltPepper\", 0.05]], [[\"Lp-norm\", 0.5, 1], [\"RotationFlip\", 0.3]], [[\"Laplacian\", 0.05], [\"SaltPepper\", 0.05]], [[\"Laplacian\", 0.05], [\"RotationFlip\", 0.3]]]\n",
    "]\n",
    "# perturbation_tests = [[[\"Gaussian\", 0.05], [\"Laplacian\", 0.05]]]"
   ]
  },
  {
   "cell_type": "code",
   "execution_count": 8,
   "metadata": {},
   "outputs": [],
   "source": [
    "test_history = []\n",
    "\n",
    "def display_test_history(test_history):\n",
    "    for i in range(len(test_history)):\n",
    "        test = test_history[i]\n",
    "        num_p = len(test['perturbations'])\n",
    "        io = test['include_original']\n",
    "        shuffle = test['shuffle']\n",
    "        training_time = test['training_time']\n",
    "        baseline = test['baseline_accuracy']\n",
    "        adversarial = test['adversarial_accuracy']\n",
    "        adv_str = f\"{adversarial[0]*100}/{adversarial[1]*100}/{adversarial[2]*100}/{adversarial[3]*100}\"\n",
    "        print(f\"Test {i}: Perturbations ({num_p}), Original ({io}), Shuffle ({shuffle}), Training Time ({training_time}s), Baseline ({baseline*100}%), Adversarial ({adv_str}%)\")"
   ]
  },
  {
   "cell_type": "code",
   "execution_count": 9,
   "metadata": {},
   "outputs": [],
   "source": [
    "from tqdm.auto import tqdm\n",
    "\n",
    "def train_REPResNet(model, dataset, optimizer, criterion, batch_size, epochs, verbose=True):\n",
    "    dataloader = DataLoader(dataset, batch_size, shuffle=True, num_workers=0)\n",
    "    for _ in tqdm(range(epochs), disable=not verbose, desc=\"Epochs\"):\n",
    "        for x_batch, y_batch in dataloader:            \n",
    "            # Zero the parameter gradients\n",
    "            optimizer.zero_grad()\n",
    "\n",
    "            # Perform prediction\n",
    "            model_outputs = model(x_batch)\n",
    "\n",
    "            y_batch = y_batch.squeeze(1)\n",
    "            predictions = model_outputs.squeeze(1)\n",
    "            \n",
    "            loss = criterion(predictions, y_batch)\n",
    "\n",
    "            # Do training\n",
    "            loss.backward()\n",
    "\n",
    "            optimizer.step()"
   ]
  },
  {
   "cell_type": "code",
   "execution_count": 11,
   "metadata": {},
   "outputs": [
    {
     "name": "stdout",
     "output_type": "stream",
     "text": [
      "Training model with perturbations:\n",
      "[]\n"
     ]
    },
    {
     "data": {
      "application/vnd.jupyter.widget-view+json": {
       "model_id": "4dc6b5541c4d450eadf40bdbea330c76",
       "version_major": 2,
       "version_minor": 0
      },
      "text/plain": [
       "Epochs:   0%|          | 0/10 [00:00<?, ?it/s]"
      ]
     },
     "metadata": {},
     "output_type": "display_data"
    },
    {
     "name": "stdout",
     "output_type": "stream",
     "text": [
      "Epoch 10/30 Complete After 1975s! Train Acc: 0.14750000834465027, Test Acc: 0.125\n"
     ]
    },
    {
     "data": {
      "application/vnd.jupyter.widget-view+json": {
       "model_id": "9bab3fbabdca41bcae8b485f10d26b4b",
       "version_major": 2,
       "version_minor": 0
      },
      "text/plain": [
       "Epochs:   0%|          | 0/10 [00:00<?, ?it/s]"
      ]
     },
     "metadata": {},
     "output_type": "display_data"
    },
    {
     "ename": "KeyboardInterrupt",
     "evalue": "",
     "output_type": "error",
     "traceback": [
      "\u001b[1;31m---------------------------------------------------------------------------\u001b[0m",
      "\u001b[1;31mKeyboardInterrupt\u001b[0m                         Traceback (most recent call last)",
      "Cell \u001b[1;32mIn[11], line 27\u001b[0m\n\u001b[0;32m     25\u001b[0m training_start \u001b[38;5;241m=\u001b[39m time\u001b[38;5;241m.\u001b[39mtime()\n\u001b[0;32m     26\u001b[0m \u001b[38;5;28;01mfor\u001b[39;00m epoch \u001b[38;5;129;01min\u001b[39;00m \u001b[38;5;28mrange\u001b[39m(super_epochs):\n\u001b[1;32m---> 27\u001b[0m     \u001b[43mtrain_REPResNet\u001b[49m\u001b[43m(\u001b[49m\u001b[43mmodel\u001b[49m\u001b[43m,\u001b[49m\u001b[43m \u001b[49m\u001b[43mtrain_dataset\u001b[49m\u001b[43m,\u001b[49m\u001b[43m \u001b[49m\u001b[43moptimizer\u001b[49m\u001b[43m,\u001b[49m\u001b[43m \u001b[49m\u001b[43mcriterion\u001b[49m\u001b[43m,\u001b[49m\u001b[43m \u001b[49m\u001b[43mbatch_size\u001b[49m\u001b[43m,\u001b[49m\u001b[43m \u001b[49m\u001b[43mepochs_per\u001b[49m\u001b[43m,\u001b[49m\u001b[43m \u001b[49m\u001b[38;5;28;43;01mTrue\u001b[39;49;00m\u001b[43m)\u001b[49m\n\u001b[0;32m     28\u001b[0m     scheduler\u001b[38;5;241m.\u001b[39mstep()\n\u001b[0;32m     29\u001b[0m     \u001b[38;5;28;01mwith\u001b[39;00m torch\u001b[38;5;241m.\u001b[39mno_grad():\n",
      "Cell \u001b[1;32mIn[9], line 19\u001b[0m, in \u001b[0;36mtrain_REPResNet\u001b[1;34m(model, dataset, optimizer, criterion, batch_size, epochs, verbose)\u001b[0m\n\u001b[0;32m     16\u001b[0m loss \u001b[38;5;241m=\u001b[39m criterion(predictions, y_batch)\n\u001b[0;32m     18\u001b[0m \u001b[38;5;66;03m# Do training\u001b[39;00m\n\u001b[1;32m---> 19\u001b[0m \u001b[43mloss\u001b[49m\u001b[38;5;241;43m.\u001b[39;49m\u001b[43mbackward\u001b[49m\u001b[43m(\u001b[49m\u001b[43m)\u001b[49m\n\u001b[0;32m     21\u001b[0m optimizer\u001b[38;5;241m.\u001b[39mstep()\n",
      "File \u001b[1;32mc:\\Users\\mwinga2\\AppData\\Local\\anaconda3\\envs\\REP\\lib\\site-packages\\torch\\_tensor.py:522\u001b[0m, in \u001b[0;36mTensor.backward\u001b[1;34m(self, gradient, retain_graph, create_graph, inputs)\u001b[0m\n\u001b[0;32m    512\u001b[0m \u001b[38;5;28;01mif\u001b[39;00m has_torch_function_unary(\u001b[38;5;28mself\u001b[39m):\n\u001b[0;32m    513\u001b[0m     \u001b[38;5;28;01mreturn\u001b[39;00m handle_torch_function(\n\u001b[0;32m    514\u001b[0m         Tensor\u001b[38;5;241m.\u001b[39mbackward,\n\u001b[0;32m    515\u001b[0m         (\u001b[38;5;28mself\u001b[39m,),\n\u001b[1;32m   (...)\u001b[0m\n\u001b[0;32m    520\u001b[0m         inputs\u001b[38;5;241m=\u001b[39minputs,\n\u001b[0;32m    521\u001b[0m     )\n\u001b[1;32m--> 522\u001b[0m \u001b[43mtorch\u001b[49m\u001b[38;5;241;43m.\u001b[39;49m\u001b[43mautograd\u001b[49m\u001b[38;5;241;43m.\u001b[39;49m\u001b[43mbackward\u001b[49m\u001b[43m(\u001b[49m\n\u001b[0;32m    523\u001b[0m \u001b[43m    \u001b[49m\u001b[38;5;28;43mself\u001b[39;49m\u001b[43m,\u001b[49m\u001b[43m \u001b[49m\u001b[43mgradient\u001b[49m\u001b[43m,\u001b[49m\u001b[43m \u001b[49m\u001b[43mretain_graph\u001b[49m\u001b[43m,\u001b[49m\u001b[43m \u001b[49m\u001b[43mcreate_graph\u001b[49m\u001b[43m,\u001b[49m\u001b[43m \u001b[49m\u001b[43minputs\u001b[49m\u001b[38;5;241;43m=\u001b[39;49m\u001b[43minputs\u001b[49m\n\u001b[0;32m    524\u001b[0m \u001b[43m\u001b[49m\u001b[43m)\u001b[49m\n",
      "File \u001b[1;32mc:\\Users\\mwinga2\\AppData\\Local\\anaconda3\\envs\\REP\\lib\\site-packages\\torch\\autograd\\__init__.py:266\u001b[0m, in \u001b[0;36mbackward\u001b[1;34m(tensors, grad_tensors, retain_graph, create_graph, grad_variables, inputs)\u001b[0m\n\u001b[0;32m    261\u001b[0m     retain_graph \u001b[38;5;241m=\u001b[39m create_graph\n\u001b[0;32m    263\u001b[0m \u001b[38;5;66;03m# The reason we repeat the same comment below is that\u001b[39;00m\n\u001b[0;32m    264\u001b[0m \u001b[38;5;66;03m# some Python versions print out the first line of a multi-line function\u001b[39;00m\n\u001b[0;32m    265\u001b[0m \u001b[38;5;66;03m# calls in the traceback and some print out the last line\u001b[39;00m\n\u001b[1;32m--> 266\u001b[0m \u001b[43mVariable\u001b[49m\u001b[38;5;241;43m.\u001b[39;49m\u001b[43m_execution_engine\u001b[49m\u001b[38;5;241;43m.\u001b[39;49m\u001b[43mrun_backward\u001b[49m\u001b[43m(\u001b[49m\u001b[43m  \u001b[49m\u001b[38;5;66;43;03m# Calls into the C++ engine to run the backward pass\u001b[39;49;00m\n\u001b[0;32m    267\u001b[0m \u001b[43m    \u001b[49m\u001b[43mtensors\u001b[49m\u001b[43m,\u001b[49m\n\u001b[0;32m    268\u001b[0m \u001b[43m    \u001b[49m\u001b[43mgrad_tensors_\u001b[49m\u001b[43m,\u001b[49m\n\u001b[0;32m    269\u001b[0m \u001b[43m    \u001b[49m\u001b[43mretain_graph\u001b[49m\u001b[43m,\u001b[49m\n\u001b[0;32m    270\u001b[0m \u001b[43m    \u001b[49m\u001b[43mcreate_graph\u001b[49m\u001b[43m,\u001b[49m\n\u001b[0;32m    271\u001b[0m \u001b[43m    \u001b[49m\u001b[43minputs\u001b[49m\u001b[43m,\u001b[49m\n\u001b[0;32m    272\u001b[0m \u001b[43m    \u001b[49m\u001b[43mallow_unreachable\u001b[49m\u001b[38;5;241;43m=\u001b[39;49m\u001b[38;5;28;43;01mTrue\u001b[39;49;00m\u001b[43m,\u001b[49m\n\u001b[0;32m    273\u001b[0m \u001b[43m    \u001b[49m\u001b[43maccumulate_grad\u001b[49m\u001b[38;5;241;43m=\u001b[39;49m\u001b[38;5;28;43;01mTrue\u001b[39;49;00m\u001b[43m,\u001b[49m\n\u001b[0;32m    274\u001b[0m \u001b[43m\u001b[49m\u001b[43m)\u001b[49m\n",
      "\u001b[1;31mKeyboardInterrupt\u001b[0m: "
     ]
    }
   ],
   "source": [
    "for perturbation_description in perturbation_tests:\n",
    "    perturbations = create_perturbations(perturbation_description)\n",
    "    include_original = perturbation_description == []\n",
    "    shuffle = True\n",
    "    multiplicity = len(perturbation_description) + int(include_original)\n",
    "\n",
    "    # Create REPResNet Model with multiplicity applied\n",
    "    device = torch.device(\"cuda\" if torch.cuda.is_available() else \"cpu\")\n",
    "\n",
    "    ## Model is structured after ResNet50\n",
    "    model = REPResNet(Bottleneck, [3, 4, 5, 3], perturbations, include_original, shuffle,\n",
    "                       num_classes=num_classes, device=device)\n",
    "\n",
    "    lr = 0.1\n",
    "    criterion = nn.CrossEntropyLoss()\n",
    "    optimizer = optim.Adam(model.parameters(), lr=lr, weight_decay=0.0001)\n",
    "    scheduler = optim.lr_scheduler.StepLR(optimizer, step_size=1, gamma=0.3)\n",
    "    batch_size = 512\n",
    "    super_epochs = 3\n",
    "    epochs_per = 10\n",
    "    \n",
    "    print(f\"Training model with perturbations:\")\n",
    "    print(perturbation_description)\n",
    "\n",
    "    training_start = time.time()\n",
    "    for epoch in range(super_epochs):\n",
    "        train_REPResNet(model, train_dataset, optimizer, criterion, batch_size, epochs_per, True)\n",
    "        scheduler.step()\n",
    "        with torch.no_grad():\n",
    "            train_accuracy = torch.sum(torch.argmax(model(x_train[:1200]), axis=1) == torch.argmax(y_train[:1200], axis=1)) / len(x_train[:1200])\n",
    "            test_accuracy = torch.sum(torch.argmax(model(x_test[:1200]), axis=1) == torch.argmax(y_test[:1200], axis=1)) / len(x_test[:1200])\n",
    "            print(f\"Epoch {(epoch+1)*epochs_per}/{super_epochs*epochs_per} Complete After {int(time.time() - training_start)}s! Train Acc: {train_accuracy}, Test Acc: {test_accuracy}\")\n",
    "    total_time = time.time() - training_start\n",
    "\n",
    "    classifier = PyTorchClassifier(\n",
    "        model=model,\n",
    "        loss=criterion,\n",
    "        optimizer=optimizer,\n",
    "        input_shape=(3*multiplicity, 32, 32),\n",
    "        nb_classes=num_classes,\n",
    "    )\n",
    "    x_test_numpy = x_test.cpu().numpy()\n",
    "    y_test_numpy = y_test.cpu().numpy()\n",
    "    with torch.no_grad():\n",
    "        # Step 5: Evaluate the ART classifier on benign test examples\n",
    "        predictions = classifier.predict(x_test_numpy)\n",
    "        baseline_accuracy = np.sum(np.argmax(predictions, axis=1) == np.argmax(y_test_numpy, axis=1)) / len(y_test)\n",
    "        print(\"Accuracy on benign test examples: {}%\".format(baseline_accuracy * 100))\n",
    "\n",
    "    # Step 6: Generate adversarial test examples\n",
    "    attack = FastGradientMethod(estimator=classifier, eps=0.025)\n",
    "    x_test_adv1 = attack.generate(x=x_test_numpy)\n",
    "    with torch.no_grad():\n",
    "        predictions = classifier.predict(x_test_adv1)\n",
    "        adversarial_accuracy1 = np.sum(np.argmax(predictions, axis=1) == np.argmax(y_test_numpy, axis=1)) / len(y_test)\n",
    "        print(\"Accuracy on adversarial test examples (epsilon = 0.025): {}%\".format(adversarial_accuracy1 * 100))\n",
    "\n",
    "    attack = FastGradientMethod(estimator=classifier, eps=0.05)\n",
    "    x_test_adv2 = attack.generate(x=x_test_numpy)\n",
    "    with torch.no_grad():\n",
    "        predictions = classifier.predict(x_test_adv2)\n",
    "        adversarial_accuracy2 = np.sum(np.argmax(predictions, axis=1) == np.argmax(y_test_numpy, axis=1)) / len(y_test)\n",
    "        print(\"Accuracy on adversarial test examples (epsilon = 0.05): {}%\".format(adversarial_accuracy2 * 100))\n",
    "\n",
    "    attack = FastGradientMethod(estimator=classifier, eps=0.075)\n",
    "    x_test_adv3 = attack.generate(x=x_test_numpy)\n",
    "    with torch.no_grad():\n",
    "        predictions = classifier.predict(x_test_adv3)\n",
    "        adversarial_accuracy3 = np.sum(np.argmax(predictions, axis=1) == np.argmax(y_test_numpy, axis=1)) / len(y_test)\n",
    "        print(\"Accuracy on adversarial test examples (epsilon = 0.075): {}%\".format(adversarial_accuracy3 * 100))\n",
    "\n",
    "    attack = FastGradientMethod(estimator=classifier, eps=0.1)\n",
    "    x_test_adv4 = attack.generate(x=x_test_numpy)\n",
    "    with torch.no_grad():\n",
    "        predictions = classifier.predict(x_test_adv4)\n",
    "        adversarial_accuracy4 = np.sum(np.argmax(predictions, axis=1) == np.argmax(y_test_numpy, axis=1)) / len(y_test)\n",
    "        print(\"Accuracy on adversarial test examples (epsilon = 0.1): {}%\".format(adversarial_accuracy4 * 100))\n",
    "\n",
    "    test_history.append({'model': \"REPResNet-50\",\n",
    "                        'layers': [3, 4, 5, 3],\n",
    "                        'perturbations': perturbation_description,\n",
    "                        'include_original': include_original,\n",
    "                        'shuffle': shuffle,\n",
    "                        'loss': criterion,\n",
    "                        'lr': lr,\n",
    "                        'batch_size': batch_size,\n",
    "                        'epochs': int(super_epochs*epochs_per),\n",
    "                        'training_time': total_time,\n",
    "                        'baseline_accuracy': baseline_accuracy,\n",
    "                        'adversarial_accuracy': [adversarial_accuracy1, adversarial_accuracy2, adversarial_accuracy3, adversarial_accuracy4]})"
   ]
  },
  {
   "cell_type": "code",
   "execution_count": 8,
   "metadata": {},
   "outputs": [
    {
     "name": "stdout",
     "output_type": "stream",
     "text": [
      "Test 0: Perturbations (0), Original (True), Shuffle (True), Training Time (350.0729911327362s), Baseline (75.46000000000001%), Adversarial (19.939999999999998/14.27/13.139999999999999/12.16%)\n",
      "Test 1: Perturbations (1), Original (False), Shuffle (True), Training Time (352.46080446243286s), Baseline (74.15%), Adversarial (23.89/15.479999999999999/14.27/13.07%)\n",
      "Test 2: Perturbations (1), Original (False), Shuffle (True), Training Time (346.91450667381287s), Baseline (74.65%), Adversarial (29.220000000000002/16.59/14.41/13.07%)\n",
      "Test 3: Perturbations (1), Original (False), Shuffle (True), Training Time (347.00770258903503s), Baseline (20.89%), Adversarial (13.94/10.0/17.349999999999998/19.939999999999998%)\n",
      "Test 4: Perturbations (1), Original (False), Shuffle (True), Training Time (346.6512551307678s), Baseline (70.34%), Adversarial (22.939999999999998/61.41/37.419999999999995/55.71%)\n",
      "Test 5: Perturbations (1), Original (False), Shuffle (True), Training Time (347.29287457466125s), Baseline (69.26%), Adversarial (46.0/26.540000000000003/19.74/16.919999999999998%)\n",
      "Test 6: Perturbations (1), Original (False), Shuffle (True), Training Time (361.14449405670166s), Baseline (73.24000000000001%), Adversarial (24.07/15.89/14.299999999999999/13.489999999999998%)\n",
      "Test 7: Perturbations (1), Original (False), Shuffle (True), Training Time (361.7426538467407s), Baseline (70.53%), Adversarial (31.369999999999997/17.919999999999998/15.32/13.66%)\n",
      "Test 8: Perturbations (1), Original (False), Shuffle (True), Training Time (361.19143438339233s), Baseline (15.75%), Adversarial (66.5/17.119999999999997/10.54/35.32%)\n",
      "Test 9: Perturbations (1), Original (False), Shuffle (True), Training Time (361.29767322540283s), Baseline (73.86%), Adversarial (70.06/22.509999999999998/19.67/17.43%)\n",
      "Test 10: Perturbations (1), Original (False), Shuffle (True), Training Time (361.54291105270386s), Baseline (69.16%), Adversarial (47.54/28.26/20.21/18.32%)\n",
      "Test 11: Perturbations (1), Original (False), Shuffle (True), Training Time (347.13105869293213s), Baseline (74.29%), Adversarial (21.029999999999998/15.010000000000002/13.52/12.7%)\n",
      "Test 12: Perturbations (1), Original (False), Shuffle (True), Training Time (348.29724168777466s), Baseline (10.209999999999999%), Adversarial (13.86/11.360000000000001/29.549999999999997/18.84%)\n",
      "Test 13: Perturbations (1), Original (False), Shuffle (True), Training Time (348.8413188457489s), Baseline (36.8%), Adversarial (31.180000000000003/61.09/24.13/20.78%)\n",
      "Test 14: Perturbations (1), Original (False), Shuffle (True), Training Time (348.71969628334045s), Baseline (69.01%), Adversarial (44.61/26.33/20.150000000000002/17.75%)\n",
      "Test 15: Perturbations (1), Original (False), Shuffle (True), Training Time (348.75211548805237s), Baseline (72.21%), Adversarial (20.44/14.89/13.51/12.57%)\n",
      "Test 16: Perturbations (1), Original (False), Shuffle (True), Training Time (348.6829776763916s), Baseline (73.47%), Adversarial (20.580000000000002/13.850000000000001/11.83/10.93%)\n",
      "Test 17: Perturbations (1), Original (False), Shuffle (True), Training Time (348.93281507492065s), Baseline (74.63%), Adversarial (22.28/15.229999999999999/13.29/12.790000000000001%)\n",
      "Test 18: Perturbations (1), Original (False), Shuffle (True), Training Time (348.49161434173584s), Baseline (73.5%), Adversarial (39.68/20.22/14.580000000000002/12.879999999999999%)\n",
      "Test 19: Perturbations (1), Original (False), Shuffle (True), Training Time (348.5924949645996s), Baseline (10.0%), Adversarial (12.06/15.15/22.869999999999997/39.17%)\n",
      "Test 20: Perturbations (1), Original (False), Shuffle (True), Training Time (349.3145606517792s), Baseline (31.240000000000002%), Adversarial (24.48/63.080000000000005/50.970000000000006/14.75%)\n",
      "Test 21: Perturbations (1), Original (False), Shuffle (True), Training Time (349.39131784439087s), Baseline (69.04%), Adversarial (42.46/24.37/18.29/16.400000000000002%)\n",
      "Test 22: Perturbations (2), Original (False), Shuffle (True), Training Time (370.9503707885742s), Baseline (74.52%), Adversarial (27.450000000000003/17.01/15.120000000000001/14.04%)\n",
      "Test 23: Perturbations (1), Original (False), Shuffle (True), Training Time (361.9635787010193s), Baseline (72.24000000000001%), Adversarial (37.3/20.31/15.45/13.94%)\n",
      "Test 24: Perturbations (2), Original (False), Shuffle (True), Training Time (355.03464436531067s), Baseline (72.44%), Adversarial (24.05/15.5/13.54/12.57%)\n",
      "Test 25: Perturbations (2), Original (False), Shuffle (True), Training Time (371.0787184238434s), Baseline (74.83999999999999%), Adversarial (23.69/15.15/13.91/11.959999999999999%)\n",
      "Test 26: Perturbations (2), Original (False), Shuffle (True), Training Time (355.8192183971405s), Baseline (74.06%), Adversarial (20.27/14.35/12.72/11.65%)\n",
      "Test 27: Perturbations (3), Original (False), Shuffle (True), Training Time (380.58332991600037s), Baseline (71.54%), Adversarial (23.94/16.32/14.399999999999999/13.900000000000002%)\n",
      "Test 28: Perturbations (2), Original (False), Shuffle (True), Training Time (372.7310039997101s), Baseline (72.43%), Adversarial (36.33/17.7/17.31/16.02%)\n",
      "Test 29: Perturbations (2), Original (False), Shuffle (True), Training Time (357.394802570343s), Baseline (36.480000000000004%), Adversarial (20.380000000000003/53.190000000000005/14.74/38.800000000000004%)\n",
      "Test 30: Perturbations (2), Original (False), Shuffle (True), Training Time (373.02785062789917s), Baseline (68.12%), Adversarial (39.910000000000004/25.490000000000002/18.11/30.79%)\n",
      "Test 31: Perturbations (2), Original (False), Shuffle (True), Training Time (357.6365399360657s), Baseline (67.17%), Adversarial (46.71/20.52/55.88999999999999/26.040000000000003%)\n",
      "Test 32: Perturbations (2), Original (False), Shuffle (True), Training Time (387.6929783821106s), Baseline (69.19%), Adversarial (49.43/29.78/25.11/52.25%)\n",
      "Test 33: Perturbations (2), Original (False), Shuffle (True), Training Time (356.7237591743469s), Baseline (69.92%), Adversarial (59.72/32.5/24.0/31.53%)\n",
      "Test 34: Perturbations (4), Original (False), Shuffle (True), Training Time (374.44716238975525s), Baseline (70.1%), Adversarial (41.52/23.68/11.53/11.4%)\n",
      "Test 35: Perturbations (6), Original (False), Shuffle (True), Training Time (506.880065202713s), Baseline (47.07%), Adversarial (46.11/46.19/25.019999999999996/14.249999999999998%)\n"
     ]
    }
   ],
   "source": [
    "display_test_history(test_history=test_history)"
   ]
  },
  {
   "cell_type": "code",
   "execution_count": 22,
   "metadata": {},
   "outputs": [
    {
     "name": "stdout",
     "output_type": "stream",
     "text": [
      "[0. 0. 0. 0. 0. 0. 0. 0. 1. 0.]\n"
     ]
    },
    {
     "data": {
      "image/png": "[encoded data removed]",
      "text/plain": [
       "<Figure size 640x480 with 1 Axes>"
      ]
     },
     "metadata": {},
     "output_type": "display_data"
    },
    {
     "name": "stderr",
     "output_type": "stream",
     "text": [
      "Clipping input data to the valid range for imshow with RGB data ([0..1] for floats or [0..255] for integers).\n"
     ]
    },
    {
     "data": {
      "image/png": "[encoded data removed]",
      "text/plain": [
       "<Figure size 640x480 with 1 Axes>"
      ]
     },
     "metadata": {},
     "output_type": "display_data"
    },
    {
     "name": "stderr",
     "output_type": "stream",
     "text": [
      "Clipping input data to the valid range for imshow with RGB data ([0..1] for floats or [0..255] for integers).\n"
     ]
    },
    {
     "data": {
      "image/png": "[encoded data removed]",
      "text/plain": [
       "<Figure size 640x480 with 1 Axes>"
      ]
     },
     "metadata": {},
     "output_type": "display_data"
    },
    {
     "name": "stderr",
     "output_type": "stream",
     "text": [
      "Clipping input data to the valid range for imshow with RGB data ([0..1] for floats or [0..255] for integers).\n"
     ]
    },
    {
     "data": {
      "image/png": "[encoded data removed]",
      "text/plain": [
       "<Figure size 640x480 with 1 Axes>"
      ]
     },
     "metadata": {},
     "output_type": "display_data"
    },
    {
     "name": "stderr",
     "output_type": "stream",
     "text": [
      "Clipping input data to the valid range for imshow with RGB data ([0..1] for floats or [0..255] for integers).\n"
     ]
    },
    {
     "data": {
      "image/png": "[encoded data removed]",
      "text/plain": [
       "<Figure size 640x480 with 1 Axes>"
      ]
     },
     "metadata": {},
     "output_type": "display_data"
    }
   ],
   "source": [
    "idx = 1\n",
    "print(y_test[idx])\n",
    "\n",
    "plt.figure()\n",
    "plt.imshow(np.transpose(x_test[idx], (1, 2, 0)))\n",
    "plt.show()\n",
    "\n",
    "plt.figure()\n",
    "plt.imshow(np.transpose(x_test_adv1[idx], (1, 2, 0)))\n",
    "plt.show()\n",
    "\n",
    "plt.figure()\n",
    "plt.imshow(np.transpose(x_test_adv2[idx], (1, 2, 0)))\n",
    "plt.show()\n",
    "\n",
    "plt.figure()\n",
    "plt.imshow(np.transpose(x_test_adv3[idx], (1, 2, 0)))\n",
    "plt.show()\n",
    "\n",
    "plt.figure()\n",
    "plt.imshow(np.transpose(x_test_adv4[idx], (1, 2, 0)))\n",
    "plt.show()"
   ]
  },
  {
   "cell_type": "code",
   "execution_count": 9,
   "metadata": {},
   "outputs": [
    {
     "name": "stdout",
     "output_type": "stream",
     "text": [
      "Data saved to ../../notebooks/experiment_log/cifar_10_resnet_round_1_training_results.csv successfully.\n"
     ]
    }
   ],
   "source": [
    "import csv\n",
    "\n",
    "def save_to_csv(data, filename):\n",
    "    if not data:\n",
    "        return\n",
    "\n",
    "    # Extract the keys from the first dictionary as headers\n",
    "    headers = list(data[0].keys())\n",
    "\n",
    "    with open(filename, 'w', newline='') as csvfile:\n",
    "        writer = csv.DictWriter(csvfile, fieldnames=headers)\n",
    "\n",
    "        # Write the headers\n",
    "        writer.writeheader()\n",
    "\n",
    "        # Write each dictionary as a row in the CSV file\n",
    "        for item in data:\n",
    "            writer.writerow(item)\n",
    "\n",
    "    print(f\"Data saved to {filename} successfully.\")\n",
    "\n",
    "save_to_csv(test_history, ROOT + \"notebooks/experiment_log/cifar_10_resnet_round_1_training_results.csv\")"
   ]
  }
 ],
 "metadata": {
  "kernelspec": {
   "display_name": "PyTorch",
   "language": "python",
   "name": "python3"
  },
  "language_info": {
   "codemirror_mode": {
    "name": "ipython",
    "version": 3
   },
   "file_extension": ".py",
   "mimetype": "text/x-python",
   "name": "python",
   "nbconvert_exporter": "python",
   "pygments_lexer": "ipython3",
   "version": "3.10.12"
  },
  "orig_nbformat": 4
 },
 "nbformat": 4,
 "nbformat_minor": 2
}
