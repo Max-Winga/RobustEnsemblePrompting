{
 "cells": [
  {
   "cell_type": "code",
   "execution_count": 1,
   "metadata": {},
   "outputs": [],
   "source": [
    "import numpy as np"
   ]
  },
  {
   "cell_type": "code",
   "execution_count": 14,
   "metadata": {},
   "outputs": [],
   "source": [
    "class MinesweeperBoard():\n",
    "    def __init__(self, height, width, density):\n",
    "        self.W = width\n",
    "        self.H = height\n",
    "        self.mines = np.zeros((width, height))\n",
    "        num_mines = int(density * width * height)\n",
    "        flat_indices = np.random.choice(width * height, num_mines, replace=False)\n",
    "        col_indices, row_indices  = np.unravel_index(flat_indices, (width, height))\n",
    "        self.mines[col_indices, row_indices] = 1\n",
    "        self.seen = - np.ones((width, height))\n",
    "\n",
    "    def reveal_tile(self, x, y):\n",
    "        if self.mines[x, y] == 1:\n",
    "            print(\"GAME OVER\")\n",
    "            self.show_final_board()\n",
    "        else:\n",
    "            neighbor_mines = self.neighbor_mines(x, y)\n",
    "            if neighbor_mines == 0:\n",
    "                for neighbor in self.get_neighbors(x, y):\n",
    "                    self.reveal_tile(neighbor[0], neighbor[1])\n",
    "                self.seen[x, y] == 0\n",
    "\n",
    "    def neighbor_mines(self, x, y):\n",
    "        neighbors = self.get_neighbors(x, y)\n",
    "        mines = 0\n",
    "        for neighbor in neighbors:\n",
    "            if self.mines[neighbor[0], neighbor[1]] == 1:\n",
    "                mines += 1\n",
    "        return mines\n",
    "    \n",
    "    def get_neighbors(self, x, y):\n",
    "        neighbors = []\n",
    "        for x_prime in range(x-1, x, x+1):\n",
    "            for y_prime in range(y-1, y, y+1):\n",
    "                if np.any([x_prime == x and y_prime == y, x_prime < 0, y_prime < 0, x_prime >= self.W, y_prime >= self.H]):\n",
    "                    continue\n",
    "                neighbors.append((x, y))\n",
    "        return neighbors\n",
    "\n",
    "    def show_final_board(self):\n",
    "        raise NotImplementedError()\n"
   ]
  },
  {
   "cell_type": "code",
   "execution_count": 12,
   "metadata": {},
   "outputs": [
    {
     "name": "stdout",
     "output_type": "stream",
     "text": [
      "[[-1. -1. -1. -1. -1. -1. -1. -1. -1. -1.]\n",
      " [-1. -1. -1. -1. -1. -1. -1. -1. -1. -1.]\n",
      " [-1. -1. -1. -1. -1. -1. -1. -1. -1. -1.]\n",
      " [-1. -1. -1. -1. -1. -1. -1. -1. -1. -1.]\n",
      " [-1. -1. -1. -1. -1. -1. -1. -1. -1. -1.]\n",
      " [-1. -1. -1. -1. -1. -1. -1. -1. -1. -1.]\n",
      " [-1. -1. -1. -1. -1. -1. -1. -1. -1. -1.]\n",
      " [-1. -1. -1. -1. -1. -1. -1. -1. -1. -1.]\n",
      " [-1. -1. -1. -1. -1. -1. -1. -1. -1. -1.]\n",
      " [-1. -1. -1. -1. -1. -1. -1. -1. -1. -1.]]\n"
     ]
    }
   ],
   "source": [
    "board = MinesweeperBoard(10, 10, 0.5)\n",
    "print(board.seen)"
   ]
  }
 ],
 "metadata": {
  "kernelspec": {
   "display_name": "REP",
   "language": "python",
   "name": "python3"
  },
  "language_info": {
   "codemirror_mode": {
    "name": "ipython",
    "version": 3
   },
   "file_extension": ".py",
   "mimetype": "text/x-python",
   "name": "python",
   "nbconvert_exporter": "python",
   "pygments_lexer": "ipython3",
   "version": "3.10.12"
  }
 },
 "nbformat": 4,
 "nbformat_minor": 2
}
