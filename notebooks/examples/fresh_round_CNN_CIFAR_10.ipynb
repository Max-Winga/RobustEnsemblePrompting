{
 "cells": [
  {
   "cell_type": "code",
   "execution_count": 1,
   "metadata": {},
   "outputs": [],
   "source": [
    "import numpy as np\n",
    "import matplotlib.pyplot as plt\n",
    "import torch\n",
    "import torch.nn as nn\n",
    "import torch.optim as optim\n",
    "import time\n",
    "\n",
    "import sys\n",
    "import csv\n",
    "ROOT = \"../../\"\n",
    "sys.path.append(ROOT) # Add root directory to path\n",
    "\n",
    "from src.utils.perturbations import *\n",
    "\n",
    "from art.attacks.evasion import FastGradientMethod\n",
    "from art.estimators.classification import PyTorchClassifier\n",
    "from torchvision import datasets, transforms\n",
    "from torch.utils.data import DataLoader, TensorDataset, Dataset"
   ]
  },
  {
   "cell_type": "code",
   "execution_count": 2,
   "metadata": {},
   "outputs": [
    {
     "name": "stdout",
     "output_type": "stream",
     "text": [
      "Files already downloaded and verified\n",
      "Files already downloaded and verified\n"
     ]
    }
   ],
   "source": [
    "# Step 1: Load the CIFAR-10 dataset\n",
    "trainset = datasets.CIFAR10(root='./data', train=True, download=True, transform=transforms.ToTensor())\n",
    "testset = datasets.CIFAR10(root='./data', train=False, download=True, transform=transforms.ToTensor())\n",
    "num_classes = 10"
   ]
  },
  {
   "cell_type": "code",
   "execution_count": 3,
   "metadata": {},
   "outputs": [],
   "source": [
    "x_train = trainset.data / 255.0  # Scale pixel values to [0, 1]\n",
    "y_train = np.array(trainset.targets)\n",
    "x_test = testset.data / 255.0  # Scale pixel values to [0, 1]\n",
    "y_test = np.array(testset.targets)\n",
    "\n",
    "x_train = np.transpose(x_train, (0, 3, 1, 2)).astype(np.float32)\n",
    "x_test = np.transpose(x_test, (0, 3, 1, 2)).astype(np.float32)\n",
    "\n",
    "y_train = np.eye(num_classes)[y_train].astype(np.float32)\n",
    "y_test = np.eye(num_classes)[y_test].astype(np.float32)\n",
    "\n",
    "min_pixel_value = 0.0\n",
    "max_pixel_value = 1.0"
   ]
  },
  {
   "cell_type": "code",
   "execution_count": 4,
   "metadata": {},
   "outputs": [],
   "source": [
    "device = torch.device(\"cuda\" if torch.cuda.is_available() else \"cpu\")\n",
    "\n",
    "x_train = torch.from_numpy(x_train).to(device)\n",
    "y_train = torch.from_numpy(y_train).to(device)\n",
    "\n",
    "x_test = torch.from_numpy(x_test).to(device)\n",
    "y_test = torch.from_numpy(y_test).to(device)"
   ]
  },
  {
   "cell_type": "code",
   "execution_count": 5,
   "metadata": {},
   "outputs": [],
   "source": [
    "class SimpleDataset(Dataset):\n",
    "    def __init__(self, x, y):\n",
    "        self.x = x\n",
    "        self.y = y\n",
    "\n",
    "    def __len__(self):\n",
    "        return len(self.x)\n",
    "\n",
    "    def __getitem__(self, idx):\n",
    "        return self.x[idx], self.y[idx]\n",
    "\n",
    "train_dataset = SimpleDataset(x_train, y_train)\n",
    "test_dataset = SimpleDataset(x_test, y_test)"
   ]
  },
  {
   "cell_type": "code",
   "execution_count": 6,
   "metadata": {},
   "outputs": [],
   "source": [
    "test_history = []\n",
    "\n",
    "def display_test_history(test_history, eps_values):\n",
    "    for i in range(len(test_history)):\n",
    "        test = test_history[i]\n",
    "        num_p = len(test['perturbations'])\n",
    "        training_time = test['training_time']\n",
    "\n",
    "        baseline = test['baseline_test_accuracy']\n",
    "        adv_str = \"\"\n",
    "        for eps in eps_values:\n",
    "            adv_acc = test[f'adversarial_accuracy_eps={eps}']\n",
    "            adv_str += f\"[eps={eps}:{adv_acc*100:.2f}%],\"\n",
    "        adv_str = adv_str[:-1]\n",
    "        print(f\"Test {i}: # Perturbations ({num_p}), Time ({training_time:.2f}s), Baseline ({baseline*100:.2f}%), Adversarial ({adv_str})\")\n",
    "\n",
    "def save_to_csv(data, filename):\n",
    "    if not data:\n",
    "        return\n",
    "\n",
    "    # Extract the keys from the first dictionary as headers\n",
    "    headers = list(data[0].keys())\n",
    "\n",
    "    with open(filename, 'w', newline='') as csvfile:\n",
    "        writer = csv.DictWriter(csvfile, fieldnames=headers)\n",
    "\n",
    "        # Write the headers\n",
    "        writer.writeheader()\n",
    "\n",
    "        # Write each dictionary as a row in the CSV file\n",
    "        for item in data:\n",
    "            writer.writerow(item)\n",
    "\n",
    "    print(f\"Data saved to {filename} successfully.\")"
   ]
  },
  {
   "cell_type": "code",
   "execution_count": 7,
   "metadata": {},
   "outputs": [],
   "source": [
    "class Perturbations():\n",
    "    def __init__(self, perturbations, include_original=False, shuffle=True):\n",
    "        self.perturbations = perturbations\n",
    "        self.multiplicity = len(perturbations) + int(include_original)\n",
    "        self.shuffle = shuffle\n",
    "        self.include_original = include_original\n",
    "    \n",
    "    def __getitem__(self, idx):\n",
    "        return self.perturbations[idx]\n",
    "    \n",
    "    def __len__(self):\n",
    "        return len(self.perturbations)\n",
    "\n",
    "    def get_multiplicity(self):\n",
    "        if len(self.perturbations) == 0 and not self.include_original:\n",
    "            return 1\n",
    "        return self.multiplicity\n",
    "        \n",
    "    def get_include_original(self):\n",
    "        return len(self.perturbations) == 0 or self.include_original\n",
    "    \n",
    "    def get_shuffle(self):\n",
    "        return self.shuffle\n",
    "\n",
    "    def add_perturbation(self, perturbation):\n",
    "        if type(perturbation) == list:\n",
    "            self.perturbations.append(perturbation[0])\n",
    "        else:\n",
    "            self.perturbations.append(perturbation)\n",
    "        self.multiplicity = len(self.perturbations) + int(self.include_original)"
   ]
  },
  {
   "cell_type": "code",
   "execution_count": 8,
   "metadata": {},
   "outputs": [],
   "source": [
    "class REPClassifier(nn.Module):\n",
    "    def __init__(self, perturbations):\n",
    "        super(REPClassifier, self).__init__()\n",
    "        self.device = torch.device(\"cuda\" if torch.cuda.is_available() else \"cpu\")\n",
    "\n",
    "        self.perturbations = perturbations\n",
    "        self.multiplicity = perturbations.get_multiplicity()\n",
    "        self.include_original = perturbations.get_include_original()\n",
    "        self.shuffle = perturbations.get_shuffle()\n",
    "\n",
    "        self.conv1 = nn.Conv2d(3*self.multiplicity, 96, kernel_size=5, padding=2)\n",
    "        self.maxpool1 = nn.MaxPool2d(kernel_size=(2, 2))\n",
    "\n",
    "        self.conv2 = nn.Conv2d(96, 96, kernel_size=5, padding=2)\n",
    "        self.maxpool2 = nn.MaxPool2d(kernel_size=(2, 2))\n",
    "\n",
    "        self.conv3 = nn.Conv2d(96, 80, kernel_size=5, padding=2)\n",
    "        self.conv4 = nn.Conv2d(80, 64, kernel_size=5, padding=2)\n",
    "        self.conv5 = nn.Conv2d(64, 64, kernel_size=5, padding=2)\n",
    "        self.conv6 = nn.Conv2d(64, 96, kernel_size=5, padding=2)\n",
    "        self.global_pool = nn.AdaptiveMaxPool2d((2, 2))\n",
    "\n",
    "        self.fc1 = nn.Linear(96*2*2, 256)\n",
    "        self.nonlinearity1 = nn.ReLU()\n",
    "        self.fc2 = nn.Linear(256, 10)\n",
    "        self.to(self.device)\n",
    "\n",
    "    def forward(self, x):\n",
    "        x = x.to(self.device) # shape = (Batch, Color Channels, Height, Width)\n",
    "        if x.dim() == 3:\n",
    "            x = x.unsqueeze(0)\n",
    "        B = x.size(0)\n",
    "\n",
    "        # Apply perturbations\n",
    "        layers = []\n",
    "        if self.include_original:\n",
    "            layers.append(x)\n",
    "        for perturbation in self.perturbations:\n",
    "            layers.append(perturbation(x))\n",
    "        if self.shuffle:\n",
    "            permutation = torch.randperm(len(layers))\n",
    "            layers = [layers[i] for i in permutation]\n",
    "        # stack along color channel dimension -> shape = (Batch, Color Channels x Multiplicity, H, W)\n",
    "        x = torch.cat(layers, dim=1) \n",
    "\n",
    "        x = self.conv1(x)\n",
    "        x = self.maxpool1(x)\n",
    "\n",
    "        x = self.conv2(x)\n",
    "        x = self.maxpool2(x)\n",
    "\n",
    "        x = self.conv3(x)\n",
    "        x = self.conv4(x)\n",
    "        x = self.conv5(x)\n",
    "        x = self.conv6(x)\n",
    "        x = self.global_pool(x)\n",
    "        x = x.view(B, -1)\n",
    "\n",
    "        x = self.fc1(x)\n",
    "        x = self.nonlinearity1(x)\n",
    "        x = self.fc2(x)\n",
    "        return x"
   ]
  },
  {
   "cell_type": "code",
   "execution_count": 9,
   "metadata": {},
   "outputs": [],
   "source": [
    "from tqdm.auto import tqdm\n",
    "\n",
    "def train_REPClassifier(model, dataset, optimizer, criterion, batch_size, epochs, test_dataset=None, verbose=True):\n",
    "    dataloader = DataLoader(dataset, batch_size, shuffle=True, num_workers=0)\n",
    "    test_accuracy_history = []\n",
    "    test_loss_history = []\n",
    "    for _ in tqdm(range(epochs), disable=not verbose, desc=\"Epochs\"):\n",
    "        for x_batch, y_batch in dataloader:            \n",
    "            # Zero the parameter gradients\n",
    "            optimizer.zero_grad()\n",
    "\n",
    "            # Perform prediction\n",
    "            model_outputs = model(x_batch)\n",
    "\n",
    "            y_batch = y_batch.squeeze(1)\n",
    "            predictions = model_outputs.squeeze(1)\n",
    "            \n",
    "            loss = criterion(predictions, y_batch)\n",
    "\n",
    "            # Do training\n",
    "            loss.backward()\n",
    "\n",
    "            optimizer.step()\n",
    "        if test_dataset:\n",
    "            with torch.no_grad():\n",
    "                x_test = test_dataset.x\n",
    "                y_test = test_dataset.y\n",
    "                test_outputs = model(x_test)\n",
    "                test_predictions = test_outputs.squeeze(1)\n",
    "                y_test = y_test.squeeze(1)\n",
    "\n",
    "                test_loss = criterion(test_predictions, y_test)\n",
    "                test_loss_history.append(test_loss.item().cpu().numpy())\n",
    "\n",
    "                test_accuracy = torch.sum(torch.argmax(test_outputs, axis=1) == torch.argmax(y_test, axis=1)) / len(x_test)\n",
    "                test_accuracy_history.append(test_accuracy.cpu())\n",
    "    return test_accuracy_history, test_loss_history"
   ]
  },
  {
   "cell_type": "markdown",
   "metadata": {},
   "source": [
    "# Test Single Model"
   ]
  },
  {
   "cell_type": "code",
   "execution_count": 51,
   "metadata": {},
   "outputs": [],
   "source": [
    "perturbation_descriptions = [[\"Gaussian\", 0.05], [\"Laplacian\", 0.05]]\n",
    "# perturbation_descriptions = [[\"Gaussian\", 0.05]]\n",
    "# perturbation_descriptions = []\n",
    "perturbation_descriptions = [[\"Identity\"], [\"Gaussian\", 0.05], [\"Laplacian\", 0.05], [\"Lp-norm\", 0.5, 1]]\n",
    "perturbation_functions = create_perturbations(perturbation_descriptions)\n",
    "\n",
    "perturbations = Perturbations(perturbation_functions)"
   ]
  },
  {
   "cell_type": "code",
   "execution_count": null,
   "metadata": {},
   "outputs": [],
   "source": []
  },
  {
   "cell_type": "code",
   "execution_count": 47,
   "metadata": {},
   "outputs": [],
   "source": [
    "model = REPClassifier(perturbations)"
   ]
  },
  {
   "cell_type": "code",
   "execution_count": 48,
   "metadata": {},
   "outputs": [
    {
     "name": "stdout",
     "output_type": "stream",
     "text": [
      "922426\n"
     ]
    }
   ],
   "source": [
    "total_params = sum(p.numel() for p in model.parameters())\n",
    "print(total_params)"
   ]
  },
  {
   "cell_type": "code",
   "execution_count": 12,
   "metadata": {},
   "outputs": [],
   "source": [
    "load_trained_model = True\n",
    "model_name = \"model1.pt\"\n",
    "optimizer = optim.Adam(model.parameters(), lr=0.0001, weight_decay=0.0001)\n",
    "criterion = nn.CrossEntropyLoss()\n",
    "batch_size = 64\n",
    "epochs = 20\n",
    "\n",
    "if load_trained_model:\n",
    "    state_dict = torch.load(ROOT + \"src/models/\" + model_name)\n",
    "    model.load_state_dict(state_dict)\n",
    "else:\n",
    "    accuracy, loss = train_REPClassifier(model, train_dataset, optimizer, criterion, batch_size, epochs)\n",
    "    torch.save(model.state_dict(), ROOT + \"src/models/\" + model_name)"
   ]
  },
  {
   "cell_type": "code",
   "execution_count": 14,
   "metadata": {},
   "outputs": [
    {
     "name": "stdout",
     "output_type": "stream",
     "text": [
      "Train Acc: 0.8758333325386047, Test Acc: 0.7216999530792236\n"
     ]
    }
   ],
   "source": [
    "with torch.no_grad():\n",
    "    train_accuracy = torch.sum(torch.argmax(model(x_train[:1200]), axis=1) == torch.argmax(y_train[:1200], axis=1)) / len(x_train[:1200])\n",
    "    test_accuracy = torch.sum(torch.argmax(model(x_test), axis=1) == torch.argmax(y_test, axis=1)) / len(x_test)\n",
    "    print(f\"Train Acc: {train_accuracy}, Test Acc: {test_accuracy}\")"
   ]
  },
  {
   "cell_type": "code",
   "execution_count": 15,
   "metadata": {},
   "outputs": [
    {
     "name": "stdout",
     "output_type": "stream",
     "text": [
      "Accuracy on benign test examples: 72.17%\n",
      "Accuracy on adversarial test examples (epsilon = 0.025): 18.83%\n",
      "Accuracy on adversarial test examples (epsilon = 0.05): 13.77%\n",
      "Accuracy on adversarial test examples (epsilon = 0.075): 11.99%\n",
      "Accuracy on adversarial test examples (epsilon = 0.1): 10.59%\n"
     ]
    }
   ],
   "source": [
    "classifier = PyTorchClassifier(\n",
    "        model=model,\n",
    "        clip_values=(min_pixel_value, max_pixel_value),\n",
    "        loss=criterion,\n",
    "        optimizer=optimizer,\n",
    "        input_shape=(3, 32, 32),\n",
    "        nb_classes=num_classes,\n",
    "    )\n",
    "\n",
    "x_test_numpy = x_test.cpu().numpy()\n",
    "y_test_numpy = y_test.cpu().numpy()\n",
    "with torch.no_grad():\n",
    "    # Step 5: Evaluate the ART classifier on benign test examples\n",
    "    predictions = classifier.predict(x_test_numpy)\n",
    "    baseline_accuracy = np.sum(np.argmax(predictions, axis=1) == np.argmax(y_test_numpy, axis=1)) / len(y_test)\n",
    "    print(\"Accuracy on benign test examples: {}%\".format(baseline_accuracy * 100))\n",
    "\n",
    "# Step 6: Generate adversarial test examples\n",
    "attack = FastGradientMethod(estimator=classifier, eps=0.025)\n",
    "x_test_adv1 = attack.generate(x=x_test_numpy)\n",
    "with torch.no_grad():\n",
    "    predictions = classifier.predict(x_test_adv1)\n",
    "    adversarial_accuracy1 = np.sum(np.argmax(predictions, axis=1) == np.argmax(y_test_numpy, axis=1)) / len(y_test)\n",
    "    print(\"Accuracy on adversarial test examples (epsilon = 0.025): {}%\".format(adversarial_accuracy1 * 100))\n",
    "\n",
    "attack = FastGradientMethod(estimator=classifier, eps=0.05)\n",
    "x_test_adv2 = attack.generate(x=x_test_numpy)\n",
    "with torch.no_grad():\n",
    "    predictions = classifier.predict(x_test_adv2)\n",
    "    adversarial_accuracy2 = np.sum(np.argmax(predictions, axis=1) == np.argmax(y_test_numpy, axis=1)) / len(y_test)\n",
    "    print(\"Accuracy on adversarial test examples (epsilon = 0.05): {}%\".format(adversarial_accuracy2 * 100))\n",
    "\n",
    "attack = FastGradientMethod(estimator=classifier, eps=0.075)\n",
    "x_test_adv3 = attack.generate(x=x_test_numpy)\n",
    "with torch.no_grad():\n",
    "    predictions = classifier.predict(x_test_adv3)\n",
    "    adversarial_accuracy3 = np.sum(np.argmax(predictions, axis=1) == np.argmax(y_test_numpy, axis=1)) / len(y_test)\n",
    "    print(\"Accuracy on adversarial test examples (epsilon = 0.075): {}%\".format(adversarial_accuracy3 * 100))\n",
    "\n",
    "attack = FastGradientMethod(estimator=classifier, eps=0.1)\n",
    "x_test_adv4 = attack.generate(x=x_test_numpy)\n",
    "with torch.no_grad():\n",
    "    predictions = classifier.predict(x_test_adv4)\n",
    "    adversarial_accuracy4 = np.sum(np.argmax(predictions, axis=1) == np.argmax(y_test_numpy, axis=1)) / len(y_test)\n",
    "    print(\"Accuracy on adversarial test examples (epsilon = 0.1): {}%\".format(adversarial_accuracy4 * 100))"
   ]
  },
  {
   "cell_type": "code",
   "execution_count": 39,
   "metadata": {},
   "outputs": [
    {
     "data": {
      "image/png": "[encoded data removed]",
      "text/plain": [
       "<Figure size 1250x300 with 5 Axes>"
      ]
     },
     "metadata": {},
     "output_type": "display_data"
    }
   ],
   "source": [
    "def plot_adversarial_examples(classifier, x_benign, x_adv_list, epsilons, y_true):\n",
    "    num_examples = len(x_adv_list) + 1\n",
    "    fig, axes = plt.subplots(1, num_examples, figsize=(num_examples*2.5, 3))\n",
    "    classes = ['airplane', 'automobile', 'bird', 'cat', 'deer', 'dog', 'frog', 'horse', 'ship', 'truck']\n",
    "    \n",
    "    # Predict labels using the classifier\n",
    "    labels = []\n",
    "    labels.append(classes[np.argmax(classifier.predict(x_benign), axis=1)[0]])\n",
    "    for x_adv in x_adv_list:\n",
    "        labels.append(classes[np.argmax(classifier.predict(x_adv), axis=1)[0]])\n",
    "    \n",
    "    # Plot benign example\n",
    "    axes[0].imshow(x_benign.transpose(1, 2, 0))\n",
    "    axes[0].set_title(f\"Benign: \\\"{labels[0]}\\\"\")\n",
    "    axes[0].axis('off')\n",
    "\n",
    "    # Plot adversarial examples\n",
    "    for i, x_adv in enumerate(x_adv_list):\n",
    "        axes[i+1].imshow(x_adv.transpose(1, 2, 0))\n",
    "        axes[i+1].set_title(f\"$\\\\varepsilon$ = {epsilons[i]}: \\\"{labels[i+1]}\\\"\")\n",
    "        axes[i+1].axis('off')\n",
    "\n",
    "    fig.suptitle(f\"FGSM applied to CIFAR-10: True Label = \\\"{classes[y_true]}\\\"\")\n",
    "    plt.tight_layout()\n",
    "    plt.show()\n",
    "\n",
    "# Example usage\n",
    "epsilons = [0.025, 0.05, 0.075, 0.1]\n",
    "\n",
    "# Select a random benign example and its corresponding adversarial examples\n",
    "idx = np.random.randint(len(x_test_numpy))\n",
    "x_benign = x_test_numpy[idx]\n",
    "x_adv_list = [x_test_adv1[idx], x_test_adv2[idx], x_test_adv3[idx], x_test_adv4[idx]]\n",
    "y_true = np.argmax(y_test_numpy[idx])\n",
    "\n",
    "plot_adversarial_examples(classifier, x_benign, x_adv_list, epsilons, y_true)"
   ]
  },
  {
   "cell_type": "markdown",
   "metadata": {},
   "source": [
    "# Test Multiple Models"
   ]
  },
  {
   "cell_type": "code",
   "execution_count": 10,
   "metadata": {},
   "outputs": [],
   "source": [
    "single_perturbations = [\n",
    "    [\"Identity\"],\n",
    "    [\"Gaussian\", 0.05],\n",
    "    [[\"Gaussian\", 0.05],[\"RotationFlip\", 0.3]],\n",
    "    [[\"Gaussian\", 0.05],[\"SaltPepper\", 0.05]],\n",
    "    [\"Gaussian\", 0.1],\n",
    "    [[\"Gaussian\", 0.1],[\"RotationFlip\", 0.3]],\n",
    "    [[\"Gaussian\", 0.1],[\"SaltPepper\", 0.05]],\n",
    "    [\"Laplacian\", 0.05],\n",
    "    [[\"Laplacian\", 0.05],[\"RotationFlip\", 0.3]],\n",
    "    [[\"Laplacian\", 0.05],[\"SaltPepper\", 0.05]],\n",
    "    [\"Laplacian\", 0.1],\n",
    "    [[\"Laplacian\", 0.1],[\"RotationFlip\", 0.3]],\n",
    "    [[\"Laplacian\", 0.1],[\"SaltPepper\", 0.05]],\n",
    "    [\"Lp-norm\", 0.25, 1],\n",
    "    [[\"Lp-norm\", 0.25, 1],[\"RotationFlip\", 0.3]],\n",
    "    [[\"Lp-norm\", 0.25, 1],[\"SaltPepper\", 0.05]],\n",
    "    [\"Lp-norm\", 0.5, 1],\n",
    "    [[\"Lp-norm\", 0.5, 1],[\"RotationFlip\", 0.3]],\n",
    "    [[\"Lp-norm\", 0.5, 1],[\"SaltPepper\", 0.05]],\n",
    "    [\"Lp-norm\", 0.25, 2],\n",
    "    [[\"Lp-norm\", 0.25, 2],[\"RotationFlip\", 0.3]],\n",
    "    [[\"Lp-norm\", 0.25, 2],[\"SaltPepper\", 0.05]],\n",
    "    [\"Lp-norm\", 0.5, 2],\n",
    "    [[\"Lp-norm\", 0.5, 2],[\"RotationFlip\", 0.3]],\n",
    "    [[\"Lp-norm\", 0.5, 2],[\"SaltPepper\", 0.05]],\n",
    "    [\"Lp-norm\", 0.25, 3],\n",
    "    [[\"Lp-norm\", 0.25, 3],[\"RotationFlip\", 0.3]],\n",
    "    [[\"Lp-norm\", 0.25, 3],[\"SaltPepper\", 0.05]],\n",
    "    [\"Lp-norm\", 0.5, 3],\n",
    "    [[\"Lp-norm\", 0.5, 3],[\"RotationFlip\", 0.3]],\n",
    "    [[\"Lp-norm\", 0.5, 3],[\"SaltPepper\", 0.05]],\n",
    "    [\"Lp-norm\", 0.25, 4],\n",
    "    [[\"Lp-norm\", 0.25, 4],[\"RotationFlip\", 0.3]],\n",
    "    [[\"Lp-norm\", 0.25, 4],[\"SaltPepper\", 0.05]],\n",
    "    [\"Lp-norm\", 0.5, 4],\n",
    "    [[\"Lp-norm\", 0.5, 4],[\"RotationFlip\", 0.3]],\n",
    "    [[\"Lp-norm\", 0.5, 4],[\"SaltPepper\", 0.05]],\n",
    "    [\"Lp-norm\", 0.25, float('inf')],\n",
    "    [[\"Lp-norm\", 0.25, float('inf')],[\"RotationFlip\", 0.3]],\n",
    "    [[\"Lp-norm\", 0.25, float('inf')],[\"SaltPepper\", 0.05]],\n",
    "    [\"Lp-norm\", 0.5, float('inf')],\n",
    "    [[\"Lp-norm\", 0.5, float('inf')],[\"RotationFlip\", 0.3]],\n",
    "    [[\"Lp-norm\", 0.5, float('inf')],[\"SaltPepper\", 0.05]],\n",
    "]\n",
    "\n",
    "def create_joint_perturbation_description(individual_perturbations, indices):\n",
    "    joint_perturbation = []\n",
    "    for idx in indices:\n",
    "        joint_perturbation.append(individual_perturbations[idx])\n",
    "    return joint_perturbation\n",
    "\n",
    "joint_perturbations = [\n",
    "    create_joint_perturbation_description(single_perturbations, [11, 12]),                  # top-2 individuals at adversarial performance\n",
    "    create_joint_perturbation_description(single_perturbations, [11, 12, 41]),              # top-3 ...\n",
    "    create_joint_perturbation_description(single_perturbations, [11, 12, 41, 5]),           # top-4 ...\n",
    "    create_joint_perturbation_description(single_perturbations, [11, 12, 41, 5, 42]),       # top-5 ...      \n",
    "    create_joint_perturbation_description(single_perturbations, [22, 19]),                  # top-2 individuals at benign test performance\n",
    "    create_joint_perturbation_description(single_perturbations, [22, 19, 31]),              # top-3 ...\n",
    "    create_joint_perturbation_description(single_perturbations, [22, 19, 31, 13]),          # top-4 ...\n",
    "    create_joint_perturbation_description(single_perturbations, [22, 19, 31, 13, 25]),      # top-5 ...\n",
    "    create_joint_perturbation_description(single_perturbations, [11, 22]),                  # top-1 adversarial and top-1 benign test\n",
    "    create_joint_perturbation_description(single_perturbations, [11, 12, 22, 19]),          # top-2 of each\n",
    "    create_joint_perturbation_description(single_perturbations, [11, 12, 41, 22, 19, 31]),  # top-3 of each         \n",
    "    create_joint_perturbation_description(single_perturbations, [12, 42]),                  # top-2 individuals at maximum adversarial accuracy gain minus benign test accuracy loss\n",
    "    create_joint_perturbation_description(single_perturbations, [12, 42, 6]),               # top-3 ...\n",
    "    create_joint_perturbation_description(single_perturbations, [12, 42, 6, 9]),            # top-4 ...\n",
    "    create_joint_perturbation_description(single_perturbations, [12, 42, 6, 9, 11]),        # top-5 ...\n",
    "]\n",
    "\n",
    "all_perturbations = [Perturbations(create_perturbations(perturbation_description), shuffle=True, include_original=True) for perturbation_description in joint_perturbations]"
   ]
  },
  {
   "cell_type": "code",
   "execution_count": 12,
   "metadata": {},
   "outputs": [
    {
     "name": "stdout",
     "output_type": "stream",
     "text": [
      "Training model0.pt with perturbations:\n",
      "[[['Laplacian', 0.1], ['RotationFlip', 0.3]], [['Laplacian', 0.1], ['SaltPepper', 0.05]]]\n"
     ]
    },
    {
     "data": {
      "application/vnd.jupyter.widget-view+json": {
       "model_id": "f1451e6897634f93aa816577a63d508a",
       "version_major": 2,
       "version_minor": 0
      },
      "text/plain": [
       "Epochs:   0%|          | 0/20 [00:00<?, ?it/s]"
      ]
     },
     "metadata": {},
     "output_type": "display_data"
    },
    {
     "name": "stdout",
     "output_type": "stream",
     "text": [
      "Training Complete After: 184.2925283908844s\n",
      "Accuracy on benign train examples: 75.484%\n",
      "Accuracy on benign test examples: 67.2%\n",
      "Accuracy on adversarial test examples (epsilon = 0.025): 38.73%\n",
      "Accuracy on adversarial test examples (epsilon = 0.05): 21.32%\n",
      "Accuracy on adversarial test examples (epsilon = 0.075): 16.14%\n",
      "Accuracy on adversarial test examples (epsilon = 0.1): 14.77%\n",
      "Training model1.pt with perturbations:\n",
      "[[['Laplacian', 0.1], ['RotationFlip', 0.3]], [['Laplacian', 0.1], ['SaltPepper', 0.05]], [['Lp-norm', 0.5, inf], ['RotationFlip', 0.3]]]\n"
     ]
    },
    {
     "data": {
      "application/vnd.jupyter.widget-view+json": {
       "model_id": "865c0e8f7d684ca08e79d90072bdb367",
       "version_major": 2,
       "version_minor": 0
      },
      "text/plain": [
       "Epochs:   0%|          | 0/20 [00:00<?, ?it/s]"
      ]
     },
     "metadata": {},
     "output_type": "display_data"
    },
    {
     "name": "stdout",
     "output_type": "stream",
     "text": [
      "Training Complete After: 199.34770965576172s\n",
      "Accuracy on benign train examples: 74.144%\n",
      "Accuracy on benign test examples: 66.41%\n",
      "Accuracy on adversarial test examples (epsilon = 0.025): 39.23%\n",
      "Accuracy on adversarial test examples (epsilon = 0.05): 22.20%\n",
      "Accuracy on adversarial test examples (epsilon = 0.075): 16.93%\n",
      "Accuracy on adversarial test examples (epsilon = 0.1): 14.86%\n",
      "Training model2.pt with perturbations:\n",
      "[[['Laplacian', 0.1], ['RotationFlip', 0.3]], [['Laplacian', 0.1], ['SaltPepper', 0.05]], [['Lp-norm', 0.5, inf], ['RotationFlip', 0.3]], [['Gaussian', 0.1], ['RotationFlip', 0.3]]]\n"
     ]
    },
    {
     "data": {
      "application/vnd.jupyter.widget-view+json": {
       "model_id": "306e491e5a9a4187bc5dc7ffc2ad9d1a",
       "version_major": 2,
       "version_minor": 0
      },
      "text/plain": [
       "Epochs:   0%|          | 0/20 [00:00<?, ?it/s]"
      ]
     },
     "metadata": {},
     "output_type": "display_data"
    },
    {
     "name": "stdout",
     "output_type": "stream",
     "text": [
      "Training Complete After: 206.39597034454346s\n",
      "Accuracy on benign train examples: 73.762%\n",
      "Accuracy on benign test examples: 65.53%\n",
      "Accuracy on adversarial test examples (epsilon = 0.025): 36.96%\n",
      "Accuracy on adversarial test examples (epsilon = 0.05): 22.33%\n",
      "Accuracy on adversarial test examples (epsilon = 0.075): 16.97%\n",
      "Accuracy on adversarial test examples (epsilon = 0.1): 16.09%\n",
      "Training model3.pt with perturbations:\n",
      "[[['Laplacian', 0.1], ['RotationFlip', 0.3]], [['Laplacian', 0.1], ['SaltPepper', 0.05]], [['Lp-norm', 0.5, inf], ['RotationFlip', 0.3]], [['Gaussian', 0.1], ['RotationFlip', 0.3]], [['Lp-norm', 0.5, inf], ['SaltPepper', 0.05]]]\n"
     ]
    },
    {
     "data": {
      "application/vnd.jupyter.widget-view+json": {
       "model_id": "0f4ae1fcba0c40e5b1343efc93e383a0",
       "version_major": 2,
       "version_minor": 0
      },
      "text/plain": [
       "Epochs:   0%|          | 0/20 [00:00<?, ?it/s]"
      ]
     },
     "metadata": {},
     "output_type": "display_data"
    },
    {
     "name": "stdout",
     "output_type": "stream",
     "text": [
      "Training Complete After: 210.0063033103943s\n",
      "Accuracy on benign train examples: 76.926%\n",
      "Accuracy on benign test examples: 67.52%\n",
      "Accuracy on adversarial test examples (epsilon = 0.025): 32.76%\n",
      "Accuracy on adversarial test examples (epsilon = 0.05): 19.70%\n",
      "Accuracy on adversarial test examples (epsilon = 0.075): 16.28%\n",
      "Accuracy on adversarial test examples (epsilon = 0.1): 14.05%\n",
      "Training model4.pt with perturbations:\n",
      "[['Lp-norm', 0.5, 2], ['Lp-norm', 0.25, 2]]\n"
     ]
    },
    {
     "data": {
      "application/vnd.jupyter.widget-view+json": {
       "model_id": "ec18a6a73f7242c5a5b9870554970468",
       "version_major": 2,
       "version_minor": 0
      },
      "text/plain": [
       "Epochs:   0%|          | 0/20 [00:00<?, ?it/s]"
      ]
     },
     "metadata": {},
     "output_type": "display_data"
    },
    {
     "name": "stdout",
     "output_type": "stream",
     "text": [
      "Training Complete After: 82.13929343223572s\n",
      "Accuracy on benign train examples: 86.176%\n",
      "Accuracy on benign test examples: 72.59%\n",
      "Accuracy on adversarial test examples (epsilon = 0.025): 16.54%\n",
      "Accuracy on adversarial test examples (epsilon = 0.05): 12.80%\n",
      "Accuracy on adversarial test examples (epsilon = 0.075): 11.38%\n",
      "Accuracy on adversarial test examples (epsilon = 0.1): 10.18%\n",
      "Training model5.pt with perturbations:\n",
      "[['Lp-norm', 0.5, 2], ['Lp-norm', 0.25, 2], ['Lp-norm', 0.25, 4]]\n"
     ]
    },
    {
     "data": {
      "application/vnd.jupyter.widget-view+json": {
       "model_id": "83f7380813bd45fbaf3afa59e726387b",
       "version_major": 2,
       "version_minor": 0
      },
      "text/plain": [
       "Epochs:   0%|          | 0/20 [00:00<?, ?it/s]"
      ]
     },
     "metadata": {},
     "output_type": "display_data"
    },
    {
     "name": "stdout",
     "output_type": "stream",
     "text": [
      "Training Complete After: 81.16798114776611s\n",
      "Accuracy on benign train examples: 87.374%\n",
      "Accuracy on benign test examples: 72.3%\n",
      "Accuracy on adversarial test examples (epsilon = 0.025): 18.95%\n",
      "Accuracy on adversarial test examples (epsilon = 0.05): 14.47%\n",
      "Accuracy on adversarial test examples (epsilon = 0.075): 13.22%\n",
      "Accuracy on adversarial test examples (epsilon = 0.1): 12.28%\n",
      "Training model6.pt with perturbations:\n",
      "[['Lp-norm', 0.5, 2], ['Lp-norm', 0.25, 2], ['Lp-norm', 0.25, 4], ['Lp-norm', 0.25, 1]]\n"
     ]
    },
    {
     "data": {
      "application/vnd.jupyter.widget-view+json": {
       "model_id": "24825557ccbe4935b64a4394c0bf79f6",
       "version_major": 2,
       "version_minor": 0
      },
      "text/plain": [
       "Epochs:   0%|          | 0/20 [00:00<?, ?it/s]"
      ]
     },
     "metadata": {},
     "output_type": "display_data"
    },
    {
     "name": "stdout",
     "output_type": "stream",
     "text": [
      "Training Complete After: 89.69455766677856s\n",
      "Accuracy on benign train examples: 88.718%\n",
      "Accuracy on benign test examples: 72.81%\n",
      "Accuracy on adversarial test examples (epsilon = 0.025): 18.18%\n",
      "Accuracy on adversarial test examples (epsilon = 0.05): 13.82%\n",
      "Accuracy on adversarial test examples (epsilon = 0.075): 12.64%\n",
      "Accuracy on adversarial test examples (epsilon = 0.1): 11.36%\n",
      "Training model7.pt with perturbations:\n",
      "[['Lp-norm', 0.5, 2], ['Lp-norm', 0.25, 2], ['Lp-norm', 0.25, 4], ['Lp-norm', 0.25, 1], ['Lp-norm', 0.25, 3]]\n"
     ]
    },
    {
     "data": {
      "application/vnd.jupyter.widget-view+json": {
       "model_id": "bec7c100b0c9496dbd68e174f852c799",
       "version_major": 2,
       "version_minor": 0
      },
      "text/plain": [
       "Epochs:   0%|          | 0/20 [00:00<?, ?it/s]"
      ]
     },
     "metadata": {},
     "output_type": "display_data"
    },
    {
     "name": "stdout",
     "output_type": "stream",
     "text": [
      "Training Complete After: 95.60471415519714s\n",
      "Accuracy on benign train examples: 87.482%\n",
      "Accuracy on benign test examples: 72.35000000000001%\n",
      "Accuracy on adversarial test examples (epsilon = 0.025): 18.44%\n",
      "Accuracy on adversarial test examples (epsilon = 0.05): 14.21%\n",
      "Accuracy on adversarial test examples (epsilon = 0.075): 12.95%\n",
      "Accuracy on adversarial test examples (epsilon = 0.1): 11.47%\n",
      "Training model8.pt with perturbations:\n",
      "[[['Laplacian', 0.1], ['RotationFlip', 0.3]], ['Lp-norm', 0.5, 2]]\n"
     ]
    },
    {
     "data": {
      "application/vnd.jupyter.widget-view+json": {
       "model_id": "ffacc306895649df94916b6f9e02661c",
       "version_major": 2,
       "version_minor": 0
      },
      "text/plain": [
       "Epochs:   0%|          | 0/20 [00:00<?, ?it/s]"
      ]
     },
     "metadata": {},
     "output_type": "display_data"
    },
    {
     "name": "stdout",
     "output_type": "stream",
     "text": [
      "Training Complete After: 133.1327018737793s\n",
      "Accuracy on benign train examples: 77.704%\n",
      "Accuracy on benign test examples: 69.81%\n",
      "Accuracy on adversarial test examples (epsilon = 0.025): 33.38%\n",
      "Accuracy on adversarial test examples (epsilon = 0.05): 18.57%\n",
      "Accuracy on adversarial test examples (epsilon = 0.075): 14.03%\n",
      "Accuracy on adversarial test examples (epsilon = 0.1): 13.21%\n",
      "Training model9.pt with perturbations:\n",
      "[[['Laplacian', 0.1], ['RotationFlip', 0.3]], [['Laplacian', 0.1], ['SaltPepper', 0.05]], ['Lp-norm', 0.5, 2], ['Lp-norm', 0.25, 2]]\n"
     ]
    },
    {
     "data": {
      "application/vnd.jupyter.widget-view+json": {
       "model_id": "49a087492b8a475fb5c353196048d16e",
       "version_major": 2,
       "version_minor": 0
      },
      "text/plain": [
       "Epochs:   0%|          | 0/20 [00:00<?, ?it/s]"
      ]
     },
     "metadata": {},
     "output_type": "display_data"
    },
    {
     "name": "stdout",
     "output_type": "stream",
     "text": [
      "Training Complete After: 194.6463725566864s\n",
      "Accuracy on benign train examples: 83.02000000000001%\n",
      "Accuracy on benign test examples: 70.57%\n",
      "Accuracy on adversarial test examples (epsilon = 0.025): 27.41%\n",
      "Accuracy on adversarial test examples (epsilon = 0.05): 16.24%\n",
      "Accuracy on adversarial test examples (epsilon = 0.075): 14.02%\n",
      "Accuracy on adversarial test examples (epsilon = 0.1): 13.58%\n",
      "Training model10.pt with perturbations:\n",
      "[[['Laplacian', 0.1], ['RotationFlip', 0.3]], [['Laplacian', 0.1], ['SaltPepper', 0.05]], [['Lp-norm', 0.5, inf], ['RotationFlip', 0.3]], ['Lp-norm', 0.5, 2], ['Lp-norm', 0.25, 2], ['Lp-norm', 0.25, 4]]\n"
     ]
    },
    {
     "data": {
      "application/vnd.jupyter.widget-view+json": {
       "model_id": "a9e4dcfec7734752bfe511da7f7c819d",
       "version_major": 2,
       "version_minor": 0
      },
      "text/plain": [
       "Epochs:   0%|          | 0/20 [00:00<?, ?it/s]"
      ]
     },
     "metadata": {},
     "output_type": "display_data"
    },
    {
     "name": "stdout",
     "output_type": "stream",
     "text": [
      "Training Complete After: 210.1992335319519s\n",
      "Accuracy on benign train examples: 83.634%\n",
      "Accuracy on benign test examples: 69.6%\n",
      "Accuracy on adversarial test examples (epsilon = 0.025): 26.25%\n",
      "Accuracy on adversarial test examples (epsilon = 0.05): 16.06%\n",
      "Accuracy on adversarial test examples (epsilon = 0.075): 14.30%\n",
      "Accuracy on adversarial test examples (epsilon = 0.1): 13.65%\n",
      "Training model11.pt with perturbations:\n",
      "[[['Laplacian', 0.1], ['SaltPepper', 0.05]], [['Lp-norm', 0.5, inf], ['SaltPepper', 0.05]]]\n"
     ]
    },
    {
     "data": {
      "application/vnd.jupyter.widget-view+json": {
       "model_id": "8af3be9bca1e447cba1e67705125e0d3",
       "version_major": 2,
       "version_minor": 0
      },
      "text/plain": [
       "Epochs:   0%|          | 0/20 [00:00<?, ?it/s]"
      ]
     },
     "metadata": {},
     "output_type": "display_data"
    },
    {
     "name": "stdout",
     "output_type": "stream",
     "text": [
      "Training Complete After: 149.7066032886505s\n",
      "Accuracy on benign train examples: 83.536%\n",
      "Accuracy on benign test examples: 70.21%\n",
      "Accuracy on adversarial test examples (epsilon = 0.025): 30.82%\n",
      "Accuracy on adversarial test examples (epsilon = 0.05): 16.66%\n",
      "Accuracy on adversarial test examples (epsilon = 0.075): 13.80%\n",
      "Accuracy on adversarial test examples (epsilon = 0.1): 13.03%\n",
      "Training model12.pt with perturbations:\n",
      "[[['Laplacian', 0.1], ['SaltPepper', 0.05]], [['Lp-norm', 0.5, inf], ['SaltPepper', 0.05]], [['Gaussian', 0.1], ['SaltPepper', 0.05]]]\n"
     ]
    },
    {
     "data": {
      "application/vnd.jupyter.widget-view+json": {
       "model_id": "6b40663a6c754746b9cea128edaaa149",
       "version_major": 2,
       "version_minor": 0
      },
      "text/plain": [
       "Epochs:   0%|          | 0/20 [00:00<?, ?it/s]"
      ]
     },
     "metadata": {},
     "output_type": "display_data"
    },
    {
     "name": "stdout",
     "output_type": "stream",
     "text": [
      "Training Complete After: 159.5630795955658s\n",
      "Accuracy on benign train examples: 82.93199999999999%\n",
      "Accuracy on benign test examples: 68.74%\n",
      "Accuracy on adversarial test examples (epsilon = 0.025): 28.37%\n",
      "Accuracy on adversarial test examples (epsilon = 0.05): 16.64%\n",
      "Accuracy on adversarial test examples (epsilon = 0.075): 14.68%\n",
      "Accuracy on adversarial test examples (epsilon = 0.1): 14.31%\n",
      "Training model13.pt with perturbations:\n",
      "[[['Laplacian', 0.1], ['SaltPepper', 0.05]], [['Lp-norm', 0.5, inf], ['SaltPepper', 0.05]], [['Gaussian', 0.1], ['SaltPepper', 0.05]], [['Laplacian', 0.05], ['SaltPepper', 0.05]]]\n"
     ]
    },
    {
     "data": {
      "application/vnd.jupyter.widget-view+json": {
       "model_id": "d2787e6259b44db2881f0a4d5bffb903",
       "version_major": 2,
       "version_minor": 0
      },
      "text/plain": [
       "Epochs:   0%|          | 0/20 [00:00<?, ?it/s]"
      ]
     },
     "metadata": {},
     "output_type": "display_data"
    },
    {
     "name": "stdout",
     "output_type": "stream",
     "text": [
      "Training Complete After: 211.33956360816956s\n",
      "Accuracy on benign train examples: 85.98599999999999%\n",
      "Accuracy on benign test examples: 70.75%\n",
      "Accuracy on adversarial test examples (epsilon = 0.025): 26.92%\n",
      "Accuracy on adversarial test examples (epsilon = 0.05): 15.37%\n",
      "Accuracy on adversarial test examples (epsilon = 0.075): 13.75%\n",
      "Accuracy on adversarial test examples (epsilon = 0.1): 12.54%\n",
      "Training model14.pt with perturbations:\n",
      "[[['Laplacian', 0.1], ['SaltPepper', 0.05]], [['Lp-norm', 0.5, inf], ['SaltPepper', 0.05]], [['Gaussian', 0.1], ['SaltPepper', 0.05]], [['Laplacian', 0.05], ['SaltPepper', 0.05]], [['Laplacian', 0.1], ['RotationFlip', 0.3]]]\n"
     ]
    },
    {
     "data": {
      "application/vnd.jupyter.widget-view+json": {
       "model_id": "4ab4d805abb343a6bc988e4bc1f99681",
       "version_major": 2,
       "version_minor": 0
      },
      "text/plain": [
       "Epochs:   0%|          | 0/20 [00:00<?, ?it/s]"
      ]
     },
     "metadata": {},
     "output_type": "display_data"
    },
    {
     "name": "stdout",
     "output_type": "stream",
     "text": [
      "Training Complete After: 262.84348034858704s\n",
      "Accuracy on benign train examples: 83.506%\n",
      "Accuracy on benign test examples: 70.15%\n",
      "Accuracy on adversarial test examples (epsilon = 0.025): 30.01%\n",
      "Accuracy on adversarial test examples (epsilon = 0.05): 16.44%\n",
      "Accuracy on adversarial test examples (epsilon = 0.075): 14.63%\n",
      "Accuracy on adversarial test examples (epsilon = 0.1): 13.27%\n",
      "Test 0: # Perturbations (2), Time (184.29s), Baseline (67.20%), Adversarial ([eps=0.025:38.73%],[eps=0.05:21.32%],[eps=0.075:16.14%],[eps=0.1:14.77%])\n",
      "Test 1: # Perturbations (3), Time (199.35s), Baseline (66.41%), Adversarial ([eps=0.025:39.23%],[eps=0.05:22.20%],[eps=0.075:16.93%],[eps=0.1:14.86%])\n",
      "Test 2: # Perturbations (4), Time (206.40s), Baseline (65.53%), Adversarial ([eps=0.025:36.96%],[eps=0.05:22.33%],[eps=0.075:16.97%],[eps=0.1:16.09%])\n",
      "Test 3: # Perturbations (5), Time (210.01s), Baseline (67.52%), Adversarial ([eps=0.025:32.76%],[eps=0.05:19.70%],[eps=0.075:16.28%],[eps=0.1:14.05%])\n",
      "Test 4: # Perturbations (2), Time (82.14s), Baseline (72.59%), Adversarial ([eps=0.025:16.54%],[eps=0.05:12.80%],[eps=0.075:11.38%],[eps=0.1:10.18%])\n",
      "Test 5: # Perturbations (3), Time (81.17s), Baseline (72.30%), Adversarial ([eps=0.025:18.95%],[eps=0.05:14.47%],[eps=0.075:13.22%],[eps=0.1:12.28%])\n",
      "Test 6: # Perturbations (4), Time (89.69s), Baseline (72.81%), Adversarial ([eps=0.025:18.18%],[eps=0.05:13.82%],[eps=0.075:12.64%],[eps=0.1:11.36%])\n",
      "Test 7: # Perturbations (5), Time (95.60s), Baseline (72.35%), Adversarial ([eps=0.025:18.44%],[eps=0.05:14.21%],[eps=0.075:12.95%],[eps=0.1:11.47%])\n",
      "Test 8: # Perturbations (2), Time (133.13s), Baseline (69.81%), Adversarial ([eps=0.025:33.38%],[eps=0.05:18.57%],[eps=0.075:14.03%],[eps=0.1:13.21%])\n",
      "Test 9: # Perturbations (4), Time (194.65s), Baseline (70.57%), Adversarial ([eps=0.025:27.41%],[eps=0.05:16.24%],[eps=0.075:14.02%],[eps=0.1:13.58%])\n",
      "Test 10: # Perturbations (6), Time (210.20s), Baseline (69.60%), Adversarial ([eps=0.025:26.25%],[eps=0.05:16.06%],[eps=0.075:14.30%],[eps=0.1:13.65%])\n",
      "Test 11: # Perturbations (2), Time (149.71s), Baseline (70.21%), Adversarial ([eps=0.025:30.82%],[eps=0.05:16.66%],[eps=0.075:13.80%],[eps=0.1:13.03%])\n",
      "Test 12: # Perturbations (3), Time (159.56s), Baseline (68.74%), Adversarial ([eps=0.025:28.37%],[eps=0.05:16.64%],[eps=0.075:14.68%],[eps=0.1:14.31%])\n",
      "Test 13: # Perturbations (4), Time (211.34s), Baseline (70.75%), Adversarial ([eps=0.025:26.92%],[eps=0.05:15.37%],[eps=0.075:13.75%],[eps=0.1:12.54%])\n",
      "Test 14: # Perturbations (5), Time (262.84s), Baseline (70.15%), Adversarial ([eps=0.025:30.01%],[eps=0.05:16.44%],[eps=0.075:14.63%],[eps=0.1:13.27%])\n"
     ]
    }
   ],
   "source": [
    "test_name = \"FRESH_CNN_CIFAR_10_4_IncludeOriginal\"\n",
    "test_history = []\n",
    "epochs = 20\n",
    "batch_size = 64\n",
    "criterion = nn.CrossEntropyLoss()\n",
    "\n",
    "eps_values = [0.025, 0.05, 0.075, 0.1]\n",
    "x_train_numpy = x_train.cpu().numpy()\n",
    "y_train_numpy = y_train.cpu().numpy()\n",
    "x_test_numpy = x_test.cpu().numpy()\n",
    "y_test_numpy = y_test.cpu().numpy()\n",
    "\n",
    "initial_index = len(test_history)\n",
    "\n",
    "for i in range(initial_index, len(all_perturbations)):\n",
    "    perturbations = all_perturbations[i]\n",
    "    model_name = f\"model{initial_index + i}.pt\"\n",
    "    \n",
    "    model = REPClassifier(perturbations)\n",
    "    lr = 0.0001\n",
    "    weight_decay = 0.0001\n",
    "    optimizer = optim.Adam(model.parameters(), lr=lr, weight_decay=weight_decay)\n",
    "    \n",
    "    print(f\"Training {model_name} with perturbations:\")\n",
    "    print(joint_perturbations[i])\n",
    "\n",
    "    # Train model\n",
    "    training_start = time.time()\n",
    "    train_REPClassifier(model, train_dataset, optimizer, criterion, batch_size, epochs)\n",
    "    training_time = time.time() - training_start\n",
    "    torch.save(model.state_dict(), ROOT + \"src/models/\" + test_name + \"/\" + model_name)\n",
    "    print(f\"Training Complete After: {training_time}s\")\n",
    "\n",
    "\n",
    "    # Insert the model into the pytorch classifier from ART to allow for adversarial attack generation\n",
    "    classifier = PyTorchClassifier(\n",
    "        model=model,\n",
    "        clip_values=(min_pixel_value, max_pixel_value),\n",
    "        loss=criterion,\n",
    "        optimizer=optimizer,\n",
    "        input_shape=(3, 32, 32),\n",
    "        nb_classes=num_classes,\n",
    "    )\n",
    "\n",
    "    # Evaluate on benign examples\n",
    "    with torch.no_grad():\n",
    "        train_predictions = classifier.predict(x_train_numpy)\n",
    "        baseline_train_accuracy = np.sum(np.argmax(train_predictions, axis=1) == np.argmax(y_train_numpy, axis=1)) / len(y_train_numpy)\n",
    "        print(\"Accuracy on benign train examples: {}%\".format(baseline_train_accuracy * 100))\n",
    "        \n",
    "        test_predictions = classifier.predict(x_test_numpy)\n",
    "        baseline_test_accuracy = np.sum(np.argmax(test_predictions, axis=1) == np.argmax(y_test_numpy, axis=1)) / len(y_test_numpy)\n",
    "        print(\"Accuracy on benign test examples: {}%\".format(baseline_test_accuracy * 100))\n",
    "    \n",
    "    test_history.append({\n",
    "        'perturbations': joint_perturbations[i],\n",
    "        'include_original': perturbations.get_include_original(),\n",
    "        'shuffle': perturbations.get_shuffle(),\n",
    "        'loss': criterion,\n",
    "        'lr': lr,\n",
    "        'weight_decay': weight_decay,\n",
    "        'batch_size': batch_size,\n",
    "        'epochs': epochs,\n",
    "        'training_time': training_time,\n",
    "        'baseline_train_accuracy': baseline_train_accuracy,\n",
    "        'baseline_test_accuracy': baseline_test_accuracy,\n",
    "        })\n",
    "\n",
    "    # Evaluate against FGSM\n",
    "    for eps in eps_values:\n",
    "        attack = FastGradientMethod(estimator=classifier, eps=eps)\n",
    "        x_test_adv = attack.generate(x=x_test_numpy)\n",
    "        with torch.no_grad():\n",
    "            predictions = classifier.predict(x_test_adv)\n",
    "            adversarial_accuracy = np.sum(np.argmax(predictions, axis=1) == np.argmax(y_test_numpy, axis=1)) / len(y_test_numpy)\n",
    "            print(f\"Accuracy on adversarial test examples (epsilon = {eps}): {adversarial_accuracy * 100:.2f}%\")\n",
    "        test_history[initial_index + i][f\"adversarial_accuracy_eps={eps}\"] = adversarial_accuracy\n",
    "display_test_history(test_history, eps_values)"
   ]
  },
  {
   "cell_type": "code",
   "execution_count": 13,
   "metadata": {},
   "outputs": [
    {
     "name": "stdout",
     "output_type": "stream",
     "text": [
      "Data saved to ../../notebooks/experiment_log/FRESH_CNN_CIFAR_10_4_IncludeOriginal.csv successfully.\n"
     ]
    }
   ],
   "source": [
    "save_to_csv(test_history, ROOT + \"notebooks/experiment_log/\" + test_name + \".csv\")"
   ]
  }
 ],
 "metadata": {
  "kernelspec": {
   "display_name": "REP",
   "language": "python",
   "name": "python3"
  },
  "language_info": {
   "codemirror_mode": {
    "name": "ipython",
    "version": 3
   },
   "file_extension": ".py",
   "mimetype": "text/x-python",
   "name": "python",
   "nbconvert_exporter": "python",
   "pygments_lexer": "ipython3",
   "version": "3.10.12"
  }
 },
 "nbformat": 4,
 "nbformat_minor": 2
}
