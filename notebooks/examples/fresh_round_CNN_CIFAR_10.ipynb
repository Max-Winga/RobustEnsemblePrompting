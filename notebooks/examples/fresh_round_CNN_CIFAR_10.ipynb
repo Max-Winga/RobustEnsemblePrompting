{
 "cells": [
  {
   "cell_type": "code",
   "execution_count": 1,
   "metadata": {},
   "outputs": [],
   "source": [
    "import numpy as np\n",
    "import matplotlib.pyplot as plt\n",
    "import torch\n",
    "import torch.nn as nn\n",
    "import torch.optim as optim\n",
    "import time\n",
    "\n",
    "import sys\n",
    "ROOT = \"../../\"\n",
    "sys.path.append(ROOT) # Add root directory to path\n",
    "\n",
    "from src.utils.perturbations import *\n",
    "\n",
    "from art.attacks.evasion import FastGradientMethod\n",
    "from art.estimators.classification import PyTorchClassifier\n",
    "from torchvision import datasets, transforms\n",
    "from torch.utils.data import DataLoader, TensorDataset, Dataset"
   ]
  },
  {
   "cell_type": "code",
   "execution_count": 2,
   "metadata": {},
   "outputs": [
    {
     "name": "stdout",
     "output_type": "stream",
     "text": [
      "Files already downloaded and verified\n",
      "Files already downloaded and verified\n"
     ]
    }
   ],
   "source": [
    "# Step 1: Load the CIFAR-10 dataset\n",
    "trainset = datasets.CIFAR10(root='./data', train=True, download=True, transform=transforms.ToTensor())\n",
    "testset = datasets.CIFAR10(root='./data', train=False, download=True, transform=transforms.ToTensor())\n",
    "num_classes = 10"
   ]
  },
  {
   "cell_type": "code",
   "execution_count": 3,
   "metadata": {},
   "outputs": [],
   "source": [
    "x_train = trainset.data / 255.0  # Scale pixel values to [0, 1]\n",
    "y_train = np.array(trainset.targets)\n",
    "x_test = testset.data / 255.0  # Scale pixel values to [0, 1]\n",
    "y_test = np.array(testset.targets)\n",
    "\n",
    "x_train = np.transpose(x_train, (0, 3, 1, 2)).astype(np.float32)\n",
    "x_test = np.transpose(x_test, (0, 3, 1, 2)).astype(np.float32)\n",
    "\n",
    "y_train = np.eye(num_classes)[y_train].astype(np.float32)\n",
    "y_test = np.eye(num_classes)[y_test].astype(np.float32)\n",
    "\n",
    "min_pixel_value = 0.0\n",
    "max_pixel_value = 1.0"
   ]
  },
  {
   "cell_type": "code",
   "execution_count": 4,
   "metadata": {},
   "outputs": [],
   "source": [
    "device = torch.device(\"cuda\" if torch.cuda.is_available() else \"cpu\")\n",
    "\n",
    "x_train = torch.from_numpy(x_train).to(device)\n",
    "y_train = torch.from_numpy(y_train).to(device)\n",
    "\n",
    "x_test = torch.from_numpy(x_test).to(device)\n",
    "y_test = torch.from_numpy(y_test).to(device)"
   ]
  },
  {
   "cell_type": "code",
   "execution_count": 5,
   "metadata": {},
   "outputs": [],
   "source": [
    "class SimpleDataset(Dataset):\n",
    "    def __init__(self, x, y):\n",
    "        self.x = x\n",
    "        self.y = y\n",
    "\n",
    "    def __len__(self):\n",
    "        return len(self.x)\n",
    "\n",
    "    def __getitem__(self, idx):\n",
    "        return self.x[idx], self.y[idx]\n",
    "\n",
    "train_dataset = SimpleDataset(x_train, y_train)\n",
    "test_dataset = SimpleDataset(x_test, y_test)"
   ]
  },
  {
   "cell_type": "code",
   "execution_count": 27,
   "metadata": {},
   "outputs": [],
   "source": [
    "test_history = []\n",
    "\n",
    "def display_test_history(test_history, eps_values):\n",
    "    for i in range(len(test_history)):\n",
    "        test = test_history[i]\n",
    "        num_p = len(test['perturbations'])\n",
    "        training_time = test['training_time']\n",
    "\n",
    "        baseline = test['baseline_test_accuracy']\n",
    "        adv_str = \"\"\n",
    "        for eps in eps_values:\n",
    "            adv_acc = test[f'adversarial_accuracy_eps={eps}']\n",
    "            adv_str += f\"[eps={eps}:{adv_acc*100:.2f}%],\"\n",
    "        adv_str = adv_str[:-1]\n",
    "        print(f\"Test {i}: # Perturbations ({num_p}), Time ({training_time:.2f}s), Baseline ({baseline*100:.2f}%), Adversarial ({adv_str})\")"
   ]
  },
  {
   "cell_type": "code",
   "execution_count": 7,
   "metadata": {},
   "outputs": [],
   "source": [
    "class Perturbations():\n",
    "    def __init__(self, perturbations, include_original=False, shuffle=True):\n",
    "        self.perturbations = perturbations\n",
    "        self.multiplicity = len(perturbations) + int(include_original)\n",
    "        self.shuffle = shuffle\n",
    "        self.include_original = include_original\n",
    "    \n",
    "    def __getitem__(self, idx):\n",
    "        return self.perturbations[idx]\n",
    "    \n",
    "    def __len__(self):\n",
    "        return len(self.perturbations)\n",
    "\n",
    "    def get_multiplicity(self):\n",
    "        if len(self.perturbations) == 0 and not self.include_original:\n",
    "            return 1\n",
    "        return self.multiplicity\n",
    "        \n",
    "    def get_include_original(self):\n",
    "        return len(self.perturbations) == 0 or self.include_original\n",
    "    \n",
    "    def get_shuffle(self):\n",
    "        return self.shuffle\n",
    "\n",
    "    def add_perturbation(self, perturbation):\n",
    "        if type(perturbation) == list:\n",
    "            self.perturbations.append(perturbation[0])\n",
    "        else:\n",
    "            self.perturbations.append(perturbation)\n",
    "        self.multiplicity = len(self.perturbations) + int(self.include_original)"
   ]
  },
  {
   "cell_type": "code",
   "execution_count": 8,
   "metadata": {},
   "outputs": [],
   "source": [
    "class REPClassifier(nn.Module):\n",
    "    def __init__(self, perturbations):\n",
    "        super(REPClassifier, self).__init__()\n",
    "        self.device = torch.device(\"cuda\" if torch.cuda.is_available() else \"cpu\")\n",
    "\n",
    "        self.perturbations = perturbations\n",
    "        self.multiplicity = perturbations.get_multiplicity()\n",
    "        self.include_original = perturbations.get_include_original()\n",
    "        self.shuffle = perturbations.get_shuffle()\n",
    "\n",
    "        self.conv1 = nn.Conv2d(3*self.multiplicity, 96, kernel_size=5, padding=2)\n",
    "        self.maxpool1 = nn.MaxPool2d(kernel_size=(2, 2))\n",
    "\n",
    "        self.conv2 = nn.Conv2d(96, 96, kernel_size=5, padding=2)\n",
    "        self.maxpool2 = nn.MaxPool2d(kernel_size=(2, 2))\n",
    "\n",
    "        self.conv3 = nn.Conv2d(96, 80, kernel_size=5, padding=2)\n",
    "        self.conv4 = nn.Conv2d(80, 64, kernel_size=5, padding=2)\n",
    "        self.conv5 = nn.Conv2d(64, 64, kernel_size=5, padding=2)\n",
    "        self.conv6 = nn.Conv2d(64, 96, kernel_size=5, padding=2)\n",
    "        self.global_pool = nn.AdaptiveMaxPool2d((2, 2))\n",
    "\n",
    "        self.fc1 = nn.Linear(96*2*2, 256)\n",
    "        self.nonlinearity1 = nn.ReLU()\n",
    "        self.fc2 = nn.Linear(256, 10)\n",
    "        self.to(self.device)\n",
    "\n",
    "    def forward(self, x):\n",
    "        x = x.to(self.device) # shape = (Batch, Color Channels, Height, Width)\n",
    "        if x.dim() == 3:\n",
    "            x = x.unsqueeze(0)\n",
    "        B = x.size(0)\n",
    "\n",
    "        # Apply perturbations\n",
    "        layers = []\n",
    "        if self.include_original:\n",
    "            layers.append(x)\n",
    "        for perturbation in self.perturbations:\n",
    "            layers.append(perturbation(x))\n",
    "        if self.shuffle:\n",
    "            permutation = torch.randperm(len(layers))\n",
    "            layers = [layers[i] for i in permutation]\n",
    "        x = torch.cat(layers, dim=1) # stack along color channel dimension -> shape = (Batch, Color Channels x Multiplicity, H, W)\n",
    "\n",
    "        x = self.conv1(x)\n",
    "        x = self.maxpool1(x)\n",
    "\n",
    "        x = self.conv2(x)\n",
    "        x = self.maxpool2(x)\n",
    "\n",
    "        x = self.conv3(x)\n",
    "        x = self.conv4(x)\n",
    "        x = self.conv5(x)\n",
    "        x = self.conv6(x)\n",
    "        x = self.global_pool(x)\n",
    "        x = x.view(B, -1)\n",
    "\n",
    "        x = self.fc1(x)\n",
    "        x = self.nonlinearity1(x)\n",
    "        x = self.fc2(x)\n",
    "        return x"
   ]
  },
  {
   "cell_type": "code",
   "execution_count": 9,
   "metadata": {},
   "outputs": [],
   "source": [
    "from tqdm.auto import tqdm\n",
    "\n",
    "def train_REPClassifier(model, dataset, optimizer, criterion, batch_size, epochs, test_dataset=None, verbose=True):\n",
    "    dataloader = DataLoader(dataset, batch_size, shuffle=True, num_workers=0)\n",
    "    test_accuracy_history = []\n",
    "    test_loss_history = []\n",
    "    for _ in tqdm(range(epochs), disable=not verbose, desc=\"Epochs\"):\n",
    "        for x_batch, y_batch in dataloader:            \n",
    "            # Zero the parameter gradients\n",
    "            optimizer.zero_grad()\n",
    "\n",
    "            # Perform prediction\n",
    "            model_outputs = model(x_batch)\n",
    "\n",
    "            y_batch = y_batch.squeeze(1)\n",
    "            predictions = model_outputs.squeeze(1)\n",
    "            \n",
    "            loss = criterion(predictions, y_batch)\n",
    "\n",
    "            # Do training\n",
    "            loss.backward()\n",
    "\n",
    "            optimizer.step()\n",
    "        if test_dataset:\n",
    "            with torch.no_grad():\n",
    "                x_test = test_dataset.x\n",
    "                y_test = test_dataset.y\n",
    "                test_outputs = model(x_test)\n",
    "                test_predictions = test_outputs.squeeze(1)\n",
    "                y_test = y_test.squeeze(1)\n",
    "\n",
    "                test_loss = criterion(test_predictions, y_test)\n",
    "                test_loss_history.append(test_loss.item().cpu().numpy())\n",
    "\n",
    "                test_accuracy = torch.sum(torch.argmax(test_outputs, axis=1) == torch.argmax(y_test, axis=1)) / len(x_test)\n",
    "                test_accuracy_history.append(test_accuracy.cpu())\n",
    "    return test_accuracy_history, test_loss_history"
   ]
  },
  {
   "cell_type": "markdown",
   "metadata": {},
   "source": [
    "# Test Single Model"
   ]
  },
  {
   "cell_type": "code",
   "execution_count": 10,
   "metadata": {},
   "outputs": [],
   "source": [
    "# perturbation_descriptions = [[\"Gaussian\", 0.05], [\"Laplacian\", 0.05]]\n",
    "# perturbation_descriptions = [[\"Gaussian\", 0.05]]\n",
    "perturbation_descriptions = []\n",
    "perturbation_functions = create_perturbations(perturbation_descriptions)\n",
    "\n",
    "perturbations = Perturbations(perturbation_functions)"
   ]
  },
  {
   "cell_type": "code",
   "execution_count": 11,
   "metadata": {},
   "outputs": [],
   "source": [
    "model = REPClassifier(perturbations)"
   ]
  },
  {
   "cell_type": "code",
   "execution_count": 15,
   "metadata": {},
   "outputs": [],
   "source": [
    "load_trained_model = True\n",
    "model_name = \"model1.pt\"\n",
    "optimizer = optim.Adam(model.parameters(), lr=0.0001, weight_decay=0.0001)\n",
    "criterion = nn.CrossEntropyLoss()\n",
    "batch_size = 64\n",
    "epochs = 20\n",
    "\n",
    "if load_trained_model:\n",
    "    state_dict = torch.load(ROOT + \"src/models/\" + model_name)\n",
    "    model.load_state_dict(state_dict)\n",
    "else:\n",
    "    accuracy, loss = train_REPClassifier(model, train_dataset, optimizer, criterion, batch_size, epochs)\n",
    "    torch.save(model.state_dict(), ROOT + \"src/models/\" + model_name)"
   ]
  },
  {
   "cell_type": "code",
   "execution_count": 37,
   "metadata": {},
   "outputs": [
    {
     "data": {
      "image/png": "[encoded data removed]",
      "text/plain": [
       "<Figure size 640x480 with 2 Axes>"
      ]
     },
     "metadata": {},
     "output_type": "display_data"
    }
   ],
   "source": [
    "fig, axs = plt.subplots(1, 2)\n",
    "axs[0].plot(loss, label=\"Loss\")\n",
    "axs[0].set_title(\"Loss\")\n",
    "axs[1].plot(accuracy, label=\"Accuracy\")\n",
    "axs[1].set_ylim(0, 1)\n",
    "axs[1].set_title(\"Accuracy\")\n",
    "plt.show()"
   ]
  },
  {
   "cell_type": "code",
   "execution_count": 13,
   "metadata": {},
   "outputs": [
    {
     "name": "stdout",
     "output_type": "stream",
     "text": [
      "Train Acc: 0.8758333325386047, Test Acc: 0.7216999530792236\n"
     ]
    }
   ],
   "source": [
    "with torch.no_grad():\n",
    "    train_accuracy = torch.sum(torch.argmax(model(x_train[:1200]), axis=1) == torch.argmax(y_train[:1200], axis=1)) / len(x_train[:1200])\n",
    "    test_accuracy = torch.sum(torch.argmax(model(x_test), axis=1) == torch.argmax(y_test, axis=1)) / len(x_test)\n",
    "    print(f\"Train Acc: {train_accuracy}, Test Acc: {test_accuracy}\")"
   ]
  },
  {
   "cell_type": "code",
   "execution_count": 17,
   "metadata": {},
   "outputs": [
    {
     "name": "stdout",
     "output_type": "stream",
     "text": [
      "Accuracy on benign test examples: 72.17%\n",
      "Accuracy on adversarial test examples (epsilon = 0.025): 18.83%\n",
      "Accuracy on adversarial test examples (epsilon = 0.05): 13.77%\n",
      "Accuracy on adversarial test examples (epsilon = 0.075): 11.99%\n",
      "Accuracy on adversarial test examples (epsilon = 0.1): 10.59%\n"
     ]
    }
   ],
   "source": [
    "classifier = PyTorchClassifier(\n",
    "        model=model,\n",
    "        clip_values=(min_pixel_value, max_pixel_value),\n",
    "        loss=criterion,\n",
    "        optimizer=optimizer,\n",
    "        input_shape=(3, 28, 28),\n",
    "        nb_classes=num_classes,\n",
    "    )\n",
    "\n",
    "x_test_numpy = x_test.cpu().numpy()\n",
    "y_test_numpy = y_test.cpu().numpy()\n",
    "with torch.no_grad():\n",
    "    # Step 5: Evaluate the ART classifier on benign test examples\n",
    "    predictions = classifier.predict(x_test_numpy)\n",
    "    baseline_accuracy = np.sum(np.argmax(predictions, axis=1) == np.argmax(y_test_numpy, axis=1)) / len(y_test)\n",
    "    print(\"Accuracy on benign test examples: {}%\".format(baseline_accuracy * 100))\n",
    "\n",
    "# Step 6: Generate adversarial test examples\n",
    "attack = FastGradientMethod(estimator=classifier, eps=0.025)\n",
    "x_test_adv1 = attack.generate(x=x_test_numpy)\n",
    "with torch.no_grad():\n",
    "    predictions = classifier.predict(x_test_adv1)\n",
    "    adversarial_accuracy1 = np.sum(np.argmax(predictions, axis=1) == np.argmax(y_test_numpy, axis=1)) / len(y_test)\n",
    "    print(\"Accuracy on adversarial test examples (epsilon = 0.025): {}%\".format(adversarial_accuracy1 * 100))\n",
    "\n",
    "attack = FastGradientMethod(estimator=classifier, eps=0.05)\n",
    "x_test_adv2 = attack.generate(x=x_test_numpy)\n",
    "with torch.no_grad():\n",
    "    predictions = classifier.predict(x_test_adv2)\n",
    "    adversarial_accuracy2 = np.sum(np.argmax(predictions, axis=1) == np.argmax(y_test_numpy, axis=1)) / len(y_test)\n",
    "    print(\"Accuracy on adversarial test examples (epsilon = 0.05): {}%\".format(adversarial_accuracy2 * 100))\n",
    "\n",
    "attack = FastGradientMethod(estimator=classifier, eps=0.075)\n",
    "x_test_adv3 = attack.generate(x=x_test_numpy)\n",
    "with torch.no_grad():\n",
    "    predictions = classifier.predict(x_test_adv3)\n",
    "    adversarial_accuracy3 = np.sum(np.argmax(predictions, axis=1) == np.argmax(y_test_numpy, axis=1)) / len(y_test)\n",
    "    print(\"Accuracy on adversarial test examples (epsilon = 0.075): {}%\".format(adversarial_accuracy3 * 100))\n",
    "\n",
    "attack = FastGradientMethod(estimator=classifier, eps=0.1)\n",
    "x_test_adv4 = attack.generate(x=x_test_numpy)\n",
    "with torch.no_grad():\n",
    "    predictions = classifier.predict(x_test_adv4)\n",
    "    adversarial_accuracy4 = np.sum(np.argmax(predictions, axis=1) == np.argmax(y_test_numpy, axis=1)) / len(y_test)\n",
    "    print(\"Accuracy on adversarial test examples (epsilon = 0.1): {}%\".format(adversarial_accuracy4 * 100))"
   ]
  },
  {
   "cell_type": "markdown",
   "metadata": {},
   "source": [
    "# Test Multiple Models"
   ]
  },
  {
   "cell_type": "code",
   "execution_count": 16,
   "metadata": {},
   "outputs": [],
   "source": [
    "perturbation_descriptions = [\n",
    "    [],\n",
    "    [[\"Identity\"], [\"Identity\"]],\n",
    "    [[\"Identity\"], [\"Identity\"], [\"Identity\"]],\n",
    "    [[\"RotationFlip\", 0.3]],\n",
    "    [[\"SaltPepper\", 0.05]],\n",
    "    [[[\"RotationFlip\", 0.3], [\"SaltPepper\", 0.05]]],\n",
    "    [[\"RotationFlip\", 0.3], [\"SaltPepper\", 0.05]],\n",
    "    [[\"Lp-norm\", 0.05, 1], [\"Lp-norm\", 0.05, 2], [\"Lp-norm\", 0.05, 3], [\"Lp-norm\", 0.05, 4], [\"Lp-norm\", 0.05, float('inf')]],\n",
    "    [[\"Lp-norm\", 0.05, 11], [\"Lp-norm\", 0.05, 12], [\"Lp-norm\", 0.05, 13], [\"Lp-norm\", 0.05, 14], [\"Lp-norm\", 0.05, float('inf')]],\n",
    "    [[\"Lp-norm\", 0.1, 1], [\"Lp-norm\", 0.1, 2], [\"Lp-norm\", 0.1, 3], [\"Lp-norm\", 0.1, 4], [\"Lp-norm\", 0.1, float('inf')]],\n",
    "    [[\"Lp-norm\", 0.1, 11], [\"Lp-norm\", 0.1, 12], [\"Lp-norm\", 0.1, 13], [\"Lp-norm\", 0.1, 14], [\"Lp-norm\", 0.1, float('inf')]],\n",
    "    [[[\"Lp-norm\", 0.1, 1],[\"RotationFlip\", 0.3]], [[\"Lp-norm\", 0.1, 2],[\"RotationFlip\", 0.3]], [[\"Lp-norm\", 0.1, 3],[\"RotationFlip\", 0.3]], [[\"Lp-norm\", 0.1, 4],[\"RotationFlip\", 0.3]], [[\"Lp-norm\", 0.1, float('inf')],[\"RotationFlip\", 0.3]]],\n",
    "    [[[\"Lp-norm\", 0.1, 1],[\"RotationFlip\", 0.3]], [[\"Lp-norm\", 0.1, 2],[\"RotationFlip\", 0.3]], [[\"Lp-norm\", 0.1, 3],[\"RotationFlip\", 0.3]], [[\"Lp-norm\", 0.1, 4],[\"RotationFlip\", 0.3]], [[\"Lp-norm\", 0.1, float('inf')],[\"RotationFlip\", 0.3]], [[\"Lp-norm\", 0.1, 1],[\"RotationFlip\", 0.3]], [[\"Lp-norm\", 0.1, 2],[\"RotationFlip\", 0.3]], [[\"Lp-norm\", 0.1, 3],[\"RotationFlip\", 0.3]], [[\"Lp-norm\", 0.1, 4],[\"RotationFlip\", 0.3]], [[\"Lp-norm\", 0.1, float('inf')],[\"RotationFlip\", 0.3]]],\n",
    "    [[[\"Lp-norm\", 0.1, 1],[\"SaltPepper\", 0.05]], [[\"Lp-norm\", 0.1, 2],[\"SaltPepper\", 0.05]], [[\"Lp-norm\", 0.1, 3],[\"SaltPepper\", 0.05]], [[\"Lp-norm\", 0.1, 4],[\"SaltPepper\", 0.05]], [[\"Lp-norm\", 0.1, float('inf')],[\"SaltPepper\", 0.05]]],\n",
    "    [[[\"Lp-norm\", 0.1, 1],[\"SaltPepper\", 0.05]], [[\"Lp-norm\", 0.1, 2],[\"SaltPepper\", 0.05]], [[\"Lp-norm\", 0.1, 3],[\"SaltPepper\", 0.05]], [[\"Lp-norm\", 0.1, 4],[\"SaltPepper\", 0.05]], [[\"Lp-norm\", 0.1, float('inf')],[\"SaltPepper\", 0.05]], [[\"Lp-norm\", 0.1, 1],[\"SaltPepper\", 0.05]], [[\"Lp-norm\", 0.1, 2],[\"SaltPepper\", 0.05]], [[\"Lp-norm\", 0.1, 3],[\"SaltPepper\", 0.05]], [[\"Lp-norm\", 0.1, 4],[\"SaltPepper\", 0.05]], [[\"Lp-norm\", 0.1, float('inf')],[\"SaltPepper\", 0.05]]],\n",
    "    [[[\"Lp-norm\", 0.1, 1],[\"RotationFlip\", 0.3]], [[\"Lp-norm\", 0.1, 2],[\"RotationFlip\", 0.3]], [[\"Lp-norm\", 0.1, 3],[\"RotationFlip\", 0.3]], [[\"Lp-norm\", 0.1, 4],[\"RotationFlip\", 0.3]], [[\"Lp-norm\", 0.1, float('inf')],[\"RotationFlip\", 0.3]], [[\"Lp-norm\", 0.1, 1],[\"SaltPepper\", 0.05]], [[\"Lp-norm\", 0.1, 2],[\"SaltPepper\", 0.05]], [[\"Lp-norm\", 0.1, 3],[\"SaltPepper\", 0.05]], [[\"Lp-norm\", 0.1, 4],[\"SaltPepper\", 0.05]], [[\"Lp-norm\", 0.1, float('inf')],[\"SaltPepper\", 0.05]]],\n",
    "    ]\n",
    "\n",
    "all_perturbations = [Perturbations(create_perturbations(perturbation_description)) for perturbation_description in perturbation_descriptions]"
   ]
  },
  {
   "cell_type": "code",
   "execution_count": 30,
   "metadata": {},
   "outputs": [
    {
     "name": "stdout",
     "output_type": "stream",
     "text": [
      "Training model0.pt with perturbations:\n",
      "[]\n"
     ]
    },
    {
     "data": {
      "application/vnd.jupyter.widget-view+json": {
       "model_id": "05e3c5f7c651499da99f5215260daf86",
       "version_major": 2,
       "version_minor": 0
      },
      "text/plain": [
       "Epochs:   0%|          | 0/20 [00:00<?, ?it/s]"
      ]
     },
     "metadata": {},
     "output_type": "display_data"
    },
    {
     "name": "stdout",
     "output_type": "stream",
     "text": [
      "Training Complete After: 59.230708360672s\n",
      "Accuracy on benign train examples: 87.20599999999999%\n",
      "Accuracy on benign test examples: 73.04%\n",
      "Accuracy on adversarial test examples (epsilon = 0.025): 17.93%\n",
      "Accuracy on adversarial test examples (epsilon = 0.5): 8.42%\n",
      "Accuracy on adversarial test examples (epsilon = 0.75): 9.08%\n",
      "Accuracy on adversarial test examples (epsilon = 0.1): 10.81%\n",
      "Training model1.pt with perturbations:\n",
      "[['Identity'], ['Identity']]\n"
     ]
    },
    {
     "data": {
      "application/vnd.jupyter.widget-view+json": {
       "model_id": "41b3f2ce172e4df78133c46011fb877c",
       "version_major": 2,
       "version_minor": 0
      },
      "text/plain": [
       "Epochs:   0%|          | 0/20 [00:00<?, ?it/s]"
      ]
     },
     "metadata": {},
     "output_type": "display_data"
    },
    {
     "name": "stdout",
     "output_type": "stream",
     "text": [
      "Training Complete After: 59.95062565803528s\n",
      "Accuracy on benign train examples: 87.488%\n",
      "Accuracy on benign test examples: 73.04%\n",
      "Accuracy on adversarial test examples (epsilon = 0.025): 17.64%\n",
      "Accuracy on adversarial test examples (epsilon = 0.5): 10.17%\n",
      "Accuracy on adversarial test examples (epsilon = 0.75): 10.50%\n",
      "Accuracy on adversarial test examples (epsilon = 0.1): 11.27%\n",
      "Training model2.pt with perturbations:\n",
      "[['Identity'], ['Identity'], ['Identity']]\n"
     ]
    },
    {
     "data": {
      "application/vnd.jupyter.widget-view+json": {
       "model_id": "b1aad9e7f83a44c1ab5602d29b05f803",
       "version_major": 2,
       "version_minor": 0
      },
      "text/plain": [
       "Epochs:   0%|          | 0/20 [00:00<?, ?it/s]"
      ]
     },
     "metadata": {},
     "output_type": "display_data"
    },
    {
     "name": "stdout",
     "output_type": "stream",
     "text": [
      "Training Complete After: 67.46201491355896s\n",
      "Accuracy on benign train examples: 88.454%\n",
      "Accuracy on benign test examples: 72.92999999999999%\n",
      "Accuracy on adversarial test examples (epsilon = 0.025): 16.90%\n",
      "Accuracy on adversarial test examples (epsilon = 0.5): 9.19%\n",
      "Accuracy on adversarial test examples (epsilon = 0.75): 9.90%\n",
      "Accuracy on adversarial test examples (epsilon = 0.1): 10.93%\n",
      "Training model3.pt with perturbations:\n",
      "[['RotationFlip', 0.3]]\n"
     ]
    },
    {
     "data": {
      "application/vnd.jupyter.widget-view+json": {
       "model_id": "4d8affd9419d4f9590be89b02e3ac4f7",
       "version_major": 2,
       "version_minor": 0
      },
      "text/plain": [
       "Epochs:   0%|          | 0/20 [00:00<?, ?it/s]"
      ]
     },
     "metadata": {},
     "output_type": "display_data"
    },
    {
     "name": "stdout",
     "output_type": "stream",
     "text": [
      "Training Complete After: 70.21249675750732s\n",
      "Accuracy on benign train examples: 70.238%\n",
      "Accuracy on benign test examples: 65.86999999999999%\n",
      "Accuracy on adversarial test examples (epsilon = 0.025): 38.79%\n",
      "Accuracy on adversarial test examples (epsilon = 0.5): 9.74%\n",
      "Accuracy on adversarial test examples (epsilon = 0.75): 10.45%\n",
      "Accuracy on adversarial test examples (epsilon = 0.1): 14.78%\n",
      "Training model4.pt with perturbations:\n",
      "[['SaltPepper', 0.05]]\n"
     ]
    },
    {
     "data": {
      "application/vnd.jupyter.widget-view+json": {
       "model_id": "a7dff4eb91574c769d29fd971f2a3a9d",
       "version_major": 2,
       "version_minor": 0
      },
      "text/plain": [
       "Epochs:   0%|          | 0/20 [00:00<?, ?it/s]"
      ]
     },
     "metadata": {},
     "output_type": "display_data"
    },
    {
     "name": "stdout",
     "output_type": "stream",
     "text": [
      "Training Complete After: 72.56822204589844s\n",
      "Accuracy on benign train examples: 80.262%\n",
      "Accuracy on benign test examples: 67.96%\n",
      "Accuracy on adversarial test examples (epsilon = 0.025): 39.15%\n",
      "Accuracy on adversarial test examples (epsilon = 0.5): 8.35%\n",
      "Accuracy on adversarial test examples (epsilon = 0.75): 8.82%\n",
      "Accuracy on adversarial test examples (epsilon = 0.1): 14.75%\n",
      "Training model5.pt with perturbations:\n",
      "[[['RotationFlip', 0.3], ['SaltPepper', 0.05]]]\n"
     ]
    },
    {
     "data": {
      "application/vnd.jupyter.widget-view+json": {
       "model_id": "b729b6fefb0c43a69c0e75094b91922e",
       "version_major": 2,
       "version_minor": 0
      },
      "text/plain": [
       "Epochs:   0%|          | 0/20 [00:00<?, ?it/s]"
      ]
     },
     "metadata": {},
     "output_type": "display_data"
    },
    {
     "name": "stdout",
     "output_type": "stream",
     "text": [
      "Training Complete After: 82.84572124481201s\n",
      "Accuracy on benign train examples: 64.614%\n",
      "Accuracy on benign test examples: 61.419999999999995%\n",
      "Accuracy on adversarial test examples (epsilon = 0.025): 47.02%\n",
      "Accuracy on adversarial test examples (epsilon = 0.5): 11.10%\n",
      "Accuracy on adversarial test examples (epsilon = 0.75): 11.31%\n",
      "Accuracy on adversarial test examples (epsilon = 0.1): 21.74%\n",
      "Training model6.pt with perturbations:\n",
      "[['RotationFlip', 0.3], ['SaltPepper', 0.05]]\n"
     ]
    },
    {
     "data": {
      "application/vnd.jupyter.widget-view+json": {
       "model_id": "354f48747f9d405ba884943862d3c754",
       "version_major": 2,
       "version_minor": 0
      },
      "text/plain": [
       "Epochs:   0%|          | 0/20 [00:00<?, ?it/s]"
      ]
     },
     "metadata": {},
     "output_type": "display_data"
    },
    {
     "name": "stdout",
     "output_type": "stream",
     "text": [
      "Training Complete After: 92.04742431640625s\n",
      "Accuracy on benign train examples: 70.182%\n",
      "Accuracy on benign test examples: 65.68%\n",
      "Accuracy on adversarial test examples (epsilon = 0.025): 42.44%\n",
      "Accuracy on adversarial test examples (epsilon = 0.5): 9.55%\n",
      "Accuracy on adversarial test examples (epsilon = 0.75): 10.19%\n",
      "Accuracy on adversarial test examples (epsilon = 0.1): 17.71%\n",
      "Training model7.pt with perturbations:\n",
      "[['Lp-norm', 0.05, 1], ['Lp-norm', 0.05, 2], ['Lp-norm', 0.05, 3], ['Lp-norm', 0.05, 4], ['Lp-norm', 0.05, inf]]\n"
     ]
    },
    {
     "data": {
      "application/vnd.jupyter.widget-view+json": {
       "model_id": "e0b60365ba7e42f39c15a12ec59b74e1",
       "version_major": 2,
       "version_minor": 0
      },
      "text/plain": [
       "Epochs:   0%|          | 0/20 [00:00<?, ?it/s]"
      ]
     },
     "metadata": {},
     "output_type": "display_data"
    },
    {
     "name": "stdout",
     "output_type": "stream",
     "text": [
      "Training Complete After: 79.40236783027649s\n",
      "Accuracy on benign train examples: 88.29599999999999%\n",
      "Accuracy on benign test examples: 73.94%\n",
      "Accuracy on adversarial test examples (epsilon = 0.025): 17.39%\n",
      "Accuracy on adversarial test examples (epsilon = 0.5): 10.04%\n",
      "Accuracy on adversarial test examples (epsilon = 0.75): 11.36%\n",
      "Accuracy on adversarial test examples (epsilon = 0.1): 11.55%\n",
      "Training model8.pt with perturbations:\n",
      "[['Lp-norm', 0.05, 11], ['Lp-norm', 0.05, 12], ['Lp-norm', 0.05, 13], ['Lp-norm', 0.05, 14], ['Lp-norm', 0.05, inf]]\n"
     ]
    },
    {
     "data": {
      "application/vnd.jupyter.widget-view+json": {
       "model_id": "13f2fe5e18694f07aa135c0072b2ff23",
       "version_major": 2,
       "version_minor": 0
      },
      "text/plain": [
       "Epochs:   0%|          | 0/20 [00:00<?, ?it/s]"
      ]
     },
     "metadata": {},
     "output_type": "display_data"
    },
    {
     "name": "stdout",
     "output_type": "stream",
     "text": [
      "Training Complete After: 76.59738492965698s\n",
      "Accuracy on benign train examples: 87.712%\n",
      "Accuracy on benign test examples: 72.56%\n",
      "Accuracy on adversarial test examples (epsilon = 0.025): 18.50%\n",
      "Accuracy on adversarial test examples (epsilon = 0.5): 8.33%\n",
      "Accuracy on adversarial test examples (epsilon = 0.75): 9.04%\n",
      "Accuracy on adversarial test examples (epsilon = 0.1): 12.01%\n",
      "Training model9.pt with perturbations:\n",
      "[['Lp-norm', 0.1, 1], ['Lp-norm', 0.1, 2], ['Lp-norm', 0.1, 3], ['Lp-norm', 0.1, 4], ['Lp-norm', 0.1, inf]]\n"
     ]
    },
    {
     "data": {
      "application/vnd.jupyter.widget-view+json": {
       "model_id": "502f040ec70b49638a5b5ebfd54b1ad0",
       "version_major": 2,
       "version_minor": 0
      },
      "text/plain": [
       "Epochs:   0%|          | 0/20 [00:00<?, ?it/s]"
      ]
     },
     "metadata": {},
     "output_type": "display_data"
    },
    {
     "name": "stdout",
     "output_type": "stream",
     "text": [
      "Training Complete After: 76.23405981063843s\n",
      "Accuracy on benign train examples: 89.896%\n",
      "Accuracy on benign test examples: 73.42%\n",
      "Accuracy on adversarial test examples (epsilon = 0.025): 17.65%\n",
      "Accuracy on adversarial test examples (epsilon = 0.5): 10.66%\n",
      "Accuracy on adversarial test examples (epsilon = 0.75): 11.66%\n",
      "Accuracy on adversarial test examples (epsilon = 0.1): 11.73%\n",
      "Training model10.pt with perturbations:\n",
      "[['Lp-norm', 0.1, 11], ['Lp-norm', 0.1, 12], ['Lp-norm', 0.1, 13], ['Lp-norm', 0.1, 14], ['Lp-norm', 0.1, inf]]\n"
     ]
    },
    {
     "data": {
      "application/vnd.jupyter.widget-view+json": {
       "model_id": "28906de13dc349ba81f494ecf5ff0abe",
       "version_major": 2,
       "version_minor": 0
      },
      "text/plain": [
       "Epochs:   0%|          | 0/20 [00:00<?, ?it/s]"
      ]
     },
     "metadata": {},
     "output_type": "display_data"
    },
    {
     "name": "stdout",
     "output_type": "stream",
     "text": [
      "Training Complete After: 77.56748700141907s\n",
      "Accuracy on benign train examples: 86.92800000000001%\n",
      "Accuracy on benign test examples: 72.0%\n",
      "Accuracy on adversarial test examples (epsilon = 0.025): 18.61%\n",
      "Accuracy on adversarial test examples (epsilon = 0.5): 9.30%\n",
      "Accuracy on adversarial test examples (epsilon = 0.75): 10.16%\n",
      "Accuracy on adversarial test examples (epsilon = 0.1): 11.65%\n",
      "Training model11.pt with perturbations:\n",
      "[[['Lp-norm', 0.1, 1], ['RotationFlip', 0.3]], [['Lp-norm', 0.1, 2], ['RotationFlip', 0.3]], [['Lp-norm', 0.1, 3], ['RotationFlip', 0.3]], [['Lp-norm', 0.1, 4], ['RotationFlip', 0.3]], [['Lp-norm', 0.1, inf], ['RotationFlip', 0.3]]]\n"
     ]
    },
    {
     "data": {
      "application/vnd.jupyter.widget-view+json": {
       "model_id": "277a5d6fd70d4261ad90497a834036f8",
       "version_major": 2,
       "version_minor": 0
      },
      "text/plain": [
       "Epochs:   0%|          | 0/20 [00:00<?, ?it/s]"
      ]
     },
     "metadata": {},
     "output_type": "display_data"
    },
    {
     "name": "stdout",
     "output_type": "stream",
     "text": [
      "Training Complete After: 103.27079343795776s\n",
      "Accuracy on benign train examples: 71.056%\n",
      "Accuracy on benign test examples: 65.61%\n",
      "Accuracy on adversarial test examples (epsilon = 0.025): 35.96%\n",
      "Accuracy on adversarial test examples (epsilon = 0.5): 10.36%\n",
      "Accuracy on adversarial test examples (epsilon = 0.75): 10.10%\n",
      "Accuracy on adversarial test examples (epsilon = 0.1): 15.11%\n",
      "Training model12.pt with perturbations:\n",
      "[[['Lp-norm', 0.1, 1], ['RotationFlip', 0.3]], [['Lp-norm', 0.1, 2], ['RotationFlip', 0.3]], [['Lp-norm', 0.1, 3], ['RotationFlip', 0.3]], [['Lp-norm', 0.1, 4], ['RotationFlip', 0.3]], [['Lp-norm', 0.1, inf], ['RotationFlip', 0.3]], [['Lp-norm', 0.1, 1], ['RotationFlip', 0.3]], [['Lp-norm', 0.1, 2], ['RotationFlip', 0.3]], [['Lp-norm', 0.1, 3], ['RotationFlip', 0.3]], [['Lp-norm', 0.1, 4], ['RotationFlip', 0.3]], [['Lp-norm', 0.1, inf], ['RotationFlip', 0.3]]]\n"
     ]
    },
    {
     "data": {
      "application/vnd.jupyter.widget-view+json": {
       "model_id": "0669a558b49d4a39b471b05a7d6dc153",
       "version_major": 2,
       "version_minor": 0
      },
      "text/plain": [
       "Epochs:   0%|          | 0/20 [00:00<?, ?it/s]"
      ]
     },
     "metadata": {},
     "output_type": "display_data"
    },
    {
     "name": "stdout",
     "output_type": "stream",
     "text": [
      "Training Complete After: 143.59604334831238s\n",
      "Accuracy on benign train examples: 73.248%\n",
      "Accuracy on benign test examples: 66.97%\n",
      "Accuracy on adversarial test examples (epsilon = 0.025): 27.75%\n",
      "Accuracy on adversarial test examples (epsilon = 0.5): 10.46%\n",
      "Accuracy on adversarial test examples (epsilon = 0.75): 10.63%\n",
      "Accuracy on adversarial test examples (epsilon = 0.1): 12.73%\n",
      "Training model13.pt with perturbations:\n",
      "[[['Lp-norm', 0.1, 1], ['SaltPepper', 0.05]], [['Lp-norm', 0.1, 2], ['SaltPepper', 0.05]], [['Lp-norm', 0.1, 3], ['SaltPepper', 0.05]], [['Lp-norm', 0.1, 4], ['SaltPepper', 0.05]], [['Lp-norm', 0.1, inf], ['SaltPepper', 0.05]]]\n"
     ]
    },
    {
     "data": {
      "application/vnd.jupyter.widget-view+json": {
       "model_id": "b32acc1e39264d1092530f9cef97ba27",
       "version_major": 2,
       "version_minor": 0
      },
      "text/plain": [
       "Epochs:   0%|          | 0/20 [00:00<?, ?it/s]"
      ]
     },
     "metadata": {},
     "output_type": "display_data"
    },
    {
     "name": "stdout",
     "output_type": "stream",
     "text": [
      "Training Complete After: 108.75796818733215s\n",
      "Accuracy on benign train examples: 84.454%\n",
      "Accuracy on benign test examples: 69.77%\n",
      "Accuracy on adversarial test examples (epsilon = 0.025): 25.81%\n",
      "Accuracy on adversarial test examples (epsilon = 0.5): 8.68%\n",
      "Accuracy on adversarial test examples (epsilon = 0.75): 9.78%\n",
      "Accuracy on adversarial test examples (epsilon = 0.1): 13.16%\n",
      "Training model14.pt with perturbations:\n",
      "[[['Lp-norm', 0.1, 1], ['SaltPepper', 0.05]], [['Lp-norm', 0.1, 2], ['SaltPepper', 0.05]], [['Lp-norm', 0.1, 3], ['SaltPepper', 0.05]], [['Lp-norm', 0.1, 4], ['SaltPepper', 0.05]], [['Lp-norm', 0.1, inf], ['SaltPepper', 0.05]], [['Lp-norm', 0.1, 1], ['SaltPepper', 0.05]], [['Lp-norm', 0.1, 2], ['SaltPepper', 0.05]], [['Lp-norm', 0.1, 3], ['SaltPepper', 0.05]], [['Lp-norm', 0.1, 4], ['SaltPepper', 0.05]], [['Lp-norm', 0.1, inf], ['SaltPepper', 0.05]]]\n"
     ]
    },
    {
     "data": {
      "application/vnd.jupyter.widget-view+json": {
       "model_id": "7a0931396dc24433b53bee4c60c2b3ff",
       "version_major": 2,
       "version_minor": 0
      },
      "text/plain": [
       "Epochs:   0%|          | 0/20 [00:00<?, ?it/s]"
      ]
     },
     "metadata": {},
     "output_type": "display_data"
    },
    {
     "name": "stdout",
     "output_type": "stream",
     "text": [
      "Training Complete After: 161.33806347846985s\n",
      "Accuracy on benign train examples: 88.196%\n",
      "Accuracy on benign test examples: 69.84%\n",
      "Accuracy on adversarial test examples (epsilon = 0.025): 23.49%\n",
      "Accuracy on adversarial test examples (epsilon = 0.5): 8.63%\n",
      "Accuracy on adversarial test examples (epsilon = 0.75): 9.45%\n",
      "Accuracy on adversarial test examples (epsilon = 0.1): 14.00%\n",
      "Training model15.pt with perturbations:\n",
      "[[['Lp-norm', 0.1, 1], ['RotationFlip', 0.3]], [['Lp-norm', 0.1, 2], ['RotationFlip', 0.3]], [['Lp-norm', 0.1, 3], ['RotationFlip', 0.3]], [['Lp-norm', 0.1, 4], ['RotationFlip', 0.3]], [['Lp-norm', 0.1, inf], ['RotationFlip', 0.3]], [['Lp-norm', 0.1, 1], ['SaltPepper', 0.05]], [['Lp-norm', 0.1, 2], ['SaltPepper', 0.05]], [['Lp-norm', 0.1, 3], ['SaltPepper', 0.05]], [['Lp-norm', 0.1, 4], ['SaltPepper', 0.05]], [['Lp-norm', 0.1, inf], ['SaltPepper', 0.05]]]\n"
     ]
    },
    {
     "data": {
      "application/vnd.jupyter.widget-view+json": {
       "model_id": "c7165603eae2481a909feb7eb3c95bd4",
       "version_major": 2,
       "version_minor": 0
      },
      "text/plain": [
       "Epochs:   0%|          | 0/20 [00:00<?, ?it/s]"
      ]
     },
     "metadata": {},
     "output_type": "display_data"
    },
    {
     "name": "stdout",
     "output_type": "stream",
     "text": [
      "Training Complete After: 154.39897632598877s\n",
      "Accuracy on benign train examples: 82.572%\n",
      "Accuracy on benign test examples: 69.19999999999999%\n",
      "Accuracy on adversarial test examples (epsilon = 0.025): 26.51%\n",
      "Accuracy on adversarial test examples (epsilon = 0.5): 9.97%\n",
      "Accuracy on adversarial test examples (epsilon = 0.75): 10.19%\n",
      "Accuracy on adversarial test examples (epsilon = 0.1): 13.29%\n",
      "Test 0: # Perturbations (0), Time (59.23s), Baseline (73.04%), Adversarial ([eps=0.025:17.93%],[eps=0.5:8.42%],[eps=0.75:9.08%],[eps=0.1:10.81%])\n",
      "Test 1: # Perturbations (2), Time (59.95s), Baseline (73.04%), Adversarial ([eps=0.025:17.64%],[eps=0.5:10.17%],[eps=0.75:10.50%],[eps=0.1:11.27%])\n",
      "Test 2: # Perturbations (3), Time (67.46s), Baseline (72.93%), Adversarial ([eps=0.025:16.90%],[eps=0.5:9.19%],[eps=0.75:9.90%],[eps=0.1:10.93%])\n",
      "Test 3: # Perturbations (1), Time (70.21s), Baseline (65.87%), Adversarial ([eps=0.025:38.79%],[eps=0.5:9.74%],[eps=0.75:10.45%],[eps=0.1:14.78%])\n",
      "Test 4: # Perturbations (1), Time (72.57s), Baseline (67.96%), Adversarial ([eps=0.025:39.15%],[eps=0.5:8.35%],[eps=0.75:8.82%],[eps=0.1:14.75%])\n",
      "Test 5: # Perturbations (1), Time (82.85s), Baseline (61.42%), Adversarial ([eps=0.025:47.02%],[eps=0.5:11.10%],[eps=0.75:11.31%],[eps=0.1:21.74%])\n",
      "Test 6: # Perturbations (2), Time (92.05s), Baseline (65.68%), Adversarial ([eps=0.025:42.44%],[eps=0.5:9.55%],[eps=0.75:10.19%],[eps=0.1:17.71%])\n",
      "Test 7: # Perturbations (5), Time (79.40s), Baseline (73.94%), Adversarial ([eps=0.025:17.39%],[eps=0.5:10.04%],[eps=0.75:11.36%],[eps=0.1:11.55%])\n",
      "Test 8: # Perturbations (5), Time (76.60s), Baseline (72.56%), Adversarial ([eps=0.025:18.50%],[eps=0.5:8.33%],[eps=0.75:9.04%],[eps=0.1:12.01%])\n",
      "Test 9: # Perturbations (5), Time (76.23s), Baseline (73.42%), Adversarial ([eps=0.025:17.65%],[eps=0.5:10.66%],[eps=0.75:11.66%],[eps=0.1:11.73%])\n",
      "Test 10: # Perturbations (5), Time (77.57s), Baseline (72.00%), Adversarial ([eps=0.025:18.61%],[eps=0.5:9.30%],[eps=0.75:10.16%],[eps=0.1:11.65%])\n",
      "Test 11: # Perturbations (5), Time (103.27s), Baseline (65.61%), Adversarial ([eps=0.025:35.96%],[eps=0.5:10.36%],[eps=0.75:10.10%],[eps=0.1:15.11%])\n",
      "Test 12: # Perturbations (10), Time (143.60s), Baseline (66.97%), Adversarial ([eps=0.025:27.75%],[eps=0.5:10.46%],[eps=0.75:10.63%],[eps=0.1:12.73%])\n",
      "Test 13: # Perturbations (5), Time (108.76s), Baseline (69.77%), Adversarial ([eps=0.025:25.81%],[eps=0.5:8.68%],[eps=0.75:9.78%],[eps=0.1:13.16%])\n",
      "Test 14: # Perturbations (10), Time (161.34s), Baseline (69.84%), Adversarial ([eps=0.025:23.49%],[eps=0.5:8.63%],[eps=0.75:9.45%],[eps=0.1:14.00%])\n",
      "Test 15: # Perturbations (10), Time (154.40s), Baseline (69.20%), Adversarial ([eps=0.025:26.51%],[eps=0.5:9.97%],[eps=0.75:10.19%],[eps=0.1:13.29%])\n"
     ]
    }
   ],
   "source": [
    "test_folder = \"FRESH_CNN_CIFAR_10_1\"\n",
    "epochs = 20\n",
    "batch_size = 64\n",
    "criterion = nn.CrossEntropyLoss()\n",
    "\n",
    "eps_values = [0.025, 0.5, 0.75, 0.1]\n",
    "x_train_numpy = x_train.cpu().numpy()\n",
    "y_train_numpy = y_train.cpu().numpy()\n",
    "x_test_numpy = x_test.cpu().numpy()\n",
    "y_test_numpy = y_test.cpu().numpy()\n",
    "\n",
    "test_history = []\n",
    "\n",
    "for i in range(len(all_perturbations)):\n",
    "    perturbations = all_perturbations[i]\n",
    "    model_name = f\"model{i}.pt\"\n",
    "    \n",
    "    model = REPClassifier(perturbations)\n",
    "    lr = 0.0001\n",
    "    weight_decay = 0.0001\n",
    "    optimizer = optim.Adam(model.parameters(), lr=lr, weight_decay=weight_decay)\n",
    "    \n",
    "    print(f\"Training {model_name} with perturbations:\")\n",
    "    print(perturbation_descriptions[i])\n",
    "\n",
    "    # Train model\n",
    "    training_start = time.time()\n",
    "    train_REPClassifier(model, train_dataset, optimizer, criterion, batch_size, epochs)\n",
    "    training_time = time.time() - training_start\n",
    "    torch.save(model.state_dict(), ROOT + \"src/models/\" + test_folder + \"/\" + model_name)\n",
    "    print(f\"Training Complete After: {training_time}s\")\n",
    "\n",
    "\n",
    "    # Insert the model into the pytorch classifier from ART to allow for adversarial attack generation\n",
    "    classifier = PyTorchClassifier(\n",
    "        model=model,\n",
    "        clip_values=(min_pixel_value, max_pixel_value),\n",
    "        loss=criterion,\n",
    "        optimizer=optimizer,\n",
    "        input_shape=(3, 28, 28),\n",
    "        nb_classes=num_classes,\n",
    "    )\n",
    "\n",
    "    # Evaluate on benign examples\n",
    "    with torch.no_grad():\n",
    "        train_predictions = classifier.predict(x_train_numpy)\n",
    "        baseline_train_accuracy = np.sum(np.argmax(train_predictions, axis=1) == np.argmax(y_train_numpy, axis=1)) / len(y_train_numpy)\n",
    "        print(\"Accuracy on benign train examples: {}%\".format(baseline_train_accuracy * 100))\n",
    "        \n",
    "        test_predictions = classifier.predict(x_test_numpy)\n",
    "        baseline_test_accuracy = np.sum(np.argmax(test_predictions, axis=1) == np.argmax(y_test_numpy, axis=1)) / len(y_test_numpy)\n",
    "        print(\"Accuracy on benign test examples: {}%\".format(baseline_test_accuracy * 100))\n",
    "    \n",
    "    test_history.append({\n",
    "        'perturbations': perturbation_descriptions[i],\n",
    "        'include_original': perturbations.get_include_original(),\n",
    "        'shuffle': perturbations.get_shuffle(),\n",
    "        'loss': criterion,\n",
    "        'lr': lr,\n",
    "        'weight_decay': weight_decay,\n",
    "        'batch_size': batch_size,\n",
    "        'epochs': epochs,\n",
    "        'training_time': training_time,\n",
    "        'baseline_train_accuracy': baseline_train_accuracy,\n",
    "        'baseline_test_accuracy': baseline_test_accuracy,\n",
    "        })\n",
    "\n",
    "    # Evaluate against FGSM\n",
    "    for eps in eps_values:\n",
    "        attack = FastGradientMethod(estimator=classifier, eps=eps)\n",
    "        x_test_adv = attack.generate(x=x_test_numpy)\n",
    "        with torch.no_grad():\n",
    "            predictions = classifier.predict(x_test_adv)\n",
    "            adversarial_accuracy = np.sum(np.argmax(predictions, axis=1) == np.argmax(y_test_numpy, axis=1)) / len(y_test_numpy)\n",
    "            print(f\"Accuracy on adversarial test examples (epsilon = {eps}): {adversarial_accuracy * 100:.2f}%\")\n",
    "        test_history[i][f\"adversarial_accuracy_eps={eps}\"] = adversarial_accuracy\n",
    "display_test_history(test_history, eps_values)"
   ]
  },
  {
   "cell_type": "code",
   "execution_count": 31,
   "metadata": {},
   "outputs": [],
   "source": [
    "perturbation_descriptions = [\n",
    "    [[\"Lp-norm\", 0.25, 1], [\"Lp-norm\", 0.25, 2], [\"Lp-norm\", 0.25, 3], [\"Lp-norm\", 0.25, 4], [\"Lp-norm\", 0.25, float('inf')]],\n",
    "    [[\"Lp-norm\", 0.25, 11], [\"Lp-norm\", 0.25, 12], [\"Lp-norm\", 0.25, 13], [\"Lp-norm\", 0.25, 14], [\"Lp-norm\", 0.25, float('inf')]],\n",
    "    [[\"Lp-norm\", 0.5, 1], [\"Lp-norm\", 0.5, 2], [\"Lp-norm\", 0.5, 3], [\"Lp-norm\", 0.5, 4], [\"Lp-norm\", 0.5, float('inf')]],\n",
    "    [[\"Lp-norm\", 0.5, 11], [\"Lp-norm\", 0.5, 12], [\"Lp-norm\", 0.5, 13], [\"Lp-norm\", 0.5, 14], [\"Lp-norm\", 0.5, float('inf')]],\n",
    "    [[[\"Lp-norm\", 0.5, 1],[\"RotationFlip\", 0.3]], [[\"Lp-norm\", 0.5, 2],[\"RotationFlip\", 0.3]], [[\"Lp-norm\", 0.5, 3],[\"RotationFlip\", 0.3]], [[\"Lp-norm\", 0.5, 4],[\"RotationFlip\", 0.3]], [[\"Lp-norm\", 0.5, float('inf')],[\"RotationFlip\", 0.3]]],\n",
    "    [[[\"Lp-norm\", 0.5, 1],[\"RotationFlip\", 0.3]], [[\"Lp-norm\", 0.5, 2],[\"RotationFlip\", 0.3]], [[\"Lp-norm\", 0.5, 3],[\"RotationFlip\", 0.3]], [[\"Lp-norm\", 0.5, 4],[\"RotationFlip\", 0.3]], [[\"Lp-norm\", 0.5, float('inf')],[\"RotationFlip\", 0.3]], [[\"Lp-norm\", 0.5, 1],[\"RotationFlip\", 0.3]], [[\"Lp-norm\", 0.5, 2],[\"RotationFlip\", 0.3]], [[\"Lp-norm\", 0.5, 3],[\"RotationFlip\", 0.3]], [[\"Lp-norm\", 0.5, 4],[\"RotationFlip\", 0.3]], [[\"Lp-norm\", 0.5, float('inf')],[\"RotationFlip\", 0.3]]],\n",
    "    [[[\"Lp-norm\", 0.5, 1],[\"SaltPepper\", 0.05]], [[\"Lp-norm\", 0.5, 2],[\"SaltPepper\", 0.05]], [[\"Lp-norm\", 0.5, 3],[\"SaltPepper\", 0.05]], [[\"Lp-norm\", 0.5, 4],[\"SaltPepper\", 0.05]], [[\"Lp-norm\", 0.5, float('inf')],[\"SaltPepper\", 0.05]]],\n",
    "    [[[\"Lp-norm\", 0.5, 1],[\"SaltPepper\", 0.05]], [[\"Lp-norm\", 0.5, 2],[\"SaltPepper\", 0.05]], [[\"Lp-norm\", 0.5, 3],[\"SaltPepper\", 0.05]], [[\"Lp-norm\", 0.5, 4],[\"SaltPepper\", 0.05]], [[\"Lp-norm\", 0.5, float('inf')],[\"SaltPepper\", 0.05]], [[\"Lp-norm\", 0.5, 1],[\"SaltPepper\", 0.05]], [[\"Lp-norm\", 0.5, 2],[\"SaltPepper\", 0.05]], [[\"Lp-norm\", 0.5, 3],[\"SaltPepper\", 0.05]], [[\"Lp-norm\", 0.5, 4],[\"SaltPepper\", 0.05]], [[\"Lp-norm\", 0.5, float('inf')],[\"SaltPepper\", 0.05]]],\n",
    "    [[[\"Lp-norm\", 0.5, 1],[\"RotationFlip\", 0.3]], [[\"Lp-norm\", 0.5, 2],[\"RotationFlip\", 0.3]], [[\"Lp-norm\", 0.5, 3],[\"RotationFlip\", 0.3]], [[\"Lp-norm\", 0.5, 4],[\"RotationFlip\", 0.3]], [[\"Lp-norm\", 0.5, float('inf')],[\"RotationFlip\", 0.3]], [[\"Lp-norm\", 0.5, 1],[\"SaltPepper\", 0.05]], [[\"Lp-norm\", 0.5, 2],[\"SaltPepper\", 0.05]], [[\"Lp-norm\", 0.5, 3],[\"SaltPepper\", 0.05]], [[\"Lp-norm\", 0.5, 4],[\"SaltPepper\", 0.05]], [[\"Lp-norm\", 0.5, float('inf')],[\"SaltPepper\", 0.05]]],\n",
    "    [[[\"Gaussian\", 0.05],[\"RotationFlip\", 0.3]], [\"Lp-norm\", 0.25, 1], [\"Lp-norm\", 0.25, 2], [\"Lp-norm\", 0.25, 3], [\"Lp-norm\", 0.25, 4], [\"Lp-norm\", 0.25, float('inf')]],\n",
    "    [[[\"Gaussian\", 0.05],[\"RotationFlip\", 0.3]], [\"Lp-norm\", 0.25, 11], [\"Lp-norm\", 0.25, 12], [\"Lp-norm\", 0.25, 13], [\"Lp-norm\", 0.25, 14], [\"Lp-norm\", 0.25, float('inf')]],\n",
    "    [[[\"Gaussian\", 0.05],[\"RotationFlip\", 0.3]], [\"Lp-norm\", 0.5, 1], [\"Lp-norm\", 0.5, 2], [\"Lp-norm\", 0.5, 3], [\"Lp-norm\", 0.5, 4], [\"Lp-norm\", 0.5, float('inf')]],\n",
    "    [[[\"Gaussian\", 0.05],[\"RotationFlip\", 0.3]], [\"Lp-norm\", 0.5, 11], [\"Lp-norm\", 0.5, 12], [\"Lp-norm\", 0.5, 13], [\"Lp-norm\", 0.5, 14], [\"Lp-norm\", 0.5, float('inf')]],\n",
    "    [[[\"Gaussian\", 0.05],[\"RotationFlip\", 0.3]], [[\"Lp-norm\", 0.5, 1],[\"RotationFlip\", 0.3]], [[\"Lp-norm\", 0.5, 2],[\"RotationFlip\", 0.3]], [[\"Lp-norm\", 0.5, 3],[\"RotationFlip\", 0.3]], [[\"Lp-norm\", 0.5, 4],[\"RotationFlip\", 0.3]], [[\"Lp-norm\", 0.5, float('inf')],[\"RotationFlip\", 0.3]]],\n",
    "    [[[\"Gaussian\", 0.05],[\"RotationFlip\", 0.3]], [[\"Lp-norm\", 0.5, 1],[\"RotationFlip\", 0.3]], [[\"Lp-norm\", 0.5, 2],[\"RotationFlip\", 0.3]], [[\"Lp-norm\", 0.5, 3],[\"RotationFlip\", 0.3]], [[\"Lp-norm\", 0.5, 4],[\"RotationFlip\", 0.3]], [[\"Lp-norm\", 0.5, float('inf')],[\"RotationFlip\", 0.3]], [[\"Lp-norm\", 0.5, 1],[\"RotationFlip\", 0.3]], [[\"Lp-norm\", 0.5, 2],[\"RotationFlip\", 0.3]], [[\"Lp-norm\", 0.5, 3],[\"RotationFlip\", 0.3]], [[\"Lp-norm\", 0.5, 4],[\"RotationFlip\", 0.3]], [[\"Lp-norm\", 0.5, float('inf')],[\"RotationFlip\", 0.3]]],\n",
    "    [[[\"Gaussian\", 0.05],[\"RotationFlip\", 0.3]], [[\"Lp-norm\", 0.5, 1],[\"SaltPepper\", 0.05]], [[\"Lp-norm\", 0.5, 2],[\"SaltPepper\", 0.05]], [[\"Lp-norm\", 0.5, 3],[\"SaltPepper\", 0.05]], [[\"Lp-norm\", 0.5, 4],[\"SaltPepper\", 0.05]], [[\"Lp-norm\", 0.5, float('inf')],[\"SaltPepper\", 0.05]]],\n",
    "    [[[\"Gaussian\", 0.05],[\"RotationFlip\", 0.3]], [[\"Lp-norm\", 0.5, 1],[\"SaltPepper\", 0.05]], [[\"Lp-norm\", 0.5, 2],[\"SaltPepper\", 0.05]], [[\"Lp-norm\", 0.5, 3],[\"SaltPepper\", 0.05]], [[\"Lp-norm\", 0.5, 4],[\"SaltPepper\", 0.05]], [[\"Lp-norm\", 0.5, float('inf')],[\"SaltPepper\", 0.05]], [[\"Lp-norm\", 0.5, 1],[\"SaltPepper\", 0.05]], [[\"Lp-norm\", 0.5, 2],[\"SaltPepper\", 0.05]], [[\"Lp-norm\", 0.5, 3],[\"SaltPepper\", 0.05]], [[\"Lp-norm\", 0.5, 4],[\"SaltPepper\", 0.05]], [[\"Lp-norm\", 0.5, float('inf')],[\"SaltPepper\", 0.05]]],\n",
    "    [[[\"Gaussian\", 0.05],[\"RotationFlip\", 0.3]], [[\"Lp-norm\", 0.5, 1],[\"RotationFlip\", 0.3]], [[\"Lp-norm\", 0.5, 2],[\"RotationFlip\", 0.3]], [[\"Lp-norm\", 0.5, 3],[\"RotationFlip\", 0.3]], [[\"Lp-norm\", 0.5, 4],[\"RotationFlip\", 0.3]], [[\"Lp-norm\", 0.5, float('inf')],[\"RotationFlip\", 0.3]], [[\"Lp-norm\", 0.5, 1],[\"SaltPepper\", 0.05]], [[\"Lp-norm\", 0.5, 2],[\"SaltPepper\", 0.05]], [[\"Lp-norm\", 0.5, 3],[\"SaltPepper\", 0.05]], [[\"Lp-norm\", 0.5, 4],[\"SaltPepper\", 0.05]], [[\"Lp-norm\", 0.5, float('inf')],[\"SaltPepper\", 0.05]]],\n",
    "    [[[\"Laplacian\", 0.05],[\"RotationFlip\", 0.3]], [\"Lp-norm\", 0.25, 1], [\"Lp-norm\", 0.25, 2], [\"Lp-norm\", 0.25, 3], [\"Lp-norm\", 0.25, 4], [\"Lp-norm\", 0.25, float('inf')]],\n",
    "    [[[\"Laplacian\", 0.05],[\"RotationFlip\", 0.3]], [\"Lp-norm\", 0.25, 11], [\"Lp-norm\", 0.25, 12], [\"Lp-norm\", 0.25, 13], [\"Lp-norm\", 0.25, 14], [\"Lp-norm\", 0.25, float('inf')]],\n",
    "    [[[\"Laplacian\", 0.05],[\"RotationFlip\", 0.3]], [\"Lp-norm\", 0.5, 1], [\"Lp-norm\", 0.5, 2], [\"Lp-norm\", 0.5, 3], [\"Lp-norm\", 0.5, 4], [\"Lp-norm\", 0.5, float('inf')]],\n",
    "    [[[\"Laplacian\", 0.05],[\"RotationFlip\", 0.3]], [\"Lp-norm\", 0.5, 11], [\"Lp-norm\", 0.5, 12], [\"Lp-norm\", 0.5, 13], [\"Lp-norm\", 0.5, 14], [\"Lp-norm\", 0.5, float('inf')]],\n",
    "    [[[\"Laplacian\", 0.05],[\"RotationFlip\", 0.3]], [[\"Lp-norm\", 0.5, 1],[\"RotationFlip\", 0.3]], [[\"Lp-norm\", 0.5, 2],[\"RotationFlip\", 0.3]], [[\"Lp-norm\", 0.5, 3],[\"RotationFlip\", 0.3]], [[\"Lp-norm\", 0.5, 4],[\"RotationFlip\", 0.3]], [[\"Lp-norm\", 0.5, float('inf')],[\"RotationFlip\", 0.3]]],\n",
    "    [[[\"Laplacian\", 0.05],[\"RotationFlip\", 0.3]], [[\"Lp-norm\", 0.5, 1],[\"RotationFlip\", 0.3]], [[\"Lp-norm\", 0.5, 2],[\"RotationFlip\", 0.3]], [[\"Lp-norm\", 0.5, 3],[\"RotationFlip\", 0.3]], [[\"Lp-norm\", 0.5, 4],[\"RotationFlip\", 0.3]], [[\"Lp-norm\", 0.5, float('inf')],[\"RotationFlip\", 0.3]], [[\"Lp-norm\", 0.5, 1],[\"RotationFlip\", 0.3]], [[\"Lp-norm\", 0.5, 2],[\"RotationFlip\", 0.3]], [[\"Lp-norm\", 0.5, 3],[\"RotationFlip\", 0.3]], [[\"Lp-norm\", 0.5, 4],[\"RotationFlip\", 0.3]], [[\"Lp-norm\", 0.5, float('inf')],[\"RotationFlip\", 0.3]]],\n",
    "    [[[\"Laplacian\", 0.05],[\"RotationFlip\", 0.3]], [[\"Lp-norm\", 0.5, 1],[\"SaltPepper\", 0.05]], [[\"Lp-norm\", 0.5, 2],[\"SaltPepper\", 0.05]], [[\"Lp-norm\", 0.5, 3],[\"SaltPepper\", 0.05]], [[\"Lp-norm\", 0.5, 4],[\"SaltPepper\", 0.05]], [[\"Lp-norm\", 0.5, float('inf')],[\"SaltPepper\", 0.05]]],\n",
    "    [[[\"Laplacian\", 0.05],[\"RotationFlip\", 0.3]], [[\"Lp-norm\", 0.5, 1],[\"SaltPepper\", 0.05]], [[\"Lp-norm\", 0.5, 2],[\"SaltPepper\", 0.05]], [[\"Lp-norm\", 0.5, 3],[\"SaltPepper\", 0.05]], [[\"Lp-norm\", 0.5, 4],[\"SaltPepper\", 0.05]], [[\"Lp-norm\", 0.5, float('inf')],[\"SaltPepper\", 0.05]], [[\"Lp-norm\", 0.5, 1],[\"SaltPepper\", 0.05]], [[\"Lp-norm\", 0.5, 2],[\"SaltPepper\", 0.05]], [[\"Lp-norm\", 0.5, 3],[\"SaltPepper\", 0.05]], [[\"Lp-norm\", 0.5, 4],[\"SaltPepper\", 0.05]], [[\"Lp-norm\", 0.5, float('inf')],[\"SaltPepper\", 0.05]]],\n",
    "    [[[\"Laplacian\", 0.05],[\"RotationFlip\", 0.3]], [[\"Lp-norm\", 0.5, 1],[\"RotationFlip\", 0.3]], [[\"Lp-norm\", 0.5, 2],[\"RotationFlip\", 0.3]], [[\"Lp-norm\", 0.5, 3],[\"RotationFlip\", 0.3]], [[\"Lp-norm\", 0.5, 4],[\"RotationFlip\", 0.3]], [[\"Lp-norm\", 0.5, float('inf')],[\"RotationFlip\", 0.3]], [[\"Lp-norm\", 0.5, 1],[\"SaltPepper\", 0.05]], [[\"Lp-norm\", 0.5, 2],[\"SaltPepper\", 0.05]], [[\"Lp-norm\", 0.5, 3],[\"SaltPepper\", 0.05]], [[\"Lp-norm\", 0.5, 4],[\"SaltPepper\", 0.05]], [[\"Lp-norm\", 0.5, float('inf')],[\"SaltPepper\", 0.05]]],\n",
    "    [[[\"Gaussian\", 0.05],[\"RotationFlip\", 0.3]], [[\"Laplacian\", 0.05],[\"RotationFlip\", 0.3]], [\"Lp-norm\", 0.25, 1], [\"Lp-norm\", 0.25, 2], [\"Lp-norm\", 0.25, 3], [\"Lp-norm\", 0.25, 4], [\"Lp-norm\", 0.25, float('inf')]],\n",
    "    [[[\"Gaussian\", 0.05],[\"RotationFlip\", 0.3]], [[\"Laplacian\", 0.05],[\"RotationFlip\", 0.3]], [\"Lp-norm\", 0.25, 11], [\"Lp-norm\", 0.25, 12], [\"Lp-norm\", 0.25, 13], [\"Lp-norm\", 0.25, 14], [\"Lp-norm\", 0.25, float('inf')]],\n",
    "    [[[\"Gaussian\", 0.05],[\"RotationFlip\", 0.3]], [[\"Laplacian\", 0.05],[\"RotationFlip\", 0.3]], [\"Lp-norm\", 0.5, 1], [\"Lp-norm\", 0.5, 2], [\"Lp-norm\", 0.5, 3], [\"Lp-norm\", 0.5, 4], [\"Lp-norm\", 0.5, float('inf')]],\n",
    "    [[[\"Gaussian\", 0.05],[\"RotationFlip\", 0.3]], [[\"Laplacian\", 0.05],[\"RotationFlip\", 0.3]], [\"Lp-norm\", 0.5, 11], [\"Lp-norm\", 0.5, 12], [\"Lp-norm\", 0.5, 13], [\"Lp-norm\", 0.5, 14], [\"Lp-norm\", 0.5, float('inf')]],\n",
    "    [[[\"Gaussian\", 0.05],[\"RotationFlip\", 0.3]], [[\"Laplacian\", 0.05],[\"RotationFlip\", 0.3]], [[\"Lp-norm\", 0.5, 1],[\"RotationFlip\", 0.3]], [[\"Lp-norm\", 0.5, 2],[\"RotationFlip\", 0.3]], [[\"Lp-norm\", 0.5, 3],[\"RotationFlip\", 0.3]], [[\"Lp-norm\", 0.5, 4],[\"RotationFlip\", 0.3]], [[\"Lp-norm\", 0.5, float('inf')],[\"RotationFlip\", 0.3]]],\n",
    "    [[[\"Gaussian\", 0.05],[\"RotationFlip\", 0.3]], [[\"Laplacian\", 0.05],[\"RotationFlip\", 0.3]], [[\"Lp-norm\", 0.5, 1],[\"RotationFlip\", 0.3]], [[\"Lp-norm\", 0.5, 2],[\"RotationFlip\", 0.3]], [[\"Lp-norm\", 0.5, 3],[\"RotationFlip\", 0.3]], [[\"Lp-norm\", 0.5, 4],[\"RotationFlip\", 0.3]], [[\"Lp-norm\", 0.5, float('inf')],[\"RotationFlip\", 0.3]], [[\"Lp-norm\", 0.5, 1],[\"RotationFlip\", 0.3]], [[\"Lp-norm\", 0.5, 2],[\"RotationFlip\", 0.3]], [[\"Lp-norm\", 0.5, 3],[\"RotationFlip\", 0.3]], [[\"Lp-norm\", 0.5, 4],[\"RotationFlip\", 0.3]], [[\"Lp-norm\", 0.5, float('inf')],[\"RotationFlip\", 0.3]]],\n",
    "    [[[\"Gaussian\", 0.05],[\"RotationFlip\", 0.3]], [[\"Laplacian\", 0.05],[\"RotationFlip\", 0.3]], [[\"Lp-norm\", 0.5, 1],[\"SaltPepper\", 0.05]], [[\"Lp-norm\", 0.5, 2],[\"SaltPepper\", 0.05]], [[\"Lp-norm\", 0.5, 3],[\"SaltPepper\", 0.05]], [[\"Lp-norm\", 0.5, 4],[\"SaltPepper\", 0.05]], [[\"Lp-norm\", 0.5, float('inf')],[\"SaltPepper\", 0.05]]],\n",
    "    [[[\"Gaussian\", 0.05],[\"RotationFlip\", 0.3]], [[\"Laplacian\", 0.05],[\"RotationFlip\", 0.3]], [[\"Lp-norm\", 0.5, 1],[\"SaltPepper\", 0.05]], [[\"Lp-norm\", 0.5, 2],[\"SaltPepper\", 0.05]], [[\"Lp-norm\", 0.5, 3],[\"SaltPepper\", 0.05]], [[\"Lp-norm\", 0.5, 4],[\"SaltPepper\", 0.05]], [[\"Lp-norm\", 0.5, float('inf')],[\"SaltPepper\", 0.05]], [[\"Lp-norm\", 0.5, 1],[\"SaltPepper\", 0.05]], [[\"Lp-norm\", 0.5, 2],[\"SaltPepper\", 0.05]], [[\"Lp-norm\", 0.5, 3],[\"SaltPepper\", 0.05]], [[\"Lp-norm\", 0.5, 4],[\"SaltPepper\", 0.05]], [[\"Lp-norm\", 0.5, float('inf')],[\"SaltPepper\", 0.05]]],\n",
    "    [[[\"Gaussian\", 0.05],[\"RotationFlip\", 0.3]], [[\"Laplacian\", 0.05],[\"RotationFlip\", 0.3]], [[\"Lp-norm\", 0.5, 1],[\"RotationFlip\", 0.3]], [[\"Lp-norm\", 0.5, 2],[\"RotationFlip\", 0.3]], [[\"Lp-norm\", 0.5, 3],[\"RotationFlip\", 0.3]], [[\"Lp-norm\", 0.5, 4],[\"RotationFlip\", 0.3]], [[\"Lp-norm\", 0.5, float('inf')],[\"RotationFlip\", 0.3]], [[\"Lp-norm\", 0.5, 1],[\"SaltPepper\", 0.05]], [[\"Lp-norm\", 0.5, 2],[\"SaltPepper\", 0.05]], [[\"Lp-norm\", 0.5, 3],[\"SaltPepper\", 0.05]], [[\"Lp-norm\", 0.5, 4],[\"SaltPepper\", 0.05]], [[\"Lp-norm\", 0.5, float('inf')],[\"SaltPepper\", 0.05]]],\n",
    "    ]\n",
    "\n",
    "all_perturbations = [Perturbations(create_perturbations(perturbation_description)) for perturbation_description in perturbation_descriptions]"
   ]
  },
  {
   "cell_type": "code",
   "execution_count": 32,
   "metadata": {},
   "outputs": [
    {
     "name": "stdout",
     "output_type": "stream",
     "text": [
      "Training model16.pt with perturbations:\n",
      "[['Lp-norm', 0.25, 1], ['Lp-norm', 0.25, 2], ['Lp-norm', 0.25, 3], ['Lp-norm', 0.25, 4], ['Lp-norm', 0.25, inf]]\n"
     ]
    },
    {
     "data": {
      "application/vnd.jupyter.widget-view+json": {
       "model_id": "fc146a4aba1d4a13a8dae3232b75f431",
       "version_major": 2,
       "version_minor": 0
      },
      "text/plain": [
       "Epochs:   0%|          | 0/20 [00:00<?, ?it/s]"
      ]
     },
     "metadata": {},
     "output_type": "display_data"
    },
    {
     "name": "stdout",
     "output_type": "stream",
     "text": [
      "Training Complete After: 78.53012752532959s\n",
      "Accuracy on benign train examples: 88.476%\n",
      "Accuracy on benign test examples: 73.22%\n",
      "Accuracy on adversarial test examples (epsilon = 0.025): 18.35%\n",
      "Accuracy on adversarial test examples (epsilon = 0.5): 10.05%\n",
      "Accuracy on adversarial test examples (epsilon = 0.75): 11.23%\n",
      "Accuracy on adversarial test examples (epsilon = 0.1): 11.51%\n",
      "Training model17.pt with perturbations:\n",
      "[['Lp-norm', 0.25, 11], ['Lp-norm', 0.25, 12], ['Lp-norm', 0.25, 13], ['Lp-norm', 0.25, 14], ['Lp-norm', 0.25, inf]]\n"
     ]
    },
    {
     "data": {
      "application/vnd.jupyter.widget-view+json": {
       "model_id": "6e1e43e37f934b01be825faec6a4980d",
       "version_major": 2,
       "version_minor": 0
      },
      "text/plain": [
       "Epochs:   0%|          | 0/20 [00:00<?, ?it/s]"
      ]
     },
     "metadata": {},
     "output_type": "display_data"
    },
    {
     "name": "stdout",
     "output_type": "stream",
     "text": [
      "Training Complete After: 79.03865313529968s\n",
      "Accuracy on benign train examples: 87.33999999999999%\n",
      "Accuracy on benign test examples: 72.63%\n",
      "Accuracy on adversarial test examples (epsilon = 0.025): 20.18%\n",
      "Accuracy on adversarial test examples (epsilon = 0.5): 11.15%\n",
      "Accuracy on adversarial test examples (epsilon = 0.75): 11.72%\n",
      "Accuracy on adversarial test examples (epsilon = 0.1): 12.35%\n",
      "Training model18.pt with perturbations:\n",
      "[['Lp-norm', 0.5, 1], ['Lp-norm', 0.5, 2], ['Lp-norm', 0.5, 3], ['Lp-norm', 0.5, 4], ['Lp-norm', 0.5, inf]]\n"
     ]
    },
    {
     "data": {
      "application/vnd.jupyter.widget-view+json": {
       "model_id": "dc55de16ee854428bafee055f6d0d8dd",
       "version_major": 2,
       "version_minor": 0
      },
      "text/plain": [
       "Epochs:   0%|          | 0/20 [00:00<?, ?it/s]"
      ]
     },
     "metadata": {},
     "output_type": "display_data"
    },
    {
     "name": "stdout",
     "output_type": "stream",
     "text": [
      "Training Complete After: 78.64333057403564s\n",
      "Accuracy on benign train examples: 87.256%\n",
      "Accuracy on benign test examples: 72.0%\n",
      "Accuracy on adversarial test examples (epsilon = 0.025): 20.46%\n",
      "Accuracy on adversarial test examples (epsilon = 0.5): 8.76%\n",
      "Accuracy on adversarial test examples (epsilon = 0.75): 9.13%\n",
      "Accuracy on adversarial test examples (epsilon = 0.1): 12.07%\n",
      "Training model19.pt with perturbations:\n",
      "[['Lp-norm', 0.5, 11], ['Lp-norm', 0.5, 12], ['Lp-norm', 0.5, 13], ['Lp-norm', 0.5, 14], ['Lp-norm', 0.5, inf]]\n"
     ]
    },
    {
     "data": {
      "application/vnd.jupyter.widget-view+json": {
       "model_id": "b5fb92740d524a50a8bd3ab54efb1138",
       "version_major": 2,
       "version_minor": 0
      },
      "text/plain": [
       "Epochs:   0%|          | 0/20 [00:00<?, ?it/s]"
      ]
     },
     "metadata": {},
     "output_type": "display_data"
    },
    {
     "name": "stdout",
     "output_type": "stream",
     "text": [
      "Training Complete After: 78.78538656234741s\n",
      "Accuracy on benign train examples: 86.22%\n",
      "Accuracy on benign test examples: 71.16%\n",
      "Accuracy on adversarial test examples (epsilon = 0.025): 22.53%\n",
      "Accuracy on adversarial test examples (epsilon = 0.5): 11.23%\n",
      "Accuracy on adversarial test examples (epsilon = 0.75): 11.06%\n",
      "Accuracy on adversarial test examples (epsilon = 0.1): 12.04%\n",
      "Training model20.pt with perturbations:\n",
      "[[['Lp-norm', 0.5, 1], ['RotationFlip', 0.3]], [['Lp-norm', 0.5, 2], ['RotationFlip', 0.3]], [['Lp-norm', 0.5, 3], ['RotationFlip', 0.3]], [['Lp-norm', 0.5, 4], ['RotationFlip', 0.3]], [['Lp-norm', 0.5, inf], ['RotationFlip', 0.3]]]\n"
     ]
    },
    {
     "data": {
      "application/vnd.jupyter.widget-view+json": {
       "model_id": "59a7bc9fb0c74fc8abdda24c1808e0c5",
       "version_major": 2,
       "version_minor": 0
      },
      "text/plain": [
       "Epochs:   0%|          | 0/20 [00:00<?, ?it/s]"
      ]
     },
     "metadata": {},
     "output_type": "display_data"
    },
    {
     "name": "stdout",
     "output_type": "stream",
     "text": [
      "Training Complete After: 104.75759744644165s\n",
      "Accuracy on benign train examples: 69.286%\n",
      "Accuracy on benign test examples: 63.67%\n",
      "Accuracy on adversarial test examples (epsilon = 0.025): 36.14%\n",
      "Accuracy on adversarial test examples (epsilon = 0.5): 8.75%\n",
      "Accuracy on adversarial test examples (epsilon = 0.75): 8.88%\n",
      "Accuracy on adversarial test examples (epsilon = 0.1): 14.76%\n",
      "Training model21.pt with perturbations:\n",
      "[[['Lp-norm', 0.5, 1], ['RotationFlip', 0.3]], [['Lp-norm', 0.5, 2], ['RotationFlip', 0.3]], [['Lp-norm', 0.5, 3], ['RotationFlip', 0.3]], [['Lp-norm', 0.5, 4], ['RotationFlip', 0.3]], [['Lp-norm', 0.5, inf], ['RotationFlip', 0.3]], [['Lp-norm', 0.5, 1], ['RotationFlip', 0.3]], [['Lp-norm', 0.5, 2], ['RotationFlip', 0.3]], [['Lp-norm', 0.5, 3], ['RotationFlip', 0.3]], [['Lp-norm', 0.5, 4], ['RotationFlip', 0.3]], [['Lp-norm', 0.5, inf], ['RotationFlip', 0.3]]]\n"
     ]
    },
    {
     "data": {
      "application/vnd.jupyter.widget-view+json": {
       "model_id": "98457a5337914c57b159c4a0e90a6eab",
       "version_major": 2,
       "version_minor": 0
      },
      "text/plain": [
       "Epochs:   0%|          | 0/20 [00:00<?, ?it/s]"
      ]
     },
     "metadata": {},
     "output_type": "display_data"
    },
    {
     "name": "stdout",
     "output_type": "stream",
     "text": [
      "Training Complete After: 149.04807019233704s\n",
      "Accuracy on benign train examples: 73.494%\n",
      "Accuracy on benign test examples: 67.86999999999999%\n",
      "Accuracy on adversarial test examples (epsilon = 0.025): 29.48%\n",
      "Accuracy on adversarial test examples (epsilon = 0.5): 10.08%\n",
      "Accuracy on adversarial test examples (epsilon = 0.75): 10.37%\n",
      "Accuracy on adversarial test examples (epsilon = 0.1): 13.88%\n",
      "Training model22.pt with perturbations:\n",
      "[[['Lp-norm', 0.5, 1], ['SaltPepper', 0.05]], [['Lp-norm', 0.5, 2], ['SaltPepper', 0.05]], [['Lp-norm', 0.5, 3], ['SaltPepper', 0.05]], [['Lp-norm', 0.5, 4], ['SaltPepper', 0.05]], [['Lp-norm', 0.5, inf], ['SaltPepper', 0.05]]]\n"
     ]
    },
    {
     "data": {
      "application/vnd.jupyter.widget-view+json": {
       "model_id": "5474ab82aa414cf9a6768dfd7236f6cb",
       "version_major": 2,
       "version_minor": 0
      },
      "text/plain": [
       "Epochs:   0%|          | 0/20 [00:00<?, ?it/s]"
      ]
     },
     "metadata": {},
     "output_type": "display_data"
    },
    {
     "name": "stdout",
     "output_type": "stream",
     "text": [
      "Training Complete After: 113.78596663475037s\n",
      "Accuracy on benign train examples: 84.712%\n",
      "Accuracy on benign test examples: 70.8%\n",
      "Accuracy on adversarial test examples (epsilon = 0.025): 26.66%\n",
      "Accuracy on adversarial test examples (epsilon = 0.5): 10.36%\n",
      "Accuracy on adversarial test examples (epsilon = 0.75): 10.72%\n",
      "Accuracy on adversarial test examples (epsilon = 0.1): 12.44%\n",
      "Training model23.pt with perturbations:\n",
      "[[['Lp-norm', 0.5, 1], ['SaltPepper', 0.05]], [['Lp-norm', 0.5, 2], ['SaltPepper', 0.05]], [['Lp-norm', 0.5, 3], ['SaltPepper', 0.05]], [['Lp-norm', 0.5, 4], ['SaltPepper', 0.05]], [['Lp-norm', 0.5, inf], ['SaltPepper', 0.05]], [['Lp-norm', 0.5, 1], ['SaltPepper', 0.05]], [['Lp-norm', 0.5, 2], ['SaltPepper', 0.05]], [['Lp-norm', 0.5, 3], ['SaltPepper', 0.05]], [['Lp-norm', 0.5, 4], ['SaltPepper', 0.05]], [['Lp-norm', 0.5, inf], ['SaltPepper', 0.05]]]\n"
     ]
    },
    {
     "data": {
      "application/vnd.jupyter.widget-view+json": {
       "model_id": "a9010e82a59548eb8468b7853b234038",
       "version_major": 2,
       "version_minor": 0
      },
      "text/plain": [
       "Epochs:   0%|          | 0/20 [00:00<?, ?it/s]"
      ]
     },
     "metadata": {},
     "output_type": "display_data"
    },
    {
     "name": "stdout",
     "output_type": "stream",
     "text": [
      "Training Complete After: 168.45124340057373s\n",
      "Accuracy on benign train examples: 86.646%\n",
      "Accuracy on benign test examples: 69.94%\n",
      "Accuracy on adversarial test examples (epsilon = 0.025): 22.55%\n",
      "Accuracy on adversarial test examples (epsilon = 0.5): 10.27%\n",
      "Accuracy on adversarial test examples (epsilon = 0.75): 11.39%\n",
      "Accuracy on adversarial test examples (epsilon = 0.1): 12.99%\n",
      "Training model24.pt with perturbations:\n",
      "[[['Lp-norm', 0.5, 1], ['RotationFlip', 0.3]], [['Lp-norm', 0.5, 2], ['RotationFlip', 0.3]], [['Lp-norm', 0.5, 3], ['RotationFlip', 0.3]], [['Lp-norm', 0.5, 4], ['RotationFlip', 0.3]], [['Lp-norm', 0.5, inf], ['RotationFlip', 0.3]], [['Lp-norm', 0.5, 1], ['SaltPepper', 0.05]], [['Lp-norm', 0.5, 2], ['SaltPepper', 0.05]], [['Lp-norm', 0.5, 3], ['SaltPepper', 0.05]], [['Lp-norm', 0.5, 4], ['SaltPepper', 0.05]], [['Lp-norm', 0.5, inf], ['SaltPepper', 0.05]]]\n"
     ]
    },
    {
     "data": {
      "application/vnd.jupyter.widget-view+json": {
       "model_id": "483a0db1d78640cfb0d50449384c943c",
       "version_major": 2,
       "version_minor": 0
      },
      "text/plain": [
       "Epochs:   0%|          | 0/20 [00:00<?, ?it/s]"
      ]
     },
     "metadata": {},
     "output_type": "display_data"
    },
    {
     "name": "stdout",
     "output_type": "stream",
     "text": [
      "Training Complete After: 159.4949939250946s\n",
      "Accuracy on benign train examples: 82.126%\n",
      "Accuracy on benign test examples: 69.84%\n",
      "Accuracy on adversarial test examples (epsilon = 0.025): 27.93%\n",
      "Accuracy on adversarial test examples (epsilon = 0.5): 10.49%\n",
      "Accuracy on adversarial test examples (epsilon = 0.75): 11.23%\n",
      "Accuracy on adversarial test examples (epsilon = 0.1): 13.42%\n",
      "Training model25.pt with perturbations:\n",
      "[[['Gaussian', 0.05], ['RotationFlip', 0.3]], ['Lp-norm', 0.25, 1], ['Lp-norm', 0.25, 2], ['Lp-norm', 0.25, 3], ['Lp-norm', 0.25, 4], ['Lp-norm', 0.25, inf]]\n"
     ]
    },
    {
     "data": {
      "application/vnd.jupyter.widget-view+json": {
       "model_id": "72e0dfe76f2e4a6e86c2932cab0020e9",
       "version_major": 2,
       "version_minor": 0
      },
      "text/plain": [
       "Epochs:   0%|          | 0/20 [00:00<?, ?it/s]"
      ]
     },
     "metadata": {},
     "output_type": "display_data"
    },
    {
     "name": "stdout",
     "output_type": "stream",
     "text": [
      "Training Complete After: 96.6752758026123s\n",
      "Accuracy on benign train examples: 84.246%\n",
      "Accuracy on benign test examples: 71.71%\n",
      "Accuracy on adversarial test examples (epsilon = 0.025): 22.06%\n",
      "Accuracy on adversarial test examples (epsilon = 0.5): 10.42%\n",
      "Accuracy on adversarial test examples (epsilon = 0.75): 10.70%\n",
      "Accuracy on adversarial test examples (epsilon = 0.1): 11.58%\n",
      "Training model26.pt with perturbations:\n",
      "[[['Gaussian', 0.05], ['RotationFlip', 0.3]], ['Lp-norm', 0.25, 11], ['Lp-norm', 0.25, 12], ['Lp-norm', 0.25, 13], ['Lp-norm', 0.25, 14], ['Lp-norm', 0.25, inf]]\n"
     ]
    },
    {
     "data": {
      "application/vnd.jupyter.widget-view+json": {
       "model_id": "07cc61c0ed234180990a8bf6ee6bcf3c",
       "version_major": 2,
       "version_minor": 0
      },
      "text/plain": [
       "Epochs:   0%|          | 0/20 [00:00<?, ?it/s]"
      ]
     },
     "metadata": {},
     "output_type": "display_data"
    },
    {
     "name": "stdout",
     "output_type": "stream",
     "text": [
      "Training Complete After: 96.95855927467346s\n",
      "Accuracy on benign train examples: 84.53399999999999%\n",
      "Accuracy on benign test examples: 71.34%\n",
      "Accuracy on adversarial test examples (epsilon = 0.025): 23.02%\n",
      "Accuracy on adversarial test examples (epsilon = 0.5): 12.01%\n",
      "Accuracy on adversarial test examples (epsilon = 0.75): 13.04%\n",
      "Accuracy on adversarial test examples (epsilon = 0.1): 12.93%\n",
      "Training model27.pt with perturbations:\n",
      "[[['Gaussian', 0.05], ['RotationFlip', 0.3]], ['Lp-norm', 0.5, 1], ['Lp-norm', 0.5, 2], ['Lp-norm', 0.5, 3], ['Lp-norm', 0.5, 4], ['Lp-norm', 0.5, inf]]\n"
     ]
    },
    {
     "data": {
      "application/vnd.jupyter.widget-view+json": {
       "model_id": "0eed1fbae164407d82b1b9beec8c2dbc",
       "version_major": 2,
       "version_minor": 0
      },
      "text/plain": [
       "Epochs:   0%|          | 0/20 [00:00<?, ?it/s]"
      ]
     },
     "metadata": {},
     "output_type": "display_data"
    },
    {
     "name": "stdout",
     "output_type": "stream",
     "text": [
      "Training Complete After: 97.15046906471252s\n",
      "Accuracy on benign train examples: 85.56%\n",
      "Accuracy on benign test examples: 71.73%\n",
      "Accuracy on adversarial test examples (epsilon = 0.025): 23.38%\n",
      "Accuracy on adversarial test examples (epsilon = 0.5): 10.39%\n",
      "Accuracy on adversarial test examples (epsilon = 0.75): 10.38%\n",
      "Accuracy on adversarial test examples (epsilon = 0.1): 13.31%\n",
      "Training model28.pt with perturbations:\n",
      "[[['Gaussian', 0.05], ['RotationFlip', 0.3]], ['Lp-norm', 0.5, 11], ['Lp-norm', 0.5, 12], ['Lp-norm', 0.5, 13], ['Lp-norm', 0.5, 14], ['Lp-norm', 0.5, inf]]\n"
     ]
    },
    {
     "data": {
      "application/vnd.jupyter.widget-view+json": {
       "model_id": "a1deadcac6ff4a67a69a652e3b6f1b06",
       "version_major": 2,
       "version_minor": 0
      },
      "text/plain": [
       "Epochs:   0%|          | 0/20 [00:00<?, ?it/s]"
      ]
     },
     "metadata": {},
     "output_type": "display_data"
    },
    {
     "name": "stdout",
     "output_type": "stream",
     "text": [
      "Training Complete After: 97.01641082763672s\n",
      "Accuracy on benign train examples: 84.42%\n",
      "Accuracy on benign test examples: 71.1%\n",
      "Accuracy on adversarial test examples (epsilon = 0.025): 24.36%\n",
      "Accuracy on adversarial test examples (epsilon = 0.5): 11.14%\n",
      "Accuracy on adversarial test examples (epsilon = 0.75): 12.18%\n",
      "Accuracy on adversarial test examples (epsilon = 0.1): 11.77%\n",
      "Training model29.pt with perturbations:\n",
      "[[['Gaussian', 0.05], ['RotationFlip', 0.3]], [['Lp-norm', 0.5, 1], ['RotationFlip', 0.3]], [['Lp-norm', 0.5, 2], ['RotationFlip', 0.3]], [['Lp-norm', 0.5, 3], ['RotationFlip', 0.3]], [['Lp-norm', 0.5, 4], ['RotationFlip', 0.3]], [['Lp-norm', 0.5, inf], ['RotationFlip', 0.3]]]\n"
     ]
    },
    {
     "data": {
      "application/vnd.jupyter.widget-view+json": {
       "model_id": "4469919071074f12ab32c982787a5dbb",
       "version_major": 2,
       "version_minor": 0
      },
      "text/plain": [
       "Epochs:   0%|          | 0/20 [00:00<?, ?it/s]"
      ]
     },
     "metadata": {},
     "output_type": "display_data"
    },
    {
     "name": "stdout",
     "output_type": "stream",
     "text": [
      "Training Complete After: 112.91150450706482s\n",
      "Accuracy on benign train examples: 69.69%\n",
      "Accuracy on benign test examples: 64.89%\n",
      "Accuracy on adversarial test examples (epsilon = 0.025): 33.42%\n",
      "Accuracy on adversarial test examples (epsilon = 0.5): 11.00%\n",
      "Accuracy on adversarial test examples (epsilon = 0.75): 11.01%\n",
      "Accuracy on adversarial test examples (epsilon = 0.1): 15.58%\n",
      "Training model30.pt with perturbations:\n",
      "[[['Gaussian', 0.05], ['RotationFlip', 0.3]], [['Lp-norm', 0.5, 1], ['RotationFlip', 0.3]], [['Lp-norm', 0.5, 2], ['RotationFlip', 0.3]], [['Lp-norm', 0.5, 3], ['RotationFlip', 0.3]], [['Lp-norm', 0.5, 4], ['RotationFlip', 0.3]], [['Lp-norm', 0.5, inf], ['RotationFlip', 0.3]], [['Lp-norm', 0.5, 1], ['RotationFlip', 0.3]], [['Lp-norm', 0.5, 2], ['RotationFlip', 0.3]], [['Lp-norm', 0.5, 3], ['RotationFlip', 0.3]], [['Lp-norm', 0.5, 4], ['RotationFlip', 0.3]], [['Lp-norm', 0.5, inf], ['RotationFlip', 0.3]]]\n"
     ]
    },
    {
     "data": {
      "application/vnd.jupyter.widget-view+json": {
       "model_id": "a81932a1b0c74b90a9a193ae7139a39b",
       "version_major": 2,
       "version_minor": 0
      },
      "text/plain": [
       "Epochs:   0%|          | 0/20 [00:00<?, ?it/s]"
      ]
     },
     "metadata": {},
     "output_type": "display_data"
    },
    {
     "name": "stdout",
     "output_type": "stream",
     "text": [
      "Training Complete After: 162.02156972885132s\n",
      "Accuracy on benign train examples: 73.27%\n",
      "Accuracy on benign test examples: 66.03999999999999%\n",
      "Accuracy on adversarial test examples (epsilon = 0.025): 27.47%\n",
      "Accuracy on adversarial test examples (epsilon = 0.5): 8.06%\n",
      "Accuracy on adversarial test examples (epsilon = 0.75): 8.26%\n",
      "Accuracy on adversarial test examples (epsilon = 0.1): 12.54%\n",
      "Training model31.pt with perturbations:\n",
      "[[['Gaussian', 0.05], ['RotationFlip', 0.3]], [['Lp-norm', 0.5, 1], ['SaltPepper', 0.05]], [['Lp-norm', 0.5, 2], ['SaltPepper', 0.05]], [['Lp-norm', 0.5, 3], ['SaltPepper', 0.05]], [['Lp-norm', 0.5, 4], ['SaltPepper', 0.05]], [['Lp-norm', 0.5, inf], ['SaltPepper', 0.05]]]\n"
     ]
    },
    {
     "data": {
      "application/vnd.jupyter.widget-view+json": {
       "model_id": "e95a4481d0184c36adf0d8444f924d4a",
       "version_major": 2,
       "version_minor": 0
      },
      "text/plain": [
       "Epochs:   0%|          | 0/20 [00:00<?, ?it/s]"
      ]
     },
     "metadata": {},
     "output_type": "display_data"
    },
    {
     "name": "stdout",
     "output_type": "stream",
     "text": [
      "Training Complete After: 122.91661334037781s\n",
      "Accuracy on benign train examples: 82.39800000000001%\n",
      "Accuracy on benign test examples: 69.71000000000001%\n",
      "Accuracy on adversarial test examples (epsilon = 0.025): 27.36%\n",
      "Accuracy on adversarial test examples (epsilon = 0.5): 11.65%\n",
      "Accuracy on adversarial test examples (epsilon = 0.75): 12.43%\n",
      "Accuracy on adversarial test examples (epsilon = 0.1): 13.48%\n",
      "Training model32.pt with perturbations:\n",
      "[[['Gaussian', 0.05], ['RotationFlip', 0.3]], [['Lp-norm', 0.5, 1], ['SaltPepper', 0.05]], [['Lp-norm', 0.5, 2], ['SaltPepper', 0.05]], [['Lp-norm', 0.5, 3], ['SaltPepper', 0.05]], [['Lp-norm', 0.5, 4], ['SaltPepper', 0.05]], [['Lp-norm', 0.5, inf], ['SaltPepper', 0.05]], [['Lp-norm', 0.5, 1], ['SaltPepper', 0.05]], [['Lp-norm', 0.5, 2], ['SaltPepper', 0.05]], [['Lp-norm', 0.5, 3], ['SaltPepper', 0.05]], [['Lp-norm', 0.5, 4], ['SaltPepper', 0.05]], [['Lp-norm', 0.5, inf], ['SaltPepper', 0.05]]]\n"
     ]
    },
    {
     "data": {
      "application/vnd.jupyter.widget-view+json": {
       "model_id": "1ae039e92ff64ddfa0d21e59c4a97a79",
       "version_major": 2,
       "version_minor": 0
      },
      "text/plain": [
       "Epochs:   0%|          | 0/20 [00:00<?, ?it/s]"
      ]
     },
     "metadata": {},
     "output_type": "display_data"
    },
    {
     "name": "stdout",
     "output_type": "stream",
     "text": [
      "Training Complete After: 182.0993971824646s\n",
      "Accuracy on benign train examples: 85.794%\n",
      "Accuracy on benign test examples: 70.16%\n",
      "Accuracy on adversarial test examples (epsilon = 0.025): 22.97%\n",
      "Accuracy on adversarial test examples (epsilon = 0.5): 9.59%\n",
      "Accuracy on adversarial test examples (epsilon = 0.75): 10.21%\n",
      "Accuracy on adversarial test examples (epsilon = 0.1): 12.78%\n",
      "Training model33.pt with perturbations:\n",
      "[[['Gaussian', 0.05], ['RotationFlip', 0.3]], [['Lp-norm', 0.5, 1], ['RotationFlip', 0.3]], [['Lp-norm', 0.5, 2], ['RotationFlip', 0.3]], [['Lp-norm', 0.5, 3], ['RotationFlip', 0.3]], [['Lp-norm', 0.5, 4], ['RotationFlip', 0.3]], [['Lp-norm', 0.5, inf], ['RotationFlip', 0.3]], [['Lp-norm', 0.5, 1], ['SaltPepper', 0.05]], [['Lp-norm', 0.5, 2], ['SaltPepper', 0.05]], [['Lp-norm', 0.5, 3], ['SaltPepper', 0.05]], [['Lp-norm', 0.5, 4], ['SaltPepper', 0.05]], [['Lp-norm', 0.5, inf], ['SaltPepper', 0.05]]]\n"
     ]
    },
    {
     "data": {
      "application/vnd.jupyter.widget-view+json": {
       "model_id": "a131d990a4234546895c23e7bb9fe478",
       "version_major": 2,
       "version_minor": 0
      },
      "text/plain": [
       "Epochs:   0%|          | 0/20 [00:00<?, ?it/s]"
      ]
     },
     "metadata": {},
     "output_type": "display_data"
    },
    {
     "name": "stdout",
     "output_type": "stream",
     "text": [
      "Training Complete After: 171.42706203460693s\n",
      "Accuracy on benign train examples: 81.53399999999999%\n",
      "Accuracy on benign test examples: 69.1%\n",
      "Accuracy on adversarial test examples (epsilon = 0.025): 27.06%\n",
      "Accuracy on adversarial test examples (epsilon = 0.5): 10.45%\n",
      "Accuracy on adversarial test examples (epsilon = 0.75): 11.18%\n",
      "Accuracy on adversarial test examples (epsilon = 0.1): 13.08%\n",
      "Training model34.pt with perturbations:\n",
      "[[['Laplacian', 0.05], ['RotationFlip', 0.3]], ['Lp-norm', 0.25, 1], ['Lp-norm', 0.25, 2], ['Lp-norm', 0.25, 3], ['Lp-norm', 0.25, 4], ['Lp-norm', 0.25, inf]]\n"
     ]
    },
    {
     "data": {
      "application/vnd.jupyter.widget-view+json": {
       "model_id": "1940a30eac064886a3383d0070186bcb",
       "version_major": 2,
       "version_minor": 0
      },
      "text/plain": [
       "Epochs:   0%|          | 0/20 [00:00<?, ?it/s]"
      ]
     },
     "metadata": {},
     "output_type": "display_data"
    },
    {
     "name": "stdout",
     "output_type": "stream",
     "text": [
      "Training Complete After: 136.21172761917114s\n",
      "Accuracy on benign train examples: 86.018%\n",
      "Accuracy on benign test examples: 71.93%\n",
      "Accuracy on adversarial test examples (epsilon = 0.025): 21.50%\n",
      "Accuracy on adversarial test examples (epsilon = 0.5): 10.28%\n",
      "Accuracy on adversarial test examples (epsilon = 0.75): 11.49%\n",
      "Accuracy on adversarial test examples (epsilon = 0.1): 12.24%\n",
      "Training model35.pt with perturbations:\n",
      "[[['Laplacian', 0.05], ['RotationFlip', 0.3]], ['Lp-norm', 0.25, 11], ['Lp-norm', 0.25, 12], ['Lp-norm', 0.25, 13], ['Lp-norm', 0.25, 14], ['Lp-norm', 0.25, inf]]\n"
     ]
    },
    {
     "data": {
      "application/vnd.jupyter.widget-view+json": {
       "model_id": "8798c39c19904a5fb41cd15ba3db5693",
       "version_major": 2,
       "version_minor": 0
      },
      "text/plain": [
       "Epochs:   0%|          | 0/20 [00:00<?, ?it/s]"
      ]
     },
     "metadata": {},
     "output_type": "display_data"
    },
    {
     "name": "stdout",
     "output_type": "stream",
     "text": [
      "Training Complete After: 136.38291311264038s\n",
      "Accuracy on benign train examples: 85.612%\n",
      "Accuracy on benign test examples: 71.53%\n",
      "Accuracy on adversarial test examples (epsilon = 0.025): 23.98%\n",
      "Accuracy on adversarial test examples (epsilon = 0.5): 12.13%\n",
      "Accuracy on adversarial test examples (epsilon = 0.75): 12.72%\n",
      "Accuracy on adversarial test examples (epsilon = 0.1): 13.29%\n",
      "Training model36.pt with perturbations:\n",
      "[[['Laplacian', 0.05], ['RotationFlip', 0.3]], ['Lp-norm', 0.5, 1], ['Lp-norm', 0.5, 2], ['Lp-norm', 0.5, 3], ['Lp-norm', 0.5, 4], ['Lp-norm', 0.5, inf]]\n"
     ]
    },
    {
     "data": {
      "application/vnd.jupyter.widget-view+json": {
       "model_id": "ddbbd0548c8049e1810395c1a6109d13",
       "version_major": 2,
       "version_minor": 0
      },
      "text/plain": [
       "Epochs:   0%|          | 0/20 [00:00<?, ?it/s]"
      ]
     },
     "metadata": {},
     "output_type": "display_data"
    },
    {
     "name": "stdout",
     "output_type": "stream",
     "text": [
      "Training Complete After: 136.41574263572693s\n",
      "Accuracy on benign train examples: 85.516%\n",
      "Accuracy on benign test examples: 72.14%\n",
      "Accuracy on adversarial test examples (epsilon = 0.025): 23.28%\n",
      "Accuracy on adversarial test examples (epsilon = 0.5): 9.63%\n",
      "Accuracy on adversarial test examples (epsilon = 0.75): 10.48%\n",
      "Accuracy on adversarial test examples (epsilon = 0.1): 12.56%\n",
      "Training model37.pt with perturbations:\n",
      "[[['Laplacian', 0.05], ['RotationFlip', 0.3]], ['Lp-norm', 0.5, 11], ['Lp-norm', 0.5, 12], ['Lp-norm', 0.5, 13], ['Lp-norm', 0.5, 14], ['Lp-norm', 0.5, inf]]\n"
     ]
    },
    {
     "data": {
      "application/vnd.jupyter.widget-view+json": {
       "model_id": "ca04aa7a514244b3990fc8897732e082",
       "version_major": 2,
       "version_minor": 0
      },
      "text/plain": [
       "Epochs:   0%|          | 0/20 [00:00<?, ?it/s]"
      ]
     },
     "metadata": {},
     "output_type": "display_data"
    },
    {
     "name": "stdout",
     "output_type": "stream",
     "text": [
      "Training Complete After: 134.0924048423767s\n",
      "Accuracy on benign train examples: 84.922%\n",
      "Accuracy on benign test examples: 71.6%\n",
      "Accuracy on adversarial test examples (epsilon = 0.025): 24.71%\n",
      "Accuracy on adversarial test examples (epsilon = 0.5): 11.37%\n",
      "Accuracy on adversarial test examples (epsilon = 0.75): 12.12%\n",
      "Accuracy on adversarial test examples (epsilon = 0.1): 12.55%\n",
      "Training model38.pt with perturbations:\n",
      "[[['Laplacian', 0.05], ['RotationFlip', 0.3]], [['Lp-norm', 0.5, 1], ['RotationFlip', 0.3]], [['Lp-norm', 0.5, 2], ['RotationFlip', 0.3]], [['Lp-norm', 0.5, 3], ['RotationFlip', 0.3]], [['Lp-norm', 0.5, 4], ['RotationFlip', 0.3]], [['Lp-norm', 0.5, inf], ['RotationFlip', 0.3]]]\n"
     ]
    },
    {
     "data": {
      "application/vnd.jupyter.widget-view+json": {
       "model_id": "263f11ebb771426ea3dba86238b10a37",
       "version_major": 2,
       "version_minor": 0
      },
      "text/plain": [
       "Epochs:   0%|          | 0/20 [00:00<?, ?it/s]"
      ]
     },
     "metadata": {},
     "output_type": "display_data"
    },
    {
     "name": "stdout",
     "output_type": "stream",
     "text": [
      "Training Complete After: 152.926176071167s\n",
      "Accuracy on benign train examples: 70.492%\n",
      "Accuracy on benign test examples: 65.53%\n",
      "Accuracy on adversarial test examples (epsilon = 0.025): 35.20%\n",
      "Accuracy on adversarial test examples (epsilon = 0.5): 10.19%\n",
      "Accuracy on adversarial test examples (epsilon = 0.75): 9.82%\n",
      "Accuracy on adversarial test examples (epsilon = 0.1): 14.97%\n",
      "Training model39.pt with perturbations:\n",
      "[[['Laplacian', 0.05], ['RotationFlip', 0.3]], [['Lp-norm', 0.5, 1], ['RotationFlip', 0.3]], [['Lp-norm', 0.5, 2], ['RotationFlip', 0.3]], [['Lp-norm', 0.5, 3], ['RotationFlip', 0.3]], [['Lp-norm', 0.5, 4], ['RotationFlip', 0.3]], [['Lp-norm', 0.5, inf], ['RotationFlip', 0.3]], [['Lp-norm', 0.5, 1], ['RotationFlip', 0.3]], [['Lp-norm', 0.5, 2], ['RotationFlip', 0.3]], [['Lp-norm', 0.5, 3], ['RotationFlip', 0.3]], [['Lp-norm', 0.5, 4], ['RotationFlip', 0.3]], [['Lp-norm', 0.5, inf], ['RotationFlip', 0.3]]]\n"
     ]
    },
    {
     "data": {
      "application/vnd.jupyter.widget-view+json": {
       "model_id": "d8528845f8b54cddbb484db941542f82",
       "version_major": 2,
       "version_minor": 0
      },
      "text/plain": [
       "Epochs:   0%|          | 0/20 [00:00<?, ?it/s]"
      ]
     },
     "metadata": {},
     "output_type": "display_data"
    },
    {
     "name": "stdout",
     "output_type": "stream",
     "text": [
      "Training Complete After: 194.79368257522583s\n",
      "Accuracy on benign train examples: 74.382%\n",
      "Accuracy on benign test examples: 65.53999999999999%\n",
      "Accuracy on adversarial test examples (epsilon = 0.025): 28.52%\n",
      "Accuracy on adversarial test examples (epsilon = 0.5): 10.06%\n",
      "Accuracy on adversarial test examples (epsilon = 0.75): 10.61%\n",
      "Accuracy on adversarial test examples (epsilon = 0.1): 14.34%\n",
      "Training model40.pt with perturbations:\n",
      "[[['Laplacian', 0.05], ['RotationFlip', 0.3]], [['Lp-norm', 0.5, 1], ['SaltPepper', 0.05]], [['Lp-norm', 0.5, 2], ['SaltPepper', 0.05]], [['Lp-norm', 0.5, 3], ['SaltPepper', 0.05]], [['Lp-norm', 0.5, 4], ['SaltPepper', 0.05]], [['Lp-norm', 0.5, inf], ['SaltPepper', 0.05]]]\n"
     ]
    },
    {
     "data": {
      "application/vnd.jupyter.widget-view+json": {
       "model_id": "3079e6ddf539494090d53bf20dd70af1",
       "version_major": 2,
       "version_minor": 0
      },
      "text/plain": [
       "Epochs:   0%|          | 0/20 [00:00<?, ?it/s]"
      ]
     },
     "metadata": {},
     "output_type": "display_data"
    },
    {
     "name": "stdout",
     "output_type": "stream",
     "text": [
      "Training Complete After: 175.92820858955383s\n",
      "Accuracy on benign train examples: 83.358%\n",
      "Accuracy on benign test examples: 68.8%\n",
      "Accuracy on adversarial test examples (epsilon = 0.025): 28.02%\n",
      "Accuracy on adversarial test examples (epsilon = 0.5): 10.25%\n",
      "Accuracy on adversarial test examples (epsilon = 0.75): 10.90%\n",
      "Accuracy on adversarial test examples (epsilon = 0.1): 13.67%\n",
      "Training model41.pt with perturbations:\n",
      "[[['Laplacian', 0.05], ['RotationFlip', 0.3]], [['Lp-norm', 0.5, 1], ['SaltPepper', 0.05]], [['Lp-norm', 0.5, 2], ['SaltPepper', 0.05]], [['Lp-norm', 0.5, 3], ['SaltPepper', 0.05]], [['Lp-norm', 0.5, 4], ['SaltPepper', 0.05]], [['Lp-norm', 0.5, inf], ['SaltPepper', 0.05]], [['Lp-norm', 0.5, 1], ['SaltPepper', 0.05]], [['Lp-norm', 0.5, 2], ['SaltPepper', 0.05]], [['Lp-norm', 0.5, 3], ['SaltPepper', 0.05]], [['Lp-norm', 0.5, 4], ['SaltPepper', 0.05]], [['Lp-norm', 0.5, inf], ['SaltPepper', 0.05]]]\n"
     ]
    },
    {
     "data": {
      "application/vnd.jupyter.widget-view+json": {
       "model_id": "c4ab053a1ff84e2a8ff70177694e1605",
       "version_major": 2,
       "version_minor": 0
      },
      "text/plain": [
       "Epochs:   0%|          | 0/20 [00:00<?, ?it/s]"
      ]
     },
     "metadata": {},
     "output_type": "display_data"
    }
   ],
   "source": [
    "test_folder = \"FRESH_CNN_CIFAR_10_1\"\n",
    "initial_index = len(test_history)\n",
    "epochs = 20\n",
    "batch_size = 64\n",
    "criterion = nn.CrossEntropyLoss()\n",
    "\n",
    "eps_values = [0.025, 0.5, 0.75, 0.1]\n",
    "x_train_numpy = x_train.cpu().numpy()\n",
    "y_train_numpy = y_train.cpu().numpy()\n",
    "x_test_numpy = x_test.cpu().numpy()\n",
    "y_test_numpy = y_test.cpu().numpy()\n",
    "\n",
    "for i in range(len(all_perturbations)):\n",
    "    perturbations = all_perturbations[i]\n",
    "    model_name = f\"model{initial_index + i}.pt\"\n",
    "    \n",
    "    model = REPClassifier(perturbations)\n",
    "    lr = 0.0001\n",
    "    weight_decay = 0.0001\n",
    "    optimizer = optim.Adam(model.parameters(), lr=lr, weight_decay=weight_decay)\n",
    "    \n",
    "    print(f\"Training {model_name} with perturbations:\")\n",
    "    print(perturbation_descriptions[i])\n",
    "\n",
    "    # Train model\n",
    "    training_start = time.time()\n",
    "    train_REPClassifier(model, train_dataset, optimizer, criterion, batch_size, epochs)\n",
    "    training_time = time.time() - training_start\n",
    "    torch.save(model.state_dict(), ROOT + \"src/models/\" + test_folder + \"/\" + model_name)\n",
    "    print(f\"Training Complete After: {training_time}s\")\n",
    "\n",
    "\n",
    "    # Insert the model into the pytorch classifier from ART to allow for adversarial attack generation\n",
    "    classifier = PyTorchClassifier(\n",
    "        model=model,\n",
    "        clip_values=(min_pixel_value, max_pixel_value),\n",
    "        loss=criterion,\n",
    "        optimizer=optimizer,\n",
    "        input_shape=(3, 28, 28),\n",
    "        nb_classes=num_classes,\n",
    "    )\n",
    "\n",
    "    # Evaluate on benign examples\n",
    "    with torch.no_grad():\n",
    "        train_predictions = classifier.predict(x_train_numpy)\n",
    "        baseline_train_accuracy = np.sum(np.argmax(train_predictions, axis=1) == np.argmax(y_train_numpy, axis=1)) / len(y_train_numpy)\n",
    "        print(\"Accuracy on benign train examples: {}%\".format(baseline_train_accuracy * 100))\n",
    "        \n",
    "        test_predictions = classifier.predict(x_test_numpy)\n",
    "        baseline_test_accuracy = np.sum(np.argmax(test_predictions, axis=1) == np.argmax(y_test_numpy, axis=1)) / len(y_test_numpy)\n",
    "        print(\"Accuracy on benign test examples: {}%\".format(baseline_test_accuracy * 100))\n",
    "    \n",
    "    test_history.append({\n",
    "        'perturbations': perturbation_descriptions[i],\n",
    "        'include_original': perturbations.get_include_original(),\n",
    "        'shuffle': perturbations.get_shuffle(),\n",
    "        'loss': criterion,\n",
    "        'lr': lr,\n",
    "        'weight_decay': weight_decay,\n",
    "        'batch_size': batch_size,\n",
    "        'epochs': epochs,\n",
    "        'training_time': training_time,\n",
    "        'baseline_train_accuracy': baseline_train_accuracy,\n",
    "        'baseline_test_accuracy': baseline_test_accuracy,\n",
    "        })\n",
    "\n",
    "    # Evaluate against FGSM\n",
    "    for eps in eps_values:\n",
    "        attack = FastGradientMethod(estimator=classifier, eps=eps)\n",
    "        x_test_adv = attack.generate(x=x_test_numpy)\n",
    "        with torch.no_grad():\n",
    "            predictions = classifier.predict(x_test_adv)\n",
    "            adversarial_accuracy = np.sum(np.argmax(predictions, axis=1) == np.argmax(y_test_numpy, axis=1)) / len(y_test_numpy)\n",
    "            print(f\"Accuracy on adversarial test examples (epsilon = {eps}): {adversarial_accuracy * 100:.2f}%\")\n",
    "        test_history[initial_index + i][f\"adversarial_accuracy_eps={eps}\"] = adversarial_accuracy\n",
    "display_test_history(test_history, eps_values)"
   ]
  },
  {
   "cell_type": "code",
   "execution_count": null,
   "metadata": {},
   "outputs": [],
   "source": [
    "import csv\n",
    "\n",
    "def save_to_csv(data, filename):\n",
    "    if not data:\n",
    "        return\n",
    "\n",
    "    # Extract the keys from the first dictionary as headers\n",
    "    headers = list(data[0].keys())\n",
    "\n",
    "    with open(filename, 'w', newline='') as csvfile:\n",
    "        writer = csv.DictWriter(csvfile, fieldnames=headers)\n",
    "\n",
    "        # Write the headers\n",
    "        writer.writeheader()\n",
    "\n",
    "        # Write each dictionary as a row in the CSV file\n",
    "        for item in data:\n",
    "            writer.writerow(item)\n",
    "\n",
    "    print(f\"Data saved to {filename} successfully.\")\n",
    "\n",
    "save_to_csv(test_history, ROOT + \"notebooks/experiment_log/FRESH_CNN_CIFAR_10_1.csv\")"
   ]
  }
 ],
 "metadata": {
  "kernelspec": {
   "display_name": "REP",
   "language": "python",
   "name": "python3"
  },
  "language_info": {
   "codemirror_mode": {
    "name": "ipython",
    "version": 3
   },
   "file_extension": ".py",
   "mimetype": "text/x-python",
   "name": "python",
   "nbconvert_exporter": "python",
   "pygments_lexer": "ipython3",
   "version": "3.10.12"
  }
 },
 "nbformat": 4,
 "nbformat_minor": 2
}
