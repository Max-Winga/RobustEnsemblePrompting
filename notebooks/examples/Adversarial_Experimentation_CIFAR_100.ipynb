{
 "cells": [
  {
   "cell_type": "code",
   "execution_count": 9,
   "metadata": {},
   "outputs": [],
   "source": [
    "import numpy as np\n",
    "import matplotlib.pyplot as plt\n",
    "import torch\n",
    "import torch.nn as nn\n",
    "import torch.optim as optim\n",
    "import time\n",
    "\n",
    "import sys\n",
    "ROOT = \"../../\"\n",
    "sys.path.append(ROOT) # Add root directory to path\n",
    "\n",
    "from src.utils.REPClassifier import REPClassifier\n",
    "from src.utils.StandardDataset import StandardDataset\n",
    "from src.utils.perturbations import *\n",
    "\n",
    "from art.attacks.evasion import FastGradientMethod\n",
    "from art.estimators.classification import PyTorchClassifier\n",
    "from torchvision import datasets, transforms\n",
    "from torch.utils.data import DataLoader, TensorDataset, Dataset"
   ]
  },
  {
   "cell_type": "code",
   "execution_count": 10,
   "metadata": {},
   "outputs": [
    {
     "name": "stdout",
     "output_type": "stream",
     "text": [
      "Files already downloaded and verified\n",
      "Files already downloaded and verified\n"
     ]
    }
   ],
   "source": [
    "# Step 1: Load the CIFAR-100 dataset\n",
    "trainset = datasets.CIFAR10(root='./data', train=True, download=True, transform=transforms.ToTensor())\n",
    "testset = datasets.CIFAR10(root='./data', train=False, download=True, transform=transforms.ToTensor())\n",
    "num_classes = 10"
   ]
  },
  {
   "cell_type": "code",
   "execution_count": 11,
   "metadata": {},
   "outputs": [],
   "source": [
    "x_train = trainset.data / 255.0  # Scale pixel values to [0, 1]\n",
    "y_train = np.array(trainset.targets)\n",
    "x_test = testset.data / 255.0  # Scale pixel values to [0, 1]\n",
    "y_test = np.array(testset.targets)\n",
    "\n",
    "x_train = np.transpose(x_train, (0, 3, 1, 2)).astype(np.float32)\n",
    "x_test = np.transpose(x_test, (0, 3, 1, 2)).astype(np.float32)\n",
    "\n",
    "y_train = np.eye(num_classes)[y_train].astype(np.float32)\n",
    "y_test = np.eye(num_classes)[y_test].astype(np.float32)\n",
    "\n",
    "min_pixel_value = 0.0\n",
    "max_pixel_value = 1.0"
   ]
  },
  {
   "cell_type": "code",
   "execution_count": 12,
   "metadata": {},
   "outputs": [],
   "source": [
    "device = torch.device(\"cuda\" if torch.cuda.is_available() else \"cpu\")\n",
    "\n",
    "x_train = torch.from_numpy(x_train).to(device)\n",
    "y_train = torch.from_numpy(y_train).to(device)\n",
    "\n",
    "x_test = torch.from_numpy(x_test).to(device)\n",
    "y_test = torch.from_numpy(y_test).to(device)"
   ]
  },
  {
   "cell_type": "code",
   "execution_count": 13,
   "metadata": {},
   "outputs": [],
   "source": [
    "class SimpleDataset(Dataset):\n",
    "    def __init__(self, x, y):\n",
    "        self.x = x\n",
    "        self.y = y\n",
    "\n",
    "    def __len__(self):\n",
    "        return len(self.x)\n",
    "\n",
    "    def __getitem__(self, idx):\n",
    "        return self.x[idx], self.y[idx]\n",
    "\n",
    "train_dataset = SimpleDataset(x_train, y_train)\n",
    "test_dataset = SimpleDataset(x_test, y_test)"
   ]
  },
  {
   "cell_type": "markdown",
   "metadata": {},
   "source": [
    "# Testing Round 1"
   ]
  },
  {
   "cell_type": "code",
   "execution_count": 14,
   "metadata": {},
   "outputs": [],
   "source": [
    "epochs = 100\n",
    "test_history = []\n",
    "\n",
    "def display_test_history(test_history):\n",
    "    for i in range(len(test_history)):\n",
    "        test = test_history[i]\n",
    "        num_p = len(test['perturbations'])\n",
    "        io = test['include_original']\n",
    "        shuffle = test['shuffle']\n",
    "        baseline = test['baseline_accuracy']\n",
    "        adversarial = test['adversarial_accuracy']\n",
    "        adv_str = f\"{adversarial[0]*100}/{adversarial[1]*100}/{adversarial[2]*100}/{adversarial[3]*100}\"\n",
    "        print(f\"Test {i}: Perturbations ({num_p}), Original ({io}), Shuffle ({shuffle}), Baseline ({baseline*100}%), Adversarial ({adv_str}%)\")"
   ]
  },
  {
   "cell_type": "code",
   "execution_count": 15,
   "metadata": {},
   "outputs": [],
   "source": [
    "from tqdm.auto import tqdm\n",
    "\n",
    "def train_REPClassifier(model, dataset, optimizer, criterion, batch_size, epochs, verbose=True):\n",
    "    dataloader = DataLoader(dataset, batch_size, shuffle=True, num_workers=0)\n",
    "    for _ in tqdm(range(epochs), disable=not verbose, desc=\"Epochs\"):\n",
    "        for x_batch, y_batch in dataloader:            \n",
    "            # Zero the parameter gradients\n",
    "            optimizer.zero_grad()\n",
    "\n",
    "            # Perform prediction\n",
    "            model_outputs = model(x_batch)\n",
    "\n",
    "            y_batch = y_batch.squeeze(1)\n",
    "            predictions = model_outputs.squeeze(1)\n",
    "            \n",
    "            loss = criterion(predictions, y_batch)\n",
    "\n",
    "            # Do training\n",
    "            loss.backward()\n",
    "\n",
    "            optimizer.step()"
   ]
  },
  {
   "cell_type": "code",
   "execution_count": 22,
   "metadata": {},
   "outputs": [],
   "source": [
    "perturbation_tests = [\n",
    "    [],\n",
    "    [[\"Gaussian\", 0.025]],\n",
    "    [[\"Gaussian\", 0.05]],\n",
    "    [[[\"Gaussian\", 0.05], [\"ContrastBrightness\", 0.9, 0.9]]],\n",
    "    [[[\"Gaussian\", 0.05], [\"RotationFlip\", 0.3]]],\n",
    "    [[[\"Gaussian\", 0.05], [\"SaltPepper\", 0.05]]],\n",
    "    [[\"Laplacian\", 0.025]],\n",
    "    [[\"Laplacian\", 0.05]],\n",
    "    [[[\"Laplacian\", 0.05], [\"ContrastBrightness\", 0.9, 0.9]]],\n",
    "    [[[\"Laplacian\", 0.05], [\"RotationFlip\", 0.3]]],\n",
    "    [[[\"Laplacian\", 0.05], [\"SaltPepper\", 0.05]]],\n",
    "    [[\"Lp-norm\", 0.5, 1]],\n",
    "    [[[\"Lp-norm\", 0.5, 1], [\"ContrastBrightness\", 0.9, 0.9]]],\n",
    "    [[[\"Lp-norm\", 0.5, 1], [\"RotationFlip\", 0.3]]],\n",
    "    [[[\"Lp-norm\", 0.5, 1], [\"SaltPepper\", 0.05]]],\n",
    "    [[\"Lp-norm\", 0.5, 2]],\n",
    "    [[\"Lp-norm\", 0.5, 3]],\n",
    "    [[\"Lp-norm\", 0.5, 4]],\n",
    "    [[\"Lp-norm\", 0.5, float('inf')]],\n",
    "    [[\"ContrastBrightness\", 0.9, 0.9]],\n",
    "    [[\"RotationFlip\", 0.3]],\n",
    "    [[\"SaltPepper\", 0.05]],\n",
    "    [[\"Gaussian\", 0.05], [\"Laplacian\", 0.05]],\n",
    "    [[[\"Gaussian\", 0.05], [\"Laplacian\", 0.05]]],\n",
    "    [[\"Gaussian\", 0.05], [\"Lp-norm\", 0.5, 1]],\n",
    "    [[\"Laplacian\", 0.05], [\"Lp-norm\", 0.5, 1]],\n",
    "    [[\"Lp-norm\", 0.5, 1], [\"Lp-norm\", 0.5, 2]],\n",
    "    [[\"Gaussian\", 0.05], [\"Laplacian\", 0.05], [\"Lp-norm\", 0.5, 1]],\n",
    "    [[\"Gaussian\", 0.05], [[\"Laplacian\", 0.05], [\"SaltPepper\", 0.05]]],\n",
    "    [[\"Gaussian\", 0.05], [[\"Lp-norm\", 0.5, 1], [\"ContrastBrightness\", 0.9, 0.9]]],\n",
    "    [[\"Laplacian\", 0.05], [[\"Lp-norm\", 0.5, 1], [\"RotationFlip\", 0.3]]],\n",
    "    [[[\"Gaussian\", 0.05], [\"SaltPepper\", 0.05]], [[\"Gaussian\", 0.05], [\"RotationFlip\", 0.3]]],\n",
    "    [[[\"Laplacian\", 0.05], [\"SaltPepper\", 0.05]], [[\"Laplacian\", 0.05], [\"RotationFlip\", 0.3]]],\n",
    "    [[[\"Lp-norm\", 0.5, 1], [\"SaltPepper\", 0.05]], [[\"Lp-norm\", 0.5, 1], [\"RotationFlip\", 0.3]]],\n",
    "    [[[\"Gaussian\", 0.05], [\"SaltPepper\", 0.05]], [[\"Gaussian\", 0.05], [\"RotationFlip\", 0.3]], [[\"Lp-norm\", 0.5, 1], [\"SaltPepper\", 0.05]], [[\"Lp-norm\", 0.5, 1], [\"RotationFlip\", 0.3]]],\n",
    "    [[[\"Gaussian\", 0.05], [\"SaltPepper\", 0.05]], [[\"Gaussian\", 0.05], [\"RotationFlip\", 0.3]], [[\"Lp-norm\", 0.5, 1], [\"SaltPepper\", 0.05]], [[\"Lp-norm\", 0.5, 1], [\"RotationFlip\", 0.3]], [[\"Laplacian\", 0.05], [\"SaltPepper\", 0.05]], [[\"Laplacian\", 0.05], [\"RotationFlip\", 0.3]]],\n",
    "    [[[\"Laplacian\", 0.05], [\"RotationFlip\", 0.3]],[[\"Gaussian\", 0.05], [\"RotationFlip\", 0.3]],[[\"Gaussian\", 0.05], [\"SaltPepper\", 0.05]],[[\"Gaussian\", 0.05], [\"SaltPepper\", 0.05]]],\n",
    "    [[[\"Laplacian\", 0.05], [\"RotationFlip\", 0.3]],[[\"Gaussian\", 0.05], [\"RotationFlip\", 0.3]],[[\"Gaussian\", 0.05], [\"SaltPepper\", 0.05]],[[\"Gaussian\", 0.05], [\"SaltPepper\", 0.05]]],[[[\"Laplacian\", 0.025], [\"RotationFlip\", 0.3]],[[\"Gaussian\", 0.025], [\"RotationFlip\", 0.3]],[[\"Gaussian\", 0.025], [\"SaltPepper\", 0.05]],[[\"Gaussian\", 0.025], [\"SaltPepper\", 0.05]]],\n",
    "]"
   ]
  },
  {
   "cell_type": "code",
   "execution_count": 23,
   "metadata": {},
   "outputs": [
    {
     "name": "stdout",
     "output_type": "stream",
     "text": [
      "Training model with perturbations:\n",
      "[]\n"
     ]
    },
    {
     "data": {
      "application/vnd.jupyter.widget-view+json": {
       "model_id": "348f7d8a09bd47e7a363c8e1a4423f49",
       "version_major": 2,
       "version_minor": 0
      },
      "text/plain": [
       "Epochs:   0%|          | 0/20 [00:00<?, ?it/s]"
      ]
     },
     "metadata": {},
     "output_type": "display_data"
    },
    {
     "name": "stdout",
     "output_type": "stream",
     "text": [
      "Epoch 20/80 Complete After 152s! Train Acc: 0.6324999928474426, Test Acc: 0.6066666841506958\n"
     ]
    },
    {
     "data": {
      "application/vnd.jupyter.widget-view+json": {
       "model_id": "57f46fcada7a4a9997e56e6c0774fca4",
       "version_major": 2,
       "version_minor": 0
      },
      "text/plain": [
       "Epochs:   0%|          | 0/20 [00:00<?, ?it/s]"
      ]
     },
     "metadata": {},
     "output_type": "display_data"
    },
    {
     "name": "stdout",
     "output_type": "stream",
     "text": [
      "Epoch 40/80 Complete After 305s! Train Acc: 0.7191666960716248, Test Acc: 0.6708333492279053\n"
     ]
    },
    {
     "data": {
      "application/vnd.jupyter.widget-view+json": {
       "model_id": "ede72d8454d04ef2b43d4f9e590c210c",
       "version_major": 2,
       "version_minor": 0
      },
      "text/plain": [
       "Epochs:   0%|          | 0/20 [00:00<?, ?it/s]"
      ]
     },
     "metadata": {},
     "output_type": "display_data"
    },
    {
     "name": "stdout",
     "output_type": "stream",
     "text": [
      "Epoch 60/80 Complete After 457s! Train Acc: 0.7741667032241821, Test Acc: 0.699999988079071\n"
     ]
    },
    {
     "data": {
      "application/vnd.jupyter.widget-view+json": {
       "model_id": "c768d2a8be8148b2975c7a7ed291661a",
       "version_major": 2,
       "version_minor": 0
      },
      "text/plain": [
       "Epochs:   0%|          | 0/20 [00:00<?, ?it/s]"
      ]
     },
     "metadata": {},
     "output_type": "display_data"
    },
    {
     "name": "stdout",
     "output_type": "stream",
     "text": [
      "Epoch 80/80 Complete After 610s! Train Acc: 0.809166669845581, Test Acc: 0.7325000166893005\n",
      "Accuracy on benign test examples: 71.12%\n",
      "Accuracy on adversarial test examples (epsilon = 0.025): 15.129999999999999%\n",
      "Accuracy on adversarial test examples (epsilon = 0.05): 13.84%\n",
      "Accuracy on adversarial test examples (epsilon = 0.075): 12.72%\n",
      "Accuracy on adversarial test examples (epsilon = 0.1): 11.3%\n",
      "Training model with perturbations:\n",
      "[['Gaussian', 0.025]]\n"
     ]
    },
    {
     "data": {
      "application/vnd.jupyter.widget-view+json": {
       "model_id": "9f6b1da95cb64b8b82159242b659be43",
       "version_major": 2,
       "version_minor": 0
      },
      "text/plain": [
       "Epochs:   0%|          | 0/20 [00:00<?, ?it/s]"
      ]
     },
     "metadata": {},
     "output_type": "display_data"
    },
    {
     "name": "stdout",
     "output_type": "stream",
     "text": [
      "Epoch 20/80 Complete After 152s! Train Acc: 0.6666666865348816, Test Acc: 0.6324999928474426\n"
     ]
    },
    {
     "data": {
      "application/vnd.jupyter.widget-view+json": {
       "model_id": "53e7a31915fd40b98f7ee991462813ca",
       "version_major": 2,
       "version_minor": 0
      },
      "text/plain": [
       "Epochs:   0%|          | 0/20 [00:00<?, ?it/s]"
      ]
     },
     "metadata": {},
     "output_type": "display_data"
    },
    {
     "name": "stdout",
     "output_type": "stream",
     "text": [
      "Epoch 40/80 Complete After 304s! Train Acc: 0.7350000143051147, Test Acc: 0.6858333349227905\n"
     ]
    },
    {
     "data": {
      "application/vnd.jupyter.widget-view+json": {
       "model_id": "d898af828278481b8bec08dd9fab3c70",
       "version_major": 2,
       "version_minor": 0
      },
      "text/plain": [
       "Epochs:   0%|          | 0/20 [00:00<?, ?it/s]"
      ]
     },
     "metadata": {},
     "output_type": "display_data"
    },
    {
     "name": "stdout",
     "output_type": "stream",
     "text": [
      "Epoch 60/80 Complete After 457s! Train Acc: 0.7725000381469727, Test Acc: 0.7033333778381348\n"
     ]
    },
    {
     "data": {
      "application/vnd.jupyter.widget-view+json": {
       "model_id": "d6b413e7ff534f6aaf965cc7a4a1fc67",
       "version_major": 2,
       "version_minor": 0
      },
      "text/plain": [
       "Epochs:   0%|          | 0/20 [00:00<?, ?it/s]"
      ]
     },
     "metadata": {},
     "output_type": "display_data"
    },
    {
     "name": "stdout",
     "output_type": "stream",
     "text": [
      "Epoch 80/80 Complete After 610s! Train Acc: 0.8058333396911621, Test Acc: 0.7250000238418579\n",
      "Accuracy on benign test examples: 71.77%\n",
      "Accuracy on adversarial test examples (epsilon = 0.025): 15.52%\n",
      "Accuracy on adversarial test examples (epsilon = 0.05): 13.600000000000001%\n",
      "Accuracy on adversarial test examples (epsilon = 0.075): 12.27%\n",
      "Accuracy on adversarial test examples (epsilon = 0.1): 11.0%\n",
      "Training model with perturbations:\n",
      "[['Gaussian', 0.05]]\n"
     ]
    },
    {
     "data": {
      "application/vnd.jupyter.widget-view+json": {
       "model_id": "e4b69ca62eeb49fdbd7b393994c1eb5c",
       "version_major": 2,
       "version_minor": 0
      },
      "text/plain": [
       "Epochs:   0%|          | 0/20 [00:00<?, ?it/s]"
      ]
     },
     "metadata": {},
     "output_type": "display_data"
    },
    {
     "name": "stdout",
     "output_type": "stream",
     "text": [
      "Epoch 20/80 Complete After 152s! Train Acc: 0.6241666674613953, Test Acc: 0.6108333468437195\n"
     ]
    },
    {
     "data": {
      "application/vnd.jupyter.widget-view+json": {
       "model_id": "bae04d42c7dd47fc8e38309267edce67",
       "version_major": 2,
       "version_minor": 0
      },
      "text/plain": [
       "Epochs:   0%|          | 0/20 [00:00<?, ?it/s]"
      ]
     },
     "metadata": {},
     "output_type": "display_data"
    },
    {
     "name": "stdout",
     "output_type": "stream",
     "text": [
      "Epoch 40/80 Complete After 305s! Train Acc: 0.6941666603088379, Test Acc: 0.6666666865348816\n"
     ]
    },
    {
     "data": {
      "application/vnd.jupyter.widget-view+json": {
       "model_id": "3de0952c03d9416dabd8db0fe5b31a23",
       "version_major": 2,
       "version_minor": 0
      },
      "text/plain": [
       "Epochs:   0%|          | 0/20 [00:00<?, ?it/s]"
      ]
     },
     "metadata": {},
     "output_type": "display_data"
    },
    {
     "name": "stdout",
     "output_type": "stream",
     "text": [
      "Epoch 60/80 Complete After 457s! Train Acc: 0.7508333325386047, Test Acc: 0.7100000381469727\n"
     ]
    },
    {
     "data": {
      "application/vnd.jupyter.widget-view+json": {
       "model_id": "6103058e114f46458c404fd7a9774c52",
       "version_major": 2,
       "version_minor": 0
      },
      "text/plain": [
       "Epochs:   0%|          | 0/20 [00:00<?, ?it/s]"
      ]
     },
     "metadata": {},
     "output_type": "display_data"
    },
    {
     "name": "stdout",
     "output_type": "stream",
     "text": [
      "Epoch 80/80 Complete After 610s! Train Acc: 0.7916666865348816, Test Acc: 0.7291666865348816\n",
      "Accuracy on benign test examples: 71.95%\n",
      "Accuracy on adversarial test examples (epsilon = 0.025): 19.88%\n",
      "Accuracy on adversarial test examples (epsilon = 0.05): 13.63%\n",
      "Accuracy on adversarial test examples (epsilon = 0.075): 12.520000000000001%\n",
      "Accuracy on adversarial test examples (epsilon = 0.1): 11.379999999999999%\n",
      "Training model with perturbations:\n",
      "[[['Gaussian', 0.05], ['ContrastBrightness', 0.9, 0.9]]]\n"
     ]
    },
    {
     "data": {
      "application/vnd.jupyter.widget-view+json": {
       "model_id": "efa512772c884abda6ca1049ffc6a540",
       "version_major": 2,
       "version_minor": 0
      },
      "text/plain": [
       "Epochs:   0%|          | 0/20 [00:00<?, ?it/s]"
      ]
     },
     "metadata": {},
     "output_type": "display_data"
    },
    {
     "name": "stdout",
     "output_type": "stream",
     "text": [
      "Epoch 20/80 Complete After 158s! Train Acc: 0.3516666889190674, Test Acc: 0.4541666805744171\n"
     ]
    },
    {
     "data": {
      "application/vnd.jupyter.widget-view+json": {
       "model_id": "bb955dbf74ee425e87579cd730986c9b",
       "version_major": 2,
       "version_minor": 0
      },
      "text/plain": [
       "Epochs:   0%|          | 0/20 [00:00<?, ?it/s]"
      ]
     },
     "metadata": {},
     "output_type": "display_data"
    },
    {
     "name": "stdout",
     "output_type": "stream",
     "text": [
      "Epoch 40/80 Complete After 316s! Train Acc: 0.5300000309944153, Test Acc: 0.5825000405311584\n"
     ]
    },
    {
     "data": {
      "application/vnd.jupyter.widget-view+json": {
       "model_id": "426a24afb4d7458e988365aaa4ae9170",
       "version_major": 2,
       "version_minor": 0
      },
      "text/plain": [
       "Epochs:   0%|          | 0/20 [00:00<?, ?it/s]"
      ]
     },
     "metadata": {},
     "output_type": "display_data"
    },
    {
     "name": "stdout",
     "output_type": "stream",
     "text": [
      "Epoch 60/80 Complete After 475s! Train Acc: 0.6349999904632568, Test Acc: 0.5716666579246521\n"
     ]
    },
    {
     "data": {
      "application/vnd.jupyter.widget-view+json": {
       "model_id": "de3fed31821544b4984273e9caa27ff3",
       "version_major": 2,
       "version_minor": 0
      },
      "text/plain": [
       "Epochs:   0%|          | 0/20 [00:00<?, ?it/s]"
      ]
     },
     "metadata": {},
     "output_type": "display_data"
    },
    {
     "name": "stdout",
     "output_type": "stream",
     "text": [
      "Epoch 80/80 Complete After 633s! Train Acc: 0.6666666865348816, Test Acc: 0.6658333539962769\n",
      "Accuracy on benign test examples: 56.28999999999999%\n",
      "Accuracy on adversarial test examples (epsilon = 0.025): 36.8%\n",
      "Accuracy on adversarial test examples (epsilon = 0.05): 27.74%\n",
      "Accuracy on adversarial test examples (epsilon = 0.075): 26.0%\n",
      "Accuracy on adversarial test examples (epsilon = 0.1): 25.91%\n",
      "Training model with perturbations:\n",
      "[[['Gaussian', 0.05], ['RotationFlip', 0.3]]]\n"
     ]
    },
    {
     "data": {
      "application/vnd.jupyter.widget-view+json": {
       "model_id": "26f0da2aa98a4bc7ab2a7c1b55f15c31",
       "version_major": 2,
       "version_minor": 0
      },
      "text/plain": [
       "Epochs:   0%|          | 0/20 [00:00<?, ?it/s]"
      ]
     },
     "metadata": {},
     "output_type": "display_data"
    },
    {
     "name": "stdout",
     "output_type": "stream",
     "text": [
      "Epoch 20/80 Complete After 160s! Train Acc: 0.5733333230018616, Test Acc: 0.41333335638046265\n"
     ]
    },
    {
     "data": {
      "application/vnd.jupyter.widget-view+json": {
       "model_id": "497dd4a6930348c082251df0984d856a",
       "version_major": 2,
       "version_minor": 0
      },
      "text/plain": [
       "Epochs:   0%|          | 0/20 [00:00<?, ?it/s]"
      ]
     },
     "metadata": {},
     "output_type": "display_data"
    },
    {
     "name": "stdout",
     "output_type": "stream",
     "text": [
      "Epoch 40/80 Complete After 321s! Train Acc: 0.6675000190734863, Test Acc: 0.6299999952316284\n"
     ]
    },
    {
     "data": {
      "application/vnd.jupyter.widget-view+json": {
       "model_id": "6cf0f73eed3a4070862b81cf0324d849",
       "version_major": 2,
       "version_minor": 0
      },
      "text/plain": [
       "Epochs:   0%|          | 0/20 [00:00<?, ?it/s]"
      ]
     },
     "metadata": {},
     "output_type": "display_data"
    },
    {
     "name": "stdout",
     "output_type": "stream",
     "text": [
      "Epoch 60/80 Complete After 482s! Train Acc: 0.6825000047683716, Test Acc: 0.6641666889190674\n"
     ]
    },
    {
     "data": {
      "application/vnd.jupyter.widget-view+json": {
       "model_id": "7147070b95644294952926dc11c8c453",
       "version_major": 2,
       "version_minor": 0
      },
      "text/plain": [
       "Epochs:   0%|          | 0/20 [00:00<?, ?it/s]"
      ]
     },
     "metadata": {},
     "output_type": "display_data"
    },
    {
     "name": "stdout",
     "output_type": "stream",
     "text": [
      "Epoch 80/80 Complete After 643s! Train Acc: 0.7141667008399963, Test Acc: 0.70250004529953\n",
      "Accuracy on benign test examples: 66.67999999999999%\n",
      "Accuracy on adversarial test examples (epsilon = 0.025): 44.45%\n",
      "Accuracy on adversarial test examples (epsilon = 0.05): 31.009999999999998%\n",
      "Accuracy on adversarial test examples (epsilon = 0.075): 23.53%\n",
      "Accuracy on adversarial test examples (epsilon = 0.1): 19.950000000000003%\n",
      "Training model with perturbations:\n",
      "[[['Gaussian', 0.05], ['SaltPepper', 0.05]]]\n"
     ]
    },
    {
     "data": {
      "application/vnd.jupyter.widget-view+json": {
       "model_id": "ea33d7fa78a5492892740b45bc00c79a",
       "version_major": 2,
       "version_minor": 0
      },
      "text/plain": [
       "Epochs:   0%|          | 0/20 [00:00<?, ?it/s]"
      ]
     },
     "metadata": {},
     "output_type": "display_data"
    },
    {
     "name": "stdout",
     "output_type": "stream",
     "text": [
      "Epoch 20/80 Complete After 159s! Train Acc: 0.5816667079925537, Test Acc: 0.5733333230018616\n"
     ]
    },
    {
     "data": {
      "application/vnd.jupyter.widget-view+json": {
       "model_id": "3af87be73c574e8f876f7af311391b76",
       "version_major": 2,
       "version_minor": 0
      },
      "text/plain": [
       "Epochs:   0%|          | 0/20 [00:00<?, ?it/s]"
      ]
     },
     "metadata": {},
     "output_type": "display_data"
    },
    {
     "name": "stdout",
     "output_type": "stream",
     "text": [
      "Epoch 40/80 Complete After 318s! Train Acc: 0.6450000405311584, Test Acc: 0.6208333373069763\n"
     ]
    },
    {
     "data": {
      "application/vnd.jupyter.widget-view+json": {
       "model_id": "1418a22978114eaf8b59fd37dacfad70",
       "version_major": 2,
       "version_minor": 0
      },
      "text/plain": [
       "Epochs:   0%|          | 0/20 [00:00<?, ?it/s]"
      ]
     },
     "metadata": {},
     "output_type": "display_data"
    },
    {
     "name": "stdout",
     "output_type": "stream",
     "text": [
      "Epoch 60/80 Complete After 478s! Train Acc: 0.6958333253860474, Test Acc: 0.6625000238418579\n"
     ]
    },
    {
     "data": {
      "application/vnd.jupyter.widget-view+json": {
       "model_id": "bac015546274414bbe3195138cf5bf05",
       "version_major": 2,
       "version_minor": 0
      },
      "text/plain": [
       "Epochs:   0%|          | 0/20 [00:00<?, ?it/s]"
      ]
     },
     "metadata": {},
     "output_type": "display_data"
    },
    {
     "name": "stdout",
     "output_type": "stream",
     "text": [
      "Epoch 80/80 Complete After 637s! Train Acc: 0.7116667032241821, Test Acc: 0.6766666769981384\n",
      "Accuracy on benign test examples: 67.60000000000001%\n",
      "Accuracy on adversarial test examples (epsilon = 0.025): 40.300000000000004%\n",
      "Accuracy on adversarial test examples (epsilon = 0.05): 22.09%\n",
      "Accuracy on adversarial test examples (epsilon = 0.075): 16.400000000000002%\n",
      "Accuracy on adversarial test examples (epsilon = 0.1): 14.75%\n",
      "Training model with perturbations:\n",
      "[['Laplacian', 0.025]]\n"
     ]
    },
    {
     "data": {
      "application/vnd.jupyter.widget-view+json": {
       "model_id": "1dc8a12d9f2747978df6bf6e57872e32",
       "version_major": 2,
       "version_minor": 0
      },
      "text/plain": [
       "Epochs:   0%|          | 0/20 [00:00<?, ?it/s]"
      ]
     },
     "metadata": {},
     "output_type": "display_data"
    },
    {
     "name": "stdout",
     "output_type": "stream",
     "text": [
      "Epoch 20/80 Complete After 158s! Train Acc: 0.6183333396911621, Test Acc: 0.6075000166893005\n"
     ]
    },
    {
     "data": {
      "application/vnd.jupyter.widget-view+json": {
       "model_id": "3d1751610dd24fd492aac576b5b2bff9",
       "version_major": 2,
       "version_minor": 0
      },
      "text/plain": [
       "Epochs:   0%|          | 0/20 [00:00<?, ?it/s]"
      ]
     },
     "metadata": {},
     "output_type": "display_data"
    },
    {
     "name": "stdout",
     "output_type": "stream",
     "text": [
      "Epoch 40/80 Complete After 316s! Train Acc: 0.71833336353302, Test Acc: 0.6941666603088379\n"
     ]
    },
    {
     "data": {
      "application/vnd.jupyter.widget-view+json": {
       "model_id": "a400ef9056e04a338eb091fd7072e103",
       "version_major": 2,
       "version_minor": 0
      },
      "text/plain": [
       "Epochs:   0%|          | 0/20 [00:00<?, ?it/s]"
      ]
     },
     "metadata": {},
     "output_type": "display_data"
    },
    {
     "name": "stdout",
     "output_type": "stream",
     "text": [
      "Epoch 60/80 Complete After 474s! Train Acc: 0.7566666603088379, Test Acc: 0.6991666555404663\n"
     ]
    },
    {
     "data": {
      "application/vnd.jupyter.widget-view+json": {
       "model_id": "ad7ef3e1a53741ca8f953e73c73370e6",
       "version_major": 2,
       "version_minor": 0
      },
      "text/plain": [
       "Epochs:   0%|          | 0/20 [00:00<?, ?it/s]"
      ]
     },
     "metadata": {},
     "output_type": "display_data"
    },
    {
     "name": "stdout",
     "output_type": "stream",
     "text": [
      "Epoch 80/80 Complete After 633s! Train Acc: 0.79666668176651, Test Acc: 0.7233333587646484\n",
      "Accuracy on benign test examples: 72.0%\n",
      "Accuracy on adversarial test examples (epsilon = 0.025): 17.26%\n",
      "Accuracy on adversarial test examples (epsilon = 0.05): 13.62%\n",
      "Accuracy on adversarial test examples (epsilon = 0.075): 11.87%\n",
      "Accuracy on adversarial test examples (epsilon = 0.1): 11.31%\n",
      "Training model with perturbations:\n",
      "[['Laplacian', 0.05]]\n"
     ]
    },
    {
     "data": {
      "application/vnd.jupyter.widget-view+json": {
       "model_id": "26983477a65b4ccabf6a328dbbec36ac",
       "version_major": 2,
       "version_minor": 0
      },
      "text/plain": [
       "Epochs:   0%|          | 0/20 [00:00<?, ?it/s]"
      ]
     },
     "metadata": {},
     "output_type": "display_data"
    },
    {
     "name": "stdout",
     "output_type": "stream",
     "text": [
      "Epoch 20/80 Complete After 158s! Train Acc: 0.6141666769981384, Test Acc: 0.5925000309944153\n"
     ]
    },
    {
     "data": {
      "application/vnd.jupyter.widget-view+json": {
       "model_id": "d65c48790c904ee0b271415564718a38",
       "version_major": 2,
       "version_minor": 0
      },
      "text/plain": [
       "Epochs:   0%|          | 0/20 [00:00<?, ?it/s]"
      ]
     },
     "metadata": {},
     "output_type": "display_data"
    },
    {
     "name": "stdout",
     "output_type": "stream",
     "text": [
      "Epoch 40/80 Complete After 316s! Train Acc: 0.6891666650772095, Test Acc: 0.6608333587646484\n"
     ]
    },
    {
     "data": {
      "application/vnd.jupyter.widget-view+json": {
       "model_id": "b086fb74fcdf4968adf5798318ab7bcc",
       "version_major": 2,
       "version_minor": 0
      },
      "text/plain": [
       "Epochs:   0%|          | 0/20 [00:00<?, ?it/s]"
      ]
     },
     "metadata": {},
     "output_type": "display_data"
    },
    {
     "name": "stdout",
     "output_type": "stream",
     "text": [
      "Epoch 60/80 Complete After 475s! Train Acc: 0.7358333468437195, Test Acc: 0.6933333277702332\n"
     ]
    },
    {
     "data": {
      "application/vnd.jupyter.widget-view+json": {
       "model_id": "172f26a76f9a4592a4bbbc94257fadcc",
       "version_major": 2,
       "version_minor": 0
      },
      "text/plain": [
       "Epochs:   0%|          | 0/20 [00:00<?, ?it/s]"
      ]
     },
     "metadata": {},
     "output_type": "display_data"
    },
    {
     "name": "stdout",
     "output_type": "stream",
     "text": [
      "Epoch 80/80 Complete After 633s! Train Acc: 0.7800000309944153, Test Acc: 0.7125000357627869\n",
      "Accuracy on benign test examples: 71.15%\n",
      "Accuracy on adversarial test examples (epsilon = 0.025): 28.07%\n",
      "Accuracy on adversarial test examples (epsilon = 0.05): 15.15%\n",
      "Accuracy on adversarial test examples (epsilon = 0.075): 13.01%\n",
      "Accuracy on adversarial test examples (epsilon = 0.1): 12.33%\n",
      "Training model with perturbations:\n",
      "[[['Laplacian', 0.05], ['ContrastBrightness', 0.9, 0.9]]]\n"
     ]
    },
    {
     "data": {
      "application/vnd.jupyter.widget-view+json": {
       "model_id": "f6c46cedda35443ea23794c906c4cd7e",
       "version_major": 2,
       "version_minor": 0
      },
      "text/plain": [
       "Epochs:   0%|          | 0/20 [00:00<?, ?it/s]"
      ]
     },
     "metadata": {},
     "output_type": "display_data"
    },
    {
     "name": "stdout",
     "output_type": "stream",
     "text": [
      "Epoch 20/80 Complete After 161s! Train Acc: 0.3891666829586029, Test Acc: 0.4425000250339508\n"
     ]
    },
    {
     "data": {
      "application/vnd.jupyter.widget-view+json": {
       "model_id": "07cfb6698e3848d59c563e31f873ce25",
       "version_major": 2,
       "version_minor": 0
      },
      "text/plain": [
       "Epochs:   0%|          | 0/20 [00:00<?, ?it/s]"
      ]
     },
     "metadata": {},
     "output_type": "display_data"
    },
    {
     "name": "stdout",
     "output_type": "stream",
     "text": [
      "Epoch 40/80 Complete After 322s! Train Acc: 0.5491666793823242, Test Acc: 0.4116666913032532\n"
     ]
    },
    {
     "data": {
      "application/vnd.jupyter.widget-view+json": {
       "model_id": "f3ef9db0d63647dba88766f56ec9bb28",
       "version_major": 2,
       "version_minor": 0
      },
      "text/plain": [
       "Epochs:   0%|          | 0/20 [00:00<?, ?it/s]"
      ]
     },
     "metadata": {},
     "output_type": "display_data"
    },
    {
     "name": "stdout",
     "output_type": "stream",
     "text": [
      "Epoch 60/80 Complete After 483s! Train Acc: 0.1550000011920929, Test Acc: 0.3400000035762787\n"
     ]
    },
    {
     "data": {
      "application/vnd.jupyter.widget-view+json": {
       "model_id": "e94ffeec498e4cefa9190179976bc1fa",
       "version_major": 2,
       "version_minor": 0
      },
      "text/plain": [
       "Epochs:   0%|          | 0/20 [00:00<?, ?it/s]"
      ]
     },
     "metadata": {},
     "output_type": "display_data"
    },
    {
     "name": "stdout",
     "output_type": "stream",
     "text": [
      "Epoch 80/80 Complete After 644s! Train Acc: 0.6416667103767395, Test Acc: 0.6416667103767395\n",
      "Accuracy on benign test examples: 53.93%\n",
      "Accuracy on adversarial test examples (epsilon = 0.025): 39.36%\n",
      "Accuracy on adversarial test examples (epsilon = 0.05): 30.580000000000002%\n",
      "Accuracy on adversarial test examples (epsilon = 0.075): 29.110000000000003%\n",
      "Accuracy on adversarial test examples (epsilon = 0.1): 26.06%\n",
      "Training model with perturbations:\n",
      "[[['Laplacian', 0.05], ['RotationFlip', 0.3]]]\n"
     ]
    },
    {
     "data": {
      "application/vnd.jupyter.widget-view+json": {
       "model_id": "8dc3e345a5474229a023aa21b1dc8cf0",
       "version_major": 2,
       "version_minor": 0
      },
      "text/plain": [
       "Epochs:   0%|          | 0/20 [00:00<?, ?it/s]"
      ]
     },
     "metadata": {},
     "output_type": "display_data"
    },
    {
     "name": "stdout",
     "output_type": "stream",
     "text": [
      "Epoch 20/80 Complete After 163s! Train Acc: 0.5733333230018616, Test Acc: 0.4283333420753479\n"
     ]
    },
    {
     "data": {
      "application/vnd.jupyter.widget-view+json": {
       "model_id": "25381ed534b04424bd189adca08e8348",
       "version_major": 2,
       "version_minor": 0
      },
      "text/plain": [
       "Epochs:   0%|          | 0/20 [00:00<?, ?it/s]"
      ]
     },
     "metadata": {},
     "output_type": "display_data"
    },
    {
     "name": "stdout",
     "output_type": "stream",
     "text": [
      "Epoch 40/80 Complete After 327s! Train Acc: 0.6525000333786011, Test Acc: 0.4650000035762787\n"
     ]
    },
    {
     "data": {
      "application/vnd.jupyter.widget-view+json": {
       "model_id": "a3978c0b0ae845c79a712d55c1766956",
       "version_major": 2,
       "version_minor": 0
      },
      "text/plain": [
       "Epochs:   0%|          | 0/20 [00:00<?, ?it/s]"
      ]
     },
     "metadata": {},
     "output_type": "display_data"
    },
    {
     "name": "stdout",
     "output_type": "stream",
     "text": [
      "Epoch 60/80 Complete After 491s! Train Acc: 0.51583331823349, Test Acc: 0.6491667032241821\n"
     ]
    },
    {
     "data": {
      "application/vnd.jupyter.widget-view+json": {
       "model_id": "16620aaf5aa74370a6db92d04472c14d",
       "version_major": 2,
       "version_minor": 0
      },
      "text/plain": [
       "Epochs:   0%|          | 0/20 [00:00<?, ?it/s]"
      ]
     },
     "metadata": {},
     "output_type": "display_data"
    },
    {
     "name": "stdout",
     "output_type": "stream",
     "text": [
      "Epoch 80/80 Complete After 654s! Train Acc: 0.5525000095367432, Test Acc: 0.6933333277702332\n",
      "Accuracy on benign test examples: 64.07000000000001%\n",
      "Accuracy on adversarial test examples (epsilon = 0.025): 45.660000000000004%\n",
      "Accuracy on adversarial test examples (epsilon = 0.05): 32.769999999999996%\n",
      "Accuracy on adversarial test examples (epsilon = 0.075): 25.619999999999997%\n",
      "Accuracy on adversarial test examples (epsilon = 0.1): 20.919999999999998%\n",
      "Training model with perturbations:\n",
      "[[['Laplacian', 0.05], ['SaltPepper', 0.05]]]\n"
     ]
    },
    {
     "data": {
      "application/vnd.jupyter.widget-view+json": {
       "model_id": "b2a258f99fe147c985a30167924b9ab9",
       "version_major": 2,
       "version_minor": 0
      },
      "text/plain": [
       "Epochs:   0%|          | 0/20 [00:00<?, ?it/s]"
      ]
     },
     "metadata": {},
     "output_type": "display_data"
    },
    {
     "name": "stdout",
     "output_type": "stream",
     "text": [
      "Epoch 20/80 Complete After 162s! Train Acc: 0.5950000286102295, Test Acc: 0.6000000238418579\n"
     ]
    },
    {
     "data": {
      "application/vnd.jupyter.widget-view+json": {
       "model_id": "2be2375c93874006b2e50cb3b37c6f79",
       "version_major": 2,
       "version_minor": 0
      },
      "text/plain": [
       "Epochs:   0%|          | 0/20 [00:00<?, ?it/s]"
      ]
     },
     "metadata": {},
     "output_type": "display_data"
    },
    {
     "name": "stdout",
     "output_type": "stream",
     "text": [
      "Epoch 40/80 Complete After 325s! Train Acc: 0.6508333683013916, Test Acc: 0.6633333563804626\n"
     ]
    },
    {
     "data": {
      "application/vnd.jupyter.widget-view+json": {
       "model_id": "642327b671d1481ab399e3aaf8fd4574",
       "version_major": 2,
       "version_minor": 0
      },
      "text/plain": [
       "Epochs:   0%|          | 0/20 [00:00<?, ?it/s]"
      ]
     },
     "metadata": {},
     "output_type": "display_data"
    },
    {
     "name": "stdout",
     "output_type": "stream",
     "text": [
      "Epoch 60/80 Complete After 488s! Train Acc: 0.6833333373069763, Test Acc: 0.6608333587646484\n"
     ]
    },
    {
     "data": {
      "application/vnd.jupyter.widget-view+json": {
       "model_id": "5544f0e82f4942ce8afc01e96da9cb6e",
       "version_major": 2,
       "version_minor": 0
      },
      "text/plain": [
       "Epochs:   0%|          | 0/20 [00:00<?, ?it/s]"
      ]
     },
     "metadata": {},
     "output_type": "display_data"
    },
    {
     "name": "stdout",
     "output_type": "stream",
     "text": [
      "Epoch 80/80 Complete After 650s! Train Acc: 0.7225000262260437, Test Acc: 0.6775000095367432\n",
      "Accuracy on benign test examples: 67.78999999999999%\n",
      "Accuracy on adversarial test examples (epsilon = 0.025): 43.46%\n",
      "Accuracy on adversarial test examples (epsilon = 0.05): 23.26%\n",
      "Accuracy on adversarial test examples (epsilon = 0.075): 16.37%\n",
      "Accuracy on adversarial test examples (epsilon = 0.1): 13.819999999999999%\n",
      "Training model with perturbations:\n",
      "[['Lp-norm', 0.5, 1]]\n"
     ]
    },
    {
     "data": {
      "application/vnd.jupyter.widget-view+json": {
       "model_id": "875302011c7b48a19ce702c3db07b7dd",
       "version_major": 2,
       "version_minor": 0
      },
      "text/plain": [
       "Epochs:   0%|          | 0/20 [00:00<?, ?it/s]"
      ]
     },
     "metadata": {},
     "output_type": "display_data"
    },
    {
     "name": "stdout",
     "output_type": "stream",
     "text": [
      "Epoch 20/80 Complete After 152s! Train Acc: 0.6266666650772095, Test Acc: 0.6108333468437195\n"
     ]
    },
    {
     "data": {
      "application/vnd.jupyter.widget-view+json": {
       "model_id": "22515ad5069947e2b3d42e80abcb14dd",
       "version_major": 2,
       "version_minor": 0
      },
      "text/plain": [
       "Epochs:   0%|          | 0/20 [00:00<?, ?it/s]"
      ]
     },
     "metadata": {},
     "output_type": "display_data"
    },
    {
     "name": "stdout",
     "output_type": "stream",
     "text": [
      "Epoch 40/80 Complete After 305s! Train Acc: 0.7350000143051147, Test Acc: 0.6899999976158142\n"
     ]
    },
    {
     "data": {
      "application/vnd.jupyter.widget-view+json": {
       "model_id": "08682a8dec0a47eeaac9ddc4b1dcbee2",
       "version_major": 2,
       "version_minor": 0
      },
      "text/plain": [
       "Epochs:   0%|          | 0/20 [00:00<?, ?it/s]"
      ]
     },
     "metadata": {},
     "output_type": "display_data"
    },
    {
     "name": "stdout",
     "output_type": "stream",
     "text": [
      "Epoch 60/80 Complete After 458s! Train Acc: 0.7691667079925537, Test Acc: 0.7233333587646484\n"
     ]
    },
    {
     "data": {
      "application/vnd.jupyter.widget-view+json": {
       "model_id": "91b91b0ee0364b3593c795c4244d5088",
       "version_major": 2,
       "version_minor": 0
      },
      "text/plain": [
       "Epochs:   0%|          | 0/20 [00:00<?, ?it/s]"
      ]
     },
     "metadata": {},
     "output_type": "display_data"
    },
    {
     "name": "stdout",
     "output_type": "stream",
     "text": [
      "Epoch 80/80 Complete After 611s! Train Acc: 0.8066666722297668, Test Acc: 0.7366666793823242\n",
      "Accuracy on benign test examples: 72.2%\n",
      "Accuracy on adversarial test examples (epsilon = 0.025): 14.499999999999998%\n",
      "Accuracy on adversarial test examples (epsilon = 0.05): 12.920000000000002%\n",
      "Accuracy on adversarial test examples (epsilon = 0.075): 11.91%\n",
      "Accuracy on adversarial test examples (epsilon = 0.1): 10.95%\n",
      "Training model with perturbations:\n",
      "[[['Lp-norm', 0.5, 1], ['ContrastBrightness', 0.9, 0.9]]]\n"
     ]
    },
    {
     "data": {
      "application/vnd.jupyter.widget-view+json": {
       "model_id": "eafe76852ce14584a54c98c87a523165",
       "version_major": 2,
       "version_minor": 0
      },
      "text/plain": [
       "Epochs:   0%|          | 0/20 [00:00<?, ?it/s]"
      ]
     },
     "metadata": {},
     "output_type": "display_data"
    },
    {
     "name": "stdout",
     "output_type": "stream",
     "text": [
      "Epoch 20/80 Complete After 158s! Train Acc: 0.4983333349227905, Test Acc: 0.5241667032241821\n"
     ]
    },
    {
     "data": {
      "application/vnd.jupyter.widget-view+json": {
       "model_id": "dbf68608d347490f9d768384ca7863e0",
       "version_major": 2,
       "version_minor": 0
      },
      "text/plain": [
       "Epochs:   0%|          | 0/20 [00:00<?, ?it/s]"
      ]
     },
     "metadata": {},
     "output_type": "display_data"
    },
    {
     "name": "stdout",
     "output_type": "stream",
     "text": [
      "Epoch 40/80 Complete After 317s! Train Acc: 0.6025000214576721, Test Acc: 0.625\n"
     ]
    },
    {
     "data": {
      "application/vnd.jupyter.widget-view+json": {
       "model_id": "f88d35bba92541b9bd4c1e8fd0b2fd08",
       "version_major": 2,
       "version_minor": 0
      },
      "text/plain": [
       "Epochs:   0%|          | 0/20 [00:00<?, ?it/s]"
      ]
     },
     "metadata": {},
     "output_type": "display_data"
    },
    {
     "name": "stdout",
     "output_type": "stream",
     "text": [
      "Epoch 60/80 Complete After 475s! Train Acc: 0.6924999952316284, Test Acc: 0.6741666793823242\n"
     ]
    },
    {
     "data": {
      "application/vnd.jupyter.widget-view+json": {
       "model_id": "03e08841ec474afd84dedc415fe93e3c",
       "version_major": 2,
       "version_minor": 0
      },
      "text/plain": [
       "Epochs:   0%|          | 0/20 [00:00<?, ?it/s]"
      ]
     },
     "metadata": {},
     "output_type": "display_data"
    },
    {
     "name": "stdout",
     "output_type": "stream",
     "text": [
      "Epoch 80/80 Complete After 634s! Train Acc: 0.7291666865348816, Test Acc: 0.6899999976158142\n",
      "Accuracy on benign test examples: 61.44%\n",
      "Accuracy on adversarial test examples (epsilon = 0.025): 30.869999999999997%\n",
      "Accuracy on adversarial test examples (epsilon = 0.05): 27.279999999999998%\n",
      "Accuracy on adversarial test examples (epsilon = 0.075): 26.35%\n",
      "Accuracy on adversarial test examples (epsilon = 0.1): 23.400000000000002%\n",
      "Training model with perturbations:\n",
      "[[['Lp-norm', 0.5, 1], ['RotationFlip', 0.3]]]\n"
     ]
    },
    {
     "data": {
      "application/vnd.jupyter.widget-view+json": {
       "model_id": "8237751c8e784180bb47b51f362bcc23",
       "version_major": 2,
       "version_minor": 0
      },
      "text/plain": [
       "Epochs:   0%|          | 0/20 [00:00<?, ?it/s]"
      ]
     },
     "metadata": {},
     "output_type": "display_data"
    },
    {
     "name": "stdout",
     "output_type": "stream",
     "text": [
      "Epoch 20/80 Complete After 160s! Train Acc: 0.43666666746139526, Test Acc: 0.534166693687439\n"
     ]
    },
    {
     "data": {
      "application/vnd.jupyter.widget-view+json": {
       "model_id": "122ef2d001c14f6aa9df8879708fd4e3",
       "version_major": 2,
       "version_minor": 0
      },
      "text/plain": [
       "Epochs:   0%|          | 0/20 [00:00<?, ?it/s]"
      ]
     },
     "metadata": {},
     "output_type": "display_data"
    },
    {
     "name": "stdout",
     "output_type": "stream",
     "text": [
      "Epoch 40/80 Complete After 321s! Train Acc: 0.6600000262260437, Test Acc: 0.6441667079925537\n"
     ]
    },
    {
     "data": {
      "application/vnd.jupyter.widget-view+json": {
       "model_id": "a56f2c7ed523437cb5bab90f563ddd09",
       "version_major": 2,
       "version_minor": 0
      },
      "text/plain": [
       "Epochs:   0%|          | 0/20 [00:00<?, ?it/s]"
      ]
     },
     "metadata": {},
     "output_type": "display_data"
    },
    {
     "name": "stdout",
     "output_type": "stream",
     "text": [
      "Epoch 60/80 Complete After 482s! Train Acc: 0.5583333373069763, Test Acc: 0.6958333253860474\n"
     ]
    },
    {
     "data": {
      "application/vnd.jupyter.widget-view+json": {
       "model_id": "a237ebc479a040d09df28e90c8ec8da1",
       "version_major": 2,
       "version_minor": 0
      },
      "text/plain": [
       "Epochs:   0%|          | 0/20 [00:00<?, ?it/s]"
      ]
     },
     "metadata": {},
     "output_type": "display_data"
    },
    {
     "name": "stdout",
     "output_type": "stream",
     "text": [
      "Epoch 80/80 Complete After 643s! Train Acc: 0.7591666579246521, Test Acc: 0.5608333349227905\n",
      "Accuracy on benign test examples: 67.25999999999999%\n",
      "Accuracy on adversarial test examples (epsilon = 0.025): 39.489999999999995%\n",
      "Accuracy on adversarial test examples (epsilon = 0.05): 28.21%\n",
      "Accuracy on adversarial test examples (epsilon = 0.075): 20.45%\n",
      "Accuracy on adversarial test examples (epsilon = 0.1): 17.919999999999998%\n",
      "Training model with perturbations:\n",
      "[[['Lp-norm', 0.5, 1], ['SaltPepper', 0.05]]]\n"
     ]
    },
    {
     "data": {
      "application/vnd.jupyter.widget-view+json": {
       "model_id": "9e88c985e50347acbaf1204a9f769671",
       "version_major": 2,
       "version_minor": 0
      },
      "text/plain": [
       "Epochs:   0%|          | 0/20 [00:00<?, ?it/s]"
      ]
     },
     "metadata": {},
     "output_type": "display_data"
    },
    {
     "name": "stdout",
     "output_type": "stream",
     "text": [
      "Epoch 20/80 Complete After 159s! Train Acc: 0.574999988079071, Test Acc: 0.5600000023841858\n"
     ]
    },
    {
     "data": {
      "application/vnd.jupyter.widget-view+json": {
       "model_id": "15042b966633411db449c3d781a19a11",
       "version_major": 2,
       "version_minor": 0
      },
      "text/plain": [
       "Epochs:   0%|          | 0/20 [00:00<?, ?it/s]"
      ]
     },
     "metadata": {},
     "output_type": "display_data"
    },
    {
     "name": "stdout",
     "output_type": "stream",
     "text": [
      "Epoch 40/80 Complete After 318s! Train Acc: 0.6600000262260437, Test Acc: 0.6333333253860474\n"
     ]
    },
    {
     "data": {
      "application/vnd.jupyter.widget-view+json": {
       "model_id": "94070d1347504c3593433cc162867200",
       "version_major": 2,
       "version_minor": 0
      },
      "text/plain": [
       "Epochs:   0%|          | 0/20 [00:00<?, ?it/s]"
      ]
     },
     "metadata": {},
     "output_type": "display_data"
    },
    {
     "name": "stdout",
     "output_type": "stream",
     "text": [
      "Epoch 60/80 Complete After 477s! Train Acc: 0.7033333778381348, Test Acc: 0.6758333444595337\n"
     ]
    },
    {
     "data": {
      "application/vnd.jupyter.widget-view+json": {
       "model_id": "19dc080702e24ef4ad68cb54a60b03bd",
       "version_major": 2,
       "version_minor": 0
      },
      "text/plain": [
       "Epochs:   0%|          | 0/20 [00:00<?, ?it/s]"
      ]
     },
     "metadata": {},
     "output_type": "display_data"
    },
    {
     "name": "stdout",
     "output_type": "stream",
     "text": [
      "Epoch 80/80 Complete After 637s! Train Acc: 0.7524999976158142, Test Acc: 0.6941666603088379\n",
      "Accuracy on benign test examples: 69.61%\n",
      "Accuracy on adversarial test examples (epsilon = 0.025): 34.17%\n",
      "Accuracy on adversarial test examples (epsilon = 0.05): 18.78%\n",
      "Accuracy on adversarial test examples (epsilon = 0.075): 15.55%\n",
      "Accuracy on adversarial test examples (epsilon = 0.1): 13.73%\n",
      "Training model with perturbations:\n",
      "[['Lp-norm', 0.5, 2]]\n"
     ]
    },
    {
     "data": {
      "application/vnd.jupyter.widget-view+json": {
       "model_id": "38de0ca4eb9449ab919e57ce46f02664",
       "version_major": 2,
       "version_minor": 0
      },
      "text/plain": [
       "Epochs:   0%|          | 0/20 [00:00<?, ?it/s]"
      ]
     },
     "metadata": {},
     "output_type": "display_data"
    },
    {
     "name": "stdout",
     "output_type": "stream",
     "text": [
      "Epoch 20/80 Complete After 152s! Train Acc: 0.6508333683013916, Test Acc: 0.5950000286102295\n"
     ]
    },
    {
     "data": {
      "application/vnd.jupyter.widget-view+json": {
       "model_id": "e2096af17aff4d4baa3f6bed52787ac6",
       "version_major": 2,
       "version_minor": 0
      },
      "text/plain": [
       "Epochs:   0%|          | 0/20 [00:00<?, ?it/s]"
      ]
     },
     "metadata": {},
     "output_type": "display_data"
    },
    {
     "name": "stdout",
     "output_type": "stream",
     "text": [
      "Epoch 40/80 Complete After 305s! Train Acc: 0.7358333468437195, Test Acc: 0.6891666650772095\n"
     ]
    },
    {
     "data": {
      "application/vnd.jupyter.widget-view+json": {
       "model_id": "ab89ef4f98ed43f1a81fdeceed71325d",
       "version_major": 2,
       "version_minor": 0
      },
      "text/plain": [
       "Epochs:   0%|          | 0/20 [00:00<?, ?it/s]"
      ]
     },
     "metadata": {},
     "output_type": "display_data"
    },
    {
     "name": "stdout",
     "output_type": "stream",
     "text": [
      "Epoch 60/80 Complete After 458s! Train Acc: 0.7925000190734863, Test Acc: 0.7116667032241821\n"
     ]
    },
    {
     "data": {
      "application/vnd.jupyter.widget-view+json": {
       "model_id": "9a9e596a5077484eb590dc59f455e573",
       "version_major": 2,
       "version_minor": 0
      },
      "text/plain": [
       "Epochs:   0%|          | 0/20 [00:00<?, ?it/s]"
      ]
     },
     "metadata": {},
     "output_type": "display_data"
    },
    {
     "name": "stdout",
     "output_type": "stream",
     "text": [
      "Epoch 80/80 Complete After 611s! Train Acc: 0.8208333253860474, Test Acc: 0.7333333492279053\n",
      "Accuracy on benign test examples: 72.39999999999999%\n",
      "Accuracy on adversarial test examples (epsilon = 0.025): 14.299999999999999%\n",
      "Accuracy on adversarial test examples (epsilon = 0.05): 13.07%\n",
      "Accuracy on adversarial test examples (epsilon = 0.075): 11.83%\n",
      "Accuracy on adversarial test examples (epsilon = 0.1): 10.52%\n",
      "Training model with perturbations:\n",
      "[['Lp-norm', 0.5, 3]]\n"
     ]
    },
    {
     "data": {
      "application/vnd.jupyter.widget-view+json": {
       "model_id": "96236c83e14b41769b8c52a4af8176bd",
       "version_major": 2,
       "version_minor": 0
      },
      "text/plain": [
       "Epochs:   0%|          | 0/20 [00:00<?, ?it/s]"
      ]
     },
     "metadata": {},
     "output_type": "display_data"
    },
    {
     "name": "stdout",
     "output_type": "stream",
     "text": [
      "Epoch 20/80 Complete After 152s! Train Acc: 0.625, Test Acc: 0.6166666746139526\n"
     ]
    },
    {
     "data": {
      "application/vnd.jupyter.widget-view+json": {
       "model_id": "15da8b29be2d4c658bfbaf512f69f64a",
       "version_major": 2,
       "version_minor": 0
      },
      "text/plain": [
       "Epochs:   0%|          | 0/20 [00:00<?, ?it/s]"
      ]
     },
     "metadata": {},
     "output_type": "display_data"
    },
    {
     "name": "stdout",
     "output_type": "stream",
     "text": [
      "Epoch 40/80 Complete After 305s! Train Acc: 0.7458333373069763, Test Acc: 0.7066667079925537\n"
     ]
    },
    {
     "data": {
      "application/vnd.jupyter.widget-view+json": {
       "model_id": "66fffd62ed704dce832adb1cae9826ab",
       "version_major": 2,
       "version_minor": 0
      },
      "text/plain": [
       "Epochs:   0%|          | 0/20 [00:00<?, ?it/s]"
      ]
     },
     "metadata": {},
     "output_type": "display_data"
    },
    {
     "name": "stdout",
     "output_type": "stream",
     "text": [
      "Epoch 60/80 Complete After 458s! Train Acc: 0.79666668176651, Test Acc: 0.7241666913032532\n"
     ]
    },
    {
     "data": {
      "application/vnd.jupyter.widget-view+json": {
       "model_id": "48c6827a00c24c7898a9cd57cfbfe4d4",
       "version_major": 2,
       "version_minor": 0
      },
      "text/plain": [
       "Epochs:   0%|          | 0/20 [00:00<?, ?it/s]"
      ]
     },
     "metadata": {},
     "output_type": "display_data"
    },
    {
     "name": "stdout",
     "output_type": "stream",
     "text": [
      "Epoch 80/80 Complete After 611s! Train Acc: 0.8425000309944153, Test Acc: 0.7316666841506958\n",
      "Accuracy on benign test examples: 71.94%\n",
      "Accuracy on adversarial test examples (epsilon = 0.025): 14.85%\n",
      "Accuracy on adversarial test examples (epsilon = 0.05): 13.5%\n",
      "Accuracy on adversarial test examples (epsilon = 0.075): 12.36%\n",
      "Accuracy on adversarial test examples (epsilon = 0.1): 11.450000000000001%\n",
      "Training model with perturbations:\n",
      "[['Lp-norm', 0.5, 4]]\n"
     ]
    },
    {
     "data": {
      "application/vnd.jupyter.widget-view+json": {
       "model_id": "4d4e705f86d04e868f300e0b0e57a109",
       "version_major": 2,
       "version_minor": 0
      },
      "text/plain": [
       "Epochs:   0%|          | 0/20 [00:00<?, ?it/s]"
      ]
     },
     "metadata": {},
     "output_type": "display_data"
    },
    {
     "name": "stdout",
     "output_type": "stream",
     "text": [
      "Epoch 20/80 Complete After 152s! Train Acc: 0.6175000071525574, Test Acc: 0.6025000214576721\n"
     ]
    },
    {
     "data": {
      "application/vnd.jupyter.widget-view+json": {
       "model_id": "a4cdf41e018a43cca379a664a241c994",
       "version_major": 2,
       "version_minor": 0
      },
      "text/plain": [
       "Epochs:   0%|          | 0/20 [00:00<?, ?it/s]"
      ]
     },
     "metadata": {},
     "output_type": "display_data"
    },
    {
     "name": "stdout",
     "output_type": "stream",
     "text": [
      "Epoch 40/80 Complete After 305s! Train Acc: 0.7116667032241821, Test Acc: 0.6875\n"
     ]
    },
    {
     "data": {
      "application/vnd.jupyter.widget-view+json": {
       "model_id": "e1162d53bae14515a8d34596d9841dc9",
       "version_major": 2,
       "version_minor": 0
      },
      "text/plain": [
       "Epochs:   0%|          | 0/20 [00:00<?, ?it/s]"
      ]
     },
     "metadata": {},
     "output_type": "display_data"
    },
    {
     "name": "stdout",
     "output_type": "stream",
     "text": [
      "Epoch 60/80 Complete After 459s! Train Acc: 0.76500004529953, Test Acc: 0.7016667127609253\n"
     ]
    },
    {
     "data": {
      "application/vnd.jupyter.widget-view+json": {
       "model_id": "1c4db4d9c2414d638983ac5edd49815b",
       "version_major": 2,
       "version_minor": 0
      },
      "text/plain": [
       "Epochs:   0%|          | 0/20 [00:00<?, ?it/s]"
      ]
     },
     "metadata": {},
     "output_type": "display_data"
    },
    {
     "name": "stdout",
     "output_type": "stream",
     "text": [
      "Epoch 80/80 Complete After 612s! Train Acc: 0.8008333444595337, Test Acc: 0.7116667032241821\n",
      "Accuracy on benign test examples: 71.15%\n",
      "Accuracy on adversarial test examples (epsilon = 0.025): 16.24%\n",
      "Accuracy on adversarial test examples (epsilon = 0.05): 14.069999999999999%\n",
      "Accuracy on adversarial test examples (epsilon = 0.075): 12.870000000000001%\n",
      "Accuracy on adversarial test examples (epsilon = 0.1): 11.74%\n",
      "Training model with perturbations:\n",
      "[['Lp-norm', 0.5, inf]]\n"
     ]
    },
    {
     "data": {
      "application/vnd.jupyter.widget-view+json": {
       "model_id": "a062fc7bebb34e2c8aca27faac8a708a",
       "version_major": 2,
       "version_minor": 0
      },
      "text/plain": [
       "Epochs:   0%|          | 0/20 [00:00<?, ?it/s]"
      ]
     },
     "metadata": {},
     "output_type": "display_data"
    },
    {
     "name": "stdout",
     "output_type": "stream",
     "text": [
      "Epoch 20/80 Complete After 152s! Train Acc: 0.6158333420753479, Test Acc: 0.6025000214576721\n"
     ]
    },
    {
     "data": {
      "application/vnd.jupyter.widget-view+json": {
       "model_id": "5557ef51449e46a691fcafa35c92a997",
       "version_major": 2,
       "version_minor": 0
      },
      "text/plain": [
       "Epochs:   0%|          | 0/20 [00:00<?, ?it/s]"
      ]
     },
     "metadata": {},
     "output_type": "display_data"
    },
    {
     "name": "stdout",
     "output_type": "stream",
     "text": [
      "Epoch 40/80 Complete After 305s! Train Acc: 0.6808333396911621, Test Acc: 0.6516667008399963\n"
     ]
    },
    {
     "data": {
      "application/vnd.jupyter.widget-view+json": {
       "model_id": "fd82ca15b682465c9ac07d8879ca2632",
       "version_major": 2,
       "version_minor": 0
      },
      "text/plain": [
       "Epochs:   0%|          | 0/20 [00:00<?, ?it/s]"
      ]
     },
     "metadata": {},
     "output_type": "display_data"
    },
    {
     "name": "stdout",
     "output_type": "stream",
     "text": [
      "Epoch 60/80 Complete After 458s! Train Acc: 0.7358333468437195, Test Acc: 0.6858333349227905\n"
     ]
    },
    {
     "data": {
      "application/vnd.jupyter.widget-view+json": {
       "model_id": "6c0882b488c54c0aa0427f4f486b0d20",
       "version_major": 2,
       "version_minor": 0
      },
      "text/plain": [
       "Epochs:   0%|          | 0/20 [00:00<?, ?it/s]"
      ]
     },
     "metadata": {},
     "output_type": "display_data"
    },
    {
     "name": "stdout",
     "output_type": "stream",
     "text": [
      "Epoch 80/80 Complete After 611s! Train Acc: 0.7616666555404663, Test Acc: 0.7116667032241821\n",
      "Accuracy on benign test examples: 69.96%\n",
      "Accuracy on adversarial test examples (epsilon = 0.025): 39.37%\n",
      "Accuracy on adversarial test examples (epsilon = 0.05): 20.07%\n",
      "Accuracy on adversarial test examples (epsilon = 0.075): 15.010000000000002%\n",
      "Accuracy on adversarial test examples (epsilon = 0.1): 13.850000000000001%\n",
      "Training model with perturbations:\n",
      "[['ContrastBrightness', 0.9, 0.9]]\n"
     ]
    },
    {
     "data": {
      "application/vnd.jupyter.widget-view+json": {
       "model_id": "1d2bb662005f4bc09d6aa87a3928b606",
       "version_major": 2,
       "version_minor": 0
      },
      "text/plain": [
       "Epochs:   0%|          | 0/20 [00:00<?, ?it/s]"
      ]
     },
     "metadata": {},
     "output_type": "display_data"
    },
    {
     "name": "stdout",
     "output_type": "stream",
     "text": [
      "Epoch 20/80 Complete After 158s! Train Acc: 0.4116666913032532, Test Acc: 0.4650000035762787\n"
     ]
    },
    {
     "data": {
      "application/vnd.jupyter.widget-view+json": {
       "model_id": "f627d32b515a4a72a48f7137c7a9d966",
       "version_major": 2,
       "version_minor": 0
      },
      "text/plain": [
       "Epochs:   0%|          | 0/20 [00:00<?, ?it/s]"
      ]
     },
     "metadata": {},
     "output_type": "display_data"
    },
    {
     "name": "stdout",
     "output_type": "stream",
     "text": [
      "Epoch 40/80 Complete After 316s! Train Acc: 0.6108333468437195, Test Acc: 0.4750000238418579\n"
     ]
    },
    {
     "data": {
      "application/vnd.jupyter.widget-view+json": {
       "model_id": "3c852846b8694bcda532046508b369b9",
       "version_major": 2,
       "version_minor": 0
      },
      "text/plain": [
       "Epochs:   0%|          | 0/20 [00:00<?, ?it/s]"
      ]
     },
     "metadata": {},
     "output_type": "display_data"
    },
    {
     "name": "stdout",
     "output_type": "stream",
     "text": [
      "Epoch 60/80 Complete After 474s! Train Acc: 0.6299999952316284, Test Acc: 0.6391666531562805\n"
     ]
    },
    {
     "data": {
      "application/vnd.jupyter.widget-view+json": {
       "model_id": "45d91b56fc484c149c7ad61f8ee8ddb0",
       "version_major": 2,
       "version_minor": 0
      },
      "text/plain": [
       "Epochs:   0%|          | 0/20 [00:00<?, ?it/s]"
      ]
     },
     "metadata": {},
     "output_type": "display_data"
    },
    {
     "name": "stdout",
     "output_type": "stream",
     "text": [
      "Epoch 80/80 Complete After 632s! Train Acc: 0.71833336353302, Test Acc: 0.1758333444595337\n",
      "Accuracy on benign test examples: 59.84%\n",
      "Accuracy on adversarial test examples (epsilon = 0.025): 31.830000000000002%\n",
      "Accuracy on adversarial test examples (epsilon = 0.05): 25.629999999999995%\n",
      "Accuracy on adversarial test examples (epsilon = 0.075): 25.1%\n",
      "Accuracy on adversarial test examples (epsilon = 0.1): 23.03%\n",
      "Training model with perturbations:\n",
      "[['RotationFlip', 0.3]]\n"
     ]
    },
    {
     "data": {
      "application/vnd.jupyter.widget-view+json": {
       "model_id": "4d2f5acd02354c93b284c831253bee3a",
       "version_major": 2,
       "version_minor": 0
      },
      "text/plain": [
       "Epochs:   0%|          | 0/20 [00:00<?, ?it/s]"
      ]
     },
     "metadata": {},
     "output_type": "display_data"
    },
    {
     "name": "stdout",
     "output_type": "stream",
     "text": [
      "Epoch 20/80 Complete After 160s! Train Acc: 0.42166668176651, Test Acc: 0.5683333277702332\n"
     ]
    },
    {
     "data": {
      "application/vnd.jupyter.widget-view+json": {
       "model_id": "5382223b3d3b4224afa2111840ca0cd5",
       "version_major": 2,
       "version_minor": 0
      },
      "text/plain": [
       "Epochs:   0%|          | 0/20 [00:00<?, ?it/s]"
      ]
     },
     "metadata": {},
     "output_type": "display_data"
    },
    {
     "name": "stdout",
     "output_type": "stream",
     "text": [
      "Epoch 40/80 Complete After 320s! Train Acc: 0.6550000309944153, Test Acc: 0.6341666579246521\n"
     ]
    },
    {
     "data": {
      "application/vnd.jupyter.widget-view+json": {
       "model_id": "720dec7dcd2449bab3fd6193695a3423",
       "version_major": 2,
       "version_minor": 0
      },
      "text/plain": [
       "Epochs:   0%|          | 0/20 [00:00<?, ?it/s]"
      ]
     },
     "metadata": {},
     "output_type": "display_data"
    },
    {
     "name": "stdout",
     "output_type": "stream",
     "text": [
      "Epoch 60/80 Complete After 481s! Train Acc: 0.5716666579246521, Test Acc: 0.5291666984558105\n"
     ]
    },
    {
     "data": {
      "application/vnd.jupyter.widget-view+json": {
       "model_id": "aec09aad53514a53a054452d04d8633a",
       "version_major": 2,
       "version_minor": 0
      },
      "text/plain": [
       "Epochs:   0%|          | 0/20 [00:00<?, ?it/s]"
      ]
     },
     "metadata": {},
     "output_type": "display_data"
    },
    {
     "name": "stdout",
     "output_type": "stream",
     "text": [
      "Epoch 80/80 Complete After 641s! Train Acc: 0.7291666865348816, Test Acc: 0.699999988079071\n",
      "Accuracy on benign test examples: 65.39%\n",
      "Accuracy on adversarial test examples (epsilon = 0.025): 39.800000000000004%\n",
      "Accuracy on adversarial test examples (epsilon = 0.05): 27.36%\n",
      "Accuracy on adversarial test examples (epsilon = 0.075): 20.64%\n",
      "Accuracy on adversarial test examples (epsilon = 0.1): 18.33%\n",
      "Training model with perturbations:\n",
      "[['SaltPepper', 0.05]]\n"
     ]
    },
    {
     "data": {
      "application/vnd.jupyter.widget-view+json": {
       "model_id": "01cdae74297e47418b15c86f0d2e4502",
       "version_major": 2,
       "version_minor": 0
      },
      "text/plain": [
       "Epochs:   0%|          | 0/20 [00:00<?, ?it/s]"
      ]
     },
     "metadata": {},
     "output_type": "display_data"
    },
    {
     "name": "stdout",
     "output_type": "stream",
     "text": [
      "Epoch 20/80 Complete After 158s! Train Acc: 0.59333336353302, Test Acc: 0.5991666913032532\n"
     ]
    },
    {
     "data": {
      "application/vnd.jupyter.widget-view+json": {
       "model_id": "9d8d8f7520ea46c581e5c2e10447da50",
       "version_major": 2,
       "version_minor": 0
      },
      "text/plain": [
       "Epochs:   0%|          | 0/20 [00:00<?, ?it/s]"
      ]
     },
     "metadata": {},
     "output_type": "display_data"
    },
    {
     "name": "stdout",
     "output_type": "stream",
     "text": [
      "Epoch 40/80 Complete After 318s! Train Acc: 0.6875, Test Acc: 0.6483333706855774\n"
     ]
    },
    {
     "data": {
      "application/vnd.jupyter.widget-view+json": {
       "model_id": "7333ecb8314146669a214bdcdddd4a79",
       "version_major": 2,
       "version_minor": 0
      },
      "text/plain": [
       "Epochs:   0%|          | 0/20 [00:00<?, ?it/s]"
      ]
     },
     "metadata": {},
     "output_type": "display_data"
    },
    {
     "name": "stdout",
     "output_type": "stream",
     "text": [
      "Epoch 60/80 Complete After 477s! Train Acc: 0.7133333683013916, Test Acc: 0.6899999976158142\n"
     ]
    },
    {
     "data": {
      "application/vnd.jupyter.widget-view+json": {
       "model_id": "07e9ae86660349d8bd528d3107da233e",
       "version_major": 2,
       "version_minor": 0
      },
      "text/plain": [
       "Epochs:   0%|          | 0/20 [00:00<?, ?it/s]"
      ]
     },
     "metadata": {},
     "output_type": "display_data"
    },
    {
     "name": "stdout",
     "output_type": "stream",
     "text": [
      "Epoch 80/80 Complete After 636s! Train Acc: 0.753333330154419, Test Acc: 0.7116667032241821\n",
      "Accuracy on benign test examples: 70.26%\n",
      "Accuracy on adversarial test examples (epsilon = 0.025): 31.369999999999997%\n",
      "Accuracy on adversarial test examples (epsilon = 0.05): 17.36%\n",
      "Accuracy on adversarial test examples (epsilon = 0.075): 14.64%\n",
      "Accuracy on adversarial test examples (epsilon = 0.1): 13.44%\n",
      "Training model with perturbations:\n",
      "[['Gaussian', 0.05], ['Laplacian', 0.05]]\n"
     ]
    },
    {
     "data": {
      "application/vnd.jupyter.widget-view+json": {
       "model_id": "5b83e664368b4cee93d90d62c547b107",
       "version_major": 2,
       "version_minor": 0
      },
      "text/plain": [
       "Epochs:   0%|          | 0/20 [00:00<?, ?it/s]"
      ]
     },
     "metadata": {},
     "output_type": "display_data"
    },
    {
     "name": "stdout",
     "output_type": "stream",
     "text": [
      "Epoch 20/80 Complete After 315s! Train Acc: 0.6358333230018616, Test Acc: 0.6241666674613953\n"
     ]
    },
    {
     "data": {
      "application/vnd.jupyter.widget-view+json": {
       "model_id": "aec865c68f834be085066a10dfc0c683",
       "version_major": 2,
       "version_minor": 0
      },
      "text/plain": [
       "Epochs:   0%|          | 0/20 [00:00<?, ?it/s]"
      ]
     },
     "metadata": {},
     "output_type": "display_data"
    },
    {
     "name": "stdout",
     "output_type": "stream",
     "text": [
      "Epoch 40/80 Complete After 638s! Train Acc: 0.721666693687439, Test Acc: 0.6791666746139526\n"
     ]
    },
    {
     "data": {
      "application/vnd.jupyter.widget-view+json": {
       "model_id": "5ca6eec054214f44b68c931078bbfb4f",
       "version_major": 2,
       "version_minor": 0
      },
      "text/plain": [
       "Epochs:   0%|          | 0/20 [00:00<?, ?it/s]"
      ]
     },
     "metadata": {},
     "output_type": "display_data"
    },
    {
     "name": "stdout",
     "output_type": "stream",
     "text": [
      "Epoch 60/80 Complete After 961s! Train Acc: 0.7691667079925537, Test Acc: 0.7083333730697632\n"
     ]
    },
    {
     "data": {
      "application/vnd.jupyter.widget-view+json": {
       "model_id": "6b5dcd9666c84df28e1d5c2482b4fe9f",
       "version_major": 2,
       "version_minor": 0
      },
      "text/plain": [
       "Epochs:   0%|          | 0/20 [00:00<?, ?it/s]"
      ]
     },
     "metadata": {},
     "output_type": "display_data"
    },
    {
     "name": "stdout",
     "output_type": "stream",
     "text": [
      "Epoch 80/80 Complete After 1284s! Train Acc: 0.7833333611488342, Test Acc: 0.7200000286102295\n",
      "Accuracy on benign test examples: 71.52%\n",
      "Accuracy on adversarial test examples (epsilon = 0.025): 20.64%\n",
      "Accuracy on adversarial test examples (epsilon = 0.05): 14.219999999999999%\n",
      "Accuracy on adversarial test examples (epsilon = 0.075): 13.13%\n",
      "Accuracy on adversarial test examples (epsilon = 0.1): 12.16%\n",
      "Training model with perturbations:\n",
      "[[['Gaussian', 0.05], ['Laplacian', 0.05]]]\n"
     ]
    },
    {
     "data": {
      "application/vnd.jupyter.widget-view+json": {
       "model_id": "90ec7bbf025c4a82b9f42ad707a05318",
       "version_major": 2,
       "version_minor": 0
      },
      "text/plain": [
       "Epochs:   0%|          | 0/20 [00:00<?, ?it/s]"
      ]
     },
     "metadata": {},
     "output_type": "display_data"
    },
    {
     "name": "stdout",
     "output_type": "stream",
     "text": [
      "Epoch 20/80 Complete After 158s! Train Acc: 0.5908333659172058, Test Acc: 0.5800000429153442\n"
     ]
    },
    {
     "data": {
      "application/vnd.jupyter.widget-view+json": {
       "model_id": "fba38ded970a49f48a4a6e640be17ec7",
       "version_major": 2,
       "version_minor": 0
      },
      "text/plain": [
       "Epochs:   0%|          | 0/20 [00:00<?, ?it/s]"
      ]
     },
     "metadata": {},
     "output_type": "display_data"
    },
    {
     "name": "stdout",
     "output_type": "stream",
     "text": [
      "Epoch 40/80 Complete After 317s! Train Acc: 0.67166668176651, Test Acc: 0.6466667056083679\n"
     ]
    },
    {
     "data": {
      "application/vnd.jupyter.widget-view+json": {
       "model_id": "90ff7b2c394c4a2dbdc3bfd1b7500621",
       "version_major": 2,
       "version_minor": 0
      },
      "text/plain": [
       "Epochs:   0%|          | 0/20 [00:00<?, ?it/s]"
      ]
     },
     "metadata": {},
     "output_type": "display_data"
    },
    {
     "name": "stdout",
     "output_type": "stream",
     "text": [
      "Epoch 60/80 Complete After 476s! Train Acc: 0.7316666841506958, Test Acc: 0.6883333325386047\n"
     ]
    },
    {
     "data": {
      "application/vnd.jupyter.widget-view+json": {
       "model_id": "58c88630b8d846e093341417d611fc77",
       "version_major": 2,
       "version_minor": 0
      },
      "text/plain": [
       "Epochs:   0%|          | 0/20 [00:00<?, ?it/s]"
      ]
     },
     "metadata": {},
     "output_type": "display_data"
    },
    {
     "name": "stdout",
     "output_type": "stream",
     "text": [
      "Epoch 80/80 Complete After 634s! Train Acc: 0.7541666626930237, Test Acc: 0.7091667056083679\n",
      "Accuracy on benign test examples: 69.82000000000001%\n",
      "Accuracy on adversarial test examples (epsilon = 0.025): 32.29%\n",
      "Accuracy on adversarial test examples (epsilon = 0.05): 17.05%\n",
      "Accuracy on adversarial test examples (epsilon = 0.075): 15.03%\n",
      "Accuracy on adversarial test examples (epsilon = 0.1): 13.239999999999998%\n",
      "Training model with perturbations:\n",
      "[['Gaussian', 0.05], ['Lp-norm', 0.5, 1]]\n"
     ]
    },
    {
     "data": {
      "application/vnd.jupyter.widget-view+json": {
       "model_id": "52d549cac3e84e79aa799af5bc35c90c",
       "version_major": 2,
       "version_minor": 0
      },
      "text/plain": [
       "Epochs:   0%|          | 0/20 [00:00<?, ?it/s]"
      ]
     },
     "metadata": {},
     "output_type": "display_data"
    },
    {
     "name": "stdout",
     "output_type": "stream",
     "text": [
      "Epoch 20/80 Complete After 301s! Train Acc: 0.6183333396911621, Test Acc: 0.6116666793823242\n"
     ]
    },
    {
     "data": {
      "application/vnd.jupyter.widget-view+json": {
       "model_id": "e1b1e5b8dace452dba248cfa7a05f013",
       "version_major": 2,
       "version_minor": 0
      },
      "text/plain": [
       "Epochs:   0%|          | 0/20 [00:00<?, ?it/s]"
      ]
     },
     "metadata": {},
     "output_type": "display_data"
    },
    {
     "name": "stdout",
     "output_type": "stream",
     "text": [
      "Epoch 40/80 Complete After 619s! Train Acc: 0.71833336353302, Test Acc: 0.7075000405311584\n"
     ]
    },
    {
     "data": {
      "application/vnd.jupyter.widget-view+json": {
       "model_id": "894255deb2ce4e8b944ef7a56afd5fdc",
       "version_major": 2,
       "version_minor": 0
      },
      "text/plain": [
       "Epochs:   0%|          | 0/20 [00:00<?, ?it/s]"
      ]
     },
     "metadata": {},
     "output_type": "display_data"
    },
    {
     "name": "stdout",
     "output_type": "stream",
     "text": [
      "Epoch 60/80 Complete After 944s! Train Acc: 0.76500004529953, Test Acc: 0.7241666913032532\n"
     ]
    },
    {
     "data": {
      "application/vnd.jupyter.widget-view+json": {
       "model_id": "4715ccbb17dc427198ab4a942d5c7ad7",
       "version_major": 2,
       "version_minor": 0
      },
      "text/plain": [
       "Epochs:   0%|          | 0/20 [00:00<?, ?it/s]"
      ]
     },
     "metadata": {},
     "output_type": "display_data"
    },
    {
     "name": "stdout",
     "output_type": "stream",
     "text": [
      "Epoch 80/80 Complete After 1274s! Train Acc: 0.8075000047683716, Test Acc: 0.7491666674613953\n",
      "Accuracy on benign test examples: 72.48%\n",
      "Accuracy on adversarial test examples (epsilon = 0.025): 15.57%\n",
      "Accuracy on adversarial test examples (epsilon = 0.05): 13.11%\n",
      "Accuracy on adversarial test examples (epsilon = 0.075): 12.21%\n",
      "Accuracy on adversarial test examples (epsilon = 0.1): 11.57%\n",
      "Training model with perturbations:\n",
      "[['Laplacian', 0.05], ['Lp-norm', 0.5, 1]]\n"
     ]
    },
    {
     "data": {
      "application/vnd.jupyter.widget-view+json": {
       "model_id": "48c770c2219742cbaa0e795a1a2af167",
       "version_major": 2,
       "version_minor": 0
      },
      "text/plain": [
       "Epochs:   0%|          | 0/20 [00:00<?, ?it/s]"
      ]
     },
     "metadata": {},
     "output_type": "display_data"
    },
    {
     "name": "stdout",
     "output_type": "stream",
     "text": [
      "Epoch 20/80 Complete After 330s! Train Acc: 0.6550000309944153, Test Acc: 0.6150000095367432\n"
     ]
    },
    {
     "data": {
      "application/vnd.jupyter.widget-view+json": {
       "model_id": "6b24e0f1f91b4539b5769d4fa1f697e6",
       "version_major": 2,
       "version_minor": 0
      },
      "text/plain": [
       "Epochs:   0%|          | 0/20 [00:00<?, ?it/s]"
      ]
     },
     "metadata": {},
     "output_type": "display_data"
    },
    {
     "name": "stdout",
     "output_type": "stream",
     "text": [
      "Epoch 40/80 Complete After 669s! Train Acc: 0.7450000047683716, Test Acc: 0.6974999904632568\n"
     ]
    },
    {
     "data": {
      "application/vnd.jupyter.widget-view+json": {
       "model_id": "301814890cad4e31ad408558b2cec300",
       "version_major": 2,
       "version_minor": 0
      },
      "text/plain": [
       "Epochs:   0%|          | 0/20 [00:00<?, ?it/s]"
      ]
     },
     "metadata": {},
     "output_type": "display_data"
    },
    {
     "name": "stdout",
     "output_type": "stream",
     "text": [
      "Epoch 60/80 Complete After 1008s! Train Acc: 0.7675000429153442, Test Acc: 0.7233333587646484\n"
     ]
    },
    {
     "data": {
      "application/vnd.jupyter.widget-view+json": {
       "model_id": "79140ce9c0d14902aa74a6b0e8b57e2c",
       "version_major": 2,
       "version_minor": 0
      },
      "text/plain": [
       "Epochs:   0%|          | 0/20 [00:00<?, ?it/s]"
      ]
     },
     "metadata": {},
     "output_type": "display_data"
    },
    {
     "name": "stdout",
     "output_type": "stream",
     "text": [
      "Epoch 80/80 Complete After 1347s! Train Acc: 0.7825000286102295, Test Acc: 0.7366666793823242\n",
      "Accuracy on benign test examples: 72.72%\n",
      "Accuracy on adversarial test examples (epsilon = 0.025): 16.0%\n",
      "Accuracy on adversarial test examples (epsilon = 0.05): 13.320000000000002%\n",
      "Accuracy on adversarial test examples (epsilon = 0.075): 11.98%\n",
      "Accuracy on adversarial test examples (epsilon = 0.1): 11.020000000000001%\n",
      "Training model with perturbations:\n",
      "[['Lp-norm', 0.5, 1], ['Lp-norm', 0.5, 2]]\n"
     ]
    },
    {
     "data": {
      "application/vnd.jupyter.widget-view+json": {
       "model_id": "6068260d96ed4f01990300f1f5713c54",
       "version_major": 2,
       "version_minor": 0
      },
      "text/plain": [
       "Epochs:   0%|          | 0/20 [00:00<?, ?it/s]"
      ]
     },
     "metadata": {},
     "output_type": "display_data"
    },
    {
     "name": "stdout",
     "output_type": "stream",
     "text": [
      "Epoch 20/80 Complete After 313s! Train Acc: 0.6550000309944153, Test Acc: 0.6500000357627869\n"
     ]
    },
    {
     "data": {
      "application/vnd.jupyter.widget-view+json": {
       "model_id": "3c4b33236fb4459486625225cbaad3d2",
       "version_major": 2,
       "version_minor": 0
      },
      "text/plain": [
       "Epochs:   0%|          | 0/20 [00:00<?, ?it/s]"
      ]
     },
     "metadata": {},
     "output_type": "display_data"
    },
    {
     "name": "stdout",
     "output_type": "stream",
     "text": [
      "Epoch 40/80 Complete After 643s! Train Acc: 0.7616666555404663, Test Acc: 0.6949999928474426\n"
     ]
    },
    {
     "data": {
      "application/vnd.jupyter.widget-view+json": {
       "model_id": "b8273541e7304bd7838a68444ef7f7e7",
       "version_major": 2,
       "version_minor": 0
      },
      "text/plain": [
       "Epochs:   0%|          | 0/20 [00:00<?, ?it/s]"
      ]
     },
     "metadata": {},
     "output_type": "display_data"
    },
    {
     "name": "stdout",
     "output_type": "stream",
     "text": [
      "Epoch 60/80 Complete After 973s! Train Acc: 0.8058333396911621, Test Acc: 0.7233333587646484\n"
     ]
    },
    {
     "data": {
      "application/vnd.jupyter.widget-view+json": {
       "model_id": "0350dfa8ee0e4bd893fbd5bca13153bd",
       "version_major": 2,
       "version_minor": 0
      },
      "text/plain": [
       "Epochs:   0%|          | 0/20 [00:00<?, ?it/s]"
      ]
     },
     "metadata": {},
     "output_type": "display_data"
    },
    {
     "name": "stdout",
     "output_type": "stream",
     "text": [
      "Epoch 80/80 Complete After 1303s! Train Acc: 0.830833375453949, Test Acc: 0.7325000166893005\n",
      "Accuracy on benign test examples: 71.67999999999999%\n",
      "Accuracy on adversarial test examples (epsilon = 0.025): 14.549999999999999%\n",
      "Accuracy on adversarial test examples (epsilon = 0.05): 13.56%\n",
      "Accuracy on adversarial test examples (epsilon = 0.075): 12.920000000000002%\n",
      "Accuracy on adversarial test examples (epsilon = 0.1): 11.88%\n",
      "Training model with perturbations:\n",
      "[['Gaussian', 0.05], ['Laplacian', 0.05], ['Lp-norm', 0.5, 1]]\n"
     ]
    },
    {
     "data": {
      "application/vnd.jupyter.widget-view+json": {
       "model_id": "05d89b968d1d4c91bca5945c966cf57a",
       "version_major": 2,
       "version_minor": 0
      },
      "text/plain": [
       "Epochs:   0%|          | 0/20 [00:00<?, ?it/s]"
      ]
     },
     "metadata": {},
     "output_type": "display_data"
    },
    {
     "name": "stdout",
     "output_type": "stream",
     "text": [
      "Epoch 20/80 Complete After 496s! Train Acc: 0.6450000405311584, Test Acc: 0.6133333444595337\n"
     ]
    },
    {
     "data": {
      "application/vnd.jupyter.widget-view+json": {
       "model_id": "be44d3eac50349458ceba110599aa7b1",
       "version_major": 2,
       "version_minor": 0
      },
      "text/plain": [
       "Epochs:   0%|          | 0/20 [00:00<?, ?it/s]"
      ]
     },
     "metadata": {},
     "output_type": "display_data"
    },
    {
     "name": "stdout",
     "output_type": "stream",
     "text": [
      "Epoch 40/80 Complete After 1009s! Train Acc: 0.7116667032241821, Test Acc: 0.675000011920929\n"
     ]
    },
    {
     "data": {
      "application/vnd.jupyter.widget-view+json": {
       "model_id": "cf46d555703b4062bf0facb783c8bcce",
       "version_major": 2,
       "version_minor": 0
      },
      "text/plain": [
       "Epochs:   0%|          | 0/20 [00:00<?, ?it/s]"
      ]
     },
     "metadata": {},
     "output_type": "display_data"
    },
    {
     "name": "stdout",
     "output_type": "stream",
     "text": [
      "Epoch 60/80 Complete After 1521s! Train Acc: 0.7750000357627869, Test Acc: 0.7241666913032532\n"
     ]
    },
    {
     "data": {
      "application/vnd.jupyter.widget-view+json": {
       "model_id": "58a724373b0841589a5501d6d1549548",
       "version_major": 2,
       "version_minor": 0
      },
      "text/plain": [
       "Epochs:   0%|          | 0/20 [00:00<?, ?it/s]"
      ]
     },
     "metadata": {},
     "output_type": "display_data"
    },
    {
     "name": "stdout",
     "output_type": "stream",
     "text": [
      "Epoch 80/80 Complete After 2032s! Train Acc: 0.8033333420753479, Test Acc: 0.7416666746139526\n",
      "Accuracy on benign test examples: 73.16%\n",
      "Accuracy on adversarial test examples (epsilon = 0.025): 15.370000000000001%\n",
      "Accuracy on adversarial test examples (epsilon = 0.05): 12.82%\n",
      "Accuracy on adversarial test examples (epsilon = 0.075): 11.690000000000001%\n",
      "Accuracy on adversarial test examples (epsilon = 0.1): 10.82%\n",
      "Training model with perturbations:\n",
      "[['Gaussian', 0.05], [['Laplacian', 0.05], ['SaltPepper', 0.05]]]\n"
     ]
    },
    {
     "data": {
      "application/vnd.jupyter.widget-view+json": {
       "model_id": "feddc24381364efdaefe4fe2c5d1c995",
       "version_major": 2,
       "version_minor": 0
      },
      "text/plain": [
       "Epochs:   0%|          | 0/20 [00:00<?, ?it/s]"
      ]
     },
     "metadata": {},
     "output_type": "display_data"
    },
    {
     "name": "stdout",
     "output_type": "stream",
     "text": [
      "Epoch 20/80 Complete After 334s! Train Acc: 0.6000000238418579, Test Acc: 0.6083333492279053\n"
     ]
    },
    {
     "data": {
      "application/vnd.jupyter.widget-view+json": {
       "model_id": "bad16de70e8a474da03704d276de1368",
       "version_major": 2,
       "version_minor": 0
      },
      "text/plain": [
       "Epochs:   0%|          | 0/20 [00:00<?, ?it/s]"
      ]
     },
     "metadata": {},
     "output_type": "display_data"
    },
    {
     "name": "stdout",
     "output_type": "stream",
     "text": [
      "Epoch 40/80 Complete After 677s! Train Acc: 0.6783333420753479, Test Acc: 0.6825000047683716\n"
     ]
    },
    {
     "data": {
      "application/vnd.jupyter.widget-view+json": {
       "model_id": "4543ca0cd4b64328ba2c2b27ca6d3719",
       "version_major": 2,
       "version_minor": 0
      },
      "text/plain": [
       "Epochs:   0%|          | 0/20 [00:00<?, ?it/s]"
      ]
     },
     "metadata": {},
     "output_type": "display_data"
    },
    {
     "name": "stdout",
     "output_type": "stream",
     "text": [
      "Epoch 60/80 Complete After 1020s! Train Acc: 0.737500011920929, Test Acc: 0.7166666984558105\n"
     ]
    },
    {
     "data": {
      "application/vnd.jupyter.widget-view+json": {
       "model_id": "29a75fb613a24f87a6a92e00131a35fe",
       "version_major": 2,
       "version_minor": 0
      },
      "text/plain": [
       "Epochs:   0%|          | 0/20 [00:00<?, ?it/s]"
      ]
     },
     "metadata": {},
     "output_type": "display_data"
    },
    {
     "name": "stdout",
     "output_type": "stream",
     "text": [
      "Epoch 80/80 Complete After 1362s! Train Acc: 0.7625000476837158, Test Acc: 0.7366666793823242\n",
      "Accuracy on benign test examples: 71.28%\n",
      "Accuracy on adversarial test examples (epsilon = 0.025): 25.53%\n",
      "Accuracy on adversarial test examples (epsilon = 0.05): 15.409999999999998%\n",
      "Accuracy on adversarial test examples (epsilon = 0.075): 13.089999999999998%\n",
      "Accuracy on adversarial test examples (epsilon = 0.1): 12.53%\n",
      "Training model with perturbations:\n",
      "[['Gaussian', 0.05], [['Lp-norm', 0.5, 1], ['ContrastBrightness', 0.9, 0.9]]]\n"
     ]
    },
    {
     "data": {
      "application/vnd.jupyter.widget-view+json": {
       "model_id": "0efaffeb3c7342ea89118d59fc66d676",
       "version_major": 2,
       "version_minor": 0
      },
      "text/plain": [
       "Epochs:   0%|          | 0/20 [00:00<?, ?it/s]"
      ]
     },
     "metadata": {},
     "output_type": "display_data"
    },
    {
     "name": "stdout",
     "output_type": "stream",
     "text": [
      "Epoch 20/80 Complete After 329s! Train Acc: 0.5450000166893005, Test Acc: 0.5550000071525574\n"
     ]
    },
    {
     "data": {
      "application/vnd.jupyter.widget-view+json": {
       "model_id": "bc1096aafe95422aace526b378c9f270",
       "version_major": 2,
       "version_minor": 0
      },
      "text/plain": [
       "Epochs:   0%|          | 0/20 [00:00<?, ?it/s]"
      ]
     },
     "metadata": {},
     "output_type": "display_data"
    },
    {
     "name": "stdout",
     "output_type": "stream",
     "text": [
      "Epoch 40/80 Complete After 666s! Train Acc: 0.6500000357627869, Test Acc: 0.6408333778381348\n"
     ]
    },
    {
     "data": {
      "application/vnd.jupyter.widget-view+json": {
       "model_id": "b1ff86287ea44ec8bd0f7a344f1bf654",
       "version_major": 2,
       "version_minor": 0
      },
      "text/plain": [
       "Epochs:   0%|          | 0/20 [00:00<?, ?it/s]"
      ]
     },
     "metadata": {},
     "output_type": "display_data"
    },
    {
     "name": "stdout",
     "output_type": "stream",
     "text": [
      "Epoch 60/80 Complete After 1004s! Train Acc: 0.7408333420753479, Test Acc: 0.6875\n"
     ]
    },
    {
     "data": {
      "application/vnd.jupyter.widget-view+json": {
       "model_id": "a0689372f97e446599a5ce2510a26089",
       "version_major": 2,
       "version_minor": 0
      },
      "text/plain": [
       "Epochs:   0%|          | 0/20 [00:00<?, ?it/s]"
      ]
     },
     "metadata": {},
     "output_type": "display_data"
    },
    {
     "name": "stdout",
     "output_type": "stream",
     "text": [
      "Epoch 80/80 Complete After 1342s! Train Acc: 0.7625000476837158, Test Acc: 0.7125000357627869\n",
      "Accuracy on benign test examples: 71.2%\n",
      "Accuracy on adversarial test examples (epsilon = 0.025): 21.13%\n",
      "Accuracy on adversarial test examples (epsilon = 0.05): 13.8%\n",
      "Accuracy on adversarial test examples (epsilon = 0.075): 12.11%\n",
      "Accuracy on adversarial test examples (epsilon = 0.1): 11.600000000000001%\n",
      "Training model with perturbations:\n",
      "[['Laplacian', 0.05], [['Lp-norm', 0.5, 1], ['RotationFlip', 0.3]]]\n"
     ]
    },
    {
     "data": {
      "application/vnd.jupyter.widget-view+json": {
       "model_id": "985091da4809482a9811f794aa1e5f4b",
       "version_major": 2,
       "version_minor": 0
      },
      "text/plain": [
       "Epochs:   0%|          | 0/20 [00:00<?, ?it/s]"
      ]
     },
     "metadata": {},
     "output_type": "display_data"
    },
    {
     "name": "stdout",
     "output_type": "stream",
     "text": [
      "Epoch 20/80 Complete After 334s! Train Acc: 0.6133333444595337, Test Acc: 0.5925000309944153\n"
     ]
    },
    {
     "data": {
      "application/vnd.jupyter.widget-view+json": {
       "model_id": "0231add016e545ceadd8367cc8d42911",
       "version_major": 2,
       "version_minor": 0
      },
      "text/plain": [
       "Epochs:   0%|          | 0/20 [00:00<?, ?it/s]"
      ]
     },
     "metadata": {},
     "output_type": "display_data"
    },
    {
     "name": "stdout",
     "output_type": "stream",
     "text": [
      "Epoch 40/80 Complete After 677s! Train Acc: 0.7008333206176758, Test Acc: 0.5941666960716248\n"
     ]
    },
    {
     "data": {
      "application/vnd.jupyter.widget-view+json": {
       "model_id": "fb379a53879f455fb4cf37fc888369d0",
       "version_major": 2,
       "version_minor": 0
      },
      "text/plain": [
       "Epochs:   0%|          | 0/20 [00:00<?, ?it/s]"
      ]
     },
     "metadata": {},
     "output_type": "display_data"
    },
    {
     "name": "stdout",
     "output_type": "stream",
     "text": [
      "Epoch 60/80 Complete After 1020s! Train Acc: 0.6741666793823242, Test Acc: 0.7116667032241821\n"
     ]
    },
    {
     "data": {
      "application/vnd.jupyter.widget-view+json": {
       "model_id": "0a52ad31c74542069aa7157e702d21ae",
       "version_major": 2,
       "version_minor": 0
      },
      "text/plain": [
       "Epochs:   0%|          | 0/20 [00:00<?, ?it/s]"
      ]
     },
     "metadata": {},
     "output_type": "display_data"
    },
    {
     "name": "stdout",
     "output_type": "stream",
     "text": [
      "Epoch 80/80 Complete After 1363s! Train Acc: 0.7016667127609253, Test Acc: 0.7458333373069763\n",
      "Accuracy on benign test examples: 70.24000000000001%\n",
      "Accuracy on adversarial test examples (epsilon = 0.025): 30.34%\n",
      "Accuracy on adversarial test examples (epsilon = 0.05): 18.509999999999998%\n",
      "Accuracy on adversarial test examples (epsilon = 0.075): 14.45%\n",
      "Accuracy on adversarial test examples (epsilon = 0.1): 12.9%\n",
      "Training model with perturbations:\n",
      "[[['Gaussian', 0.05], ['SaltPepper', 0.05]], [['Gaussian', 0.05], ['RotationFlip', 0.3]]]\n"
     ]
    },
    {
     "data": {
      "application/vnd.jupyter.widget-view+json": {
       "model_id": "582c9b8eef2d4a3bba04a26198a4bf24",
       "version_major": 2,
       "version_minor": 0
      },
      "text/plain": [
       "Epochs:   0%|          | 0/20 [00:00<?, ?it/s]"
      ]
     },
     "metadata": {},
     "output_type": "display_data"
    },
    {
     "name": "stdout",
     "output_type": "stream",
     "text": [
      "Epoch 20/80 Complete After 334s! Train Acc: 0.5149999856948853, Test Acc: 0.5958333611488342\n"
     ]
    },
    {
     "data": {
      "application/vnd.jupyter.widget-view+json": {
       "model_id": "71083d287dda42d2ae92ec6135ad858f",
       "version_major": 2,
       "version_minor": 0
      },
      "text/plain": [
       "Epochs:   0%|          | 0/20 [00:00<?, ?it/s]"
      ]
     },
     "metadata": {},
     "output_type": "display_data"
    },
    {
     "name": "stdout",
     "output_type": "stream",
     "text": [
      "Epoch 40/80 Complete After 677s! Train Acc: 0.6650000214576721, Test Acc: 0.6475000381469727\n"
     ]
    },
    {
     "data": {
      "application/vnd.jupyter.widget-view+json": {
       "model_id": "cd32f2c5bec34c2281b6b44911cb81a5",
       "version_major": 2,
       "version_minor": 0
      },
      "text/plain": [
       "Epochs:   0%|          | 0/20 [00:00<?, ?it/s]"
      ]
     },
     "metadata": {},
     "output_type": "display_data"
    },
    {
     "name": "stdout",
     "output_type": "stream",
     "text": [
      "Epoch 60/80 Complete After 1020s! Train Acc: 0.7166666984558105, Test Acc: 0.6708333492279053\n"
     ]
    },
    {
     "data": {
      "application/vnd.jupyter.widget-view+json": {
       "model_id": "c12fb3581e4240b8a5440e23bd4980a3",
       "version_major": 2,
       "version_minor": 0
      },
      "text/plain": [
       "Epochs:   0%|          | 0/20 [00:00<?, ?it/s]"
      ]
     },
     "metadata": {},
     "output_type": "display_data"
    },
    {
     "name": "stdout",
     "output_type": "stream",
     "text": [
      "Epoch 80/80 Complete After 1363s! Train Acc: 0.7558333277702332, Test Acc: 0.7050000429153442\n",
      "Accuracy on benign test examples: 67.03%\n",
      "Accuracy on adversarial test examples (epsilon = 0.025): 38.97%\n",
      "Accuracy on adversarial test examples (epsilon = 0.05): 23.810000000000002%\n",
      "Accuracy on adversarial test examples (epsilon = 0.075): 18.21%\n",
      "Accuracy on adversarial test examples (epsilon = 0.1): 15.709999999999999%\n",
      "Training model with perturbations:\n",
      "[[['Laplacian', 0.05], ['SaltPepper', 0.05]], [['Laplacian', 0.05], ['RotationFlip', 0.3]]]\n"
     ]
    },
    {
     "data": {
      "application/vnd.jupyter.widget-view+json": {
       "model_id": "1f3688ba43a6455bb3baf045e734089b",
       "version_major": 2,
       "version_minor": 0
      },
      "text/plain": [
       "Epochs:   0%|          | 0/20 [00:00<?, ?it/s]"
      ]
     },
     "metadata": {},
     "output_type": "display_data"
    },
    {
     "name": "stdout",
     "output_type": "stream",
     "text": [
      "Epoch 20/80 Complete After 368s! Train Acc: 0.5858333706855774, Test Acc: 0.5708333253860474\n"
     ]
    },
    {
     "data": {
      "application/vnd.jupyter.widget-view+json": {
       "model_id": "7edae2ec44974281ba97272f2c77b2dd",
       "version_major": 2,
       "version_minor": 0
      },
      "text/plain": [
       "Epochs:   0%|          | 0/20 [00:00<?, ?it/s]"
      ]
     },
     "metadata": {},
     "output_type": "display_data"
    },
    {
     "name": "stdout",
     "output_type": "stream",
     "text": [
      "Epoch 40/80 Complete After 743s! Train Acc: 0.6958333253860474, Test Acc: 0.5699999928474426\n"
     ]
    },
    {
     "data": {
      "application/vnd.jupyter.widget-view+json": {
       "model_id": "45691d33efdd4400a93c3e03d49c3cfe",
       "version_major": 2,
       "version_minor": 0
      },
      "text/plain": [
       "Epochs:   0%|          | 0/20 [00:00<?, ?it/s]"
      ]
     },
     "metadata": {},
     "output_type": "display_data"
    },
    {
     "name": "stdout",
     "output_type": "stream",
     "text": [
      "Epoch 60/80 Complete After 1119s! Train Acc: 0.7033333778381348, Test Acc: 0.6708333492279053\n"
     ]
    },
    {
     "data": {
      "application/vnd.jupyter.widget-view+json": {
       "model_id": "acc1a3dde6e2404d8a1a01511510edff",
       "version_major": 2,
       "version_minor": 0
      },
      "text/plain": [
       "Epochs:   0%|          | 0/20 [00:00<?, ?it/s]"
      ]
     },
     "metadata": {},
     "output_type": "display_data"
    },
    {
     "name": "stdout",
     "output_type": "stream",
     "text": [
      "Epoch 80/80 Complete After 1495s! Train Acc: 0.7358333468437195, Test Acc: 0.7050000429153442\n",
      "Accuracy on benign test examples: 68.15%\n",
      "Accuracy on adversarial test examples (epsilon = 0.025): 42.04%\n",
      "Accuracy on adversarial test examples (epsilon = 0.05): 25.569999999999997%\n",
      "Accuracy on adversarial test examples (epsilon = 0.075): 18.37%\n",
      "Accuracy on adversarial test examples (epsilon = 0.1): 15.1%\n",
      "Training model with perturbations:\n",
      "[[['Lp-norm', 0.5, 1], ['SaltPepper', 0.05]], [['Lp-norm', 0.5, 1], ['RotationFlip', 0.3]]]\n"
     ]
    },
    {
     "data": {
      "application/vnd.jupyter.widget-view+json": {
       "model_id": "1c3dc17340d44ed28a730184796973b1",
       "version_major": 2,
       "version_minor": 0
      },
      "text/plain": [
       "Epochs:   0%|          | 0/20 [00:00<?, ?it/s]"
      ]
     },
     "metadata": {},
     "output_type": "display_data"
    },
    {
     "name": "stdout",
     "output_type": "stream",
     "text": [
      "Epoch 20/80 Complete After 335s! Train Acc: 0.6158333420753479, Test Acc: 0.5900000333786011\n"
     ]
    },
    {
     "data": {
      "application/vnd.jupyter.widget-view+json": {
       "model_id": "ff8db2706656490a9ed880b85fd1eab8",
       "version_major": 2,
       "version_minor": 0
      },
      "text/plain": [
       "Epochs:   0%|          | 0/20 [00:00<?, ?it/s]"
      ]
     },
     "metadata": {},
     "output_type": "display_data"
    },
    {
     "name": "stdout",
     "output_type": "stream",
     "text": [
      "Epoch 40/80 Complete After 678s! Train Acc: 0.7050000429153442, Test Acc: 0.6850000023841858\n"
     ]
    },
    {
     "data": {
      "application/vnd.jupyter.widget-view+json": {
       "model_id": "3c8242f418ba492787941836fa737fff",
       "version_major": 2,
       "version_minor": 0
      },
      "text/plain": [
       "Epochs:   0%|          | 0/20 [00:00<?, ?it/s]"
      ]
     },
     "metadata": {},
     "output_type": "display_data"
    },
    {
     "name": "stdout",
     "output_type": "stream",
     "text": [
      "Epoch 60/80 Complete After 1021s! Train Acc: 0.7491666674613953, Test Acc: 0.6324999928474426\n"
     ]
    },
    {
     "data": {
      "application/vnd.jupyter.widget-view+json": {
       "model_id": "af12e49e8e33466ba5685046e83e008e",
       "version_major": 2,
       "version_minor": 0
      },
      "text/plain": [
       "Epochs:   0%|          | 0/20 [00:00<?, ?it/s]"
      ]
     },
     "metadata": {},
     "output_type": "display_data"
    },
    {
     "name": "stdout",
     "output_type": "stream",
     "text": [
      "Epoch 80/80 Complete After 1364s! Train Acc: 0.7766667008399963, Test Acc: 0.7400000095367432\n",
      "Accuracy on benign test examples: 71.24000000000001%\n",
      "Accuracy on adversarial test examples (epsilon = 0.025): 36.11%\n",
      "Accuracy on adversarial test examples (epsilon = 0.05): 22.2%\n",
      "Accuracy on adversarial test examples (epsilon = 0.075): 16.400000000000002%\n",
      "Accuracy on adversarial test examples (epsilon = 0.1): 14.649999999999999%\n",
      "Training model with perturbations:\n",
      "[[['Gaussian', 0.05], ['SaltPepper', 0.05]], [['Gaussian', 0.05], ['RotationFlip', 0.3]], [['Lp-norm', 0.5, 1], ['SaltPepper', 0.05]], [['Lp-norm', 0.5, 1], ['RotationFlip', 0.3]]]\n"
     ]
    },
    {
     "data": {
      "application/vnd.jupyter.widget-view+json": {
       "model_id": "cbbf42ed4d6245ec8cb26bf23cd16c8c",
       "version_major": 2,
       "version_minor": 0
      },
      "text/plain": [
       "Epochs:   0%|          | 0/20 [00:00<?, ?it/s]"
      ]
     },
     "metadata": {},
     "output_type": "display_data"
    },
    {
     "name": "stdout",
     "output_type": "stream",
     "text": [
      "Epoch 20/80 Complete After 725s! Train Acc: 0.6349999904632568, Test Acc: 0.6141666769981384\n"
     ]
    },
    {
     "data": {
      "application/vnd.jupyter.widget-view+json": {
       "model_id": "cd50308d61a74cedbf0b0ecdc5a7e633",
       "version_major": 2,
       "version_minor": 0
      },
      "text/plain": [
       "Epochs:   0%|          | 0/20 [00:00<?, ?it/s]"
      ]
     },
     "metadata": {},
     "output_type": "display_data"
    },
    {
     "name": "stdout",
     "output_type": "stream",
     "text": [
      "Epoch 40/80 Complete After 2421s! Train Acc: 0.6983333230018616, Test Acc: 0.6533333659172058\n"
     ]
    },
    {
     "data": {
      "application/vnd.jupyter.widget-view+json": {
       "model_id": "3370ff38c76e424ba5794ba51efd1206",
       "version_major": 2,
       "version_minor": 0
      },
      "text/plain": [
       "Epochs:   0%|          | 0/20 [00:00<?, ?it/s]"
      ]
     },
     "metadata": {},
     "output_type": "display_data"
    },
    {
     "name": "stdout",
     "output_type": "stream",
     "text": [
      "Epoch 60/80 Complete After 4116s! Train Acc: 0.7675000429153442, Test Acc: 0.7116667032241821\n"
     ]
    },
    {
     "data": {
      "application/vnd.jupyter.widget-view+json": {
       "model_id": "50da838d0f314dfa802692c6f5de6aa4",
       "version_major": 2,
       "version_minor": 0
      },
      "text/plain": [
       "Epochs:   0%|          | 0/20 [00:00<?, ?it/s]"
      ]
     },
     "metadata": {},
     "output_type": "display_data"
    },
    {
     "name": "stdout",
     "output_type": "stream",
     "text": [
      "Epoch 80/80 Complete After 5812s! Train Acc: 0.7866666913032532, Test Acc: 0.7750000357627869\n",
      "Accuracy on benign test examples: 73.53%\n",
      "Accuracy on adversarial test examples (epsilon = 0.025): 28.57%\n",
      "Accuracy on adversarial test examples (epsilon = 0.05): 16.64%\n",
      "Accuracy on adversarial test examples (epsilon = 0.075): 13.170000000000002%\n",
      "Accuracy on adversarial test examples (epsilon = 0.1): 11.62%\n",
      "Training model with perturbations:\n",
      "[[['Gaussian', 0.05], ['SaltPepper', 0.05]], [['Gaussian', 0.05], ['RotationFlip', 0.3]], [['Lp-norm', 0.5, 1], ['SaltPepper', 0.05]], [['Lp-norm', 0.5, 1], ['RotationFlip', 0.3]], [['Laplacian', 0.05], ['SaltPepper', 0.05]], [['Laplacian', 0.05], ['RotationFlip', 0.3]]]\n"
     ]
    },
    {
     "data": {
      "application/vnd.jupyter.widget-view+json": {
       "model_id": "768df318d21047939349715169ca94b6",
       "version_major": 2,
       "version_minor": 0
      },
      "text/plain": [
       "Epochs:   0%|          | 0/20 [00:00<?, ?it/s]"
      ]
     },
     "metadata": {},
     "output_type": "display_data"
    },
    {
     "name": "stdout",
     "output_type": "stream",
     "text": [
      "Epoch 20/80 Complete After 1787s! Train Acc: 0.6625000238418579, Test Acc: 0.6633333563804626\n"
     ]
    },
    {
     "data": {
      "application/vnd.jupyter.widget-view+json": {
       "model_id": "af88d3289c4c48c3a0d942c400044fe1",
       "version_major": 2,
       "version_minor": 0
      },
      "text/plain": [
       "Epochs:   0%|          | 0/20 [00:00<?, ?it/s]"
      ]
     },
     "metadata": {},
     "output_type": "display_data"
    },
    {
     "name": "stdout",
     "output_type": "stream",
     "text": [
      "Epoch 40/80 Complete After 3586s! Train Acc: 0.7291666865348816, Test Acc: 0.699999988079071\n"
     ]
    },
    {
     "data": {
      "application/vnd.jupyter.widget-view+json": {
       "model_id": "9effd22f98b44499b898f3ede6cd0d59",
       "version_major": 2,
       "version_minor": 0
      },
      "text/plain": [
       "Epochs:   0%|          | 0/20 [00:00<?, ?it/s]"
      ]
     },
     "metadata": {},
     "output_type": "display_data"
    },
    {
     "name": "stdout",
     "output_type": "stream",
     "text": [
      "Epoch 60/80 Complete After 5385s! Train Acc: 0.7775000333786011, Test Acc: 0.71833336353302\n"
     ]
    },
    {
     "data": {
      "application/vnd.jupyter.widget-view+json": {
       "model_id": "51a09af87b1546e58804ca538e4ea2d4",
       "version_major": 2,
       "version_minor": 0
      },
      "text/plain": [
       "Epochs:   0%|          | 0/20 [00:00<?, ?it/s]"
      ]
     },
     "metadata": {},
     "output_type": "display_data"
    },
    {
     "name": "stdout",
     "output_type": "stream",
     "text": [
      "Epoch 80/80 Complete After 7184s! Train Acc: 0.7675000429153442, Test Acc: 0.7583333253860474\n",
      "Accuracy on benign test examples: 73.78%\n",
      "Accuracy on adversarial test examples (epsilon = 0.025): 23.91%\n",
      "Accuracy on adversarial test examples (epsilon = 0.05): 14.49%\n",
      "Accuracy on adversarial test examples (epsilon = 0.075): 13.26%\n",
      "Accuracy on adversarial test examples (epsilon = 0.1): 12.13%\n",
      "Training model with perturbations:\n",
      "[[['Laplacian', 0.05], ['RotationFlip', 0.3]], [['Gaussian', 0.05], ['RotationFlip', 0.3]], [['Gaussian', 0.05], ['SaltPepper', 0.05]], [['Gaussian', 0.05], ['SaltPepper', 0.05]]]\n"
     ]
    },
    {
     "data": {
      "application/vnd.jupyter.widget-view+json": {
       "model_id": "220cf07d76104d12a63deab8cc329646",
       "version_major": 2,
       "version_minor": 0
      },
      "text/plain": [
       "Epochs:   0%|          | 0/20 [00:00<?, ?it/s]"
      ]
     },
     "metadata": {},
     "output_type": "display_data"
    },
    {
     "name": "stdout",
     "output_type": "stream",
     "text": [
      "Epoch 20/80 Complete After 1693s! Train Acc: 0.6358333230018616, Test Acc: 0.637499988079071\n"
     ]
    },
    {
     "data": {
      "application/vnd.jupyter.widget-view+json": {
       "model_id": "fbb891443abe47cabf4afc3f7e76eafb",
       "version_major": 2,
       "version_minor": 0
      },
      "text/plain": [
       "Epochs:   0%|          | 0/20 [00:00<?, ?it/s]"
      ]
     },
     "metadata": {},
     "output_type": "display_data"
    },
    {
     "name": "stdout",
     "output_type": "stream",
     "text": [
      "Epoch 40/80 Complete After 3403s! Train Acc: 0.7016667127609253, Test Acc: 0.6791666746139526\n"
     ]
    },
    {
     "data": {
      "application/vnd.jupyter.widget-view+json": {
       "model_id": "9a02227b95084ef8ad3665f7c30f7d18",
       "version_major": 2,
       "version_minor": 0
      },
      "text/plain": [
       "Epochs:   0%|          | 0/20 [00:00<?, ?it/s]"
      ]
     },
     "metadata": {},
     "output_type": "display_data"
    },
    {
     "name": "stdout",
     "output_type": "stream",
     "text": [
      "Epoch 60/80 Complete After 5113s! Train Acc: 0.7583333253860474, Test Acc: 0.7450000047683716\n"
     ]
    },
    {
     "data": {
      "application/vnd.jupyter.widget-view+json": {
       "model_id": "7d76962bc9c341b2ae1f7336ab41ed1b",
       "version_major": 2,
       "version_minor": 0
      },
      "text/plain": [
       "Epochs:   0%|          | 0/20 [00:00<?, ?it/s]"
      ]
     },
     "metadata": {},
     "output_type": "display_data"
    },
    {
     "name": "stdout",
     "output_type": "stream",
     "text": [
      "Epoch 80/80 Complete After 6823s! Train Acc: 0.800000011920929, Test Acc: 0.621666669845581\n",
      "Accuracy on benign test examples: 71.75%\n",
      "Accuracy on adversarial test examples (epsilon = 0.025): 29.62%\n",
      "Accuracy on adversarial test examples (epsilon = 0.05): 17.69%\n",
      "Accuracy on adversarial test examples (epsilon = 0.075): 14.330000000000002%\n",
      "Accuracy on adversarial test examples (epsilon = 0.1): 12.7%\n",
      "Training model with perturbations:\n",
      "[[['Laplacian', 0.05], ['RotationFlip', 0.3]], [['Gaussian', 0.05], ['RotationFlip', 0.3]], [['Gaussian', 0.05], ['SaltPepper', 0.05]], [['Gaussian', 0.05], ['SaltPepper', 0.05]]]\n"
     ]
    },
    {
     "data": {
      "application/vnd.jupyter.widget-view+json": {
       "model_id": "cb6bc184d9cb4ae9896ecd057bea02e9",
       "version_major": 2,
       "version_minor": 0
      },
      "text/plain": [
       "Epochs:   0%|          | 0/20 [00:00<?, ?it/s]"
      ]
     },
     "metadata": {},
     "output_type": "display_data"
    },
    {
     "name": "stdout",
     "output_type": "stream",
     "text": [
      "Epoch 20/80 Complete After 1687s! Train Acc: 0.659166693687439, Test Acc: 0.6233333349227905\n"
     ]
    },
    {
     "data": {
      "application/vnd.jupyter.widget-view+json": {
       "model_id": "4215fd30dc98414eb2aed9ea773d3fb0",
       "version_major": 2,
       "version_minor": 0
      },
      "text/plain": [
       "Epochs:   0%|          | 0/20 [00:00<?, ?it/s]"
      ]
     },
     "metadata": {},
     "output_type": "display_data"
    },
    {
     "name": "stdout",
     "output_type": "stream",
     "text": [
      "Epoch 40/80 Complete After 3391s! Train Acc: 0.7250000238418579, Test Acc: 0.7033333778381348\n"
     ]
    },
    {
     "data": {
      "application/vnd.jupyter.widget-view+json": {
       "model_id": "186a5079749f4f9e91c2f95039f572c2",
       "version_major": 2,
       "version_minor": 0
      },
      "text/plain": [
       "Epochs:   0%|          | 0/20 [00:00<?, ?it/s]"
      ]
     },
     "metadata": {},
     "output_type": "display_data"
    },
    {
     "name": "stdout",
     "output_type": "stream",
     "text": [
      "Epoch 60/80 Complete After 5095s! Train Acc: 0.768333375453949, Test Acc: 0.6991666555404663\n"
     ]
    },
    {
     "data": {
      "application/vnd.jupyter.widget-view+json": {
       "model_id": "fb87812defa04f80988d16d6f5f868bf",
       "version_major": 2,
       "version_minor": 0
      },
      "text/plain": [
       "Epochs:   0%|          | 0/20 [00:00<?, ?it/s]"
      ]
     },
     "metadata": {},
     "output_type": "display_data"
    },
    {
     "name": "stdout",
     "output_type": "stream",
     "text": [
      "Epoch 80/80 Complete After 6798s! Train Acc: 0.7716667056083679, Test Acc: 0.7491666674613953\n",
      "Accuracy on benign test examples: 71.78999999999999%\n",
      "Accuracy on adversarial test examples (epsilon = 0.025): 31.69%\n",
      "Accuracy on adversarial test examples (epsilon = 0.05): 17.02%\n",
      "Accuracy on adversarial test examples (epsilon = 0.075): 12.94%\n",
      "Accuracy on adversarial test examples (epsilon = 0.1): 11.940000000000001%\n",
      "Training model with perturbations:\n",
      "[[['Laplacian', 0.025], ['RotationFlip', 0.3]], [['Gaussian', 0.025], ['RotationFlip', 0.3]], [['Gaussian', 0.025], ['SaltPepper', 0.05]], [['Gaussian', 0.025], ['SaltPepper', 0.05]]]\n"
     ]
    },
    {
     "data": {
      "application/vnd.jupyter.widget-view+json": {
       "model_id": "8bf4444a29244454be1c112267cce358",
       "version_major": 2,
       "version_minor": 0
      },
      "text/plain": [
       "Epochs:   0%|          | 0/20 [00:00<?, ?it/s]"
      ]
     },
     "metadata": {},
     "output_type": "display_data"
    },
    {
     "name": "stdout",
     "output_type": "stream",
     "text": [
      "Epoch 20/80 Complete After 1657s! Train Acc: 0.60916668176651, Test Acc: 0.6016666889190674\n"
     ]
    },
    {
     "data": {
      "application/vnd.jupyter.widget-view+json": {
       "model_id": "8225e1ff36524c95b4d7c906e33e9383",
       "version_major": 2,
       "version_minor": 0
      },
      "text/plain": [
       "Epochs:   0%|          | 0/20 [00:00<?, ?it/s]"
      ]
     },
     "metadata": {},
     "output_type": "display_data"
    },
    {
     "name": "stdout",
     "output_type": "stream",
     "text": [
      "Epoch 40/80 Complete After 3347s! Train Acc: 0.6141666769981384, Test Acc: 0.6616666913032532\n"
     ]
    },
    {
     "data": {
      "application/vnd.jupyter.widget-view+json": {
       "model_id": "104f3c6ab6d546c184c9cecc1197e57b",
       "version_major": 2,
       "version_minor": 0
      },
      "text/plain": [
       "Epochs:   0%|          | 0/20 [00:00<?, ?it/s]"
      ]
     },
     "metadata": {},
     "output_type": "display_data"
    },
    {
     "name": "stdout",
     "output_type": "stream",
     "text": [
      "Epoch 60/80 Complete After 5028s! Train Acc: 0.7400000095367432, Test Acc: 0.7433333396911621\n"
     ]
    },
    {
     "data": {
      "application/vnd.jupyter.widget-view+json": {
       "model_id": "91c53958eb59465aaff3a87110fc5744",
       "version_major": 2,
       "version_minor": 0
      },
      "text/plain": [
       "Epochs:   0%|          | 0/20 [00:00<?, ?it/s]"
      ]
     },
     "metadata": {},
     "output_type": "display_data"
    },
    {
     "name": "stdout",
     "output_type": "stream",
     "text": [
      "Epoch 80/80 Complete After 6719s! Train Acc: 0.7516666650772095, Test Acc: 0.7275000214576721\n",
      "Accuracy on benign test examples: 71.63000000000001%\n",
      "Accuracy on adversarial test examples (epsilon = 0.025): 27.49%\n",
      "Accuracy on adversarial test examples (epsilon = 0.05): 16.7%\n",
      "Accuracy on adversarial test examples (epsilon = 0.075): 14.149999999999999%\n",
      "Accuracy on adversarial test examples (epsilon = 0.1): 13.120000000000001%\n"
     ]
    }
   ],
   "source": [
    "channel_widths = [3, 50, 100, 150, 100, 50]  \n",
    "linear_sizes = [50, 100]\n",
    "kernel = 3\n",
    "pooling = nn.AdaptiveMaxPool2d((2, 2))\n",
    "lr = 0.0001\n",
    "criterion = nn.CrossEntropyLoss()\n",
    "\n",
    "for perturbation_description in perturbation_tests:\n",
    "    perturbations = create_perturbations(perturbation_description)\n",
    "    include_original = perturbations == []\n",
    "    shuffle = True\n",
    "\n",
    "    model = REPClassifier(\n",
    "        channel_widths=channel_widths,\n",
    "        linear_sizes=linear_sizes,\n",
    "        kernel=kernel,\n",
    "        pooling=pooling,\n",
    "        perturbations=perturbations,\n",
    "        include_original=include_original,\n",
    "        shuffle=shuffle,\n",
    "        num_classes=num_classes,\n",
    "    )\n",
    "    \n",
    "    optimizer = optim.Adam(model.parameters(), lr=lr, weight_decay=0.0001)\n",
    "    batch_size = 64\n",
    "    super_epochs = 4\n",
    "    epochs_per = 20\n",
    "    print(f\"Training model with perturbations:\")\n",
    "    print(perturbation_description)\n",
    "    training_start = time.time()\n",
    "    for epoch in range(super_epochs):\n",
    "        train_REPClassifier(model, train_dataset, optimizer, criterion, batch_size, epochs_per, True)\n",
    "        with torch.no_grad():\n",
    "            train_accuracy = torch.sum(torch.argmax(model(x_train[:1200]), axis=1) == torch.argmax(y_train[:1200], axis=1)) / len(x_train[:1200])\n",
    "            test_accuracy = torch.sum(torch.argmax(model(x_test[:1200]), axis=1) == torch.argmax(y_test[:1200], axis=1)) / len(x_test[:1200])\n",
    "            print(f\"Epoch {(epoch+1)*epochs_per}/{super_epochs*epochs_per} Complete After {int(time.time() - training_start)}s! Train Acc: {train_accuracy}, Test Acc: {test_accuracy}\")\n",
    "    \n",
    "    classifier = PyTorchClassifier(\n",
    "        model=model,\n",
    "        clip_values=(min_pixel_value, max_pixel_value),\n",
    "        loss=criterion,\n",
    "        optimizer=optimizer,\n",
    "        input_shape=(3, 28, 28),\n",
    "        nb_classes=num_classes,\n",
    "    )\n",
    "\n",
    "    x_test_numpy = x_test.cpu().numpy()\n",
    "    y_test_numpy = y_test.cpu().numpy()\n",
    "    with torch.no_grad():\n",
    "        # Step 5: Evaluate the ART classifier on benign test examples\n",
    "        predictions = classifier.predict(x_test_numpy)\n",
    "        baseline_accuracy = np.sum(np.argmax(predictions, axis=1) == np.argmax(y_test_numpy, axis=1)) / len(y_test)\n",
    "        print(\"Accuracy on benign test examples: {}%\".format(baseline_accuracy * 100))\n",
    "\n",
    "    # Step 6: Generate adversarial test examples\n",
    "    attack = FastGradientMethod(estimator=classifier, eps=0.025)\n",
    "    x_test_adv1 = attack.generate(x=x_test_numpy)\n",
    "    with torch.no_grad():\n",
    "        predictions = classifier.predict(x_test_adv1)\n",
    "        adversarial_accuracy1 = np.sum(np.argmax(predictions, axis=1) == np.argmax(y_test_numpy, axis=1)) / len(y_test)\n",
    "        print(\"Accuracy on adversarial test examples (epsilon = 0.025): {}%\".format(adversarial_accuracy1 * 100))\n",
    "\n",
    "    attack = FastGradientMethod(estimator=classifier, eps=0.05)\n",
    "    x_test_adv2 = attack.generate(x=x_test_numpy)\n",
    "    with torch.no_grad():\n",
    "        predictions = classifier.predict(x_test_adv2)\n",
    "        adversarial_accuracy2 = np.sum(np.argmax(predictions, axis=1) == np.argmax(y_test_numpy, axis=1)) / len(y_test)\n",
    "        print(\"Accuracy on adversarial test examples (epsilon = 0.05): {}%\".format(adversarial_accuracy2 * 100))\n",
    "\n",
    "    attack = FastGradientMethod(estimator=classifier, eps=0.075)\n",
    "    x_test_adv3 = attack.generate(x=x_test_numpy)\n",
    "    with torch.no_grad():\n",
    "        predictions = classifier.predict(x_test_adv3)\n",
    "        adversarial_accuracy3 = np.sum(np.argmax(predictions, axis=1) == np.argmax(y_test_numpy, axis=1)) / len(y_test)\n",
    "        print(\"Accuracy on adversarial test examples (epsilon = 0.075): {}%\".format(adversarial_accuracy3 * 100))\n",
    "\n",
    "    attack = FastGradientMethod(estimator=classifier, eps=0.1)\n",
    "    x_test_adv4 = attack.generate(x=x_test_numpy)\n",
    "    with torch.no_grad():\n",
    "        predictions = classifier.predict(x_test_adv4)\n",
    "        adversarial_accuracy4 = np.sum(np.argmax(predictions, axis=1) == np.argmax(y_test_numpy, axis=1)) / len(y_test)\n",
    "        print(\"Accuracy on adversarial test examples (epsilon = 0.1): {}%\".format(adversarial_accuracy4 * 100))\n",
    "\n",
    "    test_history.append({'channel_widths': channel_widths,\n",
    "                        'linear_sizes': linear_sizes,\n",
    "                        'kernel': kernel,\n",
    "                        'pooling': pooling,\n",
    "                        'perturbations': perturbation_description,\n",
    "                        'include_original': include_original,\n",
    "                        'shuffle': shuffle,\n",
    "                        'loss': criterion,\n",
    "                        'lr': lr,\n",
    "                        'batch_size': batch_size,\n",
    "                        'epochs': epochs,\n",
    "                        'baseline_accuracy': baseline_accuracy,\n",
    "                        'adversarial_accuracy': [adversarial_accuracy1, adversarial_accuracy2, adversarial_accuracy3, adversarial_accuracy4]})"
   ]
  },
  {
   "cell_type": "code",
   "execution_count": 24,
   "metadata": {},
   "outputs": [
    {
     "ename": "TypeError",
     "evalue": "can't convert cuda:0 device type tensor to numpy. Use Tensor.cpu() to copy the tensor to host memory first.",
     "output_type": "error",
     "traceback": [
      "\u001b[1;31m---------------------------------------------------------------------------\u001b[0m",
      "\u001b[1;31mTypeError\u001b[0m                                 Traceback (most recent call last)",
      "File \u001b[1;32mc:\\Users\\mwinga2\\AppData\\Local\\anaconda3\\envs\\REP\\lib\\site-packages\\numpy\\core\\fromnumeric.py:59\u001b[0m, in \u001b[0;36m_wrapfunc\u001b[1;34m(obj, method, *args, **kwds)\u001b[0m\n\u001b[0;32m     58\u001b[0m \u001b[38;5;28;01mtry\u001b[39;00m:\n\u001b[1;32m---> 59\u001b[0m     \u001b[38;5;28;01mreturn\u001b[39;00m bound(\u001b[38;5;241m*\u001b[39margs, \u001b[38;5;241m*\u001b[39m\u001b[38;5;241m*\u001b[39mkwds)\n\u001b[0;32m     60\u001b[0m \u001b[38;5;28;01mexcept\u001b[39;00m \u001b[38;5;167;01mTypeError\u001b[39;00m:\n\u001b[0;32m     61\u001b[0m     \u001b[38;5;66;03m# A TypeError occurs if the object does have such a method in its\u001b[39;00m\n\u001b[0;32m     62\u001b[0m     \u001b[38;5;66;03m# class, but its signature is not identical to that of NumPy's. This\u001b[39;00m\n\u001b[1;32m   (...)\u001b[0m\n\u001b[0;32m     66\u001b[0m     \u001b[38;5;66;03m# Call _wrapit from within the except clause to ensure a potential\u001b[39;00m\n\u001b[0;32m     67\u001b[0m     \u001b[38;5;66;03m# exception has a traceback chain.\u001b[39;00m\n",
      "\u001b[1;31mTypeError\u001b[0m: transpose() received an invalid combination of arguments - got (tuple), but expected one of:\n * (int dim0, int dim1)\n * (name dim0, name dim1)\n",
      "\nDuring handling of the above exception, another exception occurred:\n",
      "\u001b[1;31mTypeError\u001b[0m                                 Traceback (most recent call last)",
      "Cell \u001b[1;32mIn[24], line 4\u001b[0m\n\u001b[0;32m      1\u001b[0m idx \u001b[38;5;241m=\u001b[39m \u001b[38;5;241m10\u001b[39m\n\u001b[0;32m      3\u001b[0m plt\u001b[38;5;241m.\u001b[39mfigure()\n\u001b[1;32m----> 4\u001b[0m plt\u001b[38;5;241m.\u001b[39mimshow(\u001b[43mnp\u001b[49m\u001b[38;5;241;43m.\u001b[39;49m\u001b[43mtranspose\u001b[49m\u001b[43m(\u001b[49m\u001b[43mx_test\u001b[49m\u001b[43m[\u001b[49m\u001b[43midx\u001b[49m\u001b[43m]\u001b[49m\u001b[43m,\u001b[49m\u001b[43m \u001b[49m\u001b[43m(\u001b[49m\u001b[38;5;241;43m1\u001b[39;49m\u001b[43m,\u001b[49m\u001b[43m \u001b[49m\u001b[38;5;241;43m2\u001b[39;49m\u001b[43m,\u001b[49m\u001b[43m \u001b[49m\u001b[38;5;241;43m0\u001b[39;49m\u001b[43m)\u001b[49m\u001b[43m)\u001b[49m)\n\u001b[0;32m      5\u001b[0m plt\u001b[38;5;241m.\u001b[39mshow()\n\u001b[0;32m      6\u001b[0m \u001b[38;5;66;03m# print(np.argmax(classifier.predict(x_test[idx]), axis=1))\u001b[39;00m\n",
      "File \u001b[1;32mc:\\Users\\mwinga2\\AppData\\Local\\anaconda3\\envs\\REP\\lib\\site-packages\\numpy\\core\\fromnumeric.py:655\u001b[0m, in \u001b[0;36mtranspose\u001b[1;34m(a, axes)\u001b[0m\n\u001b[0;32m    588\u001b[0m \u001b[38;5;129m@array_function_dispatch\u001b[39m(_transpose_dispatcher)\n\u001b[0;32m    589\u001b[0m \u001b[38;5;28;01mdef\u001b[39;00m \u001b[38;5;21mtranspose\u001b[39m(a, axes\u001b[38;5;241m=\u001b[39m\u001b[38;5;28;01mNone\u001b[39;00m):\n\u001b[0;32m    590\u001b[0m \u001b[38;5;250m    \u001b[39m\u001b[38;5;124;03m\"\"\"\u001b[39;00m\n\u001b[0;32m    591\u001b[0m \u001b[38;5;124;03m    Returns an array with axes transposed.\u001b[39;00m\n\u001b[0;32m    592\u001b[0m \n\u001b[1;32m   (...)\u001b[0m\n\u001b[0;32m    653\u001b[0m \n\u001b[0;32m    654\u001b[0m \u001b[38;5;124;03m    \"\"\"\u001b[39;00m\n\u001b[1;32m--> 655\u001b[0m     \u001b[38;5;28;01mreturn\u001b[39;00m \u001b[43m_wrapfunc\u001b[49m\u001b[43m(\u001b[49m\u001b[43ma\u001b[49m\u001b[43m,\u001b[49m\u001b[43m \u001b[49m\u001b[38;5;124;43m'\u001b[39;49m\u001b[38;5;124;43mtranspose\u001b[39;49m\u001b[38;5;124;43m'\u001b[39;49m\u001b[43m,\u001b[49m\u001b[43m \u001b[49m\u001b[43maxes\u001b[49m\u001b[43m)\u001b[49m\n",
      "File \u001b[1;32mc:\\Users\\mwinga2\\AppData\\Local\\anaconda3\\envs\\REP\\lib\\site-packages\\numpy\\core\\fromnumeric.py:68\u001b[0m, in \u001b[0;36m_wrapfunc\u001b[1;34m(obj, method, *args, **kwds)\u001b[0m\n\u001b[0;32m     59\u001b[0m     \u001b[38;5;28;01mreturn\u001b[39;00m bound(\u001b[38;5;241m*\u001b[39margs, \u001b[38;5;241m*\u001b[39m\u001b[38;5;241m*\u001b[39mkwds)\n\u001b[0;32m     60\u001b[0m \u001b[38;5;28;01mexcept\u001b[39;00m \u001b[38;5;167;01mTypeError\u001b[39;00m:\n\u001b[0;32m     61\u001b[0m     \u001b[38;5;66;03m# A TypeError occurs if the object does have such a method in its\u001b[39;00m\n\u001b[0;32m     62\u001b[0m     \u001b[38;5;66;03m# class, but its signature is not identical to that of NumPy's. This\u001b[39;00m\n\u001b[1;32m   (...)\u001b[0m\n\u001b[0;32m     66\u001b[0m     \u001b[38;5;66;03m# Call _wrapit from within the except clause to ensure a potential\u001b[39;00m\n\u001b[0;32m     67\u001b[0m     \u001b[38;5;66;03m# exception has a traceback chain.\u001b[39;00m\n\u001b[1;32m---> 68\u001b[0m     \u001b[38;5;28;01mreturn\u001b[39;00m _wrapit(obj, method, \u001b[38;5;241m*\u001b[39margs, \u001b[38;5;241m*\u001b[39m\u001b[38;5;241m*\u001b[39mkwds)\n",
      "File \u001b[1;32mc:\\Users\\mwinga2\\AppData\\Local\\anaconda3\\envs\\REP\\lib\\site-packages\\numpy\\core\\fromnumeric.py:45\u001b[0m, in \u001b[0;36m_wrapit\u001b[1;34m(obj, method, *args, **kwds)\u001b[0m\n\u001b[0;32m     43\u001b[0m \u001b[38;5;28;01mexcept\u001b[39;00m \u001b[38;5;167;01mAttributeError\u001b[39;00m:\n\u001b[0;32m     44\u001b[0m     wrap \u001b[38;5;241m=\u001b[39m \u001b[38;5;28;01mNone\u001b[39;00m\n\u001b[1;32m---> 45\u001b[0m result \u001b[38;5;241m=\u001b[39m \u001b[38;5;28mgetattr\u001b[39m(\u001b[43masarray\u001b[49m\u001b[43m(\u001b[49m\u001b[43mobj\u001b[49m\u001b[43m)\u001b[49m, method)(\u001b[38;5;241m*\u001b[39margs, \u001b[38;5;241m*\u001b[39m\u001b[38;5;241m*\u001b[39mkwds)\n\u001b[0;32m     46\u001b[0m \u001b[38;5;28;01mif\u001b[39;00m wrap:\n\u001b[0;32m     47\u001b[0m     \u001b[38;5;28;01mif\u001b[39;00m \u001b[38;5;129;01mnot\u001b[39;00m \u001b[38;5;28misinstance\u001b[39m(result, mu\u001b[38;5;241m.\u001b[39mndarray):\n",
      "File \u001b[1;32mc:\\Users\\mwinga2\\AppData\\Local\\anaconda3\\envs\\REP\\lib\\site-packages\\torch\\_tensor.py:1062\u001b[0m, in \u001b[0;36mTensor.__array__\u001b[1;34m(self, dtype)\u001b[0m\n\u001b[0;32m   1060\u001b[0m     \u001b[38;5;28;01mreturn\u001b[39;00m handle_torch_function(Tensor\u001b[38;5;241m.\u001b[39m__array__, (\u001b[38;5;28mself\u001b[39m,), \u001b[38;5;28mself\u001b[39m, dtype\u001b[38;5;241m=\u001b[39mdtype)\n\u001b[0;32m   1061\u001b[0m \u001b[38;5;28;01mif\u001b[39;00m dtype \u001b[38;5;129;01mis\u001b[39;00m \u001b[38;5;28;01mNone\u001b[39;00m:\n\u001b[1;32m-> 1062\u001b[0m     \u001b[38;5;28;01mreturn\u001b[39;00m \u001b[38;5;28;43mself\u001b[39;49m\u001b[38;5;241;43m.\u001b[39;49m\u001b[43mnumpy\u001b[49m\u001b[43m(\u001b[49m\u001b[43m)\u001b[49m\n\u001b[0;32m   1063\u001b[0m \u001b[38;5;28;01melse\u001b[39;00m:\n\u001b[0;32m   1064\u001b[0m     \u001b[38;5;28;01mreturn\u001b[39;00m \u001b[38;5;28mself\u001b[39m\u001b[38;5;241m.\u001b[39mnumpy()\u001b[38;5;241m.\u001b[39mastype(dtype, copy\u001b[38;5;241m=\u001b[39m\u001b[38;5;28;01mFalse\u001b[39;00m)\n",
      "\u001b[1;31mTypeError\u001b[0m: can't convert cuda:0 device type tensor to numpy. Use Tensor.cpu() to copy the tensor to host memory first."
     ]
    },
    {
     "data": {
      "text/plain": [
       "<Figure size 640x480 with 0 Axes>"
      ]
     },
     "metadata": {},
     "output_type": "display_data"
    }
   ],
   "source": [
    "idx = 10\n",
    "\n",
    "plt.figure()\n",
    "plt.imshow(np.transpose(x_test[idx], (1, 2, 0)))\n",
    "plt.show()\n",
    "# print(np.argmax(classifier.predict(x_test[idx]), axis=1))\n",
    "\n",
    "plt.figure()\n",
    "plt.imshow(np.transpose(x_test_adv1[idx], (1, 2, 0)))\n",
    "plt.show()\n",
    "# print(np.argmax(classifier.predict(x_test_adv2[idx]), axis=1))\n"
   ]
  },
  {
   "cell_type": "code",
   "execution_count": 25,
   "metadata": {},
   "outputs": [
    {
     "name": "stdout",
     "output_type": "stream",
     "text": [
      "Test 0: Perturbations (0), Original (True), Shuffle (True), Baseline (71.12%), Adversarial (15.129999999999999/13.84/12.72/11.3%)\n",
      "Test 1: Perturbations (1), Original (False), Shuffle (True), Baseline (71.77%), Adversarial (15.52/13.600000000000001/12.27/11.0%)\n",
      "Test 2: Perturbations (1), Original (False), Shuffle (True), Baseline (71.95%), Adversarial (19.88/13.63/12.520000000000001/11.379999999999999%)\n",
      "Test 3: Perturbations (1), Original (False), Shuffle (True), Baseline (56.28999999999999%), Adversarial (36.8/27.74/26.0/25.91%)\n",
      "Test 4: Perturbations (1), Original (False), Shuffle (True), Baseline (66.67999999999999%), Adversarial (44.45/31.009999999999998/23.53/19.950000000000003%)\n",
      "Test 5: Perturbations (1), Original (False), Shuffle (True), Baseline (67.60000000000001%), Adversarial (40.300000000000004/22.09/16.400000000000002/14.75%)\n",
      "Test 6: Perturbations (1), Original (False), Shuffle (True), Baseline (72.0%), Adversarial (17.26/13.62/11.87/11.31%)\n",
      "Test 7: Perturbations (1), Original (False), Shuffle (True), Baseline (71.15%), Adversarial (28.07/15.15/13.01/12.33%)\n",
      "Test 8: Perturbations (1), Original (False), Shuffle (True), Baseline (53.93%), Adversarial (39.36/30.580000000000002/29.110000000000003/26.06%)\n",
      "Test 9: Perturbations (1), Original (False), Shuffle (True), Baseline (64.07000000000001%), Adversarial (45.660000000000004/32.769999999999996/25.619999999999997/20.919999999999998%)\n",
      "Test 10: Perturbations (1), Original (False), Shuffle (True), Baseline (67.78999999999999%), Adversarial (43.46/23.26/16.37/13.819999999999999%)\n",
      "Test 11: Perturbations (1), Original (False), Shuffle (True), Baseline (72.2%), Adversarial (14.499999999999998/12.920000000000002/11.91/10.95%)\n",
      "Test 12: Perturbations (1), Original (False), Shuffle (True), Baseline (61.44%), Adversarial (30.869999999999997/27.279999999999998/26.35/23.400000000000002%)\n",
      "Test 13: Perturbations (1), Original (False), Shuffle (True), Baseline (67.25999999999999%), Adversarial (39.489999999999995/28.21/20.45/17.919999999999998%)\n",
      "Test 14: Perturbations (1), Original (False), Shuffle (True), Baseline (69.61%), Adversarial (34.17/18.78/15.55/13.73%)\n",
      "Test 15: Perturbations (1), Original (False), Shuffle (True), Baseline (72.39999999999999%), Adversarial (14.299999999999999/13.07/11.83/10.52%)\n",
      "Test 16: Perturbations (1), Original (False), Shuffle (True), Baseline (71.94%), Adversarial (14.85/13.5/12.36/11.450000000000001%)\n",
      "Test 17: Perturbations (1), Original (False), Shuffle (True), Baseline (71.15%), Adversarial (16.24/14.069999999999999/12.870000000000001/11.74%)\n",
      "Test 18: Perturbations (1), Original (False), Shuffle (True), Baseline (69.96%), Adversarial (39.37/20.07/15.010000000000002/13.850000000000001%)\n",
      "Test 19: Perturbations (1), Original (False), Shuffle (True), Baseline (59.84%), Adversarial (31.830000000000002/25.629999999999995/25.1/23.03%)\n",
      "Test 20: Perturbations (1), Original (False), Shuffle (True), Baseline (65.39%), Adversarial (39.800000000000004/27.36/20.64/18.33%)\n",
      "Test 21: Perturbations (1), Original (False), Shuffle (True), Baseline (70.26%), Adversarial (31.369999999999997/17.36/14.64/13.44%)\n",
      "Test 22: Perturbations (2), Original (False), Shuffle (True), Baseline (71.52%), Adversarial (20.64/14.219999999999999/13.13/12.16%)\n",
      "Test 23: Perturbations (1), Original (False), Shuffle (True), Baseline (69.82000000000001%), Adversarial (32.29/17.05/15.03/13.239999999999998%)\n",
      "Test 24: Perturbations (2), Original (False), Shuffle (True), Baseline (72.48%), Adversarial (15.57/13.11/12.21/11.57%)\n",
      "Test 25: Perturbations (2), Original (False), Shuffle (True), Baseline (72.72%), Adversarial (16.0/13.320000000000002/11.98/11.020000000000001%)\n",
      "Test 26: Perturbations (2), Original (False), Shuffle (True), Baseline (71.67999999999999%), Adversarial (14.549999999999999/13.56/12.920000000000002/11.88%)\n",
      "Test 27: Perturbations (3), Original (False), Shuffle (True), Baseline (73.16%), Adversarial (15.370000000000001/12.82/11.690000000000001/10.82%)\n",
      "Test 28: Perturbations (2), Original (False), Shuffle (True), Baseline (71.28%), Adversarial (25.53/15.409999999999998/13.089999999999998/12.53%)\n",
      "Test 29: Perturbations (2), Original (False), Shuffle (True), Baseline (71.2%), Adversarial (21.13/13.8/12.11/11.600000000000001%)\n",
      "Test 30: Perturbations (2), Original (False), Shuffle (True), Baseline (70.24000000000001%), Adversarial (30.34/18.509999999999998/14.45/12.9%)\n",
      "Test 31: Perturbations (2), Original (False), Shuffle (True), Baseline (67.03%), Adversarial (38.97/23.810000000000002/18.21/15.709999999999999%)\n",
      "Test 32: Perturbations (2), Original (False), Shuffle (True), Baseline (68.15%), Adversarial (42.04/25.569999999999997/18.37/15.1%)\n",
      "Test 33: Perturbations (2), Original (False), Shuffle (True), Baseline (71.24000000000001%), Adversarial (36.11/22.2/16.400000000000002/14.649999999999999%)\n",
      "Test 34: Perturbations (4), Original (False), Shuffle (True), Baseline (73.53%), Adversarial (28.57/16.64/13.170000000000002/11.62%)\n",
      "Test 35: Perturbations (6), Original (False), Shuffle (True), Baseline (73.78%), Adversarial (23.91/14.49/13.26/12.13%)\n",
      "Test 36: Perturbations (4), Original (False), Shuffle (True), Baseline (71.75%), Adversarial (29.62/17.69/14.330000000000002/12.7%)\n",
      "Test 37: Perturbations (4), Original (False), Shuffle (True), Baseline (71.78999999999999%), Adversarial (31.69/17.02/12.94/11.940000000000001%)\n",
      "Test 38: Perturbations (4), Original (False), Shuffle (True), Baseline (71.63000000000001%), Adversarial (27.49/16.7/14.149999999999999/13.120000000000001%)\n"
     ]
    }
   ],
   "source": [
    "display_test_history(test_history)"
   ]
  },
  {
   "cell_type": "code",
   "execution_count": 60,
   "metadata": {},
   "outputs": [
    {
     "name": "stdout",
     "output_type": "stream",
     "text": [
      "{'channel_widths': [3, 50, 100, 50], 'linear_sizes': [50, 100], 'kernel': 3, 'pooling': AdaptiveMaxPool2d(output_size=(2, 2)), 'perturbations': [['Lp-norm', 1, inf]], 'include_original': False, 'shuffle': True, 'loss': CrossEntropyLoss(), 'lr': 0.0001, 'batch_size': 64, 'epochs': 50, 'baseline_accuracy': 0.2448, 'adversarial_accuracy': [0.0879, 0.0369, 0.0226, 0.0134]}\n"
     ]
    }
   ],
   "source": [
    "best_i = 0\n",
    "accuracy = 0\n",
    "eps = 3\n",
    "for i in range(len(test_history)):\n",
    "    if test_history[i]['adversarial_accuracy'][eps] > accuracy:\n",
    "        best_i = i\n",
    "        accuracy = test_history[i]['adversarial_accuracy'][eps]\n",
    "print(test_history[best_i])"
   ]
  },
  {
   "cell_type": "code",
   "execution_count": 26,
   "metadata": {},
   "outputs": [
    {
     "name": "stdout",
     "output_type": "stream",
     "text": [
      "Data saved to ../../notebooks/experiment_log/cifar_10_CNN_round_1_training_results.csv successfully.\n"
     ]
    }
   ],
   "source": [
    "import csv\n",
    "\n",
    "def save_to_csv(data, filename):\n",
    "    if not data:\n",
    "        return\n",
    "\n",
    "    # Extract the keys from the first dictionary as headers\n",
    "    headers = list(data[0].keys())\n",
    "\n",
    "    with open(filename, 'w', newline='') as csvfile:\n",
    "        writer = csv.DictWriter(csvfile, fieldnames=headers)\n",
    "\n",
    "        # Write the headers\n",
    "        writer.writeheader()\n",
    "\n",
    "        # Write each dictionary as a row in the CSV file\n",
    "        for item in data:\n",
    "            writer.writerow(item)\n",
    "\n",
    "    print(f\"Data saved to {filename} successfully.\")\n",
    "\n",
    "save_to_csv(test_history, ROOT + \"notebooks/experiment_log/cifar_10_CNN_round_1_training_results.csv\")"
   ]
  },
  {
   "cell_type": "markdown",
   "metadata": {},
   "source": [
    "# Testing Round 2"
   ]
  },
  {
   "cell_type": "code",
   "execution_count": 20,
   "metadata": {},
   "outputs": [],
   "source": [
    "perturbation_tests = [\n",
    "    # [],\n",
    "    # [[\"Gaussian\", 0.025]],\n",
    "    # [[\"Gaussian\", 0.05]],\n",
    "    [[[\"Gaussian\", 0.05], [\"ContrastBrightness\", 0.9, 0.9]]],\n",
    "    [[[\"Gaussian\", 0.05], [\"RotationFlip\", 0.3]]],\n",
    "    [[[\"Gaussian\", 0.05], [\"SaltPepper\", 0.05]]],\n",
    "    [[\"Laplacian\", 0.025]],\n",
    "    [[\"Laplacian\", 0.05]],\n",
    "    [[[\"Laplacian\", 0.05], [\"ContrastBrightness\", 0.9, 0.9]]],\n",
    "    [[[\"Laplacian\", 0.05], [\"RotationFlip\", 0.3]]],\n",
    "    [[[\"Laplacian\", 0.05], [\"SaltPepper\", 0.05]]],\n",
    "    [[\"Lp-norm\", 0.5, 1]],\n",
    "    [[[\"Lp-norm\", 0.5, 1], [\"ContrastBrightness\", 0.9, 0.9]]],\n",
    "    [[[\"Lp-norm\", 0.5, 1], [\"RotationFlip\", 0.3]]],\n",
    "    [[[\"Lp-norm\", 0.5, 1], [\"SaltPepper\", 0.05]]],\n",
    "    [[\"Lp-norm\", 0.5, 2]],\n",
    "    [[\"Lp-norm\", 0.5, 3]],\n",
    "    [[\"Lp-norm\", 0.5, 4]],\n",
    "    [[\"Lp-norm\", 0.5, float('inf')]],\n",
    "    [[\"ContrastBrightness\", 0.9, 0.9]],\n",
    "    [[\"RotationFlip\", 0.3]],\n",
    "    [[\"SaltPepper\", 0.05]],\n",
    "    [[\"Gaussian\", 0.05], [\"Laplacian\", 0.05]],\n",
    "    [[[\"Gaussian\", 0.05], [\"Laplacian\", 0.05]]],\n",
    "    [[\"Gaussian\", 0.05], [\"Lp-norm\", 0.5, 1]],\n",
    "    [[\"Laplacian\", 0.05], [\"Lp-norm\", 0.5, 1]],\n",
    "    [[\"Lp-norm\", 0.5, 1], [\"Lp-norm\", 0.5, 2]],\n",
    "    [[\"Gaussian\", 0.05], [\"Laplacian\", 0.05], [\"Lp-norm\", 0.5, 1]],\n",
    "    [[\"Gaussian\", 0.05], [[\"Laplacian\", 0.05], [\"SaltPepper\", 0.05]]],\n",
    "    [[\"Gaussian\", 0.05], [[\"Lp-norm\", 0.5, 1], [\"ContrastBrightness\", 0.9, 0.9]]],\n",
    "    [[\"Laplacian\", 0.05], [[\"Lp-norm\", 0.5, 1], [\"RotationFlip\", 0.3]]],\n",
    "]"
   ]
  },
  {
   "cell_type": "code",
   "execution_count": 21,
   "metadata": {},
   "outputs": [],
   "source": [
    "test_history = []\n",
    "\n",
    "def display_test_history(test_history):\n",
    "    for i in range(len(test_history)):\n",
    "        test = test_history[i]\n",
    "        num_p = len(test['perturbations'])\n",
    "        io = test['include_original']\n",
    "        shuffle = test['shuffle']\n",
    "        training_time = test['training_time']\n",
    "        baseline = test['baseline_accuracy']\n",
    "        adversarial = test['adversarial_accuracy']\n",
    "        adv_str = f\"{adversarial[0]*100}/{adversarial[1]*100}/{adversarial[2]*100}/{adversarial[3]*100}\"\n",
    "        print(f\"Test {i}: Perturbations ({num_p}), Original ({io}), Shuffle ({shuffle}), Training Time ({training_time}s), Baseline ({baseline*100}%), Adversarial ({adv_str}%)\")"
   ]
  },
  {
   "cell_type": "code",
   "execution_count": 22,
   "metadata": {},
   "outputs": [
    {
     "name": "stdout",
     "output_type": "stream",
     "text": [
      "Training model with perturbations:\n",
      "[[['Gaussian', 0.05], ['ContrastBrightness', 0.9, 0.9]]]\n",
      "Epoch 10/100 Complete After 53s! Train Acc: 0.06036, Test Acc: 0.0611\n",
      "Epoch 20/100 Complete After 107s! Train Acc: 0.09602, Test Acc: 0.1031\n",
      "Epoch 30/100 Complete After 161s! Train Acc: 0.12176, Test Acc: 0.1243\n",
      "Epoch 40/100 Complete After 215s! Train Acc: 0.14082, Test Acc: 0.1438\n",
      "Epoch 50/100 Complete After 270s! Train Acc: 0.16166, Test Acc: 0.1649\n",
      "Epoch 60/100 Complete After 325s! Train Acc: 0.17782, Test Acc: 0.1713\n",
      "Epoch 70/100 Complete After 381s! Train Acc: 0.18964, Test Acc: 0.1919\n",
      "Epoch 80/100 Complete After 436s! Train Acc: 0.20538, Test Acc: 0.1937\n",
      "Epoch 90/100 Complete After 491s! Train Acc: 0.21622, Test Acc: 0.1929\n",
      "Epoch 100/100 Complete After 547s! Train Acc: 0.2379, Test Acc: 0.2216\n",
      "Accuracy on benign test examples: 22.53%\n",
      "Accuracy on adversarial test examples (epsilon = 0.0.025): 15.690000000000001%\n",
      "Accuracy on adversarial test examples (epsilon = 0.05): 12.35%\n",
      "Accuracy on adversarial test examples (epsilon = 0.075): 10.96%\n",
      "Accuracy on adversarial test examples (epsilon = 0.1): 9.54%\n",
      "Training model with perturbations:\n",
      "[[['Gaussian', 0.05], ['RotationFlip', 0.3]]]\n",
      "Epoch 10/100 Complete After 55s! Train Acc: 0.14682, Test Acc: 0.1413\n",
      "Epoch 20/100 Complete After 111s! Train Acc: 0.19932, Test Acc: 0.1948\n",
      "Epoch 30/100 Complete After 165s! Train Acc: 0.23522, Test Acc: 0.2293\n",
      "Epoch 40/100 Complete After 219s! Train Acc: 0.25662, Test Acc: 0.2541\n",
      "Epoch 50/100 Complete After 273s! Train Acc: 0.28386, Test Acc: 0.2695\n",
      "Epoch 60/100 Complete After 327s! Train Acc: 0.30318, Test Acc: 0.2962\n",
      "Epoch 70/100 Complete After 381s! Train Acc: 0.31554, Test Acc: 0.2965\n",
      "Epoch 80/100 Complete After 436s! Train Acc: 0.33168, Test Acc: 0.3122\n",
      "Epoch 90/100 Complete After 490s! Train Acc: 0.33952, Test Acc: 0.3194\n",
      "Epoch 100/100 Complete After 544s! Train Acc: 0.34558, Test Acc: 0.3267\n",
      "Accuracy on benign test examples: 33.410000000000004%\n",
      "Accuracy on adversarial test examples (epsilon = 0.0.025): 21.41%\n",
      "Accuracy on adversarial test examples (epsilon = 0.05): 12.47%\n",
      "Accuracy on adversarial test examples (epsilon = 0.075): 7.8%\n",
      "Accuracy on adversarial test examples (epsilon = 0.1): 5.27%\n",
      "Training model with perturbations:\n",
      "[[['Gaussian', 0.05], ['SaltPepper', 0.05]]]\n",
      "Epoch 10/100 Complete After 55s! Train Acc: 0.1633, Test Acc: 0.1575\n",
      "Epoch 20/100 Complete After 110s! Train Acc: 0.20954, Test Acc: 0.1994\n",
      "Epoch 30/100 Complete After 166s! Train Acc: 0.23564, Test Acc: 0.2246\n",
      "Epoch 40/100 Complete After 221s! Train Acc: 0.26038, Test Acc: 0.2426\n",
      "Epoch 50/100 Complete After 276s! Train Acc: 0.28576, Test Acc: 0.2658\n",
      "Epoch 60/100 Complete After 332s! Train Acc: 0.30766, Test Acc: 0.2824\n",
      "Epoch 70/100 Complete After 388s! Train Acc: 0.32704, Test Acc: 0.2991\n",
      "Epoch 80/100 Complete After 443s! Train Acc: 0.33802, Test Acc: 0.3114\n",
      "Epoch 90/100 Complete After 499s! Train Acc: 0.35064, Test Acc: 0.3229\n",
      "Epoch 100/100 Complete After 554s! Train Acc: 0.357, Test Acc: 0.3243\n",
      "Accuracy on benign test examples: 32.72%\n",
      "Accuracy on adversarial test examples (epsilon = 0.0.025): 22.05%\n",
      "Accuracy on adversarial test examples (epsilon = 0.05): 13.34%\n",
      "Accuracy on adversarial test examples (epsilon = 0.075): 9.21%\n",
      "Accuracy on adversarial test examples (epsilon = 0.1): 6.94%\n",
      "Training model with perturbations:\n",
      "[['Laplacian', 0.025]]\n",
      "Epoch 10/100 Complete After 72s! Train Acc: 0.18246, Test Acc: 0.1761\n",
      "Epoch 20/100 Complete After 145s! Train Acc: 0.24296, Test Acc: 0.2318\n",
      "Epoch 30/100 Complete After 218s! Train Acc: 0.28108, Test Acc: 0.2709\n",
      "Epoch 40/100 Complete After 291s! Train Acc: 0.31486, Test Acc: 0.2972\n",
      "Epoch 50/100 Complete After 363s! Train Acc: 0.3481, Test Acc: 0.3201\n",
      "Epoch 60/100 Complete After 436s! Train Acc: 0.36284, Test Acc: 0.3296\n",
      "Epoch 70/100 Complete After 509s! Train Acc: 0.38602, Test Acc: 0.3497\n",
      "Epoch 80/100 Complete After 582s! Train Acc: 0.39934, Test Acc: 0.3552\n",
      "Epoch 90/100 Complete After 655s! Train Acc: 0.41376, Test Acc: 0.3658\n",
      "Epoch 100/100 Complete After 728s! Train Acc: 0.42526, Test Acc: 0.3728\n",
      "Accuracy on benign test examples: 37.21%\n",
      "Accuracy on adversarial test examples (epsilon = 0.0.025): 12.22%\n",
      "Accuracy on adversarial test examples (epsilon = 0.05): 7.140000000000001%\n",
      "Accuracy on adversarial test examples (epsilon = 0.075): 5.1%\n",
      "Accuracy on adversarial test examples (epsilon = 0.1): 3.6799999999999997%\n",
      "Training model with perturbations:\n",
      "[['Laplacian', 0.05]]\n",
      "Epoch 10/100 Complete After 72s! Train Acc: 0.17838, Test Acc: 0.1699\n",
      "Epoch 20/100 Complete After 146s! Train Acc: 0.23342, Test Acc: 0.2202\n",
      "Epoch 30/100 Complete After 219s! Train Acc: 0.26882, Test Acc: 0.2501\n",
      "Epoch 40/100 Complete After 292s! Train Acc: 0.3043, Test Acc: 0.2816\n",
      "Epoch 50/100 Complete After 365s! Train Acc: 0.32542, Test Acc: 0.2968\n",
      "Epoch 60/100 Complete After 438s! Train Acc: 0.3409, Test Acc: 0.31\n",
      "Epoch 70/100 Complete After 510s! Train Acc: 0.36358, Test Acc: 0.3312\n",
      "Epoch 80/100 Complete After 583s! Train Acc: 0.37904, Test Acc: 0.3398\n",
      "Epoch 90/100 Complete After 656s! Train Acc: 0.389, Test Acc: 0.3458\n",
      "Epoch 100/100 Complete After 729s! Train Acc: 0.3978, Test Acc: 0.3508\n",
      "Accuracy on benign test examples: 35.370000000000005%\n",
      "Accuracy on adversarial test examples (epsilon = 0.0.025): 16.09%\n",
      "Accuracy on adversarial test examples (epsilon = 0.05): 9.27%\n",
      "Accuracy on adversarial test examples (epsilon = 0.075): 6.2700000000000005%\n",
      "Accuracy on adversarial test examples (epsilon = 0.1): 4.4799999999999995%\n",
      "Training model with perturbations:\n",
      "[[['Laplacian', 0.05], ['ContrastBrightness', 0.9, 0.9]]]\n",
      "Epoch 10/100 Complete After 75s! Train Acc: 0.0714, Test Acc: 0.0678\n",
      "Epoch 20/100 Complete After 150s! Train Acc: 0.0953, Test Acc: 0.0923\n",
      "Epoch 30/100 Complete After 225s! Train Acc: 0.13326, Test Acc: 0.1361\n",
      "Epoch 40/100 Complete After 300s! Train Acc: 0.15042, Test Acc: 0.1456\n",
      "Epoch 50/100 Complete After 375s! Train Acc: 0.1728, Test Acc: 0.1654\n",
      "Epoch 60/100 Complete After 450s! Train Acc: 0.18674, Test Acc: 0.1853\n",
      "Epoch 70/100 Complete After 525s! Train Acc: 0.20154, Test Acc: 0.204\n",
      "Epoch 80/100 Complete After 600s! Train Acc: 0.21908, Test Acc: 0.1993\n",
      "Epoch 90/100 Complete After 675s! Train Acc: 0.23748, Test Acc: 0.2218\n",
      "Epoch 100/100 Complete After 750s! Train Acc: 0.248, Test Acc: 0.2274\n",
      "Accuracy on benign test examples: 21.11%\n",
      "Accuracy on adversarial test examples (epsilon = 0.0.025): 17.04%\n",
      "Accuracy on adversarial test examples (epsilon = 0.05): 11.77%\n",
      "Accuracy on adversarial test examples (epsilon = 0.075): 10.45%\n",
      "Accuracy on adversarial test examples (epsilon = 0.1): 9.77%\n",
      "Training model with perturbations:\n",
      "[[['Laplacian', 0.05], ['RotationFlip', 0.3]]]\n",
      "Epoch 10/100 Complete After 74s! Train Acc: 0.15024, Test Acc: 0.1495\n",
      "Epoch 20/100 Complete After 149s! Train Acc: 0.1999, Test Acc: 0.1986\n",
      "Epoch 30/100 Complete After 224s! Train Acc: 0.23412, Test Acc: 0.2235\n",
      "Epoch 40/100 Complete After 299s! Train Acc: 0.26802, Test Acc: 0.2558\n",
      "Epoch 50/100 Complete After 373s! Train Acc: 0.28948, Test Acc: 0.268\n",
      "Epoch 60/100 Complete After 448s! Train Acc: 0.30166, Test Acc: 0.2904\n",
      "Epoch 70/100 Complete After 523s! Train Acc: 0.3156, Test Acc: 0.31\n",
      "Epoch 80/100 Complete After 598s! Train Acc: 0.32314, Test Acc: 0.3119\n",
      "Epoch 90/100 Complete After 679s! Train Acc: 0.33278, Test Acc: 0.3123\n",
      "Epoch 100/100 Complete After 754s! Train Acc: 0.33792, Test Acc: 0.3168\n",
      "Accuracy on benign test examples: 32.47%\n",
      "Accuracy on adversarial test examples (epsilon = 0.0.025): 23.150000000000002%\n",
      "Accuracy on adversarial test examples (epsilon = 0.05): 13.74%\n",
      "Accuracy on adversarial test examples (epsilon = 0.075): 8.77%\n",
      "Accuracy on adversarial test examples (epsilon = 0.1): 6.04%\n",
      "Training model with perturbations:\n",
      "[[['Laplacian', 0.05], ['SaltPepper', 0.05]]]\n",
      "Epoch 10/100 Complete After 75s! Train Acc: 0.17406, Test Acc: 0.1713\n",
      "Epoch 20/100 Complete After 151s! Train Acc: 0.2166, Test Acc: 0.214\n",
      "Epoch 30/100 Complete After 227s! Train Acc: 0.24946, Test Acc: 0.2346\n",
      "Epoch 40/100 Complete After 304s! Train Acc: 0.27076, Test Acc: 0.2521\n",
      "Epoch 50/100 Complete After 380s! Train Acc: 0.3002, Test Acc: 0.281\n",
      "Epoch 60/100 Complete After 456s! Train Acc: 0.32028, Test Acc: 0.2955\n",
      "Epoch 70/100 Complete After 532s! Train Acc: 0.33078, Test Acc: 0.306\n",
      "Epoch 80/100 Complete After 608s! Train Acc: 0.34364, Test Acc: 0.3145\n",
      "Epoch 90/100 Complete After 684s! Train Acc: 0.35518, Test Acc: 0.3222\n",
      "Epoch 100/100 Complete After 760s! Train Acc: 0.36612, Test Acc: 0.3289\n",
      "Accuracy on benign test examples: 32.86%\n",
      "Accuracy on adversarial test examples (epsilon = 0.0.025): 23.74%\n",
      "Accuracy on adversarial test examples (epsilon = 0.05): 15.21%\n",
      "Accuracy on adversarial test examples (epsilon = 0.075): 10.100000000000001%\n",
      "Accuracy on adversarial test examples (epsilon = 0.1): 7.39%\n",
      "Training model with perturbations:\n",
      "[['Lp-norm', 0.5, 1]]\n",
      "Epoch 10/100 Complete After 52s! Train Acc: 0.18708, Test Acc: 0.1809\n",
      "Epoch 20/100 Complete After 105s! Train Acc: 0.24054, Test Acc: 0.2287\n",
      "Epoch 30/100 Complete After 158s! Train Acc: 0.28972, Test Acc: 0.2722\n",
      "Epoch 40/100 Complete After 211s! Train Acc: 0.32116, Test Acc: 0.2945\n",
      "Epoch 50/100 Complete After 264s! Train Acc: 0.35336, Test Acc: 0.3169\n",
      "Epoch 60/100 Complete After 317s! Train Acc: 0.37138, Test Acc: 0.336\n",
      "Epoch 70/100 Complete After 370s! Train Acc: 0.39052, Test Acc: 0.3481\n",
      "Epoch 80/100 Complete After 423s! Train Acc: 0.40978, Test Acc: 0.3585\n",
      "Epoch 90/100 Complete After 476s! Train Acc: 0.42242, Test Acc: 0.3679\n",
      "Epoch 100/100 Complete After 529s! Train Acc: 0.43612, Test Acc: 0.3766\n",
      "Accuracy on benign test examples: 37.66%\n",
      "Accuracy on adversarial test examples (epsilon = 0.0.025): 10.059999999999999%\n",
      "Accuracy on adversarial test examples (epsilon = 0.05): 6.41%\n",
      "Accuracy on adversarial test examples (epsilon = 0.075): 4.46%\n",
      "Accuracy on adversarial test examples (epsilon = 0.1): 3.55%\n",
      "Training model with perturbations:\n",
      "[[['Lp-norm', 0.5, 1], ['ContrastBrightness', 0.9, 0.9]]]\n",
      "Epoch 10/100 Complete After 54s! Train Acc: 0.07962, Test Acc: 0.0709\n",
      "Epoch 20/100 Complete After 109s! Train Acc: 0.1159, Test Acc: 0.1176\n",
      "Epoch 30/100 Complete After 164s! Train Acc: 0.1352, Test Acc: 0.1439\n",
      "Epoch 40/100 Complete After 219s! Train Acc: 0.1636, Test Acc: 0.1582\n",
      "Epoch 50/100 Complete After 274s! Train Acc: 0.1785, Test Acc: 0.1748\n",
      "Epoch 60/100 Complete After 328s! Train Acc: 0.19554, Test Acc: 0.195\n",
      "Epoch 70/100 Complete After 383s! Train Acc: 0.20752, Test Acc: 0.1986\n",
      "Epoch 80/100 Complete After 438s! Train Acc: 0.21182, Test Acc: 0.2255\n",
      "Epoch 90/100 Complete After 493s! Train Acc: 0.23352, Test Acc: 0.2164\n",
      "Epoch 100/100 Complete After 548s! Train Acc: 0.23332, Test Acc: 0.2246\n",
      "Accuracy on benign test examples: 20.57%\n",
      "Accuracy on adversarial test examples (epsilon = 0.0.025): 13.86%\n",
      "Accuracy on adversarial test examples (epsilon = 0.05): 9.94%\n",
      "Accuracy on adversarial test examples (epsilon = 0.075): 8.64%\n",
      "Accuracy on adversarial test examples (epsilon = 0.1): 6.3%\n",
      "Training model with perturbations:\n",
      "[[['Lp-norm', 0.5, 1], ['RotationFlip', 0.3]]]\n",
      "Epoch 10/100 Complete After 54s! Train Acc: 0.15096, Test Acc: 0.1454\n",
      "Epoch 20/100 Complete After 109s! Train Acc: 0.18956, Test Acc: 0.1815\n",
      "Epoch 30/100 Complete After 164s! Train Acc: 0.2216, Test Acc: 0.2139\n",
      "Epoch 40/100 Complete After 218s! Train Acc: 0.24894, Test Acc: 0.2412\n",
      "Epoch 50/100 Complete After 273s! Train Acc: 0.2774, Test Acc: 0.2667\n",
      "Epoch 60/100 Complete After 328s! Train Acc: 0.2994, Test Acc: 0.2859\n",
      "Epoch 70/100 Complete After 382s! Train Acc: 0.31806, Test Acc: 0.3109\n",
      "Epoch 80/100 Complete After 437s! Train Acc: 0.32972, Test Acc: 0.3124\n",
      "Epoch 90/100 Complete After 492s! Train Acc: 0.34422, Test Acc: 0.3191\n",
      "Epoch 100/100 Complete After 547s! Train Acc: 0.34552, Test Acc: 0.3282\n",
      "Accuracy on benign test examples: 32.66%\n",
      "Accuracy on adversarial test examples (epsilon = 0.0.025): 18.32%\n",
      "Accuracy on adversarial test examples (epsilon = 0.05): 10.33%\n",
      "Accuracy on adversarial test examples (epsilon = 0.075): 6.329999999999999%\n",
      "Accuracy on adversarial test examples (epsilon = 0.1): 4.279999999999999%\n",
      "Training model with perturbations:\n",
      "[[['Lp-norm', 0.5, 1], ['SaltPepper', 0.05]]]\n",
      "Epoch 10/100 Complete After 55s! Train Acc: 0.16006, Test Acc: 0.1559\n",
      "Epoch 20/100 Complete After 111s! Train Acc: 0.21944, Test Acc: 0.2096\n",
      "Epoch 30/100 Complete After 167s! Train Acc: 0.2543, Test Acc: 0.233\n",
      "Epoch 40/100 Complete After 222s! Train Acc: 0.28188, Test Acc: 0.2664\n",
      "Epoch 50/100 Complete After 278s! Train Acc: 0.30864, Test Acc: 0.2912\n",
      "Epoch 60/100 Complete After 334s! Train Acc: 0.32528, Test Acc: 0.3047\n",
      "Epoch 70/100 Complete After 390s! Train Acc: 0.34174, Test Acc: 0.3201\n",
      "Epoch 80/100 Complete After 445s! Train Acc: 0.3567, Test Acc: 0.3275\n",
      "Epoch 90/100 Complete After 501s! Train Acc: 0.36532, Test Acc: 0.3346\n",
      "Epoch 100/100 Complete After 557s! Train Acc: 0.37642, Test Acc: 0.3473\n",
      "Accuracy on benign test examples: 34.239999999999995%\n",
      "Accuracy on adversarial test examples (epsilon = 0.0.025): 21.91%\n",
      "Accuracy on adversarial test examples (epsilon = 0.05): 12.6%\n",
      "Accuracy on adversarial test examples (epsilon = 0.075): 8.55%\n",
      "Accuracy on adversarial test examples (epsilon = 0.1): 6.61%\n",
      "Training model with perturbations:\n",
      "[['Lp-norm', 0.5, 2]]\n",
      "Epoch 10/100 Complete After 52s! Train Acc: 0.18214, Test Acc: 0.1749\n",
      "Epoch 20/100 Complete After 105s! Train Acc: 0.23824, Test Acc: 0.2259\n",
      "Epoch 30/100 Complete After 158s! Train Acc: 0.27826, Test Acc: 0.2597\n",
      "Epoch 40/100 Complete After 212s! Train Acc: 0.31414, Test Acc: 0.2914\n",
      "Epoch 50/100 Complete After 265s! Train Acc: 0.34418, Test Acc: 0.3116\n",
      "Epoch 60/100 Complete After 318s! Train Acc: 0.37118, Test Acc: 0.3338\n",
      "Epoch 70/100 Complete After 371s! Train Acc: 0.38054, Test Acc: 0.3433\n",
      "Epoch 80/100 Complete After 424s! Train Acc: 0.40806, Test Acc: 0.3594\n",
      "Epoch 90/100 Complete After 477s! Train Acc: 0.41954, Test Acc: 0.3644\n",
      "Epoch 100/100 Complete After 530s! Train Acc: 0.4373, Test Acc: 0.3727\n",
      "Accuracy on benign test examples: 37.29%\n",
      "Accuracy on adversarial test examples (epsilon = 0.0.025): 9.75%\n",
      "Accuracy on adversarial test examples (epsilon = 0.05): 6.29%\n",
      "Accuracy on adversarial test examples (epsilon = 0.075): 4.43%\n",
      "Accuracy on adversarial test examples (epsilon = 0.1): 3.17%\n",
      "Training model with perturbations:\n",
      "[['Lp-norm', 0.5, 3]]\n",
      "Epoch 10/100 Complete After 53s! Train Acc: 0.17232, Test Acc: 0.1677\n",
      "Epoch 20/100 Complete After 106s! Train Acc: 0.22748, Test Acc: 0.2167\n",
      "Epoch 30/100 Complete After 159s! Train Acc: 0.26132, Test Acc: 0.2409\n",
      "Epoch 40/100 Complete After 212s! Train Acc: 0.30118, Test Acc: 0.2816\n",
      "Epoch 50/100 Complete After 265s! Train Acc: 0.3277, Test Acc: 0.2993\n",
      "Epoch 60/100 Complete After 318s! Train Acc: 0.34422, Test Acc: 0.3104\n",
      "Epoch 70/100 Complete After 371s! Train Acc: 0.36816, Test Acc: 0.3291\n",
      "Epoch 80/100 Complete After 424s! Train Acc: 0.38214, Test Acc: 0.345\n",
      "Epoch 90/100 Complete After 478s! Train Acc: 0.39352, Test Acc: 0.3527\n",
      "Epoch 100/100 Complete After 531s! Train Acc: 0.4131, Test Acc: 0.3653\n",
      "Accuracy on benign test examples: 36.5%\n",
      "Accuracy on adversarial test examples (epsilon = 0.0.025): 9.68%\n",
      "Accuracy on adversarial test examples (epsilon = 0.05): 6.12%\n",
      "Accuracy on adversarial test examples (epsilon = 0.075): 4.390000000000001%\n",
      "Accuracy on adversarial test examples (epsilon = 0.1): 3.51%\n",
      "Training model with perturbations:\n",
      "[['Lp-norm', 0.5, 4]]\n",
      "Epoch 10/100 Complete After 52s! Train Acc: 0.19042, Test Acc: 0.1826\n",
      "Epoch 20/100 Complete After 105s! Train Acc: 0.2429, Test Acc: 0.2323\n",
      "Epoch 30/100 Complete After 159s! Train Acc: 0.29102, Test Acc: 0.2738\n",
      "Epoch 40/100 Complete After 212s! Train Acc: 0.32372, Test Acc: 0.2977\n",
      "Epoch 50/100 Complete After 265s! Train Acc: 0.35194, Test Acc: 0.3237\n",
      "Epoch 60/100 Complete After 318s! Train Acc: 0.37528, Test Acc: 0.343\n",
      "Epoch 70/100 Complete After 373s! Train Acc: 0.39458, Test Acc: 0.3596\n",
      "Epoch 80/100 Complete After 426s! Train Acc: 0.4071, Test Acc: 0.3654\n",
      "Epoch 90/100 Complete After 479s! Train Acc: 0.42806, Test Acc: 0.3804\n",
      "Epoch 100/100 Complete After 534s! Train Acc: 0.44074, Test Acc: 0.3794\n",
      "Accuracy on benign test examples: 38.33%\n",
      "Accuracy on adversarial test examples (epsilon = 0.0.025): 10.56%\n",
      "Accuracy on adversarial test examples (epsilon = 0.05): 6.529999999999999%\n",
      "Accuracy on adversarial test examples (epsilon = 0.075): 4.390000000000001%\n",
      "Accuracy on adversarial test examples (epsilon = 0.1): 3.19%\n",
      "Training model with perturbations:\n",
      "[['Lp-norm', 0.5, inf]]\n",
      "Epoch 10/100 Complete After 54s! Train Acc: 0.17368, Test Acc: 0.1713\n",
      "Epoch 20/100 Complete After 108s! Train Acc: 0.21922, Test Acc: 0.2073\n",
      "Epoch 30/100 Complete After 163s! Train Acc: 0.25216, Test Acc: 0.2338\n",
      "Epoch 40/100 Complete After 218s! Train Acc: 0.27844, Test Acc: 0.2609\n",
      "Epoch 50/100 Complete After 272s! Train Acc: 0.29866, Test Acc: 0.2796\n",
      "Epoch 60/100 Complete After 327s! Train Acc: 0.32406, Test Acc: 0.2983\n",
      "Epoch 70/100 Complete After 381s! Train Acc: 0.33894, Test Acc: 0.3073\n",
      "Epoch 80/100 Complete After 436s! Train Acc: 0.35428, Test Acc: 0.3226\n",
      "Epoch 90/100 Complete After 490s! Train Acc: 0.36394, Test Acc: 0.3294\n",
      "Epoch 100/100 Complete After 545s! Train Acc: 0.37464, Test Acc: 0.336\n",
      "Accuracy on benign test examples: 33.6%\n",
      "Accuracy on adversarial test examples (epsilon = 0.0.025): 20.97%\n",
      "Accuracy on adversarial test examples (epsilon = 0.05): 12.04%\n",
      "Accuracy on adversarial test examples (epsilon = 0.075): 8.04%\n",
      "Accuracy on adversarial test examples (epsilon = 0.1): 6.279999999999999%\n",
      "Training model with perturbations:\n",
      "[['ContrastBrightness', 0.9, 0.9]]\n",
      "Epoch 10/100 Complete After 55s! Train Acc: 0.06926, Test Acc: 0.0675\n",
      "Epoch 20/100 Complete After 110s! Train Acc: 0.10382, Test Acc: 0.1004\n",
      "Epoch 30/100 Complete After 165s! Train Acc: 0.12708, Test Acc: 0.1305\n",
      "Epoch 40/100 Complete After 220s! Train Acc: 0.1446, Test Acc: 0.147\n",
      "Epoch 50/100 Complete After 275s! Train Acc: 0.16968, Test Acc: 0.1692\n",
      "Epoch 60/100 Complete After 330s! Train Acc: 0.17488, Test Acc: 0.1701\n",
      "Epoch 70/100 Complete After 385s! Train Acc: 0.18376, Test Acc: 0.1793\n",
      "Epoch 80/100 Complete After 440s! Train Acc: 0.20898, Test Acc: 0.1846\n",
      "Epoch 90/100 Complete After 495s! Train Acc: 0.22626, Test Acc: 0.2057\n",
      "Epoch 100/100 Complete After 550s! Train Acc: 0.23418, Test Acc: 0.2252\n",
      "Accuracy on benign test examples: 20.560000000000002%\n",
      "Accuracy on adversarial test examples (epsilon = 0.0.025): 13.83%\n",
      "Accuracy on adversarial test examples (epsilon = 0.05): 9.9%\n",
      "Accuracy on adversarial test examples (epsilon = 0.075): 9.370000000000001%\n",
      "Accuracy on adversarial test examples (epsilon = 0.1): 8.03%\n",
      "Training model with perturbations:\n",
      "[['RotationFlip', 0.3]]\n",
      "Epoch 10/100 Complete After 54s! Train Acc: 0.15664, Test Acc: 0.157\n",
      "Epoch 20/100 Complete After 109s! Train Acc: 0.2026, Test Acc: 0.1938\n",
      "Epoch 30/100 Complete After 164s! Train Acc: 0.23782, Test Acc: 0.2335\n",
      "Epoch 40/100 Complete After 219s! Train Acc: 0.26326, Test Acc: 0.2617\n",
      "Epoch 50/100 Complete After 273s! Train Acc: 0.2977, Test Acc: 0.2943\n",
      "Epoch 60/100 Complete After 328s! Train Acc: 0.3103, Test Acc: 0.2977\n",
      "Epoch 70/100 Complete After 382s! Train Acc: 0.32886, Test Acc: 0.3126\n",
      "Epoch 80/100 Complete After 437s! Train Acc: 0.34458, Test Acc: 0.3354\n",
      "Epoch 90/100 Complete After 492s! Train Acc: 0.35626, Test Acc: 0.3347\n",
      "Epoch 100/100 Complete After 546s! Train Acc: 0.36568, Test Acc: 0.3408\n",
      "Accuracy on benign test examples: 35.35%\n",
      "Accuracy on adversarial test examples (epsilon = 0.0.025): 18.41%\n",
      "Accuracy on adversarial test examples (epsilon = 0.05): 10.72%\n",
      "Accuracy on adversarial test examples (epsilon = 0.075): 7.02%\n",
      "Accuracy on adversarial test examples (epsilon = 0.1): 4.5600000000000005%\n",
      "Training model with perturbations:\n",
      "[['SaltPepper', 0.05]]\n",
      "Epoch 10/100 Complete After 55s! Train Acc: 0.17764, Test Acc: 0.1712\n",
      "Epoch 20/100 Complete After 111s! Train Acc: 0.21804, Test Acc: 0.2073\n",
      "Epoch 30/100 Complete After 167s! Train Acc: 0.25828, Test Acc: 0.2422\n",
      "Epoch 40/100 Complete After 222s! Train Acc: 0.27862, Test Acc: 0.2633\n",
      "Epoch 50/100 Complete After 278s! Train Acc: 0.30256, Test Acc: 0.2832\n",
      "Epoch 60/100 Complete After 334s! Train Acc: 0.3188, Test Acc: 0.2962\n",
      "Epoch 70/100 Complete After 390s! Train Acc: 0.33068, Test Acc: 0.3033\n",
      "Epoch 80/100 Complete After 445s! Train Acc: 0.34548, Test Acc: 0.3193\n",
      "Epoch 90/100 Complete After 500s! Train Acc: 0.35492, Test Acc: 0.3245\n",
      "Epoch 100/100 Complete After 556s! Train Acc: 0.36138, Test Acc: 0.3259\n",
      "Accuracy on benign test examples: 32.36%\n",
      "Accuracy on adversarial test examples (epsilon = 0.0.025): 20.979999999999997%\n",
      "Accuracy on adversarial test examples (epsilon = 0.05): 12.23%\n",
      "Accuracy on adversarial test examples (epsilon = 0.075): 8.89%\n",
      "Accuracy on adversarial test examples (epsilon = 0.1): 6.3%\n",
      "Training model with perturbations:\n",
      "[['Gaussian', 0.05], ['Laplacian', 0.05]]\n",
      "Epoch 10/100 Complete After 119s! Train Acc: 0.17604, Test Acc: 0.1752\n",
      "Epoch 20/100 Complete After 238s! Train Acc: 0.23834, Test Acc: 0.226\n",
      "Epoch 30/100 Complete After 358s! Train Acc: 0.28486, Test Acc: 0.2684\n",
      "Epoch 40/100 Complete After 478s! Train Acc: 0.31526, Test Acc: 0.2953\n",
      "Epoch 50/100 Complete After 598s! Train Acc: 0.3458, Test Acc: 0.3194\n",
      "Epoch 60/100 Complete After 717s! Train Acc: 0.36858, Test Acc: 0.3412\n",
      "Epoch 70/100 Complete After 837s! Train Acc: 0.38538, Test Acc: 0.3515\n",
      "Epoch 80/100 Complete After 956s! Train Acc: 0.39616, Test Acc: 0.3592\n",
      "Epoch 90/100 Complete After 1076s! Train Acc: 0.41168, Test Acc: 0.3692\n",
      "Epoch 100/100 Complete After 1196s! Train Acc: 0.4209, Test Acc: 0.3819\n",
      "Accuracy on benign test examples: 37.480000000000004%\n",
      "Accuracy on adversarial test examples (epsilon = 0.0.025): 12.9%\n",
      "Accuracy on adversarial test examples (epsilon = 0.05): 7.580000000000001%\n",
      "Accuracy on adversarial test examples (epsilon = 0.075): 4.84%\n",
      "Accuracy on adversarial test examples (epsilon = 0.1): 3.7900000000000005%\n",
      "Training model with perturbations:\n",
      "[[['Gaussian', 0.05], ['Laplacian', 0.05]]]\n",
      "Epoch 10/100 Complete After 75s! Train Acc: 0.1675, Test Acc: 0.1667\n",
      "Epoch 20/100 Complete After 150s! Train Acc: 0.2138, Test Acc: 0.2061\n",
      "Epoch 30/100 Complete After 225s! Train Acc: 0.2476, Test Acc: 0.2336\n",
      "Epoch 40/100 Complete After 300s! Train Acc: 0.28814, Test Acc: 0.2659\n",
      "Epoch 50/100 Complete After 375s! Train Acc: 0.31902, Test Acc: 0.291\n",
      "Epoch 60/100 Complete After 450s! Train Acc: 0.33668, Test Acc: 0.3046\n",
      "Epoch 70/100 Complete After 525s! Train Acc: 0.35338, Test Acc: 0.3213\n",
      "Epoch 80/100 Complete After 600s! Train Acc: 0.37044, Test Acc: 0.3326\n",
      "Epoch 90/100 Complete After 675s! Train Acc: 0.37432, Test Acc: 0.3432\n",
      "Epoch 100/100 Complete After 750s! Train Acc: 0.3834, Test Acc: 0.344\n",
      "Accuracy on benign test examples: 33.92%\n",
      "Accuracy on adversarial test examples (epsilon = 0.0.025): 18.85%\n",
      "Accuracy on adversarial test examples (epsilon = 0.05): 10.489999999999998%\n",
      "Accuracy on adversarial test examples (epsilon = 0.075): 7.180000000000001%\n",
      "Accuracy on adversarial test examples (epsilon = 0.1): 5.21%\n",
      "Training model with perturbations:\n",
      "[['Gaussian', 0.05], ['Lp-norm', 0.5, 1]]\n",
      "Epoch 10/100 Complete After 97s! Train Acc: 0.16692, Test Acc: 0.1621\n",
      "Epoch 20/100 Complete After 196s! Train Acc: 0.22796, Test Acc: 0.2179\n",
      "Epoch 30/100 Complete After 294s! Train Acc: 0.26054, Test Acc: 0.2502\n",
      "Epoch 40/100 Complete After 393s! Train Acc: 0.30534, Test Acc: 0.2868\n",
      "Epoch 50/100 Complete After 493s! Train Acc: 0.33998, Test Acc: 0.3117\n",
      "Epoch 60/100 Complete After 592s! Train Acc: 0.35716, Test Acc: 0.3238\n",
      "Epoch 70/100 Complete After 691s! Train Acc: 0.38602, Test Acc: 0.3433\n",
      "Epoch 80/100 Complete After 790s! Train Acc: 0.3965, Test Acc: 0.3524\n",
      "Epoch 90/100 Complete After 889s! Train Acc: 0.41294, Test Acc: 0.3632\n",
      "Epoch 100/100 Complete After 988s! Train Acc: 0.4322, Test Acc: 0.3814\n",
      "Accuracy on benign test examples: 37.72%\n",
      "Accuracy on adversarial test examples (epsilon = 0.0.025): 10.639999999999999%\n",
      "Accuracy on adversarial test examples (epsilon = 0.05): 6.510000000000001%\n",
      "Accuracy on adversarial test examples (epsilon = 0.075): 4.74%\n",
      "Accuracy on adversarial test examples (epsilon = 0.1): 3.1399999999999997%\n",
      "Training model with perturbations:\n",
      "[['Laplacian', 0.05], ['Lp-norm', 0.5, 1]]\n",
      "Epoch 10/100 Complete After 120s! Train Acc: 0.17908, Test Acc: 0.1719\n",
      "Epoch 20/100 Complete After 240s! Train Acc: 0.23074, Test Acc: 0.2203\n",
      "Epoch 30/100 Complete After 360s! Train Acc: 0.26796, Test Acc: 0.2533\n",
      "Epoch 40/100 Complete After 478s! Train Acc: 0.3013, Test Acc: 0.2818\n",
      "Epoch 50/100 Complete After 596s! Train Acc: 0.33448, Test Acc: 0.3052\n",
      "Epoch 60/100 Complete After 714s! Train Acc: 0.35522, Test Acc: 0.3254\n",
      "Epoch 70/100 Complete After 832s! Train Acc: 0.36854, Test Acc: 0.3353\n",
      "Epoch 80/100 Complete After 951s! Train Acc: 0.39342, Test Acc: 0.3522\n",
      "Epoch 90/100 Complete After 1069s! Train Acc: 0.40432, Test Acc: 0.3631\n",
      "Epoch 100/100 Complete After 1187s! Train Acc: 0.41596, Test Acc: 0.3674\n",
      "Accuracy on benign test examples: 36.97%\n",
      "Accuracy on adversarial test examples (epsilon = 0.0.025): 11.43%\n",
      "Accuracy on adversarial test examples (epsilon = 0.05): 7.6%\n",
      "Accuracy on adversarial test examples (epsilon = 0.075): 4.97%\n",
      "Accuracy on adversarial test examples (epsilon = 0.1): 3.5900000000000003%\n",
      "Training model with perturbations:\n",
      "[['Lp-norm', 0.5, 1], ['Lp-norm', 0.5, 2]]\n",
      "Epoch 10/100 Complete After 96s! Train Acc: 0.19756, Test Acc: 0.1891\n",
      "Epoch 20/100 Complete After 194s! Train Acc: 0.2627, Test Acc: 0.2486\n",
      "Epoch 30/100 Complete After 291s! Train Acc: 0.31208, Test Acc: 0.2984\n",
      "Epoch 40/100 Complete After 388s! Train Acc: 0.34914, Test Acc: 0.3265\n",
      "Epoch 50/100 Complete After 485s! Train Acc: 0.37338, Test Acc: 0.3427\n",
      "Epoch 60/100 Complete After 583s! Train Acc: 0.39786, Test Acc: 0.3609\n",
      "Epoch 70/100 Complete After 681s! Train Acc: 0.4229, Test Acc: 0.3758\n",
      "Epoch 80/100 Complete After 778s! Train Acc: 0.4316, Test Acc: 0.3767\n",
      "Epoch 90/100 Complete After 875s! Train Acc: 0.45136, Test Acc: 0.3893\n",
      "Epoch 100/100 Complete After 973s! Train Acc: 0.4592, Test Acc: 0.393\n",
      "Accuracy on benign test examples: 39.34%\n",
      "Accuracy on adversarial test examples (epsilon = 0.0.025): 9.22%\n",
      "Accuracy on adversarial test examples (epsilon = 0.05): 5.970000000000001%\n",
      "Accuracy on adversarial test examples (epsilon = 0.075): 4.14%\n",
      "Accuracy on adversarial test examples (epsilon = 0.1): 3.1199999999999997%\n",
      "Training model with perturbations:\n",
      "[['Gaussian', 0.05], ['Laplacian', 0.05], ['Lp-norm', 0.5, 1]]\n",
      "Epoch 10/100 Complete After 155s! Train Acc: 0.18786, Test Acc: 0.1882\n",
      "Epoch 20/100 Complete After 310s! Train Acc: 0.2431, Test Acc: 0.2346\n",
      "Epoch 30/100 Complete After 465s! Train Acc: 0.29628, Test Acc: 0.2827\n",
      "Epoch 40/100 Complete After 620s! Train Acc: 0.32844, Test Acc: 0.3088\n",
      "Epoch 50/100 Complete After 775s! Train Acc: 0.36188, Test Acc: 0.3337\n",
      "Epoch 60/100 Complete After 929s! Train Acc: 0.38188, Test Acc: 0.3484\n",
      "Epoch 70/100 Complete After 1084s! Train Acc: 0.39984, Test Acc: 0.3575\n",
      "Epoch 80/100 Complete After 1239s! Train Acc: 0.41088, Test Acc: 0.3674\n",
      "Epoch 90/100 Complete After 1393s! Train Acc: 0.42572, Test Acc: 0.3722\n",
      "Epoch 100/100 Complete After 1548s! Train Acc: 0.43456, Test Acc: 0.3822\n",
      "Accuracy on benign test examples: 37.95%\n",
      "Accuracy on adversarial test examples (epsilon = 0.0.025): 10.73%\n",
      "Accuracy on adversarial test examples (epsilon = 0.05): 6.6000000000000005%\n",
      "Accuracy on adversarial test examples (epsilon = 0.075): 4.5600000000000005%\n",
      "Accuracy on adversarial test examples (epsilon = 0.1): 3.18%\n",
      "Training model with perturbations:\n",
      "[['Gaussian', 0.05], [['Laplacian', 0.05], ['SaltPepper', 0.05]]]\n",
      "Epoch 10/100 Complete After 121s! Train Acc: 0.17874, Test Acc: 0.1745\n",
      "Epoch 20/100 Complete After 242s! Train Acc: 0.23324, Test Acc: 0.227\n",
      "Epoch 30/100 Complete After 364s! Train Acc: 0.27134, Test Acc: 0.2565\n",
      "Epoch 40/100 Complete After 485s! Train Acc: 0.30734, Test Acc: 0.2916\n",
      "Epoch 50/100 Complete After 606s! Train Acc: 0.3347, Test Acc: 0.3096\n",
      "Epoch 60/100 Complete After 727s! Train Acc: 0.35634, Test Acc: 0.3283\n",
      "Epoch 70/100 Complete After 849s! Train Acc: 0.3687, Test Acc: 0.3397\n",
      "Epoch 80/100 Complete After 970s! Train Acc: 0.3903, Test Acc: 0.3545\n",
      "Epoch 90/100 Complete After 1091s! Train Acc: 0.39578, Test Acc: 0.3591\n",
      "Epoch 100/100 Complete After 1213s! Train Acc: 0.40732, Test Acc: 0.3653\n",
      "Accuracy on benign test examples: 36.59%\n",
      "Accuracy on adversarial test examples (epsilon = 0.0.025): 16.13%\n",
      "Accuracy on adversarial test examples (epsilon = 0.05): 9.030000000000001%\n",
      "Accuracy on adversarial test examples (epsilon = 0.075): 6.4399999999999995%\n",
      "Accuracy on adversarial test examples (epsilon = 0.1): 4.9%\n",
      "Training model with perturbations:\n",
      "[['Gaussian', 0.05], [['Lp-norm', 0.5, 1], ['ContrastBrightness', 0.9, 0.9]]]\n",
      "Epoch 10/100 Complete After 97s! Train Acc: 0.15264, Test Acc: 0.1514\n",
      "Epoch 20/100 Complete After 196s! Train Acc: 0.20792, Test Acc: 0.2002\n",
      "Epoch 30/100 Complete After 294s! Train Acc: 0.2381, Test Acc: 0.2319\n",
      "Epoch 40/100 Complete After 392s! Train Acc: 0.2598, Test Acc: 0.2506\n",
      "Epoch 50/100 Complete After 491s! Train Acc: 0.2883, Test Acc: 0.2741\n",
      "Epoch 60/100 Complete After 589s! Train Acc: 0.30888, Test Acc: 0.2939\n",
      "Epoch 70/100 Complete After 687s! Train Acc: 0.33242, Test Acc: 0.3103\n",
      "Epoch 80/100 Complete After 786s! Train Acc: 0.34226, Test Acc: 0.3214\n",
      "Epoch 90/100 Complete After 884s! Train Acc: 0.36044, Test Acc: 0.3328\n",
      "Epoch 100/100 Complete After 982s! Train Acc: 0.37724, Test Acc: 0.3429\n",
      "Accuracy on benign test examples: 34.29%\n",
      "Accuracy on adversarial test examples (epsilon = 0.0.025): 13.700000000000001%\n",
      "Accuracy on adversarial test examples (epsilon = 0.05): 7.71%\n",
      "Accuracy on adversarial test examples (epsilon = 0.075): 5.800000000000001%\n",
      "Accuracy on adversarial test examples (epsilon = 0.1): 4.35%\n",
      "Training model with perturbations:\n",
      "[['Laplacian', 0.05], [['Lp-norm', 0.5, 1], ['RotationFlip', 0.3]]]\n",
      "Epoch 10/100 Complete After 120s! Train Acc: 0.1718, Test Acc: 0.1635\n",
      "Epoch 20/100 Complete After 240s! Train Acc: 0.2246, Test Acc: 0.2133\n",
      "Epoch 30/100 Complete After 360s! Train Acc: 0.26878, Test Acc: 0.2572\n",
      "Epoch 40/100 Complete After 480s! Train Acc: 0.30456, Test Acc: 0.2909\n",
      "Epoch 50/100 Complete After 600s! Train Acc: 0.33672, Test Acc: 0.3116\n",
      "Epoch 60/100 Complete After 721s! Train Acc: 0.34932, Test Acc: 0.3328\n",
      "Epoch 70/100 Complete After 841s! Train Acc: 0.36374, Test Acc: 0.3286\n",
      "Epoch 80/100 Complete After 961s! Train Acc: 0.3864, Test Acc: 0.3611\n",
      "Epoch 90/100 Complete After 1082s! Train Acc: 0.39794, Test Acc: 0.3727\n",
      "Epoch 100/100 Complete After 1202s! Train Acc: 0.41156, Test Acc: 0.3662\n",
      "Accuracy on benign test examples: 37.9%\n",
      "Accuracy on adversarial test examples (epsilon = 0.0.025): 16.99%\n",
      "Accuracy on adversarial test examples (epsilon = 0.05): 9.13%\n",
      "Accuracy on adversarial test examples (epsilon = 0.075): 5.88%\n",
      "Accuracy on adversarial test examples (epsilon = 0.1): 3.94%\n"
     ]
    }
   ],
   "source": [
    "channel_widths = [3, 50, 100, 50]  \n",
    "linear_sizes = [50, 100]\n",
    "kernel = 3\n",
    "pooling = nn.AdaptiveMaxPool2d((2, 2))\n",
    "lr = 0.0001\n",
    "criterion = nn.CrossEntropyLoss()\n",
    "\n",
    "for perturbation_description in perturbation_tests:\n",
    "    perturbations = create_perturbations(perturbation_description)\n",
    "    include_original = perturbation_description == []\n",
    "    shuffle = True\n",
    "\n",
    "    model = REPClassifier(\n",
    "        channel_widths=channel_widths,\n",
    "        linear_sizes=linear_sizes,\n",
    "        kernel=kernel,\n",
    "        pooling=pooling,\n",
    "        perturbations=perturbations,\n",
    "        include_original=include_original,\n",
    "        shuffle=shuffle,\n",
    "        num_classes=100,\n",
    "    )\n",
    "    \n",
    "    optimizer = optim.Adam(model.parameters(), lr=lr)\n",
    "\n",
    "    classifier = PyTorchClassifier(\n",
    "        model=model,\n",
    "        clip_values=(min_pixel_value, max_pixel_value),\n",
    "        loss=criterion,\n",
    "        optimizer=optimizer,\n",
    "        input_shape=(3, 32, 32),\n",
    "        nb_classes=100,\n",
    "    )\n",
    "\n",
    "    batch_size = 64\n",
    "    super_epochs = 10\n",
    "    epochs_per = 10\n",
    "    print(f\"Training model with perturbations:\")\n",
    "    print(perturbation_description)\n",
    "    training_start = time.time()\n",
    "    for epoch in range(super_epochs):\n",
    "        classifier.fit(x_train, y_train, batch_size=batch_size, nb_epochs=epochs_per, verbose=False)\n",
    "        with torch.no_grad():\n",
    "            train_predictions = classifier.predict(x_train)\n",
    "            train_accuracy = np.sum(np.argmax(train_predictions, axis=1) == np.argmax(y_train, axis=1)) / len(y_train)\n",
    "            test_predictions = classifier.predict(x_test)\n",
    "            test_accuracy = np.sum(np.argmax(test_predictions, axis=1) == np.argmax(y_test, axis=1)) / len(y_test)\n",
    "            print(f\"Epoch {(epoch+1)*epochs_per}/{super_epochs*epochs_per} Complete After {int(time.time() - training_start)}s! Train Acc: {train_accuracy}, Test Acc: {test_accuracy}\")\n",
    "    total_time = time.time() - training_start\n",
    "\n",
    "    # Step 5: Evaluate the ART classifier on benign test examples\n",
    "    predictions = classifier.predict(x_test)\n",
    "    baseline_accuracy = np.sum(np.argmax(predictions, axis=1) == np.argmax(y_test, axis=1)) / len(y_test)\n",
    "    print(\"Accuracy on benign test examples: {}%\".format(baseline_accuracy * 100))\n",
    "\n",
    "    # Step 6: Generate adversarial test examples\n",
    "    attack = FastGradientMethod(estimator=classifier, eps=0.025)\n",
    "    x_test_adv1 = attack.generate(x=x_test)\n",
    "    predictions = classifier.predict(x_test_adv1)\n",
    "    adversarial_accuracy1 = np.sum(np.argmax(predictions, axis=1) == np.argmax(y_test, axis=1)) / len(y_test)\n",
    "    print(\"Accuracy on adversarial test examples (epsilon = 0.0.025): {}%\".format(adversarial_accuracy1 * 100))\n",
    "\n",
    "    attack = FastGradientMethod(estimator=classifier, eps=0.05)\n",
    "    x_test_adv2 = attack.generate(x=x_test)\n",
    "    predictions = classifier.predict(x_test_adv2)\n",
    "    adversarial_accuracy2 = np.sum(np.argmax(predictions, axis=1) == np.argmax(y_test, axis=1)) / len(y_test)\n",
    "    print(\"Accuracy on adversarial test examples (epsilon = 0.05): {}%\".format(adversarial_accuracy2 * 100))\n",
    "\n",
    "    attack = FastGradientMethod(estimator=classifier, eps=0.075)\n",
    "    x_test_adv3 = attack.generate(x=x_test)\n",
    "    predictions = classifier.predict(x_test_adv3)\n",
    "    adversarial_accuracy3 = np.sum(np.argmax(predictions, axis=1) == np.argmax(y_test, axis=1)) / len(y_test)\n",
    "    print(\"Accuracy on adversarial test examples (epsilon = 0.075): {}%\".format(adversarial_accuracy3 * 100))\n",
    "\n",
    "    attack = FastGradientMethod(estimator=classifier, eps=0.1)\n",
    "    x_test_adv4 = attack.generate(x=x_test)\n",
    "    predictions = classifier.predict(x_test_adv4)\n",
    "    adversarial_accuracy4 = np.sum(np.argmax(predictions, axis=1) == np.argmax(y_test, axis=1)) / len(y_test)\n",
    "    print(\"Accuracy on adversarial test examples (epsilon = 0.1): {}%\".format(adversarial_accuracy4 * 100))\n",
    "\n",
    "    test_history.append({'channel_widths': channel_widths,\n",
    "                        'linear_sizes': linear_sizes,\n",
    "                        'kernel': kernel,\n",
    "                        'pooling': pooling,\n",
    "                        'perturbations': perturbation_description,\n",
    "                        'include_original': include_original,\n",
    "                        'shuffle': shuffle,\n",
    "                        'loss': criterion,\n",
    "                        'lr': lr,\n",
    "                        'batch_size': batch_size,\n",
    "                        'epochs': int(super_epochs*epochs_per),\n",
    "                        'training_time': total_time,\n",
    "                        'baseline_accuracy': baseline_accuracy,\n",
    "                        'adversarial_accuracy': [adversarial_accuracy1, adversarial_accuracy2, adversarial_accuracy3, adversarial_accuracy4]})"
   ]
  },
  {
   "cell_type": "code",
   "execution_count": 23,
   "metadata": {},
   "outputs": [
    {
     "name": "stdout",
     "output_type": "stream",
     "text": [
      "Test 0: Perturbations (1), Original (False), Shuffle (True), Training Time (547.7024054527283s), Baseline (22.53%), Adversarial (15.690000000000001/12.35/10.96/9.54%)\n",
      "Test 1: Perturbations (1), Original (False), Shuffle (True), Training Time (544.7114560604095s), Baseline (33.410000000000004%), Adversarial (21.41/12.47/7.8/5.27%)\n",
      "Test 2: Perturbations (1), Original (False), Shuffle (True), Training Time (554.6939740180969s), Baseline (32.72%), Adversarial (22.05/13.34/9.21/6.94%)\n",
      "Test 3: Perturbations (1), Original (False), Shuffle (True), Training Time (728.2032270431519s), Baseline (37.21%), Adversarial (12.22/7.140000000000001/5.1/3.6799999999999997%)\n",
      "Test 4: Perturbations (1), Original (False), Shuffle (True), Training Time (729.4358289241791s), Baseline (35.370000000000005%), Adversarial (16.09/9.27/6.2700000000000005/4.4799999999999995%)\n",
      "Test 5: Perturbations (1), Original (False), Shuffle (True), Training Time (750.4908287525177s), Baseline (21.11%), Adversarial (17.04/11.77/10.45/9.77%)\n",
      "Test 6: Perturbations (1), Original (False), Shuffle (True), Training Time (754.7003469467163s), Baseline (32.47%), Adversarial (23.150000000000002/13.74/8.77/6.04%)\n",
      "Test 7: Perturbations (1), Original (False), Shuffle (True), Training Time (760.9489631652832s), Baseline (32.86%), Adversarial (23.74/15.21/10.100000000000001/7.39%)\n",
      "Test 8: Perturbations (1), Original (False), Shuffle (True), Training Time (529.6205554008484s), Baseline (37.66%), Adversarial (10.059999999999999/6.41/4.46/3.55%)\n",
      "Test 9: Perturbations (1), Original (False), Shuffle (True), Training Time (548.2792043685913s), Baseline (20.57%), Adversarial (13.86/9.94/8.64/6.3%)\n",
      "Test 10: Perturbations (1), Original (False), Shuffle (True), Training Time (547.0604915618896s), Baseline (32.66%), Adversarial (18.32/10.33/6.329999999999999/4.279999999999999%)\n",
      "Test 11: Perturbations (1), Original (False), Shuffle (True), Training Time (557.4776258468628s), Baseline (34.239999999999995%), Adversarial (21.91/12.6/8.55/6.61%)\n",
      "Test 12: Perturbations (1), Original (False), Shuffle (True), Training Time (530.2372674942017s), Baseline (37.29%), Adversarial (9.75/6.29/4.43/3.17%)\n",
      "Test 13: Perturbations (1), Original (False), Shuffle (True), Training Time (531.3546998500824s), Baseline (36.5%), Adversarial (9.68/6.12/4.390000000000001/3.51%)\n",
      "Test 14: Perturbations (1), Original (False), Shuffle (True), Training Time (534.5776042938232s), Baseline (38.33%), Adversarial (10.56/6.529999999999999/4.390000000000001/3.19%)\n",
      "Test 15: Perturbations (1), Original (False), Shuffle (True), Training Time (545.3151383399963s), Baseline (33.6%), Adversarial (20.97/12.04/8.04/6.279999999999999%)\n",
      "Test 16: Perturbations (1), Original (False), Shuffle (True), Training Time (550.1620461940765s), Baseline (20.560000000000002%), Adversarial (13.83/9.9/9.370000000000001/8.03%)\n",
      "Test 17: Perturbations (1), Original (False), Shuffle (True), Training Time (546.7968201637268s), Baseline (35.35%), Adversarial (18.41/10.72/7.02/4.5600000000000005%)\n",
      "Test 18: Perturbations (1), Original (False), Shuffle (True), Training Time (556.2676124572754s), Baseline (32.36%), Adversarial (20.979999999999997/12.23/8.89/6.3%)\n",
      "Test 19: Perturbations (2), Original (False), Shuffle (True), Training Time (1196.4863789081573s), Baseline (37.480000000000004%), Adversarial (12.9/7.580000000000001/4.84/3.7900000000000005%)\n",
      "Test 20: Perturbations (1), Original (False), Shuffle (True), Training Time (750.238095998764s), Baseline (33.92%), Adversarial (18.85/10.489999999999998/7.180000000000001/5.21%)\n",
      "Test 21: Perturbations (2), Original (False), Shuffle (True), Training Time (988.3993134498596s), Baseline (37.72%), Adversarial (10.639999999999999/6.510000000000001/4.74/3.1399999999999997%)\n",
      "Test 22: Perturbations (2), Original (False), Shuffle (True), Training Time (1187.4488320350647s), Baseline (36.97%), Adversarial (11.43/7.6/4.97/3.5900000000000003%)\n",
      "Test 23: Perturbations (2), Original (False), Shuffle (True), Training Time (973.2398815155029s), Baseline (39.34%), Adversarial (9.22/5.970000000000001/4.14/3.1199999999999997%)\n",
      "Test 24: Perturbations (3), Original (False), Shuffle (True), Training Time (1548.8203282356262s), Baseline (37.95%), Adversarial (10.73/6.6000000000000005/4.5600000000000005/3.18%)\n",
      "Test 25: Perturbations (2), Original (False), Shuffle (True), Training Time (1213.0764265060425s), Baseline (36.59%), Adversarial (16.13/9.030000000000001/6.4399999999999995/4.9%)\n",
      "Test 26: Perturbations (2), Original (False), Shuffle (True), Training Time (982.8389604091644s), Baseline (34.29%), Adversarial (13.700000000000001/7.71/5.800000000000001/4.35%)\n",
      "Test 27: Perturbations (2), Original (False), Shuffle (True), Training Time (1202.310923576355s), Baseline (37.9%), Adversarial (16.99/9.13/5.88/3.94%)\n"
     ]
    }
   ],
   "source": [
    "display_test_history(test_history=test_history)"
   ]
  },
  {
   "cell_type": "code",
   "execution_count": 24,
   "metadata": {},
   "outputs": [
    {
     "name": "stdout",
     "output_type": "stream",
     "text": [
      "Data saved to ../../notebooks/experiment_log/cifar_100_round_2_training_results.csv successfully.\n"
     ]
    }
   ],
   "source": [
    "import csv\n",
    "\n",
    "def save_to_csv(data, filename):\n",
    "    if not data:\n",
    "        return\n",
    "\n",
    "    # Extract the keys from the first dictionary as headers\n",
    "    headers = list(data[0].keys())\n",
    "\n",
    "    with open(filename, 'w', newline='') as csvfile:\n",
    "        writer = csv.DictWriter(csvfile, fieldnames=headers)\n",
    "\n",
    "        # Write the headers\n",
    "        writer.writeheader()\n",
    "\n",
    "        # Write each dictionary as a row in the CSV file\n",
    "        for item in data:\n",
    "            writer.writerow(item)\n",
    "\n",
    "    print(f\"Data saved to {filename} successfully.\")\n",
    "\n",
    "save_to_csv(test_history, ROOT + \"notebooks/experiment_log/cifar_100_round_2_training_results.csv\")"
   ]
  }
 ],
 "metadata": {
  "kernelspec": {
   "display_name": "PyTorch",
   "language": "python",
   "name": "python3"
  },
  "language_info": {
   "codemirror_mode": {
    "name": "ipython",
    "version": 3
   },
   "file_extension": ".py",
   "mimetype": "text/x-python",
   "name": "python",
   "nbconvert_exporter": "python",
   "pygments_lexer": "ipython3",
   "version": "3.10.12"
  },
  "orig_nbformat": 4
 },
 "nbformat": 4,
 "nbformat_minor": 2
}
