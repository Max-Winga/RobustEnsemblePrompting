{
 "cells": [
  {
   "cell_type": "code",
   "execution_count": 1,
   "metadata": {},
   "outputs": [],
   "source": [
    "import numpy as np\n",
    "import matplotlib.pyplot as plt\n",
    "import torch\n",
    "import torch.nn as nn\n",
    "import torch.optim as optim\n",
    "\n",
    "\n",
    "import sys\n",
    "ROOT = \"../../\"\n",
    "sys.path.append(ROOT) # Add root directory to path\n",
    "\n",
    "from src.utils.REPClassifier import REPClassifier\n",
    "from src.utils.StandardDataset import StandardDataset\n",
    "from src.utils.perturbations import *\n",
    "\n",
    "from art.attacks.evasion import FastGradientMethod\n",
    "from art.estimators.classification import PyTorchClassifier\n",
    "from art.utils import load_mnist"
   ]
  },
  {
   "cell_type": "code",
   "execution_count": 2,
   "metadata": {},
   "outputs": [],
   "source": [
    "# Step 1: Load the MNIST dataset\n",
    "(x_train, y_train), (x_test, y_test), min_pixel_value, max_pixel_value = load_mnist()\n",
    "\n",
    "# Step 1a: Swap axes to PyTorch's NCHW format\n",
    "x_train = np.transpose(x_train, (0, 3, 1, 2)).astype(np.float32)\n",
    "x_test = np.transpose(x_test, (0, 3, 1, 2)).astype(np.float32)\n",
    "\n",
    "test_history = []\n",
    "\n",
    "def display_test_history(test_history):\n",
    "    for i in range(len(test_history)):\n",
    "        test = test_history[i]\n",
    "        num_p = len(test['perturbations'])\n",
    "        io = test['include_original']\n",
    "        shuffle = test['shuffle']\n",
    "        baseline = test['baseline_accuracy']\n",
    "        adversarial = test['adversarial_accuracy']\n",
    "        adv_str = f\"{adversarial[0]*100}/{adversarial[1]*100}/{adversarial[2]*100}/{adversarial[3]*100}\"\n",
    "        print(f\"Test {i}: Perturbations ({num_p}), Original ({io}), Shuffle ({shuffle}), Baseline ({baseline*100}%), Adversarial ({adv_str}%)\")"
   ]
  },
  {
   "cell_type": "code",
   "execution_count": 6,
   "metadata": {},
   "outputs": [
    {
     "data": {
      "application/vnd.jupyter.widget-view+json": {
       "model_id": "d60daca0442e411aaf57e852adde34a9",
       "version_major": 2,
       "version_minor": 0
      },
      "text/plain": [
       "Epochs:   0%|          | 0/25 [00:00<?, ?it/s]"
      ]
     },
     "metadata": {},
     "output_type": "display_data"
    },
    {
     "name": "stdout",
     "output_type": "stream",
     "text": [
      "[['Gaussian', 0.5], ['Laplacian', 0.5], ['Lp-norm', 5, 2], ['Lp-norm', 4, 3], ['Lp-norm', 3, 4]]\n",
      "Accuracy on benign test examples: 95.77%\n",
      "Accuracy on adversarial test examples (epsilon = 0.1): 29.26%\n",
      "Accuracy on adversarial test examples (epsilon = 0.2): 11.42%\n",
      "Accuracy on adversarial test examples (epsilon = 0.3): 4.49%\n",
      "Accuracy on adversarial test examples (epsilon = 0.5): 5.06%\n"
     ]
    }
   ],
   "source": [
    "# Step 2: Create the REPClassifier model\n",
    "channel_widths = [1, 20, 40]  \n",
    "linear_sizes = [100]\n",
    "kernel = 3\n",
    "pooling = nn.AdaptiveMaxPool2d((1, 1))\n",
    "\n",
    "perturbation_description = [[\"Gaussian\", 0.5],\n",
    "                            [\"Laplacian\", 0.5],\n",
    "                            [\"Lp-norm\", 5, 2],\n",
    "                            [\"Lp-norm\", 4, 3],\n",
    "                            [\"Lp-norm\", 3, 4],]\n",
    "\n",
    "perturbations = create_perturbations(perturbation_description)\n",
    "include_original = True\n",
    "shuffle = False\n",
    "\n",
    "model = REPClassifier(\n",
    "    channel_widths=channel_widths,\n",
    "    linear_sizes=linear_sizes,\n",
    "    kernel=kernel,\n",
    "    pooling=pooling,\n",
    "    perturbations=perturbations,\n",
    "    include_original=include_original,\n",
    "    shuffle=shuffle,\n",
    "    num_classes=10,\n",
    ")\n",
    "\n",
    "# Step 2a: Define the loss function and the optimizer\n",
    "lr = 0.001\n",
    "criterion = nn.CrossEntropyLoss()\n",
    "optimizer = optim.Adam(model.parameters(), lr=lr)\n",
    "\n",
    "# Step 3: Create the ART classifier\n",
    "classifier = PyTorchClassifier(\n",
    "    model=model,\n",
    "    clip_values=(min_pixel_value, max_pixel_value),\n",
    "    loss=criterion,\n",
    "    optimizer=optimizer,\n",
    "    input_shape=(1, 28, 28),\n",
    "    nb_classes=10,\n",
    ")\n",
    "\n",
    "# Step 4: Train the ART classifier\n",
    "batch_size = 64\n",
    "epochs = 25\n",
    "classifier.fit(x_train, y_train, batch_size=batch_size, nb_epochs=epochs, verbose=True)\n",
    "print(perturbation_description)\n",
    "\n",
    "# Step 5: Evaluate the ART classifier on benign test examples\n",
    "predictions = classifier.predict(x_test)\n",
    "baseline_accuracy = np.sum(np.argmax(predictions, axis=1) == np.argmax(y_test, axis=1)) / len(y_test)\n",
    "print(\"Accuracy on benign test examples: {}%\".format(baseline_accuracy * 100))\n",
    "\n",
    "# Step 6: Generate adversarial test examples\n",
    "attack = FastGradientMethod(estimator=classifier, eps=0.1)\n",
    "x_test_adv = attack.generate(x=x_test)\n",
    "predictions = classifier.predict(x_test_adv)\n",
    "adversarial_accuracy1 = np.sum(np.argmax(predictions, axis=1) == np.argmax(y_test, axis=1)) / len(y_test)\n",
    "print(\"Accuracy on adversarial test examples (epsilon = 0.1): {}%\".format(adversarial_accuracy1 * 100))\n",
    "\n",
    "attack = FastGradientMethod(estimator=classifier, eps=0.2)\n",
    "x_test_adv = attack.generate(x=x_test)\n",
    "predictions = classifier.predict(x_test_adv)\n",
    "adversarial_accuracy2 = np.sum(np.argmax(predictions, axis=1) == np.argmax(y_test, axis=1)) / len(y_test)\n",
    "print(\"Accuracy on adversarial test examples (epsilon = 0.2): {}%\".format(adversarial_accuracy2 * 100))\n",
    "\n",
    "attack = FastGradientMethod(estimator=classifier, eps=0.3)\n",
    "x_test_adv = attack.generate(x=x_test)\n",
    "predictions = classifier.predict(x_test_adv)\n",
    "adversarial_accuracy3 = np.sum(np.argmax(predictions, axis=1) == np.argmax(y_test, axis=1)) / len(y_test)\n",
    "print(\"Accuracy on adversarial test examples (epsilon = 0.3): {}%\".format(adversarial_accuracy3 * 100))\n",
    "\n",
    "attack = FastGradientMethod(estimator=classifier, eps=0.5)\n",
    "x_test_adv = attack.generate(x=x_test)\n",
    "predictions = classifier.predict(x_test_adv)\n",
    "adversarial_accuracy4 = np.sum(np.argmax(predictions, axis=1) == np.argmax(y_test, axis=1)) / len(y_test)\n",
    "print(\"Accuracy on adversarial test examples (epsilon = 0.5): {}%\".format(adversarial_accuracy4 * 100))\n",
    "\n",
    "test_history.append({'channel_widths': channel_widths,\n",
    "                    'linear_sizes': linear_sizes,\n",
    "                    'kernel': kernel,\n",
    "                    'pooling': pooling,\n",
    "                    'perturbations': perturbation_description,\n",
    "                    'include_original': include_original,\n",
    "                    'shuffle': shuffle,\n",
    "                    'loss': criterion,\n",
    "                    'lr': lr,\n",
    "                    'batch_size': batch_size,\n",
    "                    'epochs': epochs,\n",
    "                    'baseline_accuracy': baseline_accuracy,\n",
    "                    'adversarial_accuracy': [adversarial_accuracy1, adversarial_accuracy2, adversarial_accuracy3, adversarial_accuracy4]})"
   ]
  },
  {
   "cell_type": "code",
   "execution_count": 5,
   "metadata": {},
   "outputs": [
    {
     "name": "stdout",
     "output_type": "stream",
     "text": [
      "Test 0: Perturbations (5), Original (False), Shuffle (False), Baseline (10.100000000000001%), Adversarial (10.100000000000001/10.100000000000001/10.100000000000001/10.100000000000001%)\n",
      "Test 1: Perturbations (5), Original (True), Shuffle (False), Baseline (11.35%), Adversarial (11.35/11.35/11.35/11.35%)\n"
     ]
    }
   ],
   "source": [
    "display_test_history(test_history)"
   ]
  },
  {
   "cell_type": "code",
   "execution_count": 59,
   "metadata": {},
   "outputs": [
    {
     "name": "stdout",
     "output_type": "stream",
     "text": [
      "{'channel_widths': [1, 4, 10], 'linear_sizes': [100], 'kernel': 5, 'pooling': AdaptiveMaxPool2d(output_size=(1, 1)), 'perturbations': [['Gaussian', 1.0]], 'include_original': False, 'shuffle': True, 'loss': CrossEntropyLoss(), 'lr': 0.01, 'batch_size': 64, 'epochs': 10, 'baseline_accuracy': 0.4276, 'adversarial_accuracy': [0.3746, 0.2964, 0.2196, 0.1436]}\n"
     ]
    }
   ],
   "source": [
    "best_i = 0\n",
    "accuracy = 0\n",
    "eps = 3\n",
    "for i in range(len(test_history)):\n",
    "    if test_history[i]['adversarial_accuracy'][eps] > accuracy:\n",
    "        best_i = i\n",
    "        accuracy = test_history[i]['adversarial_accuracy'][eps]\n",
    "print(test_history[best_i])"
   ]
  },
  {
   "cell_type": "code",
   "execution_count": 62,
   "metadata": {},
   "outputs": [
    {
     "name": "stdout",
     "output_type": "stream",
     "text": [
      "Data saved to ../../notebooks/experiment_log/testing_round_1.csv successfully.\n"
     ]
    }
   ],
   "source": [
    "import csv\n",
    "\n",
    "def save_to_csv(data, filename):\n",
    "    if not data:\n",
    "        return\n",
    "\n",
    "    # Extract the keys from the first dictionary as headers\n",
    "    headers = list(data[0].keys())\n",
    "\n",
    "    with open(filename, 'w', newline='') as csvfile:\n",
    "        writer = csv.DictWriter(csvfile, fieldnames=headers)\n",
    "\n",
    "        # Write the headers\n",
    "        writer.writeheader()\n",
    "\n",
    "        # Write each dictionary as a row in the CSV file\n",
    "        for item in data:\n",
    "            writer.writerow(item)\n",
    "\n",
    "    print(f\"Data saved to {filename} successfully.\")\n",
    "\n",
    "save_to_csv(test_history, ROOT + \"notebooks/experiment_log/testing_round_2.csv\")"
   ]
  },
  {
   "cell_type": "code",
   "execution_count": null,
   "metadata": {},
   "outputs": [],
   "source": []
  }
 ],
 "metadata": {
  "kernelspec": {
   "display_name": "PyTorch",
   "language": "python",
   "name": "python3"
  },
  "language_info": {
   "codemirror_mode": {
    "name": "ipython",
    "version": 3
   },
   "file_extension": ".py",
   "mimetype": "text/x-python",
   "name": "python",
   "nbconvert_exporter": "python",
   "pygments_lexer": "ipython3",
   "version": "3.10.12"
  },
  "orig_nbformat": 4
 },
 "nbformat": 4,
 "nbformat_minor": 2
}
