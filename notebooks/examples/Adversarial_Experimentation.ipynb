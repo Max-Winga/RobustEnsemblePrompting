{
 "cells": [
  {
   "cell_type": "code",
   "execution_count": 1,
   "metadata": {},
   "outputs": [],
   "source": [
    "import numpy as np\n",
    "import matplotlib.pyplot as plt\n",
    "import torch\n",
    "import torch.nn as nn\n",
    "import torch.optim as optim\n",
    "\n",
    "\n",
    "import sys\n",
    "ROOT = \"../../\"\n",
    "sys.path.append(ROOT) # Add root directory to path\n",
    "\n",
    "from src.utils.REPClassifier import REPClassifier\n",
    "from src.utils.StandardDataset import StandardDataset\n",
    "from src.utils.perturbations import *\n",
    "\n",
    "from art.attacks.evasion import FastGradientMethod\n",
    "from art.estimators.classification import PyTorchClassifier\n",
    "from art.utils import load_mnist"
   ]
  },
  {
   "cell_type": "code",
   "execution_count": 26,
   "metadata": {},
   "outputs": [],
   "source": [
    "# Step 1: Load the MNIST dataset\n",
    "(x_train, y_train), (x_test, y_test), min_pixel_value, max_pixel_value = load_mnist()\n",
    "\n",
    "# Step 1a: Swap axes to PyTorch's NCHW format\n",
    "x_train = np.transpose(x_train, (0, 3, 1, 2)).astype(np.float32)\n",
    "x_test = np.transpose(x_test, (0, 3, 1, 2)).astype(np.float32)\n",
    "\n",
    "test_history = []\n",
    "\n",
    "def display_test_history(test_history):\n",
    "    for i in range(len(test_history)):\n",
    "        test = test_history[i]\n",
    "        num_p = len(test['perturbations'])\n",
    "        io = test['include_original']\n",
    "        shuffle = test['shuffle']\n",
    "        baseline = test['baseline_accuracy']\n",
    "        adversarial = test['adversarial_accuracy']\n",
    "        adv_str = f\"{adversarial[0]*100}/{adversarial[1]*100}/{adversarial[2]*100}/{adversarial[3]*100}\"\n",
    "        print(f\"Test {i}: Perturbations ({num_p}), Original ({io}), Shuffle ({shuffle}), Baseline ({baseline*100}%), Adversarial ({adv_str}%)\")"
   ]
  },
  {
   "cell_type": "code",
   "execution_count": 37,
   "metadata": {},
   "outputs": [],
   "source": [
    "noise_multiplier = 2\n",
    "test_suite = [[[\"Gaussian\", noise_multiplier*0.05]],\n",
    "              [[\"Laplacian\", noise_multiplier*0.05]],\n",
    "              [[\"Lp-norm\", noise_multiplier*0.5, 1]],\n",
    "              [[\"Lp-norm\", noise_multiplier*0.5, 2]],\n",
    "              [[\"Lp-norm\", noise_multiplier*0.5, 3]],\n",
    "              [[\"Lp-norm\", noise_multiplier*0.5, 4]],\n",
    "              [[\"Lp-norm\", noise_multiplier*0.5, float('inf')]],\n",
    "              [[\"Gaussian\", noise_multiplier*0.05],\n",
    "               [\"Laplacian\", noise_multiplier*0.05]],\n",
    "              [[\"Gaussian\", noise_multiplier*0.05],\n",
    "               [\"Laplacian\", noise_multiplier*0.05],\n",
    "               [\"Lp-norm\", noise_multiplier*0.5, 2]],\n",
    "              [[\"Gaussian\", noise_multiplier*0.05],\n",
    "               [\"Gaussian\", 2*noise_multiplier*0.05],\n",
    "               [\"Laplacian\", noise_multiplier*0.05],\n",
    "               [\"Laplacian\", 2*noise_multiplier*0.05],\n",
    "               [\"Lp-norm\", noise_multiplier*0.5, 2],\n",
    "               [\"Lp-norm\", 2*noise_multiplier*0.5, 2]],\n",
    "              [[\"Gaussian\", noise_multiplier*0.05],\n",
    "               [\"Laplacian\", noise_multiplier*0.05],\n",
    "               [\"Lp-norm\", noise_multiplier*0.5, 1],\n",
    "               [\"Lp-norm\", noise_multiplier*0.5, 2],\n",
    "               [\"Lp-norm\", noise_multiplier*0.5, 3],\n",
    "               [\"Lp-norm\", noise_multiplier*0.5, 4],\n",
    "               [\"Lp-norm\", noise_multiplier*0.5, float('inf')]],\n",
    "              [[\"Gaussian\", noise_multiplier*0.05],\n",
    "               [\"Gaussian\", 2*noise_multiplier*0.05],\n",
    "               [\"Laplacian\", noise_multiplier*0.05],\n",
    "               [\"Laplacian\", 2*noise_multiplier*0.05],\n",
    "               [\"Lp-norm\", noise_multiplier*0.5, 1],\n",
    "               [\"Lp-norm\", 2*noise_multiplier*0.5, 1],\n",
    "               [\"Lp-norm\", noise_multiplier*0.5, 2],\n",
    "               [\"Lp-norm\", 2*noise_multiplier*0.5, 2],\n",
    "               [\"Lp-norm\", noise_multiplier*0.5, 3],\n",
    "               [\"Lp-norm\", 2*noise_multiplier*0.5, 3],\n",
    "               [\"Lp-norm\", noise_multiplier*0.5, 4],\n",
    "               [\"Lp-norm\", 2*noise_multiplier*0.5, 4],\n",
    "               [\"Lp-norm\", noise_multiplier*0.5, float('inf')],\n",
    "               [\"Lp-norm\", 2*noise_multiplier*0.5, float('inf')]]]"
   ]
  },
  {
   "cell_type": "code",
   "execution_count": 54,
   "metadata": {},
   "outputs": [
    {
     "data": {
      "application/vnd.jupyter.widget-view+json": {
       "model_id": "9dea070be4fd433a859a46488778bbe8",
       "version_major": 2,
       "version_minor": 0
      },
      "text/plain": [
       "Epochs:   0%|          | 0/10 [00:00<?, ?it/s]"
      ]
     },
     "metadata": {},
     "output_type": "display_data"
    },
    {
     "name": "stdout",
     "output_type": "stream",
     "text": [
      "Accuracy on benign test examples: 90.05%\n",
      "Accuracy on adversarial test examples (epsilon = 0.1): 72.3%\n",
      "Accuracy on adversarial test examples (epsilon = 0.2): 33.09%\n",
      "Accuracy on adversarial test examples (epsilon = 0.3): 14.030000000000001%\n",
      "Accuracy on adversarial test examples (epsilon = 0.5): 9.13%\n"
     ]
    },
    {
     "data": {
      "application/vnd.jupyter.widget-view+json": {
       "model_id": "65c1958278ab47dabb9ef1ed4cb86494",
       "version_major": 2,
       "version_minor": 0
      },
      "text/plain": [
       "Epochs:   0%|          | 0/10 [00:00<?, ?it/s]"
      ]
     },
     "metadata": {},
     "output_type": "display_data"
    },
    {
     "name": "stdout",
     "output_type": "stream",
     "text": [
      "Accuracy on benign test examples: 85.72999999999999%\n",
      "Accuracy on adversarial test examples (epsilon = 0.1): 73.13%\n",
      "Accuracy on adversarial test examples (epsilon = 0.2): 45.48%\n",
      "Accuracy on adversarial test examples (epsilon = 0.3): 21.34%\n",
      "Accuracy on adversarial test examples (epsilon = 0.5): 9.33%\n"
     ]
    },
    {
     "data": {
      "application/vnd.jupyter.widget-view+json": {
       "model_id": "09dcbe71de034fd6a14817e78a4a3ce2",
       "version_major": 2,
       "version_minor": 0
      },
      "text/plain": [
       "Epochs:   0%|          | 0/10 [00:00<?, ?it/s]"
      ]
     },
     "metadata": {},
     "output_type": "display_data"
    },
    {
     "name": "stdout",
     "output_type": "stream",
     "text": [
      "Accuracy on benign test examples: 93.87%\n",
      "Accuracy on adversarial test examples (epsilon = 0.1): 19.900000000000002%\n",
      "Accuracy on adversarial test examples (epsilon = 0.2): 9.93%\n",
      "Accuracy on adversarial test examples (epsilon = 0.3): 8.35%\n",
      "Accuracy on adversarial test examples (epsilon = 0.5): 8.219999999999999%\n"
     ]
    },
    {
     "data": {
      "application/vnd.jupyter.widget-view+json": {
       "model_id": "91fcb766e855454980ae1ba7050d4d2e",
       "version_major": 2,
       "version_minor": 0
      },
      "text/plain": [
       "Epochs:   0%|          | 0/10 [00:00<?, ?it/s]"
      ]
     },
     "metadata": {},
     "output_type": "display_data"
    },
    {
     "name": "stdout",
     "output_type": "stream",
     "text": [
      "Accuracy on benign test examples: 93.12%\n",
      "Accuracy on adversarial test examples (epsilon = 0.1): 19.97%\n",
      "Accuracy on adversarial test examples (epsilon = 0.2): 7.03%\n",
      "Accuracy on adversarial test examples (epsilon = 0.3): 5.11%\n",
      "Accuracy on adversarial test examples (epsilon = 0.5): 6.069999999999999%\n"
     ]
    },
    {
     "data": {
      "application/vnd.jupyter.widget-view+json": {
       "model_id": "3fb3fa4f385449f58b621d9b743ca7ac",
       "version_major": 2,
       "version_minor": 0
      },
      "text/plain": [
       "Epochs:   0%|          | 0/10 [00:00<?, ?it/s]"
      ]
     },
     "metadata": {},
     "output_type": "display_data"
    },
    {
     "name": "stdout",
     "output_type": "stream",
     "text": [
      "Accuracy on benign test examples: 92.75999999999999%\n",
      "Accuracy on adversarial test examples (epsilon = 0.1): 47.510000000000005%\n",
      "Accuracy on adversarial test examples (epsilon = 0.2): 18.61%\n",
      "Accuracy on adversarial test examples (epsilon = 0.3): 9.33%\n",
      "Accuracy on adversarial test examples (epsilon = 0.5): 7.41%\n"
     ]
    },
    {
     "data": {
      "application/vnd.jupyter.widget-view+json": {
       "model_id": "d6f45132e22e45888e2658b4fb731c0f",
       "version_major": 2,
       "version_minor": 0
      },
      "text/plain": [
       "Epochs:   0%|          | 0/10 [00:00<?, ?it/s]"
      ]
     },
     "metadata": {},
     "output_type": "display_data"
    },
    {
     "name": "stdout",
     "output_type": "stream",
     "text": [
      "Accuracy on benign test examples: 90.84%\n",
      "Accuracy on adversarial test examples (epsilon = 0.1): 60.35%\n",
      "Accuracy on adversarial test examples (epsilon = 0.2): 20.59%\n",
      "Accuracy on adversarial test examples (epsilon = 0.3): 9.77%\n",
      "Accuracy on adversarial test examples (epsilon = 0.5): 6.87%\n"
     ]
    },
    {
     "data": {
      "application/vnd.jupyter.widget-view+json": {
       "model_id": "a0c028b9d8b344c79e811a69d43f20f2",
       "version_major": 2,
       "version_minor": 0
      },
      "text/plain": [
       "Epochs:   0%|          | 0/10 [00:00<?, ?it/s]"
      ]
     },
     "metadata": {},
     "output_type": "display_data"
    },
    {
     "name": "stdout",
     "output_type": "stream",
     "text": [
      "Accuracy on benign test examples: 77.06%\n",
      "Accuracy on adversarial test examples (epsilon = 0.1): 65.33%\n",
      "Accuracy on adversarial test examples (epsilon = 0.2): 44.690000000000005%\n",
      "Accuracy on adversarial test examples (epsilon = 0.3): 26.369999999999997%\n",
      "Accuracy on adversarial test examples (epsilon = 0.5): 10.76%\n"
     ]
    },
    {
     "data": {
      "application/vnd.jupyter.widget-view+json": {
       "model_id": "b9993afd955f46f9b8a226dbe7d115d9",
       "version_major": 2,
       "version_minor": 0
      },
      "text/plain": [
       "Epochs:   0%|          | 0/10 [00:00<?, ?it/s]"
      ]
     },
     "metadata": {},
     "output_type": "display_data"
    },
    {
     "name": "stdout",
     "output_type": "stream",
     "text": [
      "Accuracy on benign test examples: 91.62%\n",
      "Accuracy on adversarial test examples (epsilon = 0.1): 71.71%\n",
      "Accuracy on adversarial test examples (epsilon = 0.2): 28.67%\n",
      "Accuracy on adversarial test examples (epsilon = 0.3): 12.389999999999999%\n",
      "Accuracy on adversarial test examples (epsilon = 0.5): 9.379999999999999%\n"
     ]
    },
    {
     "data": {
      "application/vnd.jupyter.widget-view+json": {
       "model_id": "fb4077f9aadc4384a4144b06f2570f48",
       "version_major": 2,
       "version_minor": 0
      },
      "text/plain": [
       "Epochs:   0%|          | 0/10 [00:00<?, ?it/s]"
      ]
     },
     "metadata": {},
     "output_type": "display_data"
    },
    {
     "name": "stdout",
     "output_type": "stream",
     "text": [
      "Accuracy on benign test examples: 93.87%\n",
      "Accuracy on adversarial test examples (epsilon = 0.1): 25.7%\n",
      "Accuracy on adversarial test examples (epsilon = 0.2): 9.700000000000001%\n",
      "Accuracy on adversarial test examples (epsilon = 0.3): 7.21%\n",
      "Accuracy on adversarial test examples (epsilon = 0.5): 6.38%\n"
     ]
    },
    {
     "data": {
      "application/vnd.jupyter.widget-view+json": {
       "model_id": "8957e8383f0343ccaeb6325a30cc1941",
       "version_major": 2,
       "version_minor": 0
      },
      "text/plain": [
       "Epochs:   0%|          | 0/10 [00:00<?, ?it/s]"
      ]
     },
     "metadata": {},
     "output_type": "display_data"
    },
    {
     "name": "stdout",
     "output_type": "stream",
     "text": [
      "Accuracy on benign test examples: 93.02%\n",
      "Accuracy on adversarial test examples (epsilon = 0.1): 24.27%\n",
      "Accuracy on adversarial test examples (epsilon = 0.2): 9.75%\n",
      "Accuracy on adversarial test examples (epsilon = 0.3): 8.04%\n",
      "Accuracy on adversarial test examples (epsilon = 0.5): 5.87%\n"
     ]
    },
    {
     "data": {
      "application/vnd.jupyter.widget-view+json": {
       "model_id": "5beea4b170c04dfd815ad4fa6212fc05",
       "version_major": 2,
       "version_minor": 0
      },
      "text/plain": [
       "Epochs:   0%|          | 0/10 [00:00<?, ?it/s]"
      ]
     },
     "metadata": {},
     "output_type": "display_data"
    },
    {
     "name": "stdout",
     "output_type": "stream",
     "text": [
      "Accuracy on benign test examples: 93.62%\n",
      "Accuracy on adversarial test examples (epsilon = 0.1): 22.43%\n",
      "Accuracy on adversarial test examples (epsilon = 0.2): 8.17%\n",
      "Accuracy on adversarial test examples (epsilon = 0.3): 6.569999999999999%\n",
      "Accuracy on adversarial test examples (epsilon = 0.5): 6.93%\n"
     ]
    },
    {
     "data": {
      "application/vnd.jupyter.widget-view+json": {
       "model_id": "01259b59d3a44ec8b07a3f60792dd114",
       "version_major": 2,
       "version_minor": 0
      },
      "text/plain": [
       "Epochs:   0%|          | 0/10 [00:00<?, ?it/s]"
      ]
     },
     "metadata": {},
     "output_type": "display_data"
    },
    {
     "name": "stdout",
     "output_type": "stream",
     "text": [
      "Accuracy on benign test examples: 93.16%\n",
      "Accuracy on adversarial test examples (epsilon = 0.1): 26.179999999999996%\n",
      "Accuracy on adversarial test examples (epsilon = 0.2): 8.58%\n",
      "Accuracy on adversarial test examples (epsilon = 0.3): 5.82%\n",
      "Accuracy on adversarial test examples (epsilon = 0.5): 5.65%\n"
     ]
    },
    {
     "data": {
      "application/vnd.jupyter.widget-view+json": {
       "model_id": "e37b86128f8b477ab69fa822d0cf48df",
       "version_major": 2,
       "version_minor": 0
      },
      "text/plain": [
       "Epochs:   0%|          | 0/10 [00:00<?, ?it/s]"
      ]
     },
     "metadata": {},
     "output_type": "display_data"
    },
    {
     "name": "stdout",
     "output_type": "stream",
     "text": [
      "Accuracy on benign test examples: 75.61%\n",
      "Accuracy on adversarial test examples (epsilon = 0.1): 63.94%\n",
      "Accuracy on adversarial test examples (epsilon = 0.2): 39.17%\n",
      "Accuracy on adversarial test examples (epsilon = 0.3): 22.21%\n",
      "Accuracy on adversarial test examples (epsilon = 0.5): 10.69%\n"
     ]
    },
    {
     "data": {
      "application/vnd.jupyter.widget-view+json": {
       "model_id": "d756bb744a0a4c0a9401eb6d198a1486",
       "version_major": 2,
       "version_minor": 0
      },
      "text/plain": [
       "Epochs:   0%|          | 0/10 [00:00<?, ?it/s]"
      ]
     },
     "metadata": {},
     "output_type": "display_data"
    },
    {
     "name": "stdout",
     "output_type": "stream",
     "text": [
      "Accuracy on benign test examples: 63.54%\n",
      "Accuracy on adversarial test examples (epsilon = 0.1): 53.949999999999996%\n",
      "Accuracy on adversarial test examples (epsilon = 0.2): 37.61%\n",
      "Accuracy on adversarial test examples (epsilon = 0.3): 24.279999999999998%\n",
      "Accuracy on adversarial test examples (epsilon = 0.5): 12.280000000000001%\n"
     ]
    },
    {
     "data": {
      "application/vnd.jupyter.widget-view+json": {
       "model_id": "536ff123334443c7bc73e190385e3c16",
       "version_major": 2,
       "version_minor": 0
      },
      "text/plain": [
       "Epochs:   0%|          | 0/10 [00:00<?, ?it/s]"
      ]
     },
     "metadata": {},
     "output_type": "display_data"
    },
    {
     "name": "stdout",
     "output_type": "stream",
     "text": [
      "Accuracy on benign test examples: 92.97999999999999%\n",
      "Accuracy on adversarial test examples (epsilon = 0.1): 17.37%\n",
      "Accuracy on adversarial test examples (epsilon = 0.2): 11.06%\n",
      "Accuracy on adversarial test examples (epsilon = 0.3): 9.879999999999999%\n",
      "Accuracy on adversarial test examples (epsilon = 0.5): 9.74%\n"
     ]
    },
    {
     "data": {
      "application/vnd.jupyter.widget-view+json": {
       "model_id": "e8eca0c61a054e5daccd63402fd72d4f",
       "version_major": 2,
       "version_minor": 0
      },
      "text/plain": [
       "Epochs:   0%|          | 0/10 [00:00<?, ?it/s]"
      ]
     },
     "metadata": {},
     "output_type": "display_data"
    },
    {
     "name": "stdout",
     "output_type": "stream",
     "text": [
      "Accuracy on benign test examples: 94.54%\n",
      "Accuracy on adversarial test examples (epsilon = 0.1): 31.39%\n",
      "Accuracy on adversarial test examples (epsilon = 0.2): 8.81%\n",
      "Accuracy on adversarial test examples (epsilon = 0.3): 7.46%\n",
      "Accuracy on adversarial test examples (epsilon = 0.5): 8.43%\n"
     ]
    },
    {
     "data": {
      "application/vnd.jupyter.widget-view+json": {
       "model_id": "24317e47a15749f19bde76a9dd3392db",
       "version_major": 2,
       "version_minor": 0
      },
      "text/plain": [
       "Epochs:   0%|          | 0/10 [00:00<?, ?it/s]"
      ]
     },
     "metadata": {},
     "output_type": "display_data"
    },
    {
     "name": "stdout",
     "output_type": "stream",
     "text": [
      "Accuracy on benign test examples: 93.78999999999999%\n",
      "Accuracy on adversarial test examples (epsilon = 0.1): 61.650000000000006%\n",
      "Accuracy on adversarial test examples (epsilon = 0.2): 14.829999999999998%\n",
      "Accuracy on adversarial test examples (epsilon = 0.3): 8.68%\n",
      "Accuracy on adversarial test examples (epsilon = 0.5): 6.83%\n"
     ]
    },
    {
     "data": {
      "application/vnd.jupyter.widget-view+json": {
       "model_id": "48fb7d5493194dcdb8482781cd424125",
       "version_major": 2,
       "version_minor": 0
      },
      "text/plain": [
       "Epochs:   0%|          | 0/10 [00:00<?, ?it/s]"
      ]
     },
     "metadata": {},
     "output_type": "display_data"
    },
    {
     "name": "stdout",
     "output_type": "stream",
     "text": [
      "Accuracy on benign test examples: 91.25%\n",
      "Accuracy on adversarial test examples (epsilon = 0.1): 78.18%\n",
      "Accuracy on adversarial test examples (epsilon = 0.2): 41.75%\n",
      "Accuracy on adversarial test examples (epsilon = 0.3): 16.14%\n",
      "Accuracy on adversarial test examples (epsilon = 0.5): 9.9%\n"
     ]
    },
    {
     "data": {
      "application/vnd.jupyter.widget-view+json": {
       "model_id": "1bd6239b8c274228965878cc7181436b",
       "version_major": 2,
       "version_minor": 0
      },
      "text/plain": [
       "Epochs:   0%|          | 0/10 [00:00<?, ?it/s]"
      ]
     },
     "metadata": {},
     "output_type": "display_data"
    },
    {
     "name": "stdout",
     "output_type": "stream",
     "text": [
      "Accuracy on benign test examples: 41.28%\n",
      "Accuracy on adversarial test examples (epsilon = 0.1): 34.88%\n",
      "Accuracy on adversarial test examples (epsilon = 0.2): 29.880000000000003%\n",
      "Accuracy on adversarial test examples (epsilon = 0.3): 22.29%\n",
      "Accuracy on adversarial test examples (epsilon = 0.5): 14.05%\n"
     ]
    },
    {
     "data": {
      "application/vnd.jupyter.widget-view+json": {
       "model_id": "f964c3a7a7c84f568e91d7a18146f4c3",
       "version_major": 2,
       "version_minor": 0
      },
      "text/plain": [
       "Epochs:   0%|          | 0/10 [00:00<?, ?it/s]"
      ]
     },
     "metadata": {},
     "output_type": "display_data"
    },
    {
     "name": "stdout",
     "output_type": "stream",
     "text": [
      "Accuracy on benign test examples: 80.55%\n",
      "Accuracy on adversarial test examples (epsilon = 0.1): 66.55%\n",
      "Accuracy on adversarial test examples (epsilon = 0.2): 41.410000000000004%\n",
      "Accuracy on adversarial test examples (epsilon = 0.3): 21.65%\n",
      "Accuracy on adversarial test examples (epsilon = 0.5): 9.45%\n"
     ]
    },
    {
     "data": {
      "application/vnd.jupyter.widget-view+json": {
       "model_id": "54602c24b5634d79bf763d8eabbf231d",
       "version_major": 2,
       "version_minor": 0
      },
      "text/plain": [
       "Epochs:   0%|          | 0/10 [00:00<?, ?it/s]"
      ]
     },
     "metadata": {},
     "output_type": "display_data"
    },
    {
     "name": "stdout",
     "output_type": "stream",
     "text": [
      "Accuracy on benign test examples: 93.83%\n",
      "Accuracy on adversarial test examples (epsilon = 0.1): 35.449999999999996%\n",
      "Accuracy on adversarial test examples (epsilon = 0.2): 13.83%\n",
      "Accuracy on adversarial test examples (epsilon = 0.3): 11.21%\n",
      "Accuracy on adversarial test examples (epsilon = 0.5): 10.280000000000001%\n"
     ]
    },
    {
     "data": {
      "application/vnd.jupyter.widget-view+json": {
       "model_id": "2c54dae42ce5458e82ed090689184147",
       "version_major": 2,
       "version_minor": 0
      },
      "text/plain": [
       "Epochs:   0%|          | 0/10 [00:00<?, ?it/s]"
      ]
     },
     "metadata": {},
     "output_type": "display_data"
    },
    {
     "name": "stdout",
     "output_type": "stream",
     "text": [
      "Accuracy on benign test examples: 92.95%\n",
      "Accuracy on adversarial test examples (epsilon = 0.1): 26.229999999999997%\n",
      "Accuracy on adversarial test examples (epsilon = 0.2): 12.31%\n",
      "Accuracy on adversarial test examples (epsilon = 0.3): 10.26%\n",
      "Accuracy on adversarial test examples (epsilon = 0.5): 9.06%\n"
     ]
    },
    {
     "data": {
      "application/vnd.jupyter.widget-view+json": {
       "model_id": "3608ba3c241a45929d4cb5018b178f2d",
       "version_major": 2,
       "version_minor": 0
      },
      "text/plain": [
       "Epochs:   0%|          | 0/10 [00:00<?, ?it/s]"
      ]
     },
     "metadata": {},
     "output_type": "display_data"
    },
    {
     "name": "stdout",
     "output_type": "stream",
     "text": [
      "Accuracy on benign test examples: 93.36%\n",
      "Accuracy on adversarial test examples (epsilon = 0.1): 21.92%\n",
      "Accuracy on adversarial test examples (epsilon = 0.2): 8.709999999999999%\n",
      "Accuracy on adversarial test examples (epsilon = 0.3): 7.16%\n",
      "Accuracy on adversarial test examples (epsilon = 0.5): 7.5200000000000005%\n"
     ]
    },
    {
     "data": {
      "application/vnd.jupyter.widget-view+json": {
       "model_id": "602439f85a3545a58b2387d2e176afe4",
       "version_major": 2,
       "version_minor": 0
      },
      "text/plain": [
       "Epochs:   0%|          | 0/10 [00:00<?, ?it/s]"
      ]
     },
     "metadata": {},
     "output_type": "display_data"
    },
    {
     "name": "stdout",
     "output_type": "stream",
     "text": [
      "Accuracy on benign test examples: 93.55%\n",
      "Accuracy on adversarial test examples (epsilon = 0.1): 40.849999999999994%\n",
      "Accuracy on adversarial test examples (epsilon = 0.2): 10.2%\n",
      "Accuracy on adversarial test examples (epsilon = 0.3): 6.05%\n",
      "Accuracy on adversarial test examples (epsilon = 0.5): 5.87%\n"
     ]
    },
    {
     "data": {
      "application/vnd.jupyter.widget-view+json": {
       "model_id": "a3d153d97e0a472a83e7ff86bac2575a",
       "version_major": 2,
       "version_minor": 0
      },
      "text/plain": [
       "Epochs:   0%|          | 0/10 [00:00<?, ?it/s]"
      ]
     },
     "metadata": {},
     "output_type": "display_data"
    },
    {
     "name": "stdout",
     "output_type": "stream",
     "text": [
      "Accuracy on benign test examples: 64.25%\n",
      "Accuracy on adversarial test examples (epsilon = 0.1): 55.230000000000004%\n",
      "Accuracy on adversarial test examples (epsilon = 0.2): 39.51%\n",
      "Accuracy on adversarial test examples (epsilon = 0.3): 25.540000000000003%\n",
      "Accuracy on adversarial test examples (epsilon = 0.5): 12.76%\n"
     ]
    },
    {
     "data": {
      "application/vnd.jupyter.widget-view+json": {
       "model_id": "75214ba1a32d4a94a66d2c373514d0d5",
       "version_major": 2,
       "version_minor": 0
      },
      "text/plain": [
       "Epochs:   0%|          | 0/10 [00:00<?, ?it/s]"
      ]
     },
     "metadata": {},
     "output_type": "display_data"
    },
    {
     "name": "stdout",
     "output_type": "stream",
     "text": [
      "Accuracy on benign test examples: 44.51%\n",
      "Accuracy on adversarial test examples (epsilon = 0.1): 38.96%\n",
      "Accuracy on adversarial test examples (epsilon = 0.2): 30.95%\n",
      "Accuracy on adversarial test examples (epsilon = 0.3): 22.82%\n",
      "Accuracy on adversarial test examples (epsilon = 0.5): 14.099999999999998%\n"
     ]
    },
    {
     "data": {
      "application/vnd.jupyter.widget-view+json": {
       "model_id": "ec6e53b1a2344759a1f54139280786a7",
       "version_major": 2,
       "version_minor": 0
      },
      "text/plain": [
       "Epochs:   0%|          | 0/10 [00:00<?, ?it/s]"
      ]
     },
     "metadata": {},
     "output_type": "display_data"
    },
    {
     "ename": "KeyboardInterrupt",
     "evalue": "",
     "output_type": "error",
     "traceback": [
      "\u001b[1;31m---------------------------------------------------------------------------\u001b[0m",
      "\u001b[1;31mKeyboardInterrupt\u001b[0m                         Traceback (most recent call last)",
      "Cell \u001b[1;32mIn[54], line 80\u001b[0m\n\u001b[0;32m     78\u001b[0m batch_size \u001b[38;5;241m=\u001b[39m \u001b[38;5;241m64\u001b[39m\n\u001b[0;32m     79\u001b[0m epochs \u001b[38;5;241m=\u001b[39m \u001b[38;5;241m10\u001b[39m\n\u001b[1;32m---> 80\u001b[0m \u001b[43mclassifier\u001b[49m\u001b[38;5;241;43m.\u001b[39;49m\u001b[43mfit\u001b[49m\u001b[43m(\u001b[49m\u001b[43mx_train\u001b[49m\u001b[43m,\u001b[49m\u001b[43m \u001b[49m\u001b[43my_train\u001b[49m\u001b[43m,\u001b[49m\u001b[43m \u001b[49m\u001b[43mbatch_size\u001b[49m\u001b[38;5;241;43m=\u001b[39;49m\u001b[43mbatch_size\u001b[49m\u001b[43m,\u001b[49m\u001b[43m \u001b[49m\u001b[43mnb_epochs\u001b[49m\u001b[38;5;241;43m=\u001b[39;49m\u001b[43mepochs\u001b[49m\u001b[43m,\u001b[49m\u001b[43m \u001b[49m\u001b[43mverbose\u001b[49m\u001b[38;5;241;43m=\u001b[39;49m\u001b[38;5;28;43;01mTrue\u001b[39;49;00m\u001b[43m)\u001b[49m\n\u001b[0;32m     82\u001b[0m \u001b[38;5;66;03m# Step 5: Evaluate the ART classifier on benign test examples\u001b[39;00m\n\u001b[0;32m     83\u001b[0m predictions \u001b[38;5;241m=\u001b[39m classifier\u001b[38;5;241m.\u001b[39mpredict(x_test)\n",
      "File \u001b[1;32mc:\\ProgramData\\anaconda3\\envs\\REP\\lib\\site-packages\\art\\estimators\\classification\\classifier.py:73\u001b[0m, in \u001b[0;36mInputFilter.__init__.<locals>.make_replacement.<locals>.replacement_function\u001b[1;34m(self, *args, **kwargs)\u001b[0m\n\u001b[0;32m     71\u001b[0m \u001b[38;5;28;01mif\u001b[39;00m \u001b[38;5;28mlen\u001b[39m(args) \u001b[38;5;241m>\u001b[39m \u001b[38;5;241m0\u001b[39m:\n\u001b[0;32m     72\u001b[0m     args \u001b[38;5;241m=\u001b[39m \u001b[38;5;28mtuple\u001b[39m(lst)\n\u001b[1;32m---> 73\u001b[0m \u001b[38;5;28;01mreturn\u001b[39;00m fdict[func_name](\u001b[38;5;28mself\u001b[39m, \u001b[38;5;241m*\u001b[39margs, \u001b[38;5;241m*\u001b[39m\u001b[38;5;241m*\u001b[39mkwargs)\n",
      "File \u001b[1;32mc:\\ProgramData\\anaconda3\\envs\\REP\\lib\\site-packages\\art\\estimators\\classification\\pytorch.py:452\u001b[0m, in \u001b[0;36mPyTorchClassifier.fit\u001b[1;34m(self, x, y, batch_size, nb_epochs, training_mode, drop_last, scheduler, verbose, **kwargs)\u001b[0m\n\u001b[0;32m    450\u001b[0m             scaled_loss\u001b[38;5;241m.\u001b[39mbackward()\n\u001b[0;32m    451\u001b[0m     \u001b[38;5;28;01melse\u001b[39;00m:\n\u001b[1;32m--> 452\u001b[0m         \u001b[43mloss\u001b[49m\u001b[38;5;241;43m.\u001b[39;49m\u001b[43mbackward\u001b[49m\u001b[43m(\u001b[49m\u001b[43m)\u001b[49m\n\u001b[0;32m    454\u001b[0m     \u001b[38;5;28mself\u001b[39m\u001b[38;5;241m.\u001b[39m_optimizer\u001b[38;5;241m.\u001b[39mstep()\n\u001b[0;32m    456\u001b[0m \u001b[38;5;28;01mif\u001b[39;00m scheduler \u001b[38;5;129;01mis\u001b[39;00m \u001b[38;5;129;01mnot\u001b[39;00m \u001b[38;5;28;01mNone\u001b[39;00m:\n",
      "File \u001b[1;32mc:\\ProgramData\\anaconda3\\envs\\REP\\lib\\site-packages\\torch\\_tensor.py:522\u001b[0m, in \u001b[0;36mTensor.backward\u001b[1;34m(self, gradient, retain_graph, create_graph, inputs)\u001b[0m\n\u001b[0;32m    512\u001b[0m \u001b[38;5;28;01mif\u001b[39;00m has_torch_function_unary(\u001b[38;5;28mself\u001b[39m):\n\u001b[0;32m    513\u001b[0m     \u001b[38;5;28;01mreturn\u001b[39;00m handle_torch_function(\n\u001b[0;32m    514\u001b[0m         Tensor\u001b[38;5;241m.\u001b[39mbackward,\n\u001b[0;32m    515\u001b[0m         (\u001b[38;5;28mself\u001b[39m,),\n\u001b[1;32m   (...)\u001b[0m\n\u001b[0;32m    520\u001b[0m         inputs\u001b[38;5;241m=\u001b[39minputs,\n\u001b[0;32m    521\u001b[0m     )\n\u001b[1;32m--> 522\u001b[0m \u001b[43mtorch\u001b[49m\u001b[38;5;241;43m.\u001b[39;49m\u001b[43mautograd\u001b[49m\u001b[38;5;241;43m.\u001b[39;49m\u001b[43mbackward\u001b[49m\u001b[43m(\u001b[49m\n\u001b[0;32m    523\u001b[0m \u001b[43m    \u001b[49m\u001b[38;5;28;43mself\u001b[39;49m\u001b[43m,\u001b[49m\u001b[43m \u001b[49m\u001b[43mgradient\u001b[49m\u001b[43m,\u001b[49m\u001b[43m \u001b[49m\u001b[43mretain_graph\u001b[49m\u001b[43m,\u001b[49m\u001b[43m \u001b[49m\u001b[43mcreate_graph\u001b[49m\u001b[43m,\u001b[49m\u001b[43m \u001b[49m\u001b[43minputs\u001b[49m\u001b[38;5;241;43m=\u001b[39;49m\u001b[43minputs\u001b[49m\n\u001b[0;32m    524\u001b[0m \u001b[43m\u001b[49m\u001b[43m)\u001b[49m\n",
      "File \u001b[1;32mc:\\ProgramData\\anaconda3\\envs\\REP\\lib\\site-packages\\torch\\autograd\\__init__.py:266\u001b[0m, in \u001b[0;36mbackward\u001b[1;34m(tensors, grad_tensors, retain_graph, create_graph, grad_variables, inputs)\u001b[0m\n\u001b[0;32m    261\u001b[0m     retain_graph \u001b[38;5;241m=\u001b[39m create_graph\n\u001b[0;32m    263\u001b[0m \u001b[38;5;66;03m# The reason we repeat the same comment below is that\u001b[39;00m\n\u001b[0;32m    264\u001b[0m \u001b[38;5;66;03m# some Python versions print out the first line of a multi-line function\u001b[39;00m\n\u001b[0;32m    265\u001b[0m \u001b[38;5;66;03m# calls in the traceback and some print out the last line\u001b[39;00m\n\u001b[1;32m--> 266\u001b[0m \u001b[43mVariable\u001b[49m\u001b[38;5;241;43m.\u001b[39;49m\u001b[43m_execution_engine\u001b[49m\u001b[38;5;241;43m.\u001b[39;49m\u001b[43mrun_backward\u001b[49m\u001b[43m(\u001b[49m\u001b[43m  \u001b[49m\u001b[38;5;66;43;03m# Calls into the C++ engine to run the backward pass\u001b[39;49;00m\n\u001b[0;32m    267\u001b[0m \u001b[43m    \u001b[49m\u001b[43mtensors\u001b[49m\u001b[43m,\u001b[49m\n\u001b[0;32m    268\u001b[0m \u001b[43m    \u001b[49m\u001b[43mgrad_tensors_\u001b[49m\u001b[43m,\u001b[49m\n\u001b[0;32m    269\u001b[0m \u001b[43m    \u001b[49m\u001b[43mretain_graph\u001b[49m\u001b[43m,\u001b[49m\n\u001b[0;32m    270\u001b[0m \u001b[43m    \u001b[49m\u001b[43mcreate_graph\u001b[49m\u001b[43m,\u001b[49m\n\u001b[0;32m    271\u001b[0m \u001b[43m    \u001b[49m\u001b[43minputs\u001b[49m\u001b[43m,\u001b[49m\n\u001b[0;32m    272\u001b[0m \u001b[43m    \u001b[49m\u001b[43mallow_unreachable\u001b[49m\u001b[38;5;241;43m=\u001b[39;49m\u001b[38;5;28;43;01mTrue\u001b[39;49;00m\u001b[43m,\u001b[49m\n\u001b[0;32m    273\u001b[0m \u001b[43m    \u001b[49m\u001b[43maccumulate_grad\u001b[49m\u001b[38;5;241;43m=\u001b[39;49m\u001b[38;5;28;43;01mTrue\u001b[39;49;00m\u001b[43m,\u001b[49m\n\u001b[0;32m    274\u001b[0m \u001b[43m\u001b[49m\u001b[43m)\u001b[49m\n",
      "\u001b[1;31mKeyboardInterrupt\u001b[0m: "
     ]
    }
   ],
   "source": [
    "# Step 2: Create the REPClassifier model\n",
    "channel_widths = [1, 4, 10]  \n",
    "linear_sizes = [100]\n",
    "kernel = 5\n",
    "pooling = nn.AdaptiveMaxPool2d((1, 1))\n",
    "for noise_multiplier in [5, 10, 15, 20]:\n",
    "    test_suite = [[[\"Gaussian\", noise_multiplier*0.05]],\n",
    "                  [[\"Laplacian\", noise_multiplier*0.05]],\n",
    "                  [[\"Lp-norm\", noise_multiplier*0.5, 1]],\n",
    "                  [[\"Lp-norm\", noise_multiplier*0.5, 2]],\n",
    "                  [[\"Lp-norm\", noise_multiplier*0.5, 3]],\n",
    "                  [[\"Lp-norm\", noise_multiplier*0.5, 4]],\n",
    "                  [[\"Lp-norm\", noise_multiplier*0.5, float('inf')]],\n",
    "                  [[\"Gaussian\", noise_multiplier*0.05],\n",
    "                   [\"Laplacian\", noise_multiplier*0.05]],\n",
    "                  [[\"Gaussian\", noise_multiplier*0.05],\n",
    "                   [\"Laplacian\", noise_multiplier*0.05],\n",
    "                   [\"Lp-norm\", noise_multiplier*0.5, 2]],\n",
    "                  [[\"Gaussian\", noise_multiplier*0.05],\n",
    "                   [\"Gaussian\", 2*noise_multiplier*0.05],\n",
    "                   [\"Laplacian\", noise_multiplier*0.05],\n",
    "                   [\"Laplacian\", 2*noise_multiplier*0.05],\n",
    "                   [\"Lp-norm\", noise_multiplier*0.5, 2],\n",
    "                   [\"Lp-norm\", 2*noise_multiplier*0.5, 2]],\n",
    "                  [[\"Gaussian\", noise_multiplier*0.05],\n",
    "                   [\"Laplacian\", noise_multiplier*0.05],\n",
    "                   [\"Lp-norm\", noise_multiplier*0.5, 1],\n",
    "                   [\"Lp-norm\", noise_multiplier*0.5, 2],\n",
    "                   [\"Lp-norm\", noise_multiplier*0.5, 3],\n",
    "                   [\"Lp-norm\", noise_multiplier*0.5, 4],\n",
    "                   [\"Lp-norm\", noise_multiplier*0.5, float('inf')]],\n",
    "                  [[\"Gaussian\", noise_multiplier*0.05],\n",
    "                   [\"Gaussian\", 2*noise_multiplier*0.05],\n",
    "                   [\"Laplacian\", noise_multiplier*0.05],\n",
    "                   [\"Laplacian\", 2*noise_multiplier*0.05],\n",
    "                   [\"Lp-norm\", noise_multiplier*0.5, 1],\n",
    "                   [\"Lp-norm\", 2*noise_multiplier*0.5, 1],\n",
    "                   [\"Lp-norm\", noise_multiplier*0.5, 2],\n",
    "                   [\"Lp-norm\", 2*noise_multiplier*0.5, 2],\n",
    "                   [\"Lp-norm\", noise_multiplier*0.5, 3],\n",
    "                   [\"Lp-norm\", 2*noise_multiplier*0.5, 3],\n",
    "                   [\"Lp-norm\", noise_multiplier*0.5, 4],\n",
    "                   [\"Lp-norm\", 2*noise_multiplier*0.5, 4],\n",
    "                   [\"Lp-norm\", noise_multiplier*0.5, float('inf')],\n",
    "                   [\"Lp-norm\", 2*noise_multiplier*0.5, float('inf')]]]\n",
    "    for perturbation_description in test_suite:\n",
    "        perturbations = create_perturbations(perturbation_description)\n",
    "        include_original = False\n",
    "        shuffle = False\n",
    "\n",
    "        model = REPClassifier(\n",
    "            channel_widths=channel_widths,\n",
    "            linear_sizes=linear_sizes,\n",
    "            kernel=kernel,\n",
    "            pooling=pooling,\n",
    "            perturbations=perturbations,\n",
    "            include_original=include_original,\n",
    "            shuffle=shuffle,\n",
    "            num_classes=10,\n",
    "        )\n",
    "\n",
    "        # Step 2a: Define the loss function and the optimizer\n",
    "        lr = 0.01\n",
    "        criterion = nn.CrossEntropyLoss()\n",
    "        optimizer = optim.Adam(model.parameters(), lr=lr)\n",
    "\n",
    "        # Step 3: Create the ART classifier\n",
    "        classifier = PyTorchClassifier(\n",
    "            model=model,\n",
    "            clip_values=(min_pixel_value, max_pixel_value),\n",
    "            loss=criterion,\n",
    "            optimizer=optimizer,\n",
    "            input_shape=(1, 28, 28),\n",
    "            nb_classes=10,\n",
    "        )\n",
    "\n",
    "        # Step 4: Train the ART classifier\n",
    "        batch_size = 64\n",
    "        epochs = 10\n",
    "        classifier.fit(x_train, y_train, batch_size=batch_size, nb_epochs=epochs, verbose=True)\n",
    "        print(perturbation_description)\n",
    "        \n",
    "        # Step 5: Evaluate the ART classifier on benign test examples\n",
    "        predictions = classifier.predict(x_test)\n",
    "        baseline_accuracy = np.sum(np.argmax(predictions, axis=1) == np.argmax(y_test, axis=1)) / len(y_test)\n",
    "        print(\"Accuracy on benign test examples: {}%\".format(baseline_accuracy * 100))\n",
    "\n",
    "        # Step 6: Generate adversarial test examples\n",
    "        attack = FastGradientMethod(estimator=classifier, eps=0.1)\n",
    "        x_test_adv = attack.generate(x=x_test)\n",
    "        predictions = classifier.predict(x_test_adv)\n",
    "        adversarial_accuracy1 = np.sum(np.argmax(predictions, axis=1) == np.argmax(y_test, axis=1)) / len(y_test)\n",
    "        print(\"Accuracy on adversarial test examples (epsilon = 0.1): {}%\".format(adversarial_accuracy1 * 100))\n",
    "\n",
    "        attack = FastGradientMethod(estimator=classifier, eps=0.2)\n",
    "        x_test_adv = attack.generate(x=x_test)\n",
    "        predictions = classifier.predict(x_test_adv)\n",
    "        adversarial_accuracy2 = np.sum(np.argmax(predictions, axis=1) == np.argmax(y_test, axis=1)) / len(y_test)\n",
    "        print(\"Accuracy on adversarial test examples (epsilon = 0.2): {}%\".format(adversarial_accuracy2 * 100))\n",
    "\n",
    "        attack = FastGradientMethod(estimator=classifier, eps=0.3)\n",
    "        x_test_adv = attack.generate(x=x_test)\n",
    "        predictions = classifier.predict(x_test_adv)\n",
    "        adversarial_accuracy3 = np.sum(np.argmax(predictions, axis=1) == np.argmax(y_test, axis=1)) / len(y_test)\n",
    "        print(\"Accuracy on adversarial test examples (epsilon = 0.3): {}%\".format(adversarial_accuracy3 * 100))\n",
    "\n",
    "        attack = FastGradientMethod(estimator=classifier, eps=0.5)\n",
    "        x_test_adv = attack.generate(x=x_test)\n",
    "        predictions = classifier.predict(x_test_adv)\n",
    "        adversarial_accuracy4 = np.sum(np.argmax(predictions, axis=1) == np.argmax(y_test, axis=1)) / len(y_test)\n",
    "        print(\"Accuracy on adversarial test examples (epsilon = 0.5): {}%\".format(adversarial_accuracy4 * 100))\n",
    "\n",
    "        test_history.append({'channel_widths': channel_widths,\n",
    "                            'linear_sizes': linear_sizes,\n",
    "                            'kernel': kernel,\n",
    "                            'pooling': pooling,\n",
    "                            'perturbations': perturbation_description,\n",
    "                            'include_original': include_original,\n",
    "                            'shuffle': shuffle,\n",
    "                            'loss': criterion,\n",
    "                            'lr': lr,\n",
    "                            'batch_size': batch_size,\n",
    "                            'epochs': epochs,\n",
    "                            'baseline_accuracy': baseline_accuracy,\n",
    "                            'adversarial_accuracy': [adversarial_accuracy1, adversarial_accuracy2, adversarial_accuracy3, adversarial_accuracy4]})"
   ]
  },
  {
   "cell_type": "code",
   "execution_count": 55,
   "metadata": {},
   "outputs": [
    {
     "name": "stdout",
     "output_type": "stream",
     "text": [
      "Test 0: Perturbations (0), Original (True), Shuffle (True), Baseline (94.94%), Adversarial (19.6/9.56/8.77/9.11%)\n",
      "Test 1: Perturbations (1), Original (False), Shuffle (True), Baseline (93.81%), Adversarial (32.67/10.54/7.91/8.23%)\n",
      "Test 2: Perturbations (1), Original (False), Shuffle (True), Baseline (92.52%), Adversarial (44.440000000000005/11.68/7.9799999999999995/8.08%)\n",
      "Test 3: Perturbations (1), Original (False), Shuffle (True), Baseline (93.49%), Adversarial (15.73/6.12/5.81/6.4799999999999995%)\n",
      "Test 4: Perturbations (1), Original (False), Shuffle (True), Baseline (93.08999999999999%), Adversarial (16.98/7.08/5.67/5.1499999999999995%)\n",
      "Test 5: Perturbations (1), Original (False), Shuffle (True), Baseline (92.80000000000001%), Adversarial (19.46/9.94/7.35/6.34%)\n",
      "Test 6: Perturbations (1), Original (False), Shuffle (True), Baseline (94.12%), Adversarial (27.38/10.36/9.49/9.5%)\n",
      "Test 7: Perturbations (1), Original (False), Shuffle (True), Baseline (92.58999999999999%), Adversarial (53.22/16.31/8.64/8.260000000000002%)\n",
      "Test 8: Perturbations (2), Original (False), Shuffle (True), Baseline (92.34%), Adversarial (20.02/8.97/6.909999999999999/7.380000000000001%)\n",
      "Test 9: Perturbations (3), Original (False), Shuffle (True), Baseline (91.9%), Adversarial (18.5/5.9799999999999995/4.74/5.67%)\n",
      "Test 10: Perturbations (6), Original (False), Shuffle (True), Baseline (94.61%), Adversarial (12.82/5.33/4.44/6.17%)\n",
      "Test 11: Perturbations (7), Original (False), Shuffle (True), Baseline (93.24%), Adversarial (12.76/6.419999999999999/5.28/6.45%)\n",
      "Test 12: Perturbations (14), Original (False), Shuffle (True), Baseline (92.12%), Adversarial (9.379999999999999/5.57/5.050000000000001/6.72%)\n",
      "Test 13: Perturbations (1), Original (False), Shuffle (True), Baseline (93.24%), Adversarial (56.379999999999995/17.82/10.459999999999999/8.59%)\n",
      "Test 14: Perturbations (1), Original (False), Shuffle (True), Baseline (92.71000000000001%), Adversarial (69.78999999999999/29.48/14.02/8.27%)\n",
      "Test 15: Perturbations (1), Original (False), Shuffle (True), Baseline (93.8%), Adversarial (23.630000000000003/7.4399999999999995/4.859999999999999/4.6899999999999995%)\n",
      "Test 16: Perturbations (1), Original (False), Shuffle (True), Baseline (94.15%), Adversarial (17.77/7.7299999999999995/6.510000000000001/7.02%)\n",
      "Test 17: Perturbations (1), Original (False), Shuffle (True), Baseline (94.33%), Adversarial (31.64/12.76/10.14/9.22%)\n",
      "Test 18: Perturbations (1), Original (False), Shuffle (True), Baseline (94.78999999999999%), Adversarial (36.67/8.4/6.01/7.5200000000000005%)\n",
      "Test 19: Perturbations (1), Original (False), Shuffle (True), Baseline (88.03%), Adversarial (70.02000000000001/32.83/14.92/9.28%)\n",
      "Test 20: Perturbations (2), Original (False), Shuffle (True), Baseline (92.23%), Adversarial (48.730000000000004/13.84/7.06/6.6000000000000005%)\n",
      "Test 21: Perturbations (3), Original (False), Shuffle (True), Baseline (91.8%), Adversarial (34.089999999999996/11.89/8.309999999999999/7.41%)\n",
      "Test 22: Perturbations (6), Original (False), Shuffle (True), Baseline (94.71000000000001%), Adversarial (22.37/7.62/6.25/6.4399999999999995%)\n",
      "Test 23: Perturbations (7), Original (False), Shuffle (True), Baseline (92.93%), Adversarial (19.8/4.78/3.91/4.61%)\n",
      "Test 24: Perturbations (14), Original (False), Shuffle (True), Baseline (91.36%), Adversarial (17.44/9.379999999999999/7.140000000000001/7.6499999999999995%)\n",
      "Test 25: Perturbations (1), Original (False), Shuffle (True), Baseline (92.39%), Adversarial (67.72/25.259999999999998/11.24/8.7%)\n",
      "Test 26: Perturbations (1), Original (False), Shuffle (True), Baseline (89.71000000000001%), Adversarial (72.68/33.73/15.010000000000002/8.43%)\n",
      "Test 27: Perturbations (1), Original (False), Shuffle (True), Baseline (93.58999999999999%), Adversarial (16.99/4.07/3.2199999999999998/3.93%)\n",
      "Test 28: Perturbations (1), Original (False), Shuffle (True), Baseline (93.7%), Adversarial (22.29/9.71/7.1499999999999995/8.37%)\n",
      "Test 29: Perturbations (1), Original (False), Shuffle (True), Baseline (93.5%), Adversarial (32.56/10.72/6.7299999999999995/6.43%)\n",
      "Test 30: Perturbations (1), Original (False), Shuffle (True), Baseline (93.78%), Adversarial (57.58/17.48/7.3/6.94%)\n",
      "Test 31: Perturbations (1), Original (False), Shuffle (True), Baseline (88.41%), Adversarial (72.69/35.8/16.08/8.59%)\n",
      "Test 32: Perturbations (2), Original (False), Shuffle (True), Baseline (91.42%), Adversarial (63.71/21.68/9.8/7.19%)\n",
      "Test 33: Perturbations (3), Original (False), Shuffle (True), Baseline (93.71000000000001%), Adversarial (41.160000000000004/9.92/5.83/7.46%)\n",
      "Test 34: Perturbations (6), Original (False), Shuffle (True), Baseline (90.68%), Adversarial (46.72/16.72/12.370000000000001/9.379999999999999%)\n",
      "Test 35: Perturbations (7), Original (False), Shuffle (True), Baseline (93.86%), Adversarial (24.19/7.86/6.0600000000000005/7.04%)\n",
      "Test 36: Perturbations (14), Original (False), Shuffle (True), Baseline (91.88%), Adversarial (24.349999999999998/11.24/9.27/7.8100000000000005%)\n",
      "Test 37: Perturbations (1), Original (False), Shuffle (True), Baseline (90.67%), Adversarial (68.94/26.810000000000002/14.09/10.2%)\n",
      "Test 38: Perturbations (1), Original (False), Shuffle (True), Baseline (87.02%), Adversarial (73.22999999999999/40.81/17.45/9.32%)\n",
      "Test 39: Perturbations (1), Original (False), Shuffle (True), Baseline (93.16%), Adversarial (22.58/12.030000000000001/9.43/7.5600000000000005%)\n",
      "Test 40: Perturbations (1), Original (False), Shuffle (True), Baseline (94.77%), Adversarial (17.78/8.690000000000001/6.959999999999999/7.07%)\n",
      "Test 41: Perturbations (1), Original (False), Shuffle (True), Baseline (91.78%), Adversarial (39.019999999999996/10.67/8.3/8.82%)\n",
      "Test 42: Perturbations (1), Original (False), Shuffle (True), Baseline (93.62%), Adversarial (66.57/20.349999999999998/8.91/6.710000000000001%)\n",
      "Test 43: Perturbations (1), Original (False), Shuffle (True), Baseline (76.46%), Adversarial (66.21000000000001/44.28/24.169999999999998/10.530000000000001%)\n",
      "Test 44: Perturbations (2), Original (False), Shuffle (True), Baseline (91.79%), Adversarial (74.92999999999999/33.77/12.989999999999998/8.559999999999999%)\n",
      "Test 45: Perturbations (3), Original (False), Shuffle (True), Baseline (92.46%), Adversarial (51.41/18.87/12.15/9.139999999999999%)\n",
      "Test 46: Perturbations (6), Original (False), Shuffle (True), Baseline (92.05%), Adversarial (55.37/17.75/9.610000000000001/8.74%)\n",
      "Test 47: Perturbations (7), Original (False), Shuffle (True), Baseline (93.16%), Adversarial (46.239999999999995/11.91/8.7/9.6%)\n",
      "Test 48: Perturbations (14), Original (False), Shuffle (True), Baseline (91.0%), Adversarial (31.89/12.3/10.71/9.31%)\n",
      "Test 49: Perturbations (3), Original (False), Shuffle (True), Baseline (92.12%), Adversarial (71.75/25.009999999999998/11.62/10.25%)\n",
      "Test 50: Perturbations (4), Original (False), Shuffle (True), Baseline (91.47999999999999%), Adversarial (64.60000000000001/21.19/11.12/8.6%)\n",
      "Test 51: Perturbations (1), Original (False), Shuffle (True), Baseline (85.24000000000001%), Adversarial (71.82/41.660000000000004/18.81/8.61%)\n",
      "Test 52: Perturbations (1), Original (False), Shuffle (True), Baseline (77.34%), Adversarial (66.24/44.17/23.44/10.97%)\n",
      "Test 53: Perturbations (1), Original (False), Shuffle (True), Baseline (95.19%), Adversarial (17.47/9.08/8.290000000000001/8.6%)\n",
      "Test 54: Perturbations (1), Original (False), Shuffle (True), Baseline (95.46%), Adversarial (20.560000000000002/5.93/3.85/4.41%)\n",
      "Test 55: Perturbations (1), Original (False), Shuffle (True), Baseline (93.66%), Adversarial (45.57/14.510000000000002/9.629999999999999/8.9%)\n",
      "Test 56: Perturbations (1), Original (False), Shuffle (True), Baseline (92.67%), Adversarial (75.4/33.900000000000006/14.149999999999999/8.83%)\n",
      "Test 57: Perturbations (1), Original (False), Shuffle (True), Baseline (55.54%), Adversarial (47.83/34.0/23.150000000000002/12.18%)\n",
      "Test 58: Perturbations (2), Original (False), Shuffle (True), Baseline (84.52%), Adversarial (67.27/33.660000000000004/16.05/9.77%)\n",
      "Test 59: Perturbations (3), Original (False), Shuffle (True), Baseline (90.14%), Adversarial (33.35/10.280000000000001/8.690000000000001/8.18%)\n",
      "Test 60: Perturbations (6), Original (False), Shuffle (True), Baseline (89.05999999999999%), Adversarial (45.660000000000004/15.53/11.48/9.229999999999999%)\n",
      "Test 61: Perturbations (7), Original (False), Shuffle (True), Baseline (91.24%), Adversarial (57.24/19.96/10.66/9.83%)\n",
      "Test 62: Perturbations (14), Original (False), Shuffle (True), Baseline (89.87%), Adversarial (54.86/27.42/12.93/8.44%)\n",
      "Test 63: Perturbations (1), Original (False), Shuffle (True), Baseline (79.79%), Adversarial (65.99000000000001/41.79/20.49/9.66%)\n",
      "Test 64: Perturbations (1), Original (False), Shuffle (True), Baseline (65.53999999999999%), Adversarial (54.25/36.3/22.63/11.61%)\n",
      "Test 65: Perturbations (1), Original (False), Shuffle (True), Baseline (94.24%), Adversarial (22.61/10.33/7.9399999999999995/8.27%)\n",
      "Test 66: Perturbations (1), Original (False), Shuffle (True), Baseline (93.87%), Adversarial (36.74/11.12/7.39/9.26%)\n",
      "Test 67: Perturbations (1), Original (False), Shuffle (True), Baseline (93.21000000000001%), Adversarial (59.46/15.98/10.24/7.64%)\n",
      "Test 68: Perturbations (1), Original (False), Shuffle (True), Baseline (89.98%), Adversarial (78.79/41.449999999999996/14.799999999999999/9.43%)\n",
      "Test 69: Perturbations (1), Original (False), Shuffle (True), Baseline (36.980000000000004%), Adversarial (31.369999999999997/26.43/19.33/13.01%)\n",
      "Test 70: Perturbations (2), Original (False), Shuffle (True), Baseline (79.82000000000001%), Adversarial (67.96/44.26/21.63/10.36%)\n",
      "Test 71: Perturbations (3), Original (False), Shuffle (True), Baseline (90.53999999999999%), Adversarial (33.72/17.09/11.17/9.8%)\n",
      "Test 72: Perturbations (6), Original (False), Shuffle (True), Baseline (87.46000000000001%), Adversarial (53.580000000000005/19.5/11.200000000000001/9.5%)\n",
      "Test 73: Perturbations (7), Original (False), Shuffle (True), Baseline (89.95%), Adversarial (53.059999999999995/20.119999999999997/11.469999999999999/9.46%)\n",
      "Test 74: Perturbations (14), Original (False), Shuffle (True), Baseline (88.14%), Adversarial (51.24999999999999/13.350000000000001/7.71/8.23%)\n",
      "Test 75: Perturbations (1), Original (False), Shuffle (True), Baseline (42.76%), Adversarial (37.46/29.64/21.959999999999997/14.360000000000001%)\n",
      "Test 76: Perturbations (1), Original (False), Shuffle (True), Baseline (28.68%), Adversarial (25.169999999999998/20.64/16.78/12.08%)\n",
      "Test 77: Perturbations (1), Original (False), Shuffle (True), Baseline (94.96%), Adversarial (17.11/6.859999999999999/5.65/6.370000000000001%)\n",
      "Test 78: Perturbations (1), Original (False), Shuffle (True), Baseline (92.23%), Adversarial (27.229999999999997/9.6/6.77/5.87%)\n",
      "Test 79: Perturbations (1), Original (False), Shuffle (True), Baseline (91.3%), Adversarial (77.31/35.010000000000005/12.879999999999999/8.81%)\n",
      "Test 80: Perturbations (1), Original (False), Shuffle (True), Baseline (84.26%), Adversarial (76.05/55.33/28.660000000000004/10.69%)\n",
      "Test 81: Perturbations (1), Original (False), Shuffle (True), Baseline (11.35%), Adversarial (11.35/11.35/11.35/11.35%)\n",
      "Test 82: Perturbations (2), Original (False), Shuffle (True), Baseline (49.1%), Adversarial (39.300000000000004/28.29/18.790000000000003/11.959999999999999%)\n",
      "Test 83: Perturbations (3), Original (False), Shuffle (True), Baseline (89.94%), Adversarial (38.58/14.2/9.030000000000001/7.670000000000001%)\n",
      "Test 84: Perturbations (6), Original (False), Shuffle (True), Baseline (80.47%), Adversarial (52.059999999999995/27.72/16.02/8.77%)\n",
      "Test 85: Perturbations (7), Original (False), Shuffle (True), Baseline (87.67%), Adversarial (59.63/25.230000000000004/13.420000000000002/8.55%)\n",
      "Test 86: Perturbations (14), Original (False), Shuffle (True), Baseline (86.61999999999999%), Adversarial (64.22/27.279999999999998/11.99/9.58%)\n",
      "Test 87: Perturbations (1), Original (False), Shuffle (False), Baseline (90.05%), Adversarial (72.3/33.09/14.030000000000001/9.13%)\n",
      "Test 88: Perturbations (1), Original (False), Shuffle (False), Baseline (85.72999999999999%), Adversarial (73.13/45.48/21.34/9.33%)\n",
      "Test 89: Perturbations (1), Original (False), Shuffle (False), Baseline (93.87%), Adversarial (19.900000000000002/9.93/8.35/8.219999999999999%)\n",
      "Test 90: Perturbations (1), Original (False), Shuffle (False), Baseline (93.12%), Adversarial (19.97/7.03/5.11/6.069999999999999%)\n",
      "Test 91: Perturbations (1), Original (False), Shuffle (False), Baseline (92.75999999999999%), Adversarial (47.510000000000005/18.61/9.33/7.41%)\n",
      "Test 92: Perturbations (1), Original (False), Shuffle (False), Baseline (90.84%), Adversarial (60.35/20.59/9.77/6.87%)\n",
      "Test 93: Perturbations (1), Original (False), Shuffle (False), Baseline (77.06%), Adversarial (65.33/44.690000000000005/26.369999999999997/10.76%)\n",
      "Test 94: Perturbations (2), Original (False), Shuffle (False), Baseline (91.62%), Adversarial (71.71/28.67/12.389999999999999/9.379999999999999%)\n",
      "Test 95: Perturbations (3), Original (False), Shuffle (False), Baseline (93.87%), Adversarial (25.7/9.700000000000001/7.21/6.38%)\n",
      "Test 96: Perturbations (6), Original (False), Shuffle (False), Baseline (93.02%), Adversarial (24.27/9.75/8.04/5.87%)\n",
      "Test 97: Perturbations (7), Original (False), Shuffle (False), Baseline (93.62%), Adversarial (22.43/8.17/6.569999999999999/6.93%)\n",
      "Test 98: Perturbations (14), Original (False), Shuffle (False), Baseline (93.16%), Adversarial (26.179999999999996/8.58/5.82/5.65%)\n",
      "Test 99: Perturbations (1), Original (False), Shuffle (False), Baseline (75.61%), Adversarial (63.94/39.17/22.21/10.69%)\n",
      "Test 100: Perturbations (1), Original (False), Shuffle (False), Baseline (63.54%), Adversarial (53.949999999999996/37.61/24.279999999999998/12.280000000000001%)\n",
      "Test 101: Perturbations (1), Original (False), Shuffle (False), Baseline (92.97999999999999%), Adversarial (17.37/11.06/9.879999999999999/9.74%)\n",
      "Test 102: Perturbations (1), Original (False), Shuffle (False), Baseline (94.54%), Adversarial (31.39/8.81/7.46/8.43%)\n",
      "Test 103: Perturbations (1), Original (False), Shuffle (False), Baseline (93.78999999999999%), Adversarial (61.650000000000006/14.829999999999998/8.68/6.83%)\n",
      "Test 104: Perturbations (1), Original (False), Shuffle (False), Baseline (91.25%), Adversarial (78.18/41.75/16.14/9.9%)\n",
      "Test 105: Perturbations (1), Original (False), Shuffle (False), Baseline (41.28%), Adversarial (34.88/29.880000000000003/22.29/14.05%)\n",
      "Test 106: Perturbations (2), Original (False), Shuffle (False), Baseline (80.55%), Adversarial (66.55/41.410000000000004/21.65/9.45%)\n",
      "Test 107: Perturbations (3), Original (False), Shuffle (False), Baseline (93.83%), Adversarial (35.449999999999996/13.83/11.21/10.280000000000001%)\n",
      "Test 108: Perturbations (6), Original (False), Shuffle (False), Baseline (92.95%), Adversarial (26.229999999999997/12.31/10.26/9.06%)\n",
      "Test 109: Perturbations (7), Original (False), Shuffle (False), Baseline (93.36%), Adversarial (21.92/8.709999999999999/7.16/7.5200000000000005%)\n",
      "Test 110: Perturbations (14), Original (False), Shuffle (False), Baseline (93.55%), Adversarial (40.849999999999994/10.2/6.05/5.87%)\n",
      "Test 111: Perturbations (1), Original (False), Shuffle (False), Baseline (64.25%), Adversarial (55.230000000000004/39.51/25.540000000000003/12.76%)\n",
      "Test 112: Perturbations (1), Original (False), Shuffle (False), Baseline (44.51%), Adversarial (38.96/30.95/22.82/14.099999999999998%)\n"
     ]
    }
   ],
   "source": [
    "display_test_history(test_history)"
   ]
  },
  {
   "cell_type": "code",
   "execution_count": 59,
   "metadata": {},
   "outputs": [
    {
     "name": "stdout",
     "output_type": "stream",
     "text": [
      "{'channel_widths': [1, 4, 10], 'linear_sizes': [100], 'kernel': 5, 'pooling': AdaptiveMaxPool2d(output_size=(1, 1)), 'perturbations': [['Gaussian', 1.0]], 'include_original': False, 'shuffle': True, 'loss': CrossEntropyLoss(), 'lr': 0.01, 'batch_size': 64, 'epochs': 10, 'baseline_accuracy': 0.4276, 'adversarial_accuracy': [0.3746, 0.2964, 0.2196, 0.1436]}\n"
     ]
    }
   ],
   "source": [
    "best_i = 0\n",
    "accuracy = 0\n",
    "eps = 3\n",
    "for i in range(len(test_history)):\n",
    "    if test_history[i]['adversarial_accuracy'][eps] > accuracy:\n",
    "        best_i = i\n",
    "        accuracy = test_history[i]['adversarial_accuracy'][eps]\n",
    "print(test_history[best_i])"
   ]
  },
  {
   "cell_type": "code",
   "execution_count": 62,
   "metadata": {},
   "outputs": [
    {
     "name": "stdout",
     "output_type": "stream",
     "text": [
      "Data saved to ../../notebooks/experiment_log/testing_round_1.csv successfully.\n"
     ]
    }
   ],
   "source": [
    "import csv\n",
    "\n",
    "def save_to_csv(data, filename):\n",
    "    if not data:\n",
    "        return\n",
    "\n",
    "    # Extract the keys from the first dictionary as headers\n",
    "    headers = list(data[0].keys())\n",
    "\n",
    "    with open(filename, 'w', newline='') as csvfile:\n",
    "        writer = csv.DictWriter(csvfile, fieldnames=headers)\n",
    "\n",
    "        # Write the headers\n",
    "        writer.writeheader()\n",
    "\n",
    "        # Write each dictionary as a row in the CSV file\n",
    "        for item in data:\n",
    "            writer.writerow(item)\n",
    "\n",
    "    print(f\"Data saved to {filename} successfully.\")\n",
    "\n",
    "save_to_csv(test_history, ROOT + \"notebooks/experiment_log/testing_round_1.csv\")"
   ]
  },
  {
   "cell_type": "code",
   "execution_count": null,
   "metadata": {},
   "outputs": [],
   "source": []
  }
 ],
 "metadata": {
  "kernelspec": {
   "display_name": "PyTorch",
   "language": "python",
   "name": "python3"
  },
  "language_info": {
   "codemirror_mode": {
    "name": "ipython",
    "version": 3
   },
   "file_extension": ".py",
   "mimetype": "text/x-python",
   "name": "python",
   "nbconvert_exporter": "python",
   "pygments_lexer": "ipython3",
   "version": "3.10.12"
  },
  "orig_nbformat": 4
 },
 "nbformat": 4,
 "nbformat_minor": 2
}
